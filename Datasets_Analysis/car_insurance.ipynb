{
 "cells": [
  {
   "cell_type": "markdown",
   "metadata": {},
   "source": [
    "# Análisis: seguro de vehículos\n"
   ]
  },
  {
   "cell_type": "markdown",
   "metadata": {},
   "source": [
    "Una empresa de seguros de salud quiere ofrecer a sus antiguos clientes un nuevo seguro de vehículos. Necesita nuestro servicio para crear un modelo que prediga si un cliente estaría interesado en este nuevo seguro.\n",
    "\n",
    "Tenemos un conjunto de datos con los siguientes valores:\n",
    "\n",
    "| Variable | Definición |\n",
    "| --- | --- |\n",
    "| id | Identificador único |\n",
    "| Gender | Género del cliente (M/F) |\n",
    "| Age | Edad del cliente |\n",
    "| Driving_License | El cliente tiene carnet de conducir (1/0) |\n",
    "| Region_Code | Código de la región del cliente |\n",
    "| Previously_Insured | El cliente ya tiene seguro de coche (1/0) |\n",
    "| Vehicle_Age | Años del vehículo |\n",
    "| Vehicle_Damage | El cliente ha sufrido daños en su vehículo anteriormente (1/0) |\n",
    "| Annual_Premium | Cantidad a pagar por el nuevo seguro |\n",
    "| Plocy_Sales_Channel | Canal por el que se localiza al cliente (e-mail, teléfono, en persona, etc) |\n",
    "| Vintage | Número de días del cliente con la compañía |\n",
    "| Response | Respuesta si o no (1/0) |\n",
    "\n",
    "### Problema de clasificación"
   ]
  },
  {
   "cell_type": "markdown",
   "metadata": {},
   "source": [
    "## Importando y dividiendo Dataset"
   ]
  },
  {
   "cell_type": "markdown",
   "metadata": {},
   "source": [
    "Importamos librerías necesarias y cargamos los dataset de entrenamiento y prueba desde la carpeta /res"
   ]
  },
  {
   "cell_type": "code",
   "execution_count": 128,
   "metadata": {},
   "outputs": [],
   "source": [
    "import numpy as np\n",
    "import pandas as pd\n",
    "import matplotlib.pyplot as plt\n",
    "import seaborn as sns\n",
    "from sklearn.preprocessing import StandardScaler, LabelEncoder\n",
    "from sklearn.compose import ColumnTransformer\n",
    "from sklearn.linear_model import LogisticRegression\n",
    "from sklearn.model_selection import train_test_split\n",
    "from sklearn.metrics import confusion_matrix, accuracy_score\n",
    "\n",
    "train = pd.read_csv('../res/train.csv')\n",
    "x = train.iloc[:, 1:-1] # Training Dataset without dependient variable and index (pandas index = dataset index - 1)\n",
    "y = train.iloc[:, -1] # Training Dependient variable\n",
    "\n",
    "x_train, x_test, y_train, y_test = train_test_split(x, y, test_size = 0.25, random_state = 0)\n",
    "\n",
    "test_final = pd.read_csv('../res/test_final.csv').iloc[:, 1:] # Test Dataset variable and index (pandas index = dataset index - 1)"
   ]
  },
  {
   "cell_type": "markdown",
   "metadata": {},
   "source": [
    "## Preprocesado y limpieza del Dataset"
   ]
  },
  {
   "cell_type": "markdown",
   "metadata": {},
   "source": [
    "### Valores categóricos\n",
    "\n",
    "Convertimos los valores categóricos en valores booleanos."
   ]
  },
  {
   "cell_type": "code",
   "execution_count": 129,
   "metadata": {},
   "outputs": [
    {
     "data": {
      "text/html": "<div>\n<style scoped>\n    .dataframe tbody tr th:only-of-type {\n        vertical-align: middle;\n    }\n\n    .dataframe tbody tr th {\n        vertical-align: top;\n    }\n\n    .dataframe thead th {\n        text-align: right;\n    }\n</style>\n<table border=\"1\" class=\"dataframe\">\n  <thead>\n    <tr style=\"text-align: right;\">\n      <th></th>\n      <th>Age</th>\n      <th>Region_Code</th>\n      <th>Annual_Premium</th>\n      <th>Policy_Sales_Channel</th>\n      <th>Vintage</th>\n      <th>Gender_Female</th>\n      <th>Gender_Male</th>\n      <th>Vehicle_Age_1-2 Year</th>\n      <th>Vehicle_Age_&lt; 1 Year</th>\n      <th>Vehicle_Age_&gt; 2 Years</th>\n      <th>Driving_License</th>\n      <th>Previously_Insured</th>\n      <th>Vehicle_Damage</th>\n    </tr>\n  </thead>\n  <tbody>\n    <tr>\n      <th>216376</th>\n      <td>49</td>\n      <td>46.0</td>\n      <td>16588.0</td>\n      <td>26.0</td>\n      <td>149</td>\n      <td>1</td>\n      <td>0</td>\n      <td>1</td>\n      <td>0</td>\n      <td>0</td>\n      <td>1</td>\n      <td>0</td>\n      <td>1</td>\n    </tr>\n    <tr>\n      <th>154701</th>\n      <td>56</td>\n      <td>41.0</td>\n      <td>2630.0</td>\n      <td>12.0</td>\n      <td>143</td>\n      <td>0</td>\n      <td>1</td>\n      <td>1</td>\n      <td>0</td>\n      <td>0</td>\n      <td>1</td>\n      <td>1</td>\n      <td>1</td>\n    </tr>\n    <tr>\n      <th>186998</th>\n      <td>51</td>\n      <td>30.0</td>\n      <td>40332.0</td>\n      <td>152.0</td>\n      <td>220</td>\n      <td>1</td>\n      <td>0</td>\n      <td>1</td>\n      <td>0</td>\n      <td>0</td>\n      <td>1</td>\n      <td>1</td>\n      <td>0</td>\n    </tr>\n    <tr>\n      <th>280932</th>\n      <td>43</td>\n      <td>48.0</td>\n      <td>2630.0</td>\n      <td>124.0</td>\n      <td>162</td>\n      <td>1</td>\n      <td>0</td>\n      <td>1</td>\n      <td>0</td>\n      <td>0</td>\n      <td>1</td>\n      <td>0</td>\n      <td>1</td>\n    </tr>\n    <tr>\n      <th>47683</th>\n      <td>26</td>\n      <td>11.0</td>\n      <td>31337.0</td>\n      <td>152.0</td>\n      <td>140</td>\n      <td>1</td>\n      <td>0</td>\n      <td>0</td>\n      <td>1</td>\n      <td>0</td>\n      <td>1</td>\n      <td>1</td>\n      <td>0</td>\n    </tr>\n    <tr>\n      <th>...</th>\n      <td>...</td>\n      <td>...</td>\n      <td>...</td>\n      <td>...</td>\n      <td>...</td>\n      <td>...</td>\n      <td>...</td>\n      <td>...</td>\n      <td>...</td>\n      <td>...</td>\n      <td>...</td>\n      <td>...</td>\n      <td>...</td>\n    </tr>\n    <tr>\n      <th>359783</th>\n      <td>27</td>\n      <td>28.0</td>\n      <td>33223.0</td>\n      <td>152.0</td>\n      <td>220</td>\n      <td>0</td>\n      <td>1</td>\n      <td>0</td>\n      <td>1</td>\n      <td>0</td>\n      <td>1</td>\n      <td>1</td>\n      <td>0</td>\n    </tr>\n    <tr>\n      <th>358083</th>\n      <td>53</td>\n      <td>46.0</td>\n      <td>40971.0</td>\n      <td>26.0</td>\n      <td>131</td>\n      <td>1</td>\n      <td>0</td>\n      <td>0</td>\n      <td>0</td>\n      <td>1</td>\n      <td>1</td>\n      <td>0</td>\n      <td>1</td>\n    </tr>\n    <tr>\n      <th>152315</th>\n      <td>22</td>\n      <td>45.0</td>\n      <td>30400.0</td>\n      <td>160.0</td>\n      <td>118</td>\n      <td>0</td>\n      <td>1</td>\n      <td>0</td>\n      <td>1</td>\n      <td>0</td>\n      <td>1</td>\n      <td>1</td>\n      <td>0</td>\n    </tr>\n    <tr>\n      <th>117952</th>\n      <td>56</td>\n      <td>43.0</td>\n      <td>34849.0</td>\n      <td>157.0</td>\n      <td>229</td>\n      <td>1</td>\n      <td>0</td>\n      <td>0</td>\n      <td>0</td>\n      <td>1</td>\n      <td>1</td>\n      <td>0</td>\n      <td>1</td>\n    </tr>\n    <tr>\n      <th>305711</th>\n      <td>23</td>\n      <td>15.0</td>\n      <td>30680.0</td>\n      <td>152.0</td>\n      <td>81</td>\n      <td>1</td>\n      <td>0</td>\n      <td>0</td>\n      <td>1</td>\n      <td>0</td>\n      <td>1</td>\n      <td>1</td>\n      <td>0</td>\n    </tr>\n  </tbody>\n</table>\n<p>285831 rows × 13 columns</p>\n</div>",
      "text/plain": "        Age  Region_Code  Annual_Premium  Policy_Sales_Channel  Vintage  \\\n216376   49         46.0         16588.0                  26.0      149   \n154701   56         41.0          2630.0                  12.0      143   \n186998   51         30.0         40332.0                 152.0      220   \n280932   43         48.0          2630.0                 124.0      162   \n47683    26         11.0         31337.0                 152.0      140   \n...     ...          ...             ...                   ...      ...   \n359783   27         28.0         33223.0                 152.0      220   \n358083   53         46.0         40971.0                  26.0      131   \n152315   22         45.0         30400.0                 160.0      118   \n117952   56         43.0         34849.0                 157.0      229   \n305711   23         15.0         30680.0                 152.0       81   \n\n        Gender_Female  Gender_Male  Vehicle_Age_1-2 Year  \\\n216376              1            0                     1   \n154701              0            1                     1   \n186998              1            0                     1   \n280932              1            0                     1   \n47683               1            0                     0   \n...               ...          ...                   ...   \n359783              0            1                     0   \n358083              1            0                     0   \n152315              0            1                     0   \n117952              1            0                     0   \n305711              1            0                     0   \n\n        Vehicle_Age_< 1 Year  Vehicle_Age_> 2 Years  Driving_License  \\\n216376                     0                      0                1   \n154701                     0                      0                1   \n186998                     0                      0                1   \n280932                     0                      0                1   \n47683                      1                      0                1   \n...                      ...                    ...              ...   \n359783                     1                      0                1   \n358083                     0                      1                1   \n152315                     1                      0                1   \n117952                     0                      1                1   \n305711                     1                      0                1   \n\n        Previously_Insured  Vehicle_Damage  \n216376                   0               1  \n154701                   1               1  \n186998                   1               0  \n280932                   0               1  \n47683                    1               0  \n...                    ...             ...  \n359783                   1               0  \n358083                   0               1  \n152315                   1               0  \n117952                   0               1  \n305711                   1               0  \n\n[285831 rows x 13 columns]"
     },
     "metadata": {},
     "output_type": "display_data"
    }
   ],
   "source": [
    "# Generate boolean values for categorical columns \n",
    "le = LabelEncoder()\n",
    "x_train = pd.get_dummies(x_train, columns=['Gender', 'Vehicle_Age'], prefix=['Gender', 'Vehicle_Age'])\n",
    "x_train['Vehicle_Damage'] = le.fit_transform(x_train['Vehicle_Damage']) # Yes -> 1 | No -> 0\n",
    "\n",
    "x_test = pd.get_dummies(x_test, columns=['Gender', 'Vehicle_Age'], prefix=['Gender', 'Vehicle_Age'])\n",
    "x_test['Vehicle_Damage'] = le.fit_transform(x_test['Vehicle_Damage']) # Yes -> 1 | No -> 0\n",
    "\n",
    "# Reordering columns so categorical data are the last columns\n",
    "new_cols_order = ['Age', 'Region_Code', 'Annual_Premium', 'Policy_Sales_Channel', 'Vintage', 'Gender_Female', 'Gender_Male', 'Vehicle_Age_1-2 Year', 'Vehicle_Age_< 1 Year', 'Vehicle_Age_> 2 Years', 'Driving_License', 'Previously_Insured', 'Vehicle_Damage']\n",
    "x_train = x_train[new_cols_order]\n",
    "x_test = x_test[new_cols_order]\n",
    "\n",
    "display(x_train)"
   ]
  },
  {
   "cell_type": "markdown",
   "metadata": {},
   "source": [
    "### Estandarización\n",
    "\n",
    "Estandarizamos los valores continuos para no confudir los futuros análisis"
   ]
  },
  {
   "cell_type": "code",
   "execution_count": 130,
   "metadata": {},
   "outputs": [
    {
     "data": {
      "text/html": "<div>\n<style scoped>\n    .dataframe tbody tr th:only-of-type {\n        vertical-align: middle;\n    }\n\n    .dataframe tbody tr th {\n        vertical-align: top;\n    }\n\n    .dataframe thead th {\n        text-align: right;\n    }\n</style>\n<table border=\"1\" class=\"dataframe\">\n  <thead>\n    <tr style=\"text-align: right;\">\n      <th></th>\n      <th>Age</th>\n      <th>Region_Code</th>\n      <th>Annual_Premium</th>\n      <th>Policy_Sales_Channel</th>\n      <th>Vintage</th>\n      <th>Gender_Female</th>\n      <th>Gender_Male</th>\n      <th>Vehicle_Age_1-2 Year</th>\n      <th>Vehicle_Age_&lt; 1 Year</th>\n      <th>Vehicle_Age_&gt; 2 Years</th>\n      <th>Driving_License</th>\n      <th>Previously_Insured</th>\n      <th>Vehicle_Damage</th>\n    </tr>\n  </thead>\n  <tbody>\n    <tr>\n      <th>216376</th>\n      <td>0.657053</td>\n      <td>1.482775</td>\n      <td>-0.812937</td>\n      <td>-1.587100</td>\n      <td>-0.062606</td>\n      <td>1.083978</td>\n      <td>0</td>\n      <td>1</td>\n      <td>0</td>\n      <td>0</td>\n      <td>1</td>\n      <td>0</td>\n      <td>1</td>\n    </tr>\n    <tr>\n      <th>154701</th>\n      <td>1.108514</td>\n      <td>1.104769</td>\n      <td>-1.623777</td>\n      <td>-1.845330</td>\n      <td>-0.134289</td>\n      <td>-0.922528</td>\n      <td>1</td>\n      <td>1</td>\n      <td>0</td>\n      <td>0</td>\n      <td>1</td>\n      <td>1</td>\n      <td>1</td>\n    </tr>\n    <tr>\n      <th>186998</th>\n      <td>0.786042</td>\n      <td>0.273155</td>\n      <td>0.566385</td>\n      <td>0.736972</td>\n      <td>0.785633</td>\n      <td>1.083978</td>\n      <td>0</td>\n      <td>1</td>\n      <td>0</td>\n      <td>0</td>\n      <td>1</td>\n      <td>1</td>\n      <td>0</td>\n    </tr>\n    <tr>\n      <th>280932</th>\n      <td>0.270086</td>\n      <td>1.633978</td>\n      <td>-1.623777</td>\n      <td>0.220512</td>\n      <td>0.092705</td>\n      <td>1.083978</td>\n      <td>0</td>\n      <td>1</td>\n      <td>0</td>\n      <td>0</td>\n      <td>1</td>\n      <td>0</td>\n      <td>1</td>\n    </tr>\n    <tr>\n      <th>47683</th>\n      <td>-0.826319</td>\n      <td>-1.163269</td>\n      <td>0.043853</td>\n      <td>0.736972</td>\n      <td>-0.170130</td>\n      <td>1.083978</td>\n      <td>0</td>\n      <td>0</td>\n      <td>1</td>\n      <td>0</td>\n      <td>1</td>\n      <td>1</td>\n      <td>0</td>\n    </tr>\n    <tr>\n      <th>...</th>\n      <td>...</td>\n      <td>...</td>\n      <td>...</td>\n      <td>...</td>\n      <td>...</td>\n      <td>...</td>\n      <td>...</td>\n      <td>...</td>\n      <td>...</td>\n      <td>...</td>\n      <td>...</td>\n      <td>...</td>\n      <td>...</td>\n    </tr>\n    <tr>\n      <th>359783</th>\n      <td>-0.761825</td>\n      <td>0.121953</td>\n      <td>0.153413</td>\n      <td>0.736972</td>\n      <td>0.785633</td>\n      <td>-0.922528</td>\n      <td>1</td>\n      <td>0</td>\n      <td>1</td>\n      <td>0</td>\n      <td>1</td>\n      <td>1</td>\n      <td>0</td>\n    </tr>\n    <tr>\n      <th>358083</th>\n      <td>0.915031</td>\n      <td>1.482775</td>\n      <td>0.603505</td>\n      <td>-1.587100</td>\n      <td>-0.277653</td>\n      <td>1.083978</td>\n      <td>0</td>\n      <td>0</td>\n      <td>0</td>\n      <td>1</td>\n      <td>1</td>\n      <td>0</td>\n      <td>1</td>\n    </tr>\n    <tr>\n      <th>152315</th>\n      <td>-1.084297</td>\n      <td>1.407174</td>\n      <td>-0.010579</td>\n      <td>0.884532</td>\n      <td>-0.432964</td>\n      <td>-0.922528</td>\n      <td>1</td>\n      <td>0</td>\n      <td>1</td>\n      <td>0</td>\n      <td>1</td>\n      <td>1</td>\n      <td>0</td>\n    </tr>\n    <tr>\n      <th>117952</th>\n      <td>1.108514</td>\n      <td>1.255971</td>\n      <td>0.247870</td>\n      <td>0.829197</td>\n      <td>0.893156</td>\n      <td>1.083978</td>\n      <td>0</td>\n      <td>0</td>\n      <td>0</td>\n      <td>1</td>\n      <td>1</td>\n      <td>0</td>\n      <td>1</td>\n    </tr>\n    <tr>\n      <th>305711</th>\n      <td>-1.019803</td>\n      <td>-0.860864</td>\n      <td>0.005687</td>\n      <td>0.736972</td>\n      <td>-0.875005</td>\n      <td>1.083978</td>\n      <td>0</td>\n      <td>0</td>\n      <td>1</td>\n      <td>0</td>\n      <td>1</td>\n      <td>1</td>\n      <td>0</td>\n    </tr>\n  </tbody>\n</table>\n<p>285831 rows × 13 columns</p>\n</div>",
      "text/plain": "             Age  Region_Code  Annual_Premium  Policy_Sales_Channel   Vintage  \\\n216376  0.657053     1.482775       -0.812937             -1.587100 -0.062606   \n154701  1.108514     1.104769       -1.623777             -1.845330 -0.134289   \n186998  0.786042     0.273155        0.566385              0.736972  0.785633   \n280932  0.270086     1.633978       -1.623777              0.220512  0.092705   \n47683  -0.826319    -1.163269        0.043853              0.736972 -0.170130   \n...          ...          ...             ...                   ...       ...   \n359783 -0.761825     0.121953        0.153413              0.736972  0.785633   \n358083  0.915031     1.482775        0.603505             -1.587100 -0.277653   \n152315 -1.084297     1.407174       -0.010579              0.884532 -0.432964   \n117952  1.108514     1.255971        0.247870              0.829197  0.893156   \n305711 -1.019803    -0.860864        0.005687              0.736972 -0.875005   \n\n        Gender_Female  Gender_Male  Vehicle_Age_1-2 Year  \\\n216376       1.083978            0                     1   \n154701      -0.922528            1                     1   \n186998       1.083978            0                     1   \n280932       1.083978            0                     1   \n47683        1.083978            0                     0   \n...               ...          ...                   ...   \n359783      -0.922528            1                     0   \n358083       1.083978            0                     0   \n152315      -0.922528            1                     0   \n117952       1.083978            0                     0   \n305711       1.083978            0                     0   \n\n        Vehicle_Age_< 1 Year  Vehicle_Age_> 2 Years  Driving_License  \\\n216376                     0                      0                1   \n154701                     0                      0                1   \n186998                     0                      0                1   \n280932                     0                      0                1   \n47683                      1                      0                1   \n...                      ...                    ...              ...   \n359783                     1                      0                1   \n358083                     0                      1                1   \n152315                     1                      0                1   \n117952                     0                      1                1   \n305711                     1                      0                1   \n\n        Previously_Insured  Vehicle_Damage  \n216376                   0               1  \n154701                   1               1  \n186998                   1               0  \n280932                   0               1  \n47683                    1               0  \n...                    ...             ...  \n359783                   1               0  \n358083                   0               1  \n152315                   1               0  \n117952                   0               1  \n305711                   1               0  \n\n[285831 rows x 13 columns]"
     },
     "metadata": {},
     "output_type": "display_data"
    }
   ],
   "source": [
    "# Continous variables standarization\n",
    "sc = StandardScaler()\n",
    "x_train.iloc[:, :6] = sc.fit_transform(x_train.iloc[:, :6])\n",
    "x_test.iloc[:, :6] = sc.fit_transform(x_test.iloc[:, :6])\n",
    "display(x_train)"
   ]
  },
  {
   "cell_type": "markdown",
   "metadata": {},
   "source": [
    "## Análisis predictivo"
   ]
  },
  {
   "cell_type": "markdown",
   "metadata": {},
   "source": [
    "### Análisis logístico"
   ]
  },
  {
   "cell_type": "code",
   "execution_count": 131,
   "metadata": {},
   "outputs": [],
   "source": [
    "logmodel = LogisticRegression(solver='lbfgs', max_iter=400)\n",
    "logmodel.fit(x_train,y_train)\n",
    "predictions = logmodel.predict(x_test)"
   ]
  },
  {
   "cell_type": "code",
   "execution_count": 212,
   "metadata": {},
   "outputs": [
    {
     "name": "stdout",
     "output_type": "stream",
     "text": [
      "[[83598     5]\n",
      " [11673     2]]\n"
     ]
    },
    {
     "data": {
      "image/png": "[encoded data removed]",
      "text/plain": "<Figure size 720x288 with 1 Axes>"
     },
     "metadata": {
      "needs_background": "light"
     },
     "output_type": "display_data"
    }
   ],
   "source": [
    "cm = confusion_matrix(y_test, y_pred)\n",
    "\n",
    "print(cm)\n",
    "\n",
    "score = logmodel.score(x_test, y_test)\n",
    "\n",
    "\n",
    "accuracy_score(y_pred, y_test)\n",
    "\n",
    "#plt.figure(figsize=(9,9))\n",
    "#sns.heatmap(cm, annot=True, fmt=\".2f\", linewidths=.5, square = True, cmap = ListedColormap(['red', 'green']));\n",
    "\n",
    "fig, ax =plt.subplots(1, 1, figsize=(10,4))\n",
    "\n",
    "\n",
    "labels =['0', '1']\n",
    "ax.axis('tight')\n",
    "ax.axis('off')\n",
    "colors = [['g', 'r'],[ 'r', 'g']]\n",
    "\n",
    "conf_matrix_table = ax.table(   cellText = cm, \n",
    "                                colLabels = column_labels, \n",
    "                                rowLabels = column_labels,    \n",
    "                                loc = 'center',   \n",
    "                                cellColours = colors, \n",
    "                                cellLoc = 'center')\n",
    "\n",
    "\n",
    "ax.set_title(\"Matriz de confusión\", fontsize = 20)\n",
    "conf_matrix_table.auto_set_font_size(False)\n",
    "conf_matrix_table.set_fontsize(8)\n",
    "conf_matrix_table.set_fontsize(14)\n",
    "conf_matrix_table.scale(1.5, 1.5)\n",
    "plt.show()"
   ]
  },
  {
   "cell_type": "markdown",
   "metadata": {},
   "source": [
    "#### Visualización del modelo"
   ]
  },
  {
   "cell_type": "code",
   "execution_count": 135,
   "metadata": {},
   "outputs": [
    {
     "ename": "ValueError",
     "evalue": "operands could not be broadcast together with shapes (285831,13) (6,) (285831,13) ",
     "output_type": "error",
     "traceback": [
      "\u001b[0;31m---------------------------------------------------------------------------\u001b[0m",
      "\u001b[0;31mValueError\u001b[0m                                Traceback (most recent call last)",
      "\u001b[0;32m<ipython-input-135-bfa234ca21fa>\u001b[0m in \u001b[0;36m<module>\u001b[0;34m\u001b[0m\n\u001b[1;32m      1\u001b[0m \u001b[0;32mfrom\u001b[0m \u001b[0mmatplotlib\u001b[0m\u001b[0;34m.\u001b[0m\u001b[0mcolors\u001b[0m \u001b[0;32mimport\u001b[0m \u001b[0mListedColormap\u001b[0m\u001b[0;34m\u001b[0m\u001b[0;34m\u001b[0m\u001b[0m\n\u001b[1;32m      2\u001b[0m \u001b[0;34m\u001b[0m\u001b[0m\n\u001b[0;32m----> 3\u001b[0;31m \u001b[0mX_set\u001b[0m\u001b[0;34m,\u001b[0m \u001b[0my_set\u001b[0m \u001b[0;34m=\u001b[0m \u001b[0msc\u001b[0m\u001b[0;34m.\u001b[0m\u001b[0minverse_transform\u001b[0m\u001b[0;34m(\u001b[0m\u001b[0mx_train\u001b[0m\u001b[0;34m.\u001b[0m\u001b[0mto_numpy\u001b[0m\u001b[0;34m(\u001b[0m\u001b[0;34m)\u001b[0m\u001b[0;34m)\u001b[0m\u001b[0;34m,\u001b[0m \u001b[0my_train\u001b[0m\u001b[0;34m.\u001b[0m\u001b[0mto_numpy\u001b[0m\u001b[0;34m(\u001b[0m\u001b[0;34m)\u001b[0m\u001b[0;34m\u001b[0m\u001b[0;34m\u001b[0m\u001b[0m\n\u001b[0m\u001b[1;32m      4\u001b[0m \u001b[0;34m\u001b[0m\u001b[0m\n\u001b[1;32m      5\u001b[0m X1, X2 = np.meshgrid(np.arange(start = X_set[:, 0].min() - 10, stop = X_set[:, 0].max() + 10, step = 0.25),\n",
      "\u001b[0;32m~/opt/anaconda3/envs/tf/lib/python3.7/site-packages/sklearn/preprocessing/_data.py\u001b[0m in \u001b[0;36minverse_transform\u001b[0;34m(self, X, copy)\u001b[0m\n\u001b[1;32m    935\u001b[0m                 \u001b[0mX\u001b[0m \u001b[0;34m=\u001b[0m \u001b[0mX\u001b[0m\u001b[0;34m.\u001b[0m\u001b[0mcopy\u001b[0m\u001b[0;34m(\u001b[0m\u001b[0;34m)\u001b[0m\u001b[0;34m\u001b[0m\u001b[0;34m\u001b[0m\u001b[0m\n\u001b[1;32m    936\u001b[0m             \u001b[0;32mif\u001b[0m \u001b[0mself\u001b[0m\u001b[0;34m.\u001b[0m\u001b[0mwith_std\u001b[0m\u001b[0;34m:\u001b[0m\u001b[0;34m\u001b[0m\u001b[0;34m\u001b[0m\u001b[0m\n\u001b[0;32m--> 937\u001b[0;31m                 \u001b[0mX\u001b[0m \u001b[0;34m*=\u001b[0m \u001b[0mself\u001b[0m\u001b[0;34m.\u001b[0m\u001b[0mscale_\u001b[0m\u001b[0;34m\u001b[0m\u001b[0;34m\u001b[0m\u001b[0m\n\u001b[0m\u001b[1;32m    938\u001b[0m             \u001b[0;32mif\u001b[0m \u001b[0mself\u001b[0m\u001b[0;34m.\u001b[0m\u001b[0mwith_mean\u001b[0m\u001b[0;34m:\u001b[0m\u001b[0;34m\u001b[0m\u001b[0;34m\u001b[0m\u001b[0m\n\u001b[1;32m    939\u001b[0m                 \u001b[0mX\u001b[0m \u001b[0;34m+=\u001b[0m \u001b[0mself\u001b[0m\u001b[0;34m.\u001b[0m\u001b[0mmean_\u001b[0m\u001b[0;34m\u001b[0m\u001b[0;34m\u001b[0m\u001b[0m\n",
      "\u001b[0;31mValueError\u001b[0m: operands could not be broadcast together with shapes (285831,13) (6,) (285831,13) "
     ]
    }
   ],
   "source": []
  }
 ],
 "metadata": {
  "kernelspec": {
   "display_name": "Python 3.7.9 64-bit ('tf': conda)",
   "name": "python379jvsc74a57bd00e3b36984b19af1918e567b6ef4427128e64f599ce0f81735987234538bd33aa"
  },
  "language_info": {
   "codemirror_mode": {
    "name": "ipython",
    "version": 3
   },
   "file_extension": ".py",
   "mimetype": "text/x-python",
   "name": "python",
   "nbconvert_exporter": "python",
   "pygments_lexer": "ipython3",
   "version": "3.7.9"
  },
  "metadata": {
   "interpreter": {
    "hash": "872ef5f367a824e2a9f29f9c70026d6dc7e7210644532417612a85a25d586e43"
   }
  },
  "orig_nbformat": 2
 },
 "nbformat": 4,
 "nbformat_minor": 2
}