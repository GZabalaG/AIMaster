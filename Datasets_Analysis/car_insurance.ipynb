{
 "cells": [
  {
   "cell_type": "markdown",
   "metadata": {},
   "source": [
    "# Análisis: seguro de vehículos\n"
   ]
  },
  {
   "cell_type": "markdown",
   "metadata": {},
   "source": [
    "Una empresa de seguros de salud quiere ofrecer a sus antiguos clientes un nuevo seguro de vehículos. Necesita nuestro servicio para crear un modelo que prediga si un cliente estaría interesado en este nuevo seguro.\n",
    "\n",
    "Tenemos un conjunto de datos con los siguientes valores:\n",
    "\n",
    "| Variable | Definición |\n",
    "| --- | --- |\n",
    "| id | Identificador único |\n",
    "| Gender | Género del cliente (M/F) |\n",
    "| Age | Edad del cliente |\n",
    "| Driving_License | El cliente tiene carnet de conducir (1/0) |\n",
    "| Region_Code | Código de la región del cliente |\n",
    "| Previously_Insured | El cliente ya tiene seguro de coche (1/0) |\n",
    "| Vehicle_Age | Años del vehículo |\n",
    "| Vehicle_Damage | El cliente ha sufrido daños en su vehículo anteriormente (1/0) |\n",
    "| Annual_Premium | Cantidad a pagar por el nuevo seguro |\n",
    "| Plocy_Sales_Channel | Canal por el que se localiza al cliente (e-mail, teléfono, en persona, etc) |\n",
    "| Vintage | Número de días del cliente con la compañía |\n",
    "| Response | Respuesta si o no (1/0) |\n",
    "\n",
    "### Problema de clasificación"
   ]
  },
  {
   "cell_type": "markdown",
   "metadata": {},
   "source": [
    "## Importando Dataset"
   ]
  },
  {
   "cell_type": "markdown",
   "metadata": {},
   "source": [
    "Importamos librerías necesarias y cargamos los dataset de entrenamiento y prueba desde la carpeta /res"
   ]
  },
  {
   "cell_type": "code",
   "execution_count": 71,
   "metadata": {},
   "outputs": [
    {
     "data": {
      "text/html": "<div>\n<style scoped>\n    .dataframe tbody tr th:only-of-type {\n        vertical-align: middle;\n    }\n\n    .dataframe tbody tr th {\n        vertical-align: top;\n    }\n\n    .dataframe thead th {\n        text-align: right;\n    }\n</style>\n<table border=\"1\" class=\"dataframe\">\n  <thead>\n    <tr style=\"text-align: right;\">\n      <th></th>\n      <th>Gender</th>\n      <th>Age</th>\n      <th>Driving_License</th>\n      <th>Region_Code</th>\n      <th>Previously_Insured</th>\n      <th>Vehicle_Age</th>\n      <th>Vehicle_Damage</th>\n      <th>Annual_Premium</th>\n      <th>Policy_Sales_Channel</th>\n      <th>Vintage</th>\n    </tr>\n  </thead>\n  <tbody>\n    <tr>\n      <th>0</th>\n      <td>Male</td>\n      <td>44</td>\n      <td>1</td>\n      <td>28.0</td>\n      <td>0</td>\n      <td>&gt; 2 Years</td>\n      <td>Yes</td>\n      <td>40454.0</td>\n      <td>26.0</td>\n      <td>217</td>\n    </tr>\n    <tr>\n      <th>1</th>\n      <td>Male</td>\n      <td>76</td>\n      <td>1</td>\n      <td>3.0</td>\n      <td>0</td>\n      <td>1-2 Year</td>\n      <td>No</td>\n      <td>33536.0</td>\n      <td>26.0</td>\n      <td>183</td>\n    </tr>\n    <tr>\n      <th>2</th>\n      <td>Male</td>\n      <td>47</td>\n      <td>1</td>\n      <td>28.0</td>\n      <td>0</td>\n      <td>&gt; 2 Years</td>\n      <td>Yes</td>\n      <td>38294.0</td>\n      <td>26.0</td>\n      <td>27</td>\n    </tr>\n    <tr>\n      <th>3</th>\n      <td>Male</td>\n      <td>21</td>\n      <td>1</td>\n      <td>11.0</td>\n      <td>1</td>\n      <td>&lt; 1 Year</td>\n      <td>No</td>\n      <td>28619.0</td>\n      <td>152.0</td>\n      <td>203</td>\n    </tr>\n    <tr>\n      <th>4</th>\n      <td>Female</td>\n      <td>29</td>\n      <td>1</td>\n      <td>41.0</td>\n      <td>1</td>\n      <td>&lt; 1 Year</td>\n      <td>No</td>\n      <td>27496.0</td>\n      <td>152.0</td>\n      <td>39</td>\n    </tr>\n    <tr>\n      <th>...</th>\n      <td>...</td>\n      <td>...</td>\n      <td>...</td>\n      <td>...</td>\n      <td>...</td>\n      <td>...</td>\n      <td>...</td>\n      <td>...</td>\n      <td>...</td>\n      <td>...</td>\n    </tr>\n    <tr>\n      <th>381104</th>\n      <td>Male</td>\n      <td>74</td>\n      <td>1</td>\n      <td>26.0</td>\n      <td>1</td>\n      <td>1-2 Year</td>\n      <td>No</td>\n      <td>30170.0</td>\n      <td>26.0</td>\n      <td>88</td>\n    </tr>\n    <tr>\n      <th>381105</th>\n      <td>Male</td>\n      <td>30</td>\n      <td>1</td>\n      <td>37.0</td>\n      <td>1</td>\n      <td>&lt; 1 Year</td>\n      <td>No</td>\n      <td>40016.0</td>\n      <td>152.0</td>\n      <td>131</td>\n    </tr>\n    <tr>\n      <th>381106</th>\n      <td>Male</td>\n      <td>21</td>\n      <td>1</td>\n      <td>30.0</td>\n      <td>1</td>\n      <td>&lt; 1 Year</td>\n      <td>No</td>\n      <td>35118.0</td>\n      <td>160.0</td>\n      <td>161</td>\n    </tr>\n    <tr>\n      <th>381107</th>\n      <td>Female</td>\n      <td>68</td>\n      <td>1</td>\n      <td>14.0</td>\n      <td>0</td>\n      <td>&gt; 2 Years</td>\n      <td>Yes</td>\n      <td>44617.0</td>\n      <td>124.0</td>\n      <td>74</td>\n    </tr>\n    <tr>\n      <th>381108</th>\n      <td>Male</td>\n      <td>46</td>\n      <td>1</td>\n      <td>29.0</td>\n      <td>0</td>\n      <td>1-2 Year</td>\n      <td>No</td>\n      <td>41777.0</td>\n      <td>26.0</td>\n      <td>237</td>\n    </tr>\n  </tbody>\n</table>\n<p>381109 rows × 10 columns</p>\n</div>",
      "text/plain": "        Gender  Age  Driving_License  Region_Code  Previously_Insured  \\\n0         Male   44                1         28.0                   0   \n1         Male   76                1          3.0                   0   \n2         Male   47                1         28.0                   0   \n3         Male   21                1         11.0                   1   \n4       Female   29                1         41.0                   1   \n...        ...  ...              ...          ...                 ...   \n381104    Male   74                1         26.0                   1   \n381105    Male   30                1         37.0                   1   \n381106    Male   21                1         30.0                   1   \n381107  Female   68                1         14.0                   0   \n381108    Male   46                1         29.0                   0   \n\n       Vehicle_Age Vehicle_Damage  Annual_Premium  Policy_Sales_Channel  \\\n0        > 2 Years            Yes         40454.0                  26.0   \n1         1-2 Year             No         33536.0                  26.0   \n2        > 2 Years            Yes         38294.0                  26.0   \n3         < 1 Year             No         28619.0                 152.0   \n4         < 1 Year             No         27496.0                 152.0   \n...            ...            ...             ...                   ...   \n381104    1-2 Year             No         30170.0                  26.0   \n381105    < 1 Year             No         40016.0                 152.0   \n381106    < 1 Year             No         35118.0                 160.0   \n381107   > 2 Years            Yes         44617.0                 124.0   \n381108    1-2 Year             No         41777.0                  26.0   \n\n        Vintage  \n0           217  \n1           183  \n2            27  \n3           203  \n4            39  \n...         ...  \n381104       88  \n381105      131  \n381106      161  \n381107       74  \n381108      237  \n\n[381109 rows x 10 columns]"
     },
     "metadata": {},
     "output_type": "display_data"
    }
   ],
   "source": [
    "import numpy as np\n",
    "import pandas as pd\n",
    "import matplotlib.pyplot as plt\n",
    "import seaborn as sns\n",
    "from sklearn.preprocessing import StandardScaler, LabelEncoder\n",
    "from sklearn.compose import ColumnTransformer\n",
    "\n",
    "train = pd.read_csv('../res/train.csv')\n",
    "x_train = train.iloc[:, 1:-1] # Training Dataset without dependient variable and index (pandas index = dataset index - 1)\n",
    "y_train = train.iloc[:, -1] # Training Dependient variable\n",
    "\n",
    "test = pd.read_csv('../res/test.csv') # Test Dataset\n",
    "x_test = test.iloc[:, 1:-1] # Test Dataset without dependient variable and index (pandas index = dataset index - 1)\n",
    "y_test = test.iloc[:, -1] # Test Dependient variable\n",
    "\n",
    "display(x_train)"
   ]
  },
  {
   "cell_type": "markdown",
   "metadata": {},
   "source": [
    "## Preprocesado y limpieza del Dataset"
   ]
  },
  {
   "cell_type": "markdown",
   "metadata": {},
   "source": [
    "### Valores categóricos\n",
    "\n",
    "Convertimos los valores categóricos en valores booleanos."
   ]
  },
  {
   "cell_type": "code",
   "execution_count": 72,
   "metadata": {},
   "outputs": [
    {
     "data": {
      "text/html": "<div>\n<style scoped>\n    .dataframe tbody tr th:only-of-type {\n        vertical-align: middle;\n    }\n\n    .dataframe tbody tr th {\n        vertical-align: top;\n    }\n\n    .dataframe thead th {\n        text-align: right;\n    }\n</style>\n<table border=\"1\" class=\"dataframe\">\n  <thead>\n    <tr style=\"text-align: right;\">\n      <th></th>\n      <th>Age</th>\n      <th>Region_Code</th>\n      <th>Annual_Premium</th>\n      <th>Policy_Sales_Channel</th>\n      <th>Vintage</th>\n      <th>Gender_Female</th>\n      <th>Gender_Male</th>\n      <th>Vehicle_Age_1-2 Year</th>\n      <th>Vehicle_Age_&lt; 1 Year</th>\n      <th>Vehicle_Age_&gt; 2 Years</th>\n      <th>Driving_License</th>\n      <th>Previously_Insured</th>\n      <th>Vehicle_Damage</th>\n    </tr>\n  </thead>\n  <tbody>\n    <tr>\n      <th>0</th>\n      <td>44</td>\n      <td>28.0</td>\n      <td>40454.0</td>\n      <td>26.0</td>\n      <td>217</td>\n      <td>0</td>\n      <td>1</td>\n      <td>0</td>\n      <td>0</td>\n      <td>1</td>\n      <td>1</td>\n      <td>0</td>\n      <td>1</td>\n    </tr>\n    <tr>\n      <th>1</th>\n      <td>76</td>\n      <td>3.0</td>\n      <td>33536.0</td>\n      <td>26.0</td>\n      <td>183</td>\n      <td>0</td>\n      <td>1</td>\n      <td>1</td>\n      <td>0</td>\n      <td>0</td>\n      <td>1</td>\n      <td>0</td>\n      <td>0</td>\n    </tr>\n    <tr>\n      <th>2</th>\n      <td>47</td>\n      <td>28.0</td>\n      <td>38294.0</td>\n      <td>26.0</td>\n      <td>27</td>\n      <td>0</td>\n      <td>1</td>\n      <td>0</td>\n      <td>0</td>\n      <td>1</td>\n      <td>1</td>\n      <td>0</td>\n      <td>1</td>\n    </tr>\n    <tr>\n      <th>3</th>\n      <td>21</td>\n      <td>11.0</td>\n      <td>28619.0</td>\n      <td>152.0</td>\n      <td>203</td>\n      <td>0</td>\n      <td>1</td>\n      <td>0</td>\n      <td>1</td>\n      <td>0</td>\n      <td>1</td>\n      <td>1</td>\n      <td>0</td>\n    </tr>\n    <tr>\n      <th>4</th>\n      <td>29</td>\n      <td>41.0</td>\n      <td>27496.0</td>\n      <td>152.0</td>\n      <td>39</td>\n      <td>1</td>\n      <td>0</td>\n      <td>0</td>\n      <td>1</td>\n      <td>0</td>\n      <td>1</td>\n      <td>1</td>\n      <td>0</td>\n    </tr>\n    <tr>\n      <th>...</th>\n      <td>...</td>\n      <td>...</td>\n      <td>...</td>\n      <td>...</td>\n      <td>...</td>\n      <td>...</td>\n      <td>...</td>\n      <td>...</td>\n      <td>...</td>\n      <td>...</td>\n      <td>...</td>\n      <td>...</td>\n      <td>...</td>\n    </tr>\n    <tr>\n      <th>381104</th>\n      <td>74</td>\n      <td>26.0</td>\n      <td>30170.0</td>\n      <td>26.0</td>\n      <td>88</td>\n      <td>0</td>\n      <td>1</td>\n      <td>1</td>\n      <td>0</td>\n      <td>0</td>\n      <td>1</td>\n      <td>1</td>\n      <td>0</td>\n    </tr>\n    <tr>\n      <th>381105</th>\n      <td>30</td>\n      <td>37.0</td>\n      <td>40016.0</td>\n      <td>152.0</td>\n      <td>131</td>\n      <td>0</td>\n      <td>1</td>\n      <td>0</td>\n      <td>1</td>\n      <td>0</td>\n      <td>1</td>\n      <td>1</td>\n      <td>0</td>\n    </tr>\n    <tr>\n      <th>381106</th>\n      <td>21</td>\n      <td>30.0</td>\n      <td>35118.0</td>\n      <td>160.0</td>\n      <td>161</td>\n      <td>0</td>\n      <td>1</td>\n      <td>0</td>\n      <td>1</td>\n      <td>0</td>\n      <td>1</td>\n      <td>1</td>\n      <td>0</td>\n    </tr>\n    <tr>\n      <th>381107</th>\n      <td>68</td>\n      <td>14.0</td>\n      <td>44617.0</td>\n      <td>124.0</td>\n      <td>74</td>\n      <td>1</td>\n      <td>0</td>\n      <td>0</td>\n      <td>0</td>\n      <td>1</td>\n      <td>1</td>\n      <td>0</td>\n      <td>1</td>\n    </tr>\n    <tr>\n      <th>381108</th>\n      <td>46</td>\n      <td>29.0</td>\n      <td>41777.0</td>\n      <td>26.0</td>\n      <td>237</td>\n      <td>0</td>\n      <td>1</td>\n      <td>1</td>\n      <td>0</td>\n      <td>0</td>\n      <td>1</td>\n      <td>0</td>\n      <td>0</td>\n    </tr>\n  </tbody>\n</table>\n<p>381109 rows × 13 columns</p>\n</div>",
      "text/plain": "        Age  Region_Code  Annual_Premium  Policy_Sales_Channel  Vintage  \\\n0        44         28.0         40454.0                  26.0      217   \n1        76          3.0         33536.0                  26.0      183   \n2        47         28.0         38294.0                  26.0       27   \n3        21         11.0         28619.0                 152.0      203   \n4        29         41.0         27496.0                 152.0       39   \n...     ...          ...             ...                   ...      ...   \n381104   74         26.0         30170.0                  26.0       88   \n381105   30         37.0         40016.0                 152.0      131   \n381106   21         30.0         35118.0                 160.0      161   \n381107   68         14.0         44617.0                 124.0       74   \n381108   46         29.0         41777.0                  26.0      237   \n\n        Gender_Female  Gender_Male  Vehicle_Age_1-2 Year  \\\n0                   0            1                     0   \n1                   0            1                     1   \n2                   0            1                     0   \n3                   0            1                     0   \n4                   1            0                     0   \n...               ...          ...                   ...   \n381104              0            1                     1   \n381105              0            1                     0   \n381106              0            1                     0   \n381107              1            0                     0   \n381108              0            1                     1   \n\n        Vehicle_Age_< 1 Year  Vehicle_Age_> 2 Years  Driving_License  \\\n0                          0                      1                1   \n1                          0                      0                1   \n2                          0                      1                1   \n3                          1                      0                1   \n4                          1                      0                1   \n...                      ...                    ...              ...   \n381104                     0                      0                1   \n381105                     1                      0                1   \n381106                     1                      0                1   \n381107                     0                      1                1   \n381108                     0                      0                1   \n\n        Previously_Insured  Vehicle_Damage  \n0                        0               1  \n1                        0               0  \n2                        0               1  \n3                        1               0  \n4                        1               0  \n...                    ...             ...  \n381104                   1               0  \n381105                   1               0  \n381106                   1               0  \n381107                   0               1  \n381108                   0               0  \n\n[381109 rows x 13 columns]"
     },
     "metadata": {},
     "output_type": "display_data"
    }
   ],
   "source": [
    "# Generate boolean values for categorical columns \n",
    "le = LabelEncoder()\n",
    "x_train = pd.get_dummies(x_train, columns=['Gender', 'Vehicle_Age'], prefix=['Gender', 'Vehicle_Age'])\n",
    "x_train['Vehicle_Damage'] = le.fit_transform(x_train['Vehicle_Damage']) # Yes -> 1 | No -> 0\n",
    "\n",
    "# Reordering columns so categorical data are the last columns\n",
    "new_cols_order = ['Age', 'Region_Code', 'Annual_Premium', 'Policy_Sales_Channel', 'Vintage', 'Gender_Female', 'Gender_Male', 'Vehicle_Age_1-2 Year', 'Vehicle_Age_< 1 Year', 'Vehicle_Age_> 2 Years', 'Driving_License', 'Previously_Insured', 'Vehicle_Damage']\n",
    "\n",
    "x_train = x_train[new_cols_order]\n",
    "\n",
    "\n",
    "display(x_train)"
   ]
  },
  {
   "cell_type": "markdown",
   "metadata": {},
   "source": [
    "### Estandarización\n",
    "\n",
    "Estandarizamos los valores continuos para no confudir los futuros análisis"
   ]
  },
  {
   "cell_type": "code",
   "execution_count": 73,
   "metadata": {},
   "outputs": [
    {
     "data": {
      "text/html": "<div>\n<style scoped>\n    .dataframe tbody tr th:only-of-type {\n        vertical-align: middle;\n    }\n\n    .dataframe tbody tr th {\n        vertical-align: top;\n    }\n\n    .dataframe thead th {\n        text-align: right;\n    }\n</style>\n<table border=\"1\" class=\"dataframe\">\n  <thead>\n    <tr style=\"text-align: right;\">\n      <th></th>\n      <th>Age</th>\n      <th>Region_Code</th>\n      <th>Annual_Premium</th>\n      <th>Policy_Sales_Channel</th>\n      <th>Vintage</th>\n      <th>Gender_Female</th>\n      <th>Gender_Male</th>\n      <th>Vehicle_Age_1-2 Year</th>\n      <th>Vehicle_Age_&lt; 1 Year</th>\n      <th>Vehicle_Age_&gt; 2 Years</th>\n      <th>Driving_License</th>\n      <th>Previously_Insured</th>\n      <th>Vehicle_Damage</th>\n    </tr>\n  </thead>\n  <tbody>\n    <tr>\n      <th>0</th>\n      <td>0.333777</td>\n      <td>0.121784</td>\n      <td>0.574539</td>\n      <td>-1.587234</td>\n      <td>0.748795</td>\n      <td>-0.921545</td>\n      <td>1</td>\n      <td>0</td>\n      <td>0</td>\n      <td>1</td>\n      <td>1</td>\n      <td>0</td>\n      <td>1</td>\n    </tr>\n    <tr>\n      <th>1</th>\n      <td>2.396751</td>\n      <td>-1.767879</td>\n      <td>0.172636</td>\n      <td>-1.587234</td>\n      <td>0.342443</td>\n      <td>-0.921545</td>\n      <td>1</td>\n      <td>1</td>\n      <td>0</td>\n      <td>0</td>\n      <td>1</td>\n      <td>0</td>\n      <td>0</td>\n    </tr>\n    <tr>\n      <th>2</th>\n      <td>0.527181</td>\n      <td>0.121784</td>\n      <td>0.449053</td>\n      <td>-1.587234</td>\n      <td>-1.521998</td>\n      <td>-0.921545</td>\n      <td>1</td>\n      <td>0</td>\n      <td>0</td>\n      <td>1</td>\n      <td>1</td>\n      <td>0</td>\n      <td>1</td>\n    </tr>\n    <tr>\n      <th>3</th>\n      <td>-1.148985</td>\n      <td>-1.163187</td>\n      <td>-0.113018</td>\n      <td>0.737321</td>\n      <td>0.581474</td>\n      <td>-0.921545</td>\n      <td>1</td>\n      <td>0</td>\n      <td>1</td>\n      <td>0</td>\n      <td>1</td>\n      <td>1</td>\n      <td>0</td>\n    </tr>\n    <tr>\n      <th>4</th>\n      <td>-0.633242</td>\n      <td>1.104409</td>\n      <td>-0.178259</td>\n      <td>0.737321</td>\n      <td>-1.378580</td>\n      <td>1.085134</td>\n      <td>0</td>\n      <td>0</td>\n      <td>1</td>\n      <td>0</td>\n      <td>1</td>\n      <td>1</td>\n      <td>0</td>\n    </tr>\n    <tr>\n      <th>...</th>\n      <td>...</td>\n      <td>...</td>\n      <td>...</td>\n      <td>...</td>\n      <td>...</td>\n      <td>...</td>\n      <td>...</td>\n      <td>...</td>\n      <td>...</td>\n      <td>...</td>\n      <td>...</td>\n      <td>...</td>\n      <td>...</td>\n    </tr>\n    <tr>\n      <th>381104</th>\n      <td>2.267815</td>\n      <td>-0.029389</td>\n      <td>-0.022912</td>\n      <td>-1.587234</td>\n      <td>-0.792954</td>\n      <td>-0.921545</td>\n      <td>1</td>\n      <td>1</td>\n      <td>0</td>\n      <td>0</td>\n      <td>1</td>\n      <td>1</td>\n      <td>0</td>\n    </tr>\n    <tr>\n      <th>381105</th>\n      <td>-0.568774</td>\n      <td>0.802063</td>\n      <td>0.549093</td>\n      <td>0.737321</td>\n      <td>-0.279037</td>\n      <td>-0.921545</td>\n      <td>1</td>\n      <td>0</td>\n      <td>1</td>\n      <td>0</td>\n      <td>1</td>\n      <td>1</td>\n      <td>0</td>\n    </tr>\n    <tr>\n      <th>381106</th>\n      <td>-1.148985</td>\n      <td>0.272958</td>\n      <td>0.264543</td>\n      <td>0.884912</td>\n      <td>0.079509</td>\n      <td>-0.921545</td>\n      <td>1</td>\n      <td>0</td>\n      <td>1</td>\n      <td>0</td>\n      <td>1</td>\n      <td>1</td>\n      <td>0</td>\n    </tr>\n    <tr>\n      <th>381107</th>\n      <td>1.881007</td>\n      <td>-0.936427</td>\n      <td>0.816389</td>\n      <td>0.220753</td>\n      <td>-0.960275</td>\n      <td>1.085134</td>\n      <td>0</td>\n      <td>0</td>\n      <td>0</td>\n      <td>1</td>\n      <td>1</td>\n      <td>0</td>\n      <td>1</td>\n    </tr>\n    <tr>\n      <th>381108</th>\n      <td>0.462713</td>\n      <td>0.197371</td>\n      <td>0.651399</td>\n      <td>-1.587234</td>\n      <td>0.987826</td>\n      <td>-0.921545</td>\n      <td>1</td>\n      <td>1</td>\n      <td>0</td>\n      <td>0</td>\n      <td>1</td>\n      <td>0</td>\n      <td>0</td>\n    </tr>\n  </tbody>\n</table>\n<p>381109 rows × 13 columns</p>\n</div>",
      "text/plain": "             Age  Region_Code  Annual_Premium  Policy_Sales_Channel   Vintage  \\\n0       0.333777     0.121784        0.574539             -1.587234  0.748795   \n1       2.396751    -1.767879        0.172636             -1.587234  0.342443   \n2       0.527181     0.121784        0.449053             -1.587234 -1.521998   \n3      -1.148985    -1.163187       -0.113018              0.737321  0.581474   \n4      -0.633242     1.104409       -0.178259              0.737321 -1.378580   \n...          ...          ...             ...                   ...       ...   \n381104  2.267815    -0.029389       -0.022912             -1.587234 -0.792954   \n381105 -0.568774     0.802063        0.549093              0.737321 -0.279037   \n381106 -1.148985     0.272958        0.264543              0.884912  0.079509   \n381107  1.881007    -0.936427        0.816389              0.220753 -0.960275   \n381108  0.462713     0.197371        0.651399             -1.587234  0.987826   \n\n        Gender_Female  Gender_Male  Vehicle_Age_1-2 Year  \\\n0           -0.921545            1                     0   \n1           -0.921545            1                     1   \n2           -0.921545            1                     0   \n3           -0.921545            1                     0   \n4            1.085134            0                     0   \n...               ...          ...                   ...   \n381104      -0.921545            1                     1   \n381105      -0.921545            1                     0   \n381106      -0.921545            1                     0   \n381107       1.085134            0                     0   \n381108      -0.921545            1                     1   \n\n        Vehicle_Age_< 1 Year  Vehicle_Age_> 2 Years  Driving_License  \\\n0                          0                      1                1   \n1                          0                      0                1   \n2                          0                      1                1   \n3                          1                      0                1   \n4                          1                      0                1   \n...                      ...                    ...              ...   \n381104                     0                      0                1   \n381105                     1                      0                1   \n381106                     1                      0                1   \n381107                     0                      1                1   \n381108                     0                      0                1   \n\n        Previously_Insured  Vehicle_Damage  \n0                        0               1  \n1                        0               0  \n2                        0               1  \n3                        1               0  \n4                        1               0  \n...                    ...             ...  \n381104                   1               0  \n381105                   1               0  \n381106                   1               0  \n381107                   0               1  \n381108                   0               0  \n\n[381109 rows x 13 columns]"
     },
     "metadata": {},
     "output_type": "display_data"
    }
   ],
   "source": [
    "# Continous variables standarization\n",
    "sc = StandardScaler()\n",
    "x_train.iloc[:, :6] = sc.fit_transform(x_train.iloc[:, :6])\n",
    "display(x_train)"
   ]
  },
  {
   "cell_type": "code",
   "execution_count": 42,
   "metadata": {},
   "outputs": [
    {
     "data": {
      "text/html": "<div>\n<style scoped>\n    .dataframe tbody tr th:only-of-type {\n        vertical-align: middle;\n    }\n\n    .dataframe tbody tr th {\n        vertical-align: top;\n    }\n\n    .dataframe thead th {\n        text-align: right;\n    }\n</style>\n<table border=\"1\" class=\"dataframe\">\n  <thead>\n    <tr style=\"text-align: right;\">\n      <th></th>\n      <th>id</th>\n      <th>Gender</th>\n      <th>Age</th>\n      <th>Driving_License</th>\n      <th>Region_Code</th>\n      <th>Previously_Insured</th>\n      <th>Vehicle_Age</th>\n      <th>Vehicle_Damage</th>\n      <th>Annual_Premium</th>\n      <th>Policy_Sales_Channel</th>\n      <th>Vintage</th>\n    </tr>\n  </thead>\n  <tbody>\n    <tr>\n      <th>0</th>\n      <td>1</td>\n      <td>Male</td>\n      <td>44</td>\n      <td>1</td>\n      <td>28.0</td>\n      <td>0</td>\n      <td>&gt; 2 Years</td>\n      <td>Yes</td>\n      <td>40454.0</td>\n      <td>26.0</td>\n      <td>217</td>\n    </tr>\n    <tr>\n      <th>1</th>\n      <td>2</td>\n      <td>Male</td>\n      <td>76</td>\n      <td>1</td>\n      <td>3.0</td>\n      <td>0</td>\n      <td>1-2 Year</td>\n      <td>No</td>\n      <td>33536.0</td>\n      <td>26.0</td>\n      <td>183</td>\n    </tr>\n    <tr>\n      <th>2</th>\n      <td>3</td>\n      <td>Male</td>\n      <td>47</td>\n      <td>1</td>\n      <td>28.0</td>\n      <td>0</td>\n      <td>&gt; 2 Years</td>\n      <td>Yes</td>\n      <td>38294.0</td>\n      <td>26.0</td>\n      <td>27</td>\n    </tr>\n    <tr>\n      <th>3</th>\n      <td>4</td>\n      <td>Male</td>\n      <td>21</td>\n      <td>1</td>\n      <td>11.0</td>\n      <td>1</td>\n      <td>&lt; 1 Year</td>\n      <td>No</td>\n      <td>28619.0</td>\n      <td>152.0</td>\n      <td>203</td>\n    </tr>\n    <tr>\n      <th>4</th>\n      <td>5</td>\n      <td>Female</td>\n      <td>29</td>\n      <td>1</td>\n      <td>41.0</td>\n      <td>1</td>\n      <td>&lt; 1 Year</td>\n      <td>No</td>\n      <td>27496.0</td>\n      <td>152.0</td>\n      <td>39</td>\n    </tr>\n    <tr>\n      <th>...</th>\n      <td>...</td>\n      <td>...</td>\n      <td>...</td>\n      <td>...</td>\n      <td>...</td>\n      <td>...</td>\n      <td>...</td>\n      <td>...</td>\n      <td>...</td>\n      <td>...</td>\n      <td>...</td>\n    </tr>\n    <tr>\n      <th>381104</th>\n      <td>381105</td>\n      <td>Male</td>\n      <td>74</td>\n      <td>1</td>\n      <td>26.0</td>\n      <td>1</td>\n      <td>1-2 Year</td>\n      <td>No</td>\n      <td>30170.0</td>\n      <td>26.0</td>\n      <td>88</td>\n    </tr>\n    <tr>\n      <th>381105</th>\n      <td>381106</td>\n      <td>Male</td>\n      <td>30</td>\n      <td>1</td>\n      <td>37.0</td>\n      <td>1</td>\n      <td>&lt; 1 Year</td>\n      <td>No</td>\n      <td>40016.0</td>\n      <td>152.0</td>\n      <td>131</td>\n    </tr>\n    <tr>\n      <th>381106</th>\n      <td>381107</td>\n      <td>Male</td>\n      <td>21</td>\n      <td>1</td>\n      <td>30.0</td>\n      <td>1</td>\n      <td>&lt; 1 Year</td>\n      <td>No</td>\n      <td>35118.0</td>\n      <td>160.0</td>\n      <td>161</td>\n    </tr>\n    <tr>\n      <th>381107</th>\n      <td>381108</td>\n      <td>Female</td>\n      <td>68</td>\n      <td>1</td>\n      <td>14.0</td>\n      <td>0</td>\n      <td>&gt; 2 Years</td>\n      <td>Yes</td>\n      <td>44617.0</td>\n      <td>124.0</td>\n      <td>74</td>\n    </tr>\n    <tr>\n      <th>381108</th>\n      <td>381109</td>\n      <td>Male</td>\n      <td>46</td>\n      <td>1</td>\n      <td>29.0</td>\n      <td>0</td>\n      <td>1-2 Year</td>\n      <td>No</td>\n      <td>41777.0</td>\n      <td>26.0</td>\n      <td>237</td>\n    </tr>\n  </tbody>\n</table>\n<p>381109 rows × 11 columns</p>\n</div>",
      "text/plain": "            id  Gender  Age  Driving_License  Region_Code  Previously_Insured  \\\n0            1    Male   44                1         28.0                   0   \n1            2    Male   76                1          3.0                   0   \n2            3    Male   47                1         28.0                   0   \n3            4    Male   21                1         11.0                   1   \n4            5  Female   29                1         41.0                   1   \n...        ...     ...  ...              ...          ...                 ...   \n381104  381105    Male   74                1         26.0                   1   \n381105  381106    Male   30                1         37.0                   1   \n381106  381107    Male   21                1         30.0                   1   \n381107  381108  Female   68                1         14.0                   0   \n381108  381109    Male   46                1         29.0                   0   \n\n       Vehicle_Age Vehicle_Damage  Annual_Premium  Policy_Sales_Channel  \\\n0        > 2 Years            Yes         40454.0                  26.0   \n1         1-2 Year             No         33536.0                  26.0   \n2        > 2 Years            Yes         38294.0                  26.0   \n3         < 1 Year             No         28619.0                 152.0   \n4         < 1 Year             No         27496.0                 152.0   \n...            ...            ...             ...                   ...   \n381104    1-2 Year             No         30170.0                  26.0   \n381105    < 1 Year             No         40016.0                 152.0   \n381106    < 1 Year             No         35118.0                 160.0   \n381107   > 2 Years            Yes         44617.0                 124.0   \n381108    1-2 Year             No         41777.0                  26.0   \n\n        Vintage  \n0           217  \n1           183  \n2            27  \n3           203  \n4            39  \n...         ...  \n381104       88  \n381105      131  \n381106      161  \n381107       74  \n381108      237  \n\n[381109 rows x 11 columns]"
     },
     "metadata": {},
     "output_type": "display_data"
    },
    {
     "data": {
      "text/html": "<div>\n<style scoped>\n    .dataframe tbody tr th:only-of-type {\n        vertical-align: middle;\n    }\n\n    .dataframe tbody tr th {\n        vertical-align: top;\n    }\n\n    .dataframe thead th {\n        text-align: right;\n    }\n</style>\n<table border=\"1\" class=\"dataframe\">\n  <thead>\n    <tr style=\"text-align: right;\">\n      <th></th>\n      <th>id</th>\n      <th>Age</th>\n      <th>Driving_License</th>\n      <th>Region_Code</th>\n      <th>Previously_Insured</th>\n      <th>Vehicle_Damage</th>\n      <th>Annual_Premium</th>\n      <th>Policy_Sales_Channel</th>\n      <th>Vintage</th>\n      <th>Gender_Female</th>\n      <th>Gender_Male</th>\n      <th>Vehicle_Age_1-2 Year</th>\n      <th>Vehicle_Age_&lt; 1 Year</th>\n      <th>Vehicle_Age_&gt; 2 Years</th>\n    </tr>\n  </thead>\n  <tbody>\n    <tr>\n      <th>0</th>\n      <td>1</td>\n      <td>44</td>\n      <td>1</td>\n      <td>28.0</td>\n      <td>0</td>\n      <td>Yes</td>\n      <td>40454.0</td>\n      <td>26.0</td>\n      <td>217</td>\n      <td>0</td>\n      <td>1</td>\n      <td>0</td>\n      <td>0</td>\n      <td>1</td>\n    </tr>\n    <tr>\n      <th>1</th>\n      <td>2</td>\n      <td>76</td>\n      <td>1</td>\n      <td>3.0</td>\n      <td>0</td>\n      <td>No</td>\n      <td>33536.0</td>\n      <td>26.0</td>\n      <td>183</td>\n      <td>0</td>\n      <td>1</td>\n      <td>1</td>\n      <td>0</td>\n      <td>0</td>\n    </tr>\n    <tr>\n      <th>2</th>\n      <td>3</td>\n      <td>47</td>\n      <td>1</td>\n      <td>28.0</td>\n      <td>0</td>\n      <td>Yes</td>\n      <td>38294.0</td>\n      <td>26.0</td>\n      <td>27</td>\n      <td>0</td>\n      <td>1</td>\n      <td>0</td>\n      <td>0</td>\n      <td>1</td>\n    </tr>\n    <tr>\n      <th>3</th>\n      <td>4</td>\n      <td>21</td>\n      <td>1</td>\n      <td>11.0</td>\n      <td>1</td>\n      <td>No</td>\n      <td>28619.0</td>\n      <td>152.0</td>\n      <td>203</td>\n      <td>0</td>\n      <td>1</td>\n      <td>0</td>\n      <td>1</td>\n      <td>0</td>\n    </tr>\n    <tr>\n      <th>4</th>\n      <td>5</td>\n      <td>29</td>\n      <td>1</td>\n      <td>41.0</td>\n      <td>1</td>\n      <td>No</td>\n      <td>27496.0</td>\n      <td>152.0</td>\n      <td>39</td>\n      <td>1</td>\n      <td>0</td>\n      <td>0</td>\n      <td>1</td>\n      <td>0</td>\n    </tr>\n    <tr>\n      <th>...</th>\n      <td>...</td>\n      <td>...</td>\n      <td>...</td>\n      <td>...</td>\n      <td>...</td>\n      <td>...</td>\n      <td>...</td>\n      <td>...</td>\n      <td>...</td>\n      <td>...</td>\n      <td>...</td>\n      <td>...</td>\n      <td>...</td>\n      <td>...</td>\n    </tr>\n    <tr>\n      <th>381104</th>\n      <td>381105</td>\n      <td>74</td>\n      <td>1</td>\n      <td>26.0</td>\n      <td>1</td>\n      <td>No</td>\n      <td>30170.0</td>\n      <td>26.0</td>\n      <td>88</td>\n      <td>0</td>\n      <td>1</td>\n      <td>1</td>\n      <td>0</td>\n      <td>0</td>\n    </tr>\n    <tr>\n      <th>381105</th>\n      <td>381106</td>\n      <td>30</td>\n      <td>1</td>\n      <td>37.0</td>\n      <td>1</td>\n      <td>No</td>\n      <td>40016.0</td>\n      <td>152.0</td>\n      <td>131</td>\n      <td>0</td>\n      <td>1</td>\n      <td>0</td>\n      <td>1</td>\n      <td>0</td>\n    </tr>\n    <tr>\n      <th>381106</th>\n      <td>381107</td>\n      <td>21</td>\n      <td>1</td>\n      <td>30.0</td>\n      <td>1</td>\n      <td>No</td>\n      <td>35118.0</td>\n      <td>160.0</td>\n      <td>161</td>\n      <td>0</td>\n      <td>1</td>\n      <td>0</td>\n      <td>1</td>\n      <td>0</td>\n    </tr>\n    <tr>\n      <th>381107</th>\n      <td>381108</td>\n      <td>68</td>\n      <td>1</td>\n      <td>14.0</td>\n      <td>0</td>\n      <td>Yes</td>\n      <td>44617.0</td>\n      <td>124.0</td>\n      <td>74</td>\n      <td>1</td>\n      <td>0</td>\n      <td>0</td>\n      <td>0</td>\n      <td>1</td>\n    </tr>\n    <tr>\n      <th>381108</th>\n      <td>381109</td>\n      <td>46</td>\n      <td>1</td>\n      <td>29.0</td>\n      <td>0</td>\n      <td>No</td>\n      <td>41777.0</td>\n      <td>26.0</td>\n      <td>237</td>\n      <td>0</td>\n      <td>1</td>\n      <td>1</td>\n      <td>0</td>\n      <td>0</td>\n    </tr>\n  </tbody>\n</table>\n<p>381109 rows × 14 columns</p>\n</div>",
      "text/plain": "            id  Age  Driving_License  Region_Code  Previously_Insured  \\\n0            1   44                1         28.0                   0   \n1            2   76                1          3.0                   0   \n2            3   47                1         28.0                   0   \n3            4   21                1         11.0                   1   \n4            5   29                1         41.0                   1   \n...        ...  ...              ...          ...                 ...   \n381104  381105   74                1         26.0                   1   \n381105  381106   30                1         37.0                   1   \n381106  381107   21                1         30.0                   1   \n381107  381108   68                1         14.0                   0   \n381108  381109   46                1         29.0                   0   \n\n       Vehicle_Damage  Annual_Premium  Policy_Sales_Channel  Vintage  \\\n0                 Yes         40454.0                  26.0      217   \n1                  No         33536.0                  26.0      183   \n2                 Yes         38294.0                  26.0       27   \n3                  No         28619.0                 152.0      203   \n4                  No         27496.0                 152.0       39   \n...               ...             ...                   ...      ...   \n381104             No         30170.0                  26.0       88   \n381105             No         40016.0                 152.0      131   \n381106             No         35118.0                 160.0      161   \n381107            Yes         44617.0                 124.0       74   \n381108             No         41777.0                  26.0      237   \n\n        Gender_Female  Gender_Male  Vehicle_Age_1-2 Year  \\\n0                   0            1                     0   \n1                   0            1                     1   \n2                   0            1                     0   \n3                   0            1                     0   \n4                   1            0                     0   \n...               ...          ...                   ...   \n381104              0            1                     1   \n381105              0            1                     0   \n381106              0            1                     0   \n381107              1            0                     0   \n381108              0            1                     1   \n\n        Vehicle_Age_< 1 Year  Vehicle_Age_> 2 Years  \n0                          0                      1  \n1                          0                      0  \n2                          0                      1  \n3                          1                      0  \n4                          1                      0  \n...                      ...                    ...  \n381104                     0                      0  \n381105                     1                      0  \n381106                     1                      0  \n381107                     0                      1  \n381108                     0                      0  \n\n[381109 rows x 14 columns]"
     },
     "metadata": {},
     "output_type": "display_data"
    }
   ],
   "source": [
    "\n",
    "\n",
    "\n",
    "display(x_train)\n",
    "\n",
    "ct = ColumnTransformer(transformers=(['encoder', OneHotEncoder(), [6]]), remainder = 'passthrough')\n",
    "#x_cttransform = np.array(ct.fit_transform(train))\n",
    "\n",
    "#display(x_cttransform)"
   ]
  },
  {
   "cell_type": "markdown",
   "metadata": {},
   "source": [
    "## Análisis predictivo"
   ]
  },
  {
   "cell_type": "markdown",
   "metadata": {},
   "source": [
    "### Análisis logístico"
   ]
  },
  {
   "cell_type": "code",
   "execution_count": null,
   "metadata": {},
   "outputs": [],
   "source": []
  }
 ],
 "metadata": {
  "kernelspec": {
   "display_name": "Python 3.7.9 64-bit ('tf': conda)",
   "name": "python379jvsc74a57bd00e3b36984b19af1918e567b6ef4427128e64f599ce0f81735987234538bd33aa"
  },
  "language_info": {
   "codemirror_mode": {
    "name": "ipython",
    "version": 3
   },
   "file_extension": ".py",
   "mimetype": "text/x-python",
   "name": "python",
   "nbconvert_exporter": "python",
   "pygments_lexer": "ipython3",
   "version": "3.7.9"
  },
  "metadata": {
   "interpreter": {
    "hash": "872ef5f367a824e2a9f29f9c70026d6dc7e7210644532417612a85a25d586e43"
   }
  },
  "orig_nbformat": 2
 },
 "nbformat": 4,
 "nbformat_minor": 2
}