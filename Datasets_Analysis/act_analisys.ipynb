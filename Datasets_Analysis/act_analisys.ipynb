{
 "cells": [
  {
   "cell_type": "markdown",
   "metadata": {},
   "source": [
    "# Análisis: seguro de vehiculos\n"
   ]
  },
  {
   "cell_type": "markdown",
   "metadata": {},
   "source": [
    "Se procede a realizar un análisis de predicción para una empresa de dedicada a proveer seguros de salud. Esta empresa quiere ofrecer a antiguos clientes un nuevo seguro de vehículos. Necesita crear un modelo que prediga si los antiguos clientes estarían interesados en este nuevo seguro para su vehículo"
   ]
  },
  {
   "cell_type": "markdown",
   "metadata": {},
   "source": [
    "## Importando"
   ]
  },
  {
   "cell_type": "code",
   "execution_count": 2,
   "metadata": {},
   "outputs": [],
   "source": [
    "import numpy as np\n",
    "import pandas as pd\n",
    "import matplotlib.pyplot as plt\n",
    "import seaborn as sns\n",
    "\n",
    "train = pd.read_csv('../res/train.csv')\n",
    "test = pd.read_csv('../res/test.csv')"
   ]
  },
  {
   "cell_type": "markdown",
   "metadata": {},
   "source": [
    "## Limpiando"
   ]
  },
  {
   "cell_type": "code",
   "execution_count": null,
   "metadata": {},
   "outputs": [],
   "source": []
  },
  {
   "cell_type": "markdown",
   "metadata": {},
   "source": [
    "## Display"
   ]
  },
  {
   "cell_type": "code",
   "execution_count": 3,
   "metadata": {},
   "outputs": [
    {
     "data": {
      "text/html": "<div>\n<style scoped>\n    .dataframe tbody tr th:only-of-type {\n        vertical-align: middle;\n    }\n\n    .dataframe tbody tr th {\n        vertical-align: top;\n    }\n\n    .dataframe thead th {\n        text-align: right;\n    }\n</style>\n<table border=\"1\" class=\"dataframe\">\n  <thead>\n    <tr style=\"text-align: right;\">\n      <th></th>\n      <th>id</th>\n      <th>Gender</th>\n      <th>Age</th>\n      <th>Driving_License</th>\n      <th>Region_Code</th>\n      <th>Previously_Insured</th>\n      <th>Vehicle_Age</th>\n      <th>Vehicle_Damage</th>\n      <th>Annual_Premium</th>\n      <th>Policy_Sales_Channel</th>\n      <th>Vintage</th>\n      <th>Response</th>\n    </tr>\n  </thead>\n  <tbody>\n    <tr>\n      <th>0</th>\n      <td>1</td>\n      <td>Male</td>\n      <td>44</td>\n      <td>1</td>\n      <td>28.0</td>\n      <td>0</td>\n      <td>&gt; 2 Years</td>\n      <td>Yes</td>\n      <td>40454.0</td>\n      <td>26.0</td>\n      <td>217</td>\n      <td>1</td>\n    </tr>\n    <tr>\n      <th>1</th>\n      <td>2</td>\n      <td>Male</td>\n      <td>76</td>\n      <td>1</td>\n      <td>3.0</td>\n      <td>0</td>\n      <td>1-2 Year</td>\n      <td>No</td>\n      <td>33536.0</td>\n      <td>26.0</td>\n      <td>183</td>\n      <td>0</td>\n    </tr>\n    <tr>\n      <th>2</th>\n      <td>3</td>\n      <td>Male</td>\n      <td>47</td>\n      <td>1</td>\n      <td>28.0</td>\n      <td>0</td>\n      <td>&gt; 2 Years</td>\n      <td>Yes</td>\n      <td>38294.0</td>\n      <td>26.0</td>\n      <td>27</td>\n      <td>1</td>\n    </tr>\n    <tr>\n      <th>3</th>\n      <td>4</td>\n      <td>Male</td>\n      <td>21</td>\n      <td>1</td>\n      <td>11.0</td>\n      <td>1</td>\n      <td>&lt; 1 Year</td>\n      <td>No</td>\n      <td>28619.0</td>\n      <td>152.0</td>\n      <td>203</td>\n      <td>0</td>\n    </tr>\n    <tr>\n      <th>4</th>\n      <td>5</td>\n      <td>Female</td>\n      <td>29</td>\n      <td>1</td>\n      <td>41.0</td>\n      <td>1</td>\n      <td>&lt; 1 Year</td>\n      <td>No</td>\n      <td>27496.0</td>\n      <td>152.0</td>\n      <td>39</td>\n      <td>0</td>\n    </tr>\n    <tr>\n      <th>...</th>\n      <td>...</td>\n      <td>...</td>\n      <td>...</td>\n      <td>...</td>\n      <td>...</td>\n      <td>...</td>\n      <td>...</td>\n      <td>...</td>\n      <td>...</td>\n      <td>...</td>\n      <td>...</td>\n      <td>...</td>\n    </tr>\n    <tr>\n      <th>381104</th>\n      <td>381105</td>\n      <td>Male</td>\n      <td>74</td>\n      <td>1</td>\n      <td>26.0</td>\n      <td>1</td>\n      <td>1-2 Year</td>\n      <td>No</td>\n      <td>30170.0</td>\n      <td>26.0</td>\n      <td>88</td>\n      <td>0</td>\n    </tr>\n    <tr>\n      <th>381105</th>\n      <td>381106</td>\n      <td>Male</td>\n      <td>30</td>\n      <td>1</td>\n      <td>37.0</td>\n      <td>1</td>\n      <td>&lt; 1 Year</td>\n      <td>No</td>\n      <td>40016.0</td>\n      <td>152.0</td>\n      <td>131</td>\n      <td>0</td>\n    </tr>\n    <tr>\n      <th>381106</th>\n      <td>381107</td>\n      <td>Male</td>\n      <td>21</td>\n      <td>1</td>\n      <td>30.0</td>\n      <td>1</td>\n      <td>&lt; 1 Year</td>\n      <td>No</td>\n      <td>35118.0</td>\n      <td>160.0</td>\n      <td>161</td>\n      <td>0</td>\n    </tr>\n    <tr>\n      <th>381107</th>\n      <td>381108</td>\n      <td>Female</td>\n      <td>68</td>\n      <td>1</td>\n      <td>14.0</td>\n      <td>0</td>\n      <td>&gt; 2 Years</td>\n      <td>Yes</td>\n      <td>44617.0</td>\n      <td>124.0</td>\n      <td>74</td>\n      <td>0</td>\n    </tr>\n    <tr>\n      <th>381108</th>\n      <td>381109</td>\n      <td>Male</td>\n      <td>46</td>\n      <td>1</td>\n      <td>29.0</td>\n      <td>0</td>\n      <td>1-2 Year</td>\n      <td>No</td>\n      <td>41777.0</td>\n      <td>26.0</td>\n      <td>237</td>\n      <td>0</td>\n    </tr>\n  </tbody>\n</table>\n<p>381109 rows × 12 columns</p>\n</div>",
      "text/plain": "            id  Gender  Age  Driving_License  Region_Code  Previously_Insured  \\\n0            1    Male   44                1         28.0                   0   \n1            2    Male   76                1          3.0                   0   \n2            3    Male   47                1         28.0                   0   \n3            4    Male   21                1         11.0                   1   \n4            5  Female   29                1         41.0                   1   \n...        ...     ...  ...              ...          ...                 ...   \n381104  381105    Male   74                1         26.0                   1   \n381105  381106    Male   30                1         37.0                   1   \n381106  381107    Male   21                1         30.0                   1   \n381107  381108  Female   68                1         14.0                   0   \n381108  381109    Male   46                1         29.0                   0   \n\n       Vehicle_Age Vehicle_Damage  Annual_Premium  Policy_Sales_Channel  \\\n0        > 2 Years            Yes         40454.0                  26.0   \n1         1-2 Year             No         33536.0                  26.0   \n2        > 2 Years            Yes         38294.0                  26.0   \n3         < 1 Year             No         28619.0                 152.0   \n4         < 1 Year             No         27496.0                 152.0   \n...            ...            ...             ...                   ...   \n381104    1-2 Year             No         30170.0                  26.0   \n381105    < 1 Year             No         40016.0                 152.0   \n381106    < 1 Year             No         35118.0                 160.0   \n381107   > 2 Years            Yes         44617.0                 124.0   \n381108    1-2 Year             No         41777.0                  26.0   \n\n        Vintage  Response  \n0           217         1  \n1           183         0  \n2            27         1  \n3           203         0  \n4            39         0  \n...         ...       ...  \n381104       88         0  \n381105      131         0  \n381106      161         0  \n381107       74         0  \n381108      237         0  \n\n[381109 rows x 12 columns]"
     },
     "execution_count": 3,
     "metadata": {},
     "output_type": "execute_result"
    }
   ],
   "source": [
    "train"
   ]
  }
 ],
 "metadata": {
  "kernelspec": {
   "display_name": "Python 3.7.9 64-bit ('tf': conda)",
   "name": "python379jvsc74a57bd00e3b36984b19af1918e567b6ef4427128e64f599ce0f81735987234538bd33aa"
  },
  "language_info": {
   "codemirror_mode": {
    "name": "ipython",
    "version": 3
   },
   "file_extension": ".py",
   "mimetype": "text/x-python",
   "name": "python",
   "nbconvert_exporter": "python",
   "pygments_lexer": "ipython3",
   "version": "3.7.9"
  },
  "metadata": {
   "interpreter": {
    "hash": "872ef5f367a824e2a9f29f9c70026d6dc7e7210644532417612a85a25d586e43"
   }
  },
  "orig_nbformat": 2
 },
 "nbformat": 4,
 "nbformat_minor": 2
}