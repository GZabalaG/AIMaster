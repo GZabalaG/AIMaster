{
 "cells": [
  {
   "cell_type": "markdown",
   "metadata": {},
   "source": [
    "# Ejercicio 1: Demostrar o refutar equivalencia equivalencia"
   ]
  },
  {
   "cell_type": "markdown",
   "metadata": {},
   "source": [
    "## Apartado a) \n",
    "\n",
    "Predicado 1: $ \\overline{\\exists x:\\overline{\\overline{p\\left( x\\right) }\\vee \\overline{q\\left( x\\right) }}} $\n",
    "\n",
    "Predicado 2: $ \\left[ \\forall x,\\overline{p\\left( x\\right) }\\right] \\vee\\left[ \\forall x,\\overline{q\\left( x\\right) }\\right] $\n",
    "\n",
    "Resolvemos Predicado 1:"
   ]
  },
  {
   "cell_type": "markdown",
   "metadata": {},
   "source": [
    "1: $ \\overline{\\exists x:\\overline{\\overline{p\\left( x\\right) }\\vee \\overline{q\\left( x\\right) }}} $ -> (Aplicamos leyes de Morgan) \n",
    "\n",
    "2: $ \\overline{\\exists x:\\overline{\\overline{p\\left( x\\right) }}\\wedge \\overline{\\overline{q\\left( x\\right) }}} $ -> (Doble negación)\n",
    "\n",
    "3: $ \\overline{\\exists x:p\\left( x\\right) \\wedge q\\left( x\\right) } $ -> (Predicado: $ \\left[ \\overline{\\exists x:p\\left( x\\right) }\\right] \\leftrightarrow \\left[ \\forall x:\\overline{p\\left( x\\right) }\\right] $)\n",
    "\n",
    "4: $ \\forall x:\\overline{p\\left( x\\right) \\wedge q\\left( x\\right) } $ -> (Aplicamos leyes de Morgan) \n",
    "\n",
    "5: $ \\left[ \\forall x:\\overline{p\\left( x\\right) }\\vee \\overline{q\\left( x\\right) }\\right] $\n",
    "\n"
   ]
  },
  {
   "cell_type": "markdown",
   "metadata": {},
   "source": [
    "a): Resulta una implicación ya que:\n",
    "\n",
    "$ \\left[ \\forall x,\\overline{p\\left( x\\right) }\\right] \\vee\\left[ \\forall x,\\overline{q\\left( x\\right) }\\right] \\models \\left[ \\forall x:\\overline{p\\left( x\\right) }\\vee \\overline{q\\left( x\\right) }\\right] $"
   ]
  },
  {
   "cell_type": "markdown",
   "metadata": {},
   "source": [
    "## Apartado b) \n",
    "\n",
    "Predicado 1: $ \\overline{\\forall x, \\exists y:\\left[ \\left( p\\left( x,y\\right) \\wedge q\\left( x,y\\right) \\right) \\rightarrow r\\left( x,y\\right) \\right] } $\n",
    "\n",
    "Predicado 2: $ \\exists x:\\left[ \\left( \\forall y,p\\left( x,y\\right) \\right) \\wedge \\left( \\forall y,q\\left( x,y\\right) \\right) \\wedge \\left( \\forall y,\\overline{r\\left( x,y\\right) }\\right) \\right] $\n",
    "\n",
    "Resolvemos Predicado 1:"
   ]
  },
  {
   "cell_type": "markdown",
   "metadata": {},
   "source": [
    "1: $ \\overline{\\forall x, \\exists y:\\left[ \\left( p\\left( x,y\\right) \\wedge q\\left( x,y\\right) \\right) \\rightarrow r\\left( x,y\\right) \\right] } $ -> (Resolvemos la implicación)\n",
    "\n",
    "2: $ \\overline{\\forall x,\\exists y:\\left[ \\left( \\overline{p\\left( x,y\\right) \\wedge q\\left( x,y\\right) }\\right) \\vee r\\left( x,y\\right) \\right] } $ -> (Aplicamos leyes de Morgan)\n",
    "\n",
    "3: $ \\overline{\\forall x,\\exists y:\\left[ ( \\overline{p\\left( x,y\\right) }\\vee\\overline{q\\left( x,y\\right) }\\vee r\\left( x,y\\right) \\right]} $ -> (Predicado: $\\overline{\\left[ \\forall x,p\\left( x\\right) \\right] }\\leftrightarrow \\exists x:\\overline{p\\left( x\\right) }$)\n",
    "\n",
    "4: $ \\exists x:\\overline{\\exists y:\\left[ ( \\overline{p\\left( x,y\\right) }\\vee\\overline{q\\left( x,y\\right) }\\vee r\\left( x,y\\right) \\right]} $ -> (Predicado: $\\overline{\\exists x:p\\left( x\\right) }\\leftrightarrow \\forall x,\\overline{p\\left( x\\right) }$)\n",
    "\n",
    "5: $ \\exists x:\\forall y,\\overline{\\left[ ( \\overline{p\\left( x,y\\right) }\\vee\\overline{q\\left( x,y\\right) }\\vee r\\left( x,y\\right) \\right]} $ -> (Aplicamos leyes de Morgan)\n",
    "\n",
    "6: $ \\exists x:\\forall y,\\left[ ( \\overline{\\overline{p\\left( x,y\\right) }} \\wedge \\overline{\\overline{q\\left( x,y\\right) }} \\wedge \\overline{r\\left( x,y\\right)} \\right] $ -> (Doble negación)\n",
    "\n",
    "7: $ \\exists x:\\forall y,\\left[ ( p\\left( x,y\\right) \\vee q\\left( x,y\\right) \\vee \\overline{r\\left( x,y\\right)} \\right] $\n",
    "\n",
    "\n",
    "\n",
    "\n"
   ]
  },
  {
   "cell_type": "markdown",
   "metadata": {},
   "source": [
    "b): Resulta una equivalencia ya que : $\\forall x,\\left[ p\\left( x\\right) \\wedge q\\left( x\\right) \\right] \\leftrightarrow \\left[ \\forall x,p\\left( x\\right) \\right] \\wedge \\left[ \\forall x,q\\left( x\\right) \\right] $). \n",
    "\n",
    "Entonces de 7) resolvemos:\n",
    "\n",
    "$ \\exists x:\\forall y,\\left[ ( p\\left( x,y\\right) \\vee q\\left( x,y\\right) \\vee \\overline{r\\left( x,y\\right)} \\right] \\leftrightarrow \\exists x:\\left[ \\left( \\forall y,p\\left( x,y\\right) \\right) \\wedge \\left( \\forall y,q\\left( x,y\\right) \\right) \\wedge \\left( \\forall y,\\overline{r\\left( x,y\\right) }\\right) \\right] $\n",
    "\n",
    "\n"
   ]
  },
  {
   "cell_type": "markdown",
   "metadata": {},
   "source": [
    "# Ejercicio 2: Sea $A\\in \\mathbb{R} ^{3\\times 3}$ la matriz cuadradada dada por $$A=\\begin{pmatrix} 3 & -3 & 2 \\\\ -4 & 4 & -4 \\\\ -3 & 3 & 2 \\end{pmatrix}$$"
   ]
  },
  {
   "cell_type": "markdown",
   "metadata": {},
   "source": [
    "## Apartado a) \n",
    "\n",
    "Obténgase cuatro matrices $B\\in \\mathbb{R} ^{3\\times 3}$ tales que $B^{2}=A$\n",
    "\n",
    "Sugerencia: diagonalizar A puede ser de utilidad. Para el proceso de diagonalización, puedes hacer uso de numpy.linalg.eig en Python."
   ]
  },
  {
   "cell_type": "markdown",
   "metadata": {},
   "source": [
    "### Paso 1:\n",
    "\n",
    "Procedemos a obtener la raiz cuadrada de A. Para ello diagonalizamos A para asi generar la siguiente ecuación: $A=PDP^{-1}$\n",
    "\n",
    "Partiendo de esta ecuación podemos realizar la siguiente transformación: $\\sqrt{A}=P\\sqrt{D}P^{-1}$\n",
    "\n",
    "Siendo P la matriz formada por los vectores propios de A como columnas y D la matriz formada por los valores propios de A como diagonal principal.\n",
    "\n",
    "Comenzamos obteniendo los valores y vectores propios de A:"
   ]
  },
  {
   "cell_type": "code",
   "execution_count": 5,
   "metadata": {},
   "outputs": [
    {
     "name": "stdout",
     "output_type": "stream",
     "text": [
      "Valores propios:  [-3.69306809e-16+0.j          5.00000000e+00+3.74165739j\n",
      "  5.00000000e+00-3.74165739j] \n",
      "\n",
      "Vectores propios: \n",
      " [[ 7.07106781e-01+0.j         -2.51164010e-01-0.33563203j\n",
      "  -2.51164010e-01+0.33563203j]\n",
      " [ 7.07106781e-01+0.j          2.15283438e-01+0.53701124j\n",
      "   2.15283438e-01-0.53701124j]\n",
      " [ 1.04676050e-17+0.j          6.99671172e-01+0.j\n",
      "   6.99671172e-01-0.j        ]]\n"
     ]
    }
   ],
   "source": [
    "import numpy as np\n",
    "\n",
    "# Matriz A\n",
    "A = np.mat([    [3, -3, 2],\n",
    "                [-4, 4, -4],\n",
    "                [-3, 3, 3]    ])\n",
    "\n",
    "# Valores propios y vectores propios de A\n",
    "eigVal, P = np.linalg.eig(A)\n",
    "\n",
    "# Uno de los valores propios podemos considerarlo al ser extremadamente pequeño\n",
    "print(\"Valores propios: \", eigVal, \"\\n\\nVectores propios: \\n\", P)"
   ]
  },
  {
   "cell_type": "markdown",
   "metadata": {},
   "source": [
    "### Paso 2:\n",
    "\n",
    "Una vez obtenidos los valores y vectores propios de A, declaramos una nueva Matriz D con los valores propios en la diagonal principal. Podemos modificar estos valores propios para obtener matrices diferentes B que cumplan $B^{2}=A$. Para ello modificamos el signo de los valores propios dado que sus cuadrados daran el mismo resultado (recordamos que uno de ellos es nulo a pesar de obtener un valor ínfimo).\n",
    "\n",
    "Declaramos 4 matrices diferentes con las siguientes modificaciones. Sean los valores propios: 0, a, b:\n",
    "\n",
    "- 0, -a, b\n",
    "- 0, a, -b\n",
    "- 0, -a, -b\n",
    "- 0, a, b"
   ]
  },
  {
   "cell_type": "code",
   "execution_count": 6,
   "metadata": {},
   "outputs": [],
   "source": [
    "# Matriz de valores propios en la diagonal principal\n",
    "D = np.diag(eigVal)\n",
    "\n",
    "# Matrizes con la raiz cuadrada de los valores propios en la diagonal principal y sus modificaciones:\n",
    "Draiz = np.sqrt(D)\n",
    "Draiz[1] = Draiz[1] * -1\n",
    "\n",
    "Draiz1 = np.sqrt(D)\n",
    "Draiz1[2] = Draiz1[2] * -1\n",
    "\n",
    "Draiz2 = np.sqrt(D)\n",
    "Draiz2[1] = Draiz2[1] * -1\n",
    "Draiz2[2] = Draiz2[2] * -1\n",
    "\n",
    "Draiz3 = np.sqrt(D)"
   ]
  },
  {
   "cell_type": "markdown",
   "metadata": {},
   "source": [
    "### Paso 3:\n",
    "\n",
    "Realizamos $\\sqrt{A}=P\\sqrt{D}P^{-1}$ para cada Draiz[i] obtenida. Tenemos en cuenta que $\\sqrt{A}=B$\n",
    "\n",
    "Estas cuatro matgrices obtenidas son: A2, B2, C2 y D2"
   ]
  },
  {
   "cell_type": "code",
   "execution_count": 7,
   "metadata": {},
   "outputs": [
    {
     "name": "stdout",
     "output_type": "stream",
     "text": [
      "[[-3.74062631e-17  2.07449587e-17  2.86951205e-17]\n",
      " [-2.33551252e-17  2.86977018e-18 -4.73406359e-17]\n",
      " [ 9.46251144e-17 -1.10393362e-18 -1.03415058e-16]] \n",
      "\n",
      "[[ 3.74062631e-17 -2.07449587e-17 -2.86951205e-17]\n",
      " [ 2.33551252e-17 -2.86977018e-18  4.73406359e-17]\n",
      " [-9.46251144e-17  1.10393362e-18  1.03415058e-16]] \n",
      "\n",
      "[[-1.13907847  1.13907847 -0.28666884]\n",
      " [ 1.65383324 -1.65383324  0.97852352]\n",
      " [ 0.63259618 -0.63259618 -1.94945014]] \n",
      "\n",
      "[[ 1.13907847 -1.13907847  0.28666884]\n",
      " [-1.65383324  1.65383324 -0.97852352]\n",
      " [-0.63259618  0.63259618  1.94945014]] \n",
      "\n",
      "[[ True  True  True]\n",
      " [ True  True  True]\n",
      " [ True  True  True]]\n",
      "[[ True  True  True]\n",
      " [ True  True  True]\n",
      " [ True  True  True]]\n",
      "[[ True  True  True]\n",
      " [ True  True  True]\n",
      " [ True  True  True]]\n",
      "[[ True  True  True]\n",
      " [ True  True  True]\n",
      " [ True  True  True]]\n"
     ]
    }
   ],
   "source": [
    "# Multiplicación de matrices para obtener las 4 matrices pedidas:\n",
    "\n",
    "A1 = np.matmul(P, Draiz)\n",
    "A2 = np.matmul(A1, np.linalg.inv(P))\n",
    "\n",
    "B1 = np.matmul(P, Draiz1)\n",
    "B2 = np.matmul(B1, np.linalg.inv(P))\n",
    "\n",
    "C1 = np.matmul(P, Draiz2)\n",
    "C2 = np.matmul(C1, np.linalg.inv(P))\n",
    "\n",
    "D1 = np.matmul(P, Draiz3)\n",
    "D2 = np.matmul(D1, np.linalg.inv(P))\n",
    "\n",
    "# Las cuatro matrices son: \n",
    "\n",
    "print(A2.real, \"\\n\")\n",
    "print(B2.real, \"\\n\")\n",
    "print(C2.real, \"\\n\")\n",
    "print(D2.real, \"\\n\")\n",
    "\n",
    "# Comprobamos que sus cuadrados cumples que B^2 = A\n",
    "\n",
    "print(np.round(np.matmul(A2, A2)).real.astype(int) == A)\n",
    "print(np.round(np.matmul(B2, B2)).real.astype(int) == A)\n",
    "print(np.round(np.matmul(C2, C2)).real.astype(int) == A)\n",
    "print(np.round(np.matmul(D2, D2)).real.astype(int) == A)"
   ]
  },
  {
   "cell_type": "markdown",
   "metadata": {},
   "source": [
    "## Apartado b)\n",
    "¿Crees que las matrices se podrían haber obtenido por tanteo, empleando la fuerza bruta, con un coste computacional similar? ¿Qué nos dice esto, en términos de optimización, acerca de utilizar en determinadas ocasiones estrategias matemáticas en la resolución computacional de problemas?"
   ]
  },
  {
   "cell_type": "markdown",
   "metadata": {},
   "source": [
    "Si tenemos una matriz $A\\in \\mathbb{R} ^{3\\times 3}$  cuyos elementos están dados por $a_{ij}$. y otra matriz $B\\in \\mathbb{R} ^{3\\times 3}$ cuyos elementos son $b_{ij}$, necesitaríamos iterar sobre cada elemento $a_{ij}$ haciendo cumplir la siguiente ecuación (suponemos los índices circulares sobre ${3\\times 3}$, de tal forma que si $j = 2$, $j + 1 = 0$, y por tanto $b_{ij+1} = b_{i0}$):\n",
    "\n",
    "$a_{ij} = b_{ij}b_{ij} + b_{i+1j}b_{ij+1} + b_{i+2j}b_{ij+2}$\n",
    "\n",
    "Esto debe cumplirse para un total de 9 elementos.\n",
    "\n",
    "Es obvio que el coste computacional de iteración sobre elementos $b_{ij}$ posibles para encontrar solo un elemento $a_{ij}$ es excesivamente grande. Pensemos que debemos usar un total de 6 bucles anidados pues debemos iterar sobre cada elemento de $a_{ij}$ y encontrar 5 valores: $b_{ij}, b_{i+1j}, b_{ij+1}, b_{i+2j}, b_{ij+2}$. Debemos tener en cuenta también la exactitud de resolución del problema, pues debemos dar valores a los elementos $b_{ij}$. Estos valores pueden ser enteros, redondeados a las décimas, centésimas, etc. Cuantos menos decimales menos costoso será pero mucha más imprecisión tendremos.\n",
    "\n",
    "Por tanto el uso de estrategias matemáticas como la diagonalización de la matriz resulta mucho menos costoso en términos computacionales, así como mucho más preciso.\n",
    "\n",
    "La búsqueda sobre elementos por fuerza bruta nos lleva a un anidamiento de bucles que suponen un costo computacional excesivo, mientras que el cálculo de los valores y vectores propios nos da una solución con muchos menos anidamientos de bucles gracias a su estrategia de resolución."
   ]
  },
  {
   "cell_type": "markdown",
   "metadata": {},
   "source": [
    "# Ejercicio 3: Prográmese el método de gradient descent para funciones de n variables. \n",
    "\n",
    "La función deberá tener como parámetros de entradas:\n",
    "\n",
    "- El gradiente de la función que se desea minimizar ∇f.\n",
    "- Un valor inicial x0 ∈ Rn.\n",
    "- El ratio de aprendizaje γ (que se asume constante para cada iteración).\n",
    "- Un parámetro de tolerancia tol (con el que finalizar el proceso cuando |f’(x)| < tol). \n",
    "- Un número máximo de iteraciones maxit.\n",
    "\n",
    "La salida de la función deberá ser la aproximació del x que cumple f′(x) ≈ 0, correspondiente a la última iteración realizada en el método.\n",
    "\n",
    "A continuación, aplica el método a los casos siguientes:"
   ]
  },
  {
   "cell_type": "markdown",
   "metadata": {},
   "source": [
    "## Apartado a)\n",
    "\n",
    "$ g\\left( x,y\\right) =x^{2}+y^{2}-xy+2y+1 $ con $x_{0}=\\left( 3,4\\right) ,\\gamma =0,01$, tol = 1e-12, maxit=1e5. Contrasta el resultado obtenido numéricamente con el estudio analítico de la función.\n"
   ]
  },
  {
   "cell_type": "markdown",
   "metadata": {},
   "source": [
    "### Estudio analítico"
   ]
  },
  {
   "cell_type": "code",
   "execution_count": null,
   "metadata": {},
   "outputs": [],
   "source": []
  },
  {
   "cell_type": "markdown",
   "metadata": {},
   "source": [
    "### Gradient Descent"
   ]
  },
  {
   "cell_type": "code",
   "execution_count": 61,
   "metadata": {},
   "outputs": [
    {
     "name": "stdout",
     "output_type": "stream",
     "text": [
      "[ 1.00000000e+01 -4.00000000e+00 -2.40000000e+00 -1.44000000e+00\n",
      " -8.64000000e-01 -5.18400000e-01 -3.11040000e-01 -1.86624000e-01\n",
      " -1.11974400e-01 -6.71846400e-02 -4.03107840e-02 -2.41864704e-02\n",
      " -1.45118822e-02 -8.70712934e-03 -5.22427761e-03 -3.13456656e-03\n",
      " -1.88073994e-03 -1.12844396e-03 -6.77066378e-04 -4.06239827e-04\n",
      " -2.43743896e-04 -1.46246338e-04 -8.77478026e-05 -5.26486815e-05\n",
      " -3.15892089e-05 -1.89535254e-05 -1.13721152e-05 -6.82326913e-06\n",
      " -4.09396148e-06 -2.45637689e-06 -1.47382613e-06]\n",
      "[1.00000000e+02 1.20000000e+01 7.20000000e+00 4.32000000e+00\n",
      " 2.59200000e+00 1.55520000e+00 9.33120000e-01 5.59872000e-01\n",
      " 3.35923200e-01 2.01553920e-01 1.20932352e-01 7.25594112e-02\n",
      " 4.35356467e-02 2.61213880e-02 1.56728328e-02 9.40369969e-03\n",
      " 5.64221981e-03 3.38533189e-03 2.03119913e-03 1.21871948e-03\n",
      " 7.31231688e-04 4.38739013e-04 2.63243408e-04 1.57946045e-04\n",
      " 9.47676268e-05 5.68605761e-05 3.41163456e-05 2.04698074e-05\n",
      " 1.22818844e-05 7.36913066e-06 4.42147839e-06]\n"
     ]
    },
    {
     "data": {
      "text/plain": "[<matplotlib.lines.Line2D at 0x7fabc0279cd0>]"
     },
     "execution_count": 61,
     "metadata": {},
     "output_type": "execute_result"
    },
    {
     "data": {
      "image/png": "[encoded data removed]",
      "text/plain": "<Figure size 432x288 with 1 Axes>"
     },
     "metadata": {
      "needs_background": "light"
     },
     "output_type": "display_data"
    }
   ],
   "source": [
    "import numpy as np\n",
    "import pandas as pd\n",
    "import matplotlib.pyplot as plt\n",
    "\n",
    "def gradient_descent(function, gradient, start, learn_rate, n_iter=50, tolerance=1e-06):\n",
    "    vi = np.array([])\n",
    "    vj = np.array([])\n",
    "    vector = start\n",
    "    vi = np.append(vi, [vector])\n",
    "    vj = np.append(vj, function(vector))\n",
    "    for _ in range(n_iter):\n",
    "        diff = -learn_rate * gradient(vector)\n",
    "        if np.all(np.abs(diff) <= tolerance):\n",
    "            break\n",
    "        vector += diff\n",
    "        vi = np.append(vi, [diff])\n",
    "        vj = np.append(vj, [gradient(vector)])\n",
    "    return vector, vi, vj\n",
    "\n",
    "vec, i, j = gradient_descent(function=lambda v: v**2, gradient=lambda v: 2*v, start=10.0, learn_rate=0.2)\n",
    "print(i)\n",
    "print(j)\n",
    "\n",
    "# 100 linearly spaced numbers\n",
    "x = np.linspace(-10,10,100)\n",
    "\n",
    "# the function, which is y = x^2 here\n",
    "y = x**2\n",
    "\n",
    "# setting the axes at the centre\n",
    "\n",
    "plt.plot(i, j, 'b.')\n",
    "# plot the function\n",
    "plt.plot(x,y, 'r')\n",
    "\n"
   ]
  },
  {
   "cell_type": "markdown",
   "metadata": {},
   "source": [
    "## Aparatdo b)\n",
    "\n",
    "$ f\\left( x\\right) =3x^{4}+4x^{3}-12x^{2}+7 $\n",
    "\n",
    "- Aplica el método sobre f(x) con $x_{0}$ = 3 γ = 0.001, tol=1e-12, maxit=1e5.\n",
    "- Aplica de nuevo el m ́etodo sobre f(x) con $x_{0}$ = 3, γ = 0.01, tol=1e-12, maxit=1e5.\n",
    "- Contrasta e interpreta los dos resultados obtenidos en los apartados anteriores y compáralos con los m ́ınimos locales obtenidos anal ́ıticamente. ¿Qué influencia puede llegar a tener la elección del ratio de aprendizaje γ?\n",
    "- Aplica nuevamente el método sobre f(x) con $x_{0}$ = 3, γ = 0.1, tol=1e-12, maxit=1e5. Interpreta el resultado.\n",
    "- Finalmente, aplica el método sobre f(x) con $x_{0}$ = 0, γ = 0.001, tol=1e-12, maxit=1e5. Interpreta el resultado y compáralo con el estudio analítico de f. ¿Es correcto el resultado? ¿Por qué? ¿A qué se debe el fenómeno?"
   ]
  },
  {
   "cell_type": "code",
   "execution_count": null,
   "metadata": {},
   "outputs": [],
   "source": []
  }
 ],
 "metadata": {
  "kernelspec": {
   "display_name": "Python 3.7.9 64-bit ('tf': conda)",
   "name": "python379jvsc74a57bd00e3b36984b19af1918e567b6ef4427128e64f599ce0f81735987234538bd33aa"
  },
  "language_info": {
   "codemirror_mode": {
    "name": "ipython",
    "version": 3
   },
   "file_extension": ".py",
   "mimetype": "text/x-python",
   "name": "python",
   "nbconvert_exporter": "python",
   "pygments_lexer": "ipython3",
   "version": "3.7.9"
  },
  "orig_nbformat": 2
 },
 "nbformat": 4,
 "nbformat_minor": 2
}