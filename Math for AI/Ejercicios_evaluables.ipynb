{
 "cells": [
  {
   "cell_type": "markdown",
   "metadata": {},
   "source": [
    "# Ejercicio 1: Demostrar o refutar equivalencia equivalencia"
   ]
  },
  {
   "cell_type": "markdown",
   "metadata": {},
   "source": [
    "## Apartado a) \n",
    "\n",
    "Predicado 1: $ \\overline{\\exists x:\\overline{\\overline{p\\left( x\\right) }\\vee \\overline{q\\left( x\\right) }}} $\n",
    "\n",
    "Predicado 2: $ \\left[ \\forall x,\\overline{p\\left( x\\right) }\\right] \\vee\\left[ \\forall x,\\overline{q\\left( x\\right) }\\right] $\n",
    "\n",
    "Resolvemos Predicado 1:"
   ]
  },
  {
   "cell_type": "markdown",
   "metadata": {},
   "source": [
    "1: $ \\overline{\\exists x:\\overline{\\overline{p\\left( x\\right) }\\vee \\overline{q\\left( x\\right) }}} $ -> (Aplicamos leyes de Morgan) \n",
    "\n",
    "2: $ \\overline{\\exists x:\\overline{\\overline{p\\left( x\\right) }}\\wedge \\overline{\\overline{q\\left( x\\right) }}} $ -> (Doble negación)\n",
    "\n",
    "3: $ \\overline{\\exists x:p\\left( x\\right) \\wedge q\\left( x\\right) } $ -> (Predicado: $ \\left[ \\overline{\\exists x:p\\left( x\\right) }\\right] \\leftrightarrow \\left[ \\forall x:\\overline{p\\left( x\\right) }\\right] $)\n",
    "\n",
    "4: $ \\forall x:\\overline{p\\left( x\\right) \\wedge q\\left( x\\right) } $ -> (Aplicamos leyes de Morgan) \n",
    "\n",
    "5: $ \\left[ \\forall x:\\overline{p\\left( x\\right) }\\vee \\overline{q\\left( x\\right) }\\right] $\n",
    "\n"
   ]
  },
  {
   "cell_type": "markdown",
   "metadata": {},
   "source": [
    "a): Resulta una implicación ya que:\n",
    "\n",
    "$ \\left[ \\forall x,\\overline{p\\left( x\\right) }\\right] \\vee\\left[ \\forall x,\\overline{q\\left( x\\right) }\\right] \\models \\left[ \\forall x:\\overline{p\\left( x\\right) }\\vee \\overline{q\\left( x\\right) }\\right] $"
   ]
  },
  {
   "cell_type": "markdown",
   "metadata": {},
   "source": [
    "## Apartado b) \n",
    "\n",
    "Predicado 1: $ \\overline{\\forall x, \\exists y:\\left[ \\left( p\\left( x,y\\right) \\wedge q\\left( x,y\\right) \\right) \\rightarrow r\\left( x,y\\right) \\right] } $\n",
    "\n",
    "Predicado 2: $ \\exists x:\\left[ \\left( \\forall y,p\\left( x,y\\right) \\right) \\wedge \\left( \\forall y,q\\left( x,y\\right) \\right) \\wedge \\left( \\forall y,\\overline{r\\left( x,y\\right) }\\right) \\right] $\n",
    "\n",
    "Resolvemos Predicado 1:"
   ]
  },
  {
   "cell_type": "markdown",
   "metadata": {},
   "source": [
    "1: $ \\overline{\\forall x, \\exists y:\\left[ \\left( p\\left( x,y\\right) \\wedge q\\left( x,y\\right) \\right) \\rightarrow r\\left( x,y\\right) \\right] } $ -> (Resolvemos la implicación)\n",
    "\n",
    "2: $ \\overline{\\forall x,\\exists y:\\left[ \\left( \\overline{p\\left( x,y\\right) \\wedge q\\left( x,y\\right) }\\right) \\vee r\\left( x,y\\right) \\right] } $ -> (Aplicamos leyes de Morgan)\n",
    "\n",
    "3: $ \\overline{\\forall x,\\exists y:\\left[ ( \\overline{p\\left( x,y\\right) }\\vee\\overline{q\\left( x,y\\right) }\\vee r\\left( x,y\\right) \\right]} $ -> (Predicado: $\\overline{\\left[ \\forall x,p\\left( x\\right) \\right] }\\leftrightarrow \\exists x:\\overline{p\\left( x\\right) }$)\n",
    "\n",
    "4: $ \\exists x:\\overline{\\exists y:\\left[ ( \\overline{p\\left( x,y\\right) }\\vee\\overline{q\\left( x,y\\right) }\\vee r\\left( x,y\\right) \\right]} $ -> (Predicado: $\\overline{\\exists x:p\\left( x\\right) }\\leftrightarrow \\forall x,\\overline{p\\left( x\\right) }$)\n",
    "\n",
    "5: $ \\exists x:\\forall y,\\overline{\\left[ ( \\overline{p\\left( x,y\\right) }\\vee\\overline{q\\left( x,y\\right) }\\vee r\\left( x,y\\right) \\right]} $ -> (Aplicamos leyes de Morgan)\n",
    "\n",
    "6: $ \\exists x:\\forall y,\\left[ ( \\overline{\\overline{p\\left( x,y\\right) }} \\wedge \\overline{\\overline{q\\left( x,y\\right) }} \\wedge \\overline{r\\left( x,y\\right)} \\right] $ -> (Doble negación)\n",
    "\n",
    "7: $ \\exists x:\\forall y,\\left[ ( p\\left( x,y\\right) \\vee q\\left( x,y\\right) \\vee \\overline{r\\left( x,y\\right)} \\right] $\n",
    "\n",
    "\n",
    "\n",
    "\n"
   ]
  },
  {
   "cell_type": "markdown",
   "metadata": {},
   "source": [
    "b): Resulta una equivalencia ya que : $\\forall x,\\left[ p\\left( x\\right) \\wedge q\\left( x\\right) \\right] \\leftrightarrow \\left[ \\forall x,p\\left( x\\right) \\right] \\wedge \\left[ \\forall x,q\\left( x\\right) \\right] $). \n",
    "\n",
    "Entonces de 7) resolvemos:\n",
    "\n",
    "$ \\exists x:\\forall y,\\left[ ( p\\left( x,y\\right) \\vee q\\left( x,y\\right) \\vee \\overline{r\\left( x,y\\right)} \\right] \\leftrightarrow \\exists x:\\left[ \\left( \\forall y,p\\left( x,y\\right) \\right) \\wedge \\left( \\forall y,q\\left( x,y\\right) \\right) \\wedge \\left( \\forall y,\\overline{r\\left( x,y\\right) }\\right) \\right] $\n",
    "\n",
    "\n"
   ]
  },
  {
   "cell_type": "markdown",
   "metadata": {},
   "source": [
    "# Ejercicio 2:"
   ]
  },
  {
   "cell_type": "markdown",
   "metadata": {},
   "source": []
  }
 ],
 "metadata": {
  "kernelspec": {
   "display_name": "Python 3.8.7 64-bit",
   "name": "python387jvsc74a57bd04cd7ab41f5fca4b9b44701077e38c5ffd31fe66a6cab21e0214b68d958d0e462"
  },
  "language_info": {
   "name": "python",
   "version": ""
  },
  "metadata": {
   "interpreter": {
    "hash": "4cd7ab41f5fca4b9b44701077e38c5ffd31fe66a6cab21e0214b68d958d0e462"
   }
  },
  "orig_nbformat": 2
 },
 "nbformat": 4,
 "nbformat_minor": 2
}