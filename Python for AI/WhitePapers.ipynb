{
 "cells": [
  {
   "cell_type": "markdown",
   "metadata": {},
   "source": [
    "## Artículo 01\n",
    "\n",
    "### The NumPy array: a structure for efficient numerical computation\n",
    "\n",
    "Van Der Walt, S., Colbert, S. C., &amp; Varoquaux, G. (2011). The NumPy array: A\n",
    "structure for efficient numerical computation. Computing in Science and\n",
    "Engineering, 13(2), 22-30. https://doi.org/10.1109/MCSE.2011.37\n",
    "\n",
    "https://www.researchgate.net/publication/224223550_The_NumPy_Array_A_Structure_for_Efficient_Numerical_Computation\n",
    "\n",
    "En este artículo se presenta la estructura *ndarray* de NumPy, y se hace un estudio sobre su uso y cómo mejora el rendimiento de ciertas operaciones matemáticas para la computación numérica.\n",
    "\n",
    "Se hace una breve introducción al *Broadcasting* como técnica que usa NumPy para realizar operaciones artiméticas sobre dos o más arrays con distintas dimensiones. \n",
    "\n",
    "- Actividad 01.01 - Ampliar dicha explicación, aportando posibles restricciones o limitaciones a dicho sistema y ejemplos propios de los casos de uso.\n",
    "\n",
    "También se introduce el trabajo con ficheros usando memoria mapeada.\n",
    "\n",
    "- Actividad 01.02 - Verificar la eficacia y mejora posible de rendimiento del uso de dicha técnica sobre ndarrays de tamaños grandes."
   ]
  },
  {
   "cell_type": "markdown",
   "metadata": {},
   "source": [
    "## <center> Actividad 01.01</center>\n",
    "--- "
   ]
  },
  {
   "cell_type": "markdown",
   "metadata": {},
   "source": [
    "El uso del *Broadcasting* en Numpy y ayuda a realizar operaciones aritméticas entre matrices de distintas dimensiones. Esto resulta muy útil cuando se quiere **realizar cualquier operación sobre un escalar o sobre una matriz cuya dimensión sea un subconjunto válido de la anterior**. ¿Qué entendemos por un subconjunto válido?\n",
    "\n",
    "Numpy presenta la regla del *Broadcasting*. Esta regla limita el uso de esta operación entre *ndarrays* de la siguiente manera:\n",
    "\n",
    "- La operación se realiza con un escalar (dimensión 1)\n",
    "- La operación se realiza entre dos matrizes cuyas dimensiones (calculadas de atrás hacia delante) son iguales:\n",
    "\n",
    "Para exponer de manera más clara esta segunda regla vamos a imaginar dos matrices A y B. \n",
    "\n",
    "    Dimensión de A = (Ai, Aj, Ak)\n",
    "    Dimensión de B = (Bi, Bj)\n",
    "\n",
    "Para que *Numpy* pueda aplicar *Broadcasting* a una operación entre estas dos matrices se debe cumplir lo que: \n",
    "    \n",
    "    Ak = Bj\n",
    "    Aj = Bi\n",
    "\n",
    "Dentro de esta segunda regla estarían incluidas las operaciones entre matrices cuya ultima dimensión sea igual a a la dimensión del vector con el que operan. Sea una matriz A y un vector v\n",
    "\n",
    "    Dimensión de A = (Ai, Aj, Ak)\n",
    "    Dimensión de v = vi\n",
    "\n",
    "Se debe cumplir que:\n",
    "\n",
    "    Ak = vi\n",
    "\n",
    "Pasemos a presentar ejemplos:\n"
   ]
  },
  {
   "cell_type": "markdown",
   "metadata": {},
   "source": [
    "### Caso válido 1: operación con un escalar\n",
    "\n",
    "![Matriz por escalar](https://2.bp.blogspot.com/-Baqf02hjMUY/VvV0BNH3-mI/AAAAAAAABQo/y_VLwo57700CWgsiFK3_USKU0x9gyx2Ow/s280/multiplicar-una-matriz-por-un-escalar-en%2Bjava.jpg)"
   ]
  },
  {
   "cell_type": "code",
   "execution_count": null,
   "metadata": {},
   "outputs": [],
   "source": [
    "import numpy as np\n",
    "\n",
    "A = np.arange(9).reshape(3, 3)          # Matriz de dimensiones 3x3\n",
    "print('Matriz A =\\n\\n', A)\n",
    "print('\\nDimensiones de A:', A.shape)\n",
    "\n",
    "b = 5                                   # Escalar\n",
    "print('\\nEscalar b =', b)\n",
    "\n",
    "\n",
    "print('\\nBroadcast válido, operacion de Matriz con escalar\\n\\n', A, '*', b, '=\\n\\n', A*b)"
   ]
  },
  {
   "cell_type": "markdown",
   "metadata": {},
   "source": [
    "Cualquier tipo de dimensión sería valida para operar junto a un escalar:"
   ]
  },
  {
   "cell_type": "code",
   "execution_count": null,
   "metadata": {},
   "outputs": [],
   "source": [
    "A = np.arange(24).reshape(3, 2, 4)      # Matriz de dimensiones 3x2x4\n",
    "print('Matriz A =\\n\\n', A)\n",
    "print('\\nDimensiones de A:', A.shape)\n",
    "\n",
    "b = 5                                   # Escalar\n",
    "print('\\nEscalar b =', b)\n",
    "\n",
    "\n",
    "print('\\nBroadcast válido, operacion de Matriz con escalar\\n\\n', A, '*', b, '=\\n\\n', A*b)"
   ]
  },
  {
   "cell_type": "markdown",
   "metadata": {},
   "source": [
    "### Caso válido 2: operación con matriz de dimensiones válidas\n",
    "\n",
    "![Matriz por matriz](https://numpy.org/devdocs/_images/theory.broadcast_2.gif)"
   ]
  },
  {
   "cell_type": "markdown",
   "metadata": {},
   "source": [
    "**Matriz y vector**"
   ]
  },
  {
   "cell_type": "code",
   "execution_count": null,
   "metadata": {},
   "outputs": [],
   "source": [
    "### Matriz y vector ###\n",
    "\n",
    "A = np.arange(10).reshape(2, 5)         # Matriz de dimensiones 2x5\n",
    "print('Matriz A =\\n\\n', A)\n",
    "print('\\nDimensiones de A:', A.shape)\n",
    "\n",
    "v = np.arange(5)                        # Vector de dimension (5)\n",
    "print('\\nVector v =', v)\n",
    "print('\\nDimensiones de v:', v.shape)\n",
    "\n",
    "\n",
    "print('\\nBroadcast válido, operacion de Matriz con vector\\n\\n', A, '*', v, '=\\n\\n', A*v) # Operación válida"
   ]
  },
  {
   "cell_type": "markdown",
   "metadata": {},
   "source": [
    "**Matriz y matriz de dimensiones válidas**"
   ]
  },
  {
   "cell_type": "code",
   "execution_count": null,
   "metadata": {},
   "outputs": [],
   "source": [
    "### Matriz y matriz de dimensiones válidas ###\n",
    "\n",
    "A = np.arange(30).reshape(2, 5, 3)      # Matriz de dimensiones 2x5x3\n",
    "print('Matriz A =\\n\\n', A)\n",
    "print('\\nDimensiones de A:', A.shape)\n",
    "\n",
    "B = np.arange(15).reshape(5, 3)         # Matriz de dimensiones 5x3\n",
    "print('\\nMatriz B =', B)\n",
    "print('\\nDimensiones de B:', B.shape)\n",
    "\n",
    "# Vamos a definir una función que toma dos matrizes y comprueba que sus dimensiones últimas son iguales:\n",
    "# Esta función basicamente compara las dimensiones de las dos matrices de atras hacia delante usando slicing. \n",
    "# Usa el numero de dimensiones (1, 2 o 3) de la menor matriz como límite\n",
    "\n",
    "def broadcastable_matrixes(A, B):\n",
    "    if (len(A.shape) > len(B.shape)):\n",
    "        return B.shape[-len(B.shape):] == A.shape[-len(B.shape):]\n",
    "    else:\n",
    "        return B.shape[-len(A.shape):] == A.shape[-len(A.shape):]\n",
    "\n",
    "\n",
    "# Comprobamos que las dimensiones últimas de las dos matrices son iguales\n",
    "\n",
    "print('\\nLas matrices son broadcastable?:')\n",
    "print(broadcastable_matrixes(A, B))\n",
    "\n",
    "\n",
    "print('\\nBroadcast válido, operacion de Matriz con Matriz subconjunto válido\\n\\n', A, '*\\n\\n', B, '=\\n\\n', A*B) # Operación válida"
   ]
  },
  {
   "cell_type": "markdown",
   "metadata": {},
   "source": [
    "### Caso no válido 1: Matriz y vector de dimensiones NO válidas\n",
    "\n",
    "Se expone a continuación un ejemplo donde una matriz y un vector no son Broadcastable. No tienen dimensiones válidas\n",
    "\n",
    "![Matriz por matriz](https://numpy.org/devdocs/_images/theory.broadcast_3.gif)"
   ]
  },
  {
   "cell_type": "code",
   "execution_count": null,
   "metadata": {},
   "outputs": [],
   "source": [
    "### Matriz y vector no válido ###\n",
    "\n",
    "A = np.arange(10).reshape(2, 5)         # Matriz de dimensiones 2x5\n",
    "print('Matriz A =\\n\\n', A)\n",
    "print('\\nDimensiones de A:', A.shape)\n",
    "\n",
    "v = np.arange(3)                        # Vector de dimension (3)\n",
    "print('\\nVector v =', v)\n",
    "print('\\nDimensiones de v:', v.shape)\n",
    "\n",
    "# Operación no válida: ValueError: operands could not be broadcast together with shapes (2,5) (3,)\n",
    "print('\\nBroadcast válido, operacion de Matriz con vector\\n\\n', A, '*', v, '=\\n\\n', A*v) "
   ]
  },
  {
   "cell_type": "markdown",
   "metadata": {},
   "source": [
    "### Caso no válido 2: Matriz y matriz de dimensiones NO válidas\n",
    "\n",
    "Se expone a continuación ejemplos donde una matriz y otra matriz no son Broadcastable. No tienen dimensiones válidas"
   ]
  },
  {
   "cell_type": "code",
   "execution_count": null,
   "metadata": {},
   "outputs": [],
   "source": [
    "### Matriz y matriz de dimensiones no válidas ###\n",
    "\n",
    "A = np.arange(30).reshape(2, 5, 3)      # Matriz de dimensiones 2x5x3\n",
    "print('Matriz A =\\n\\n', A)\n",
    "print('\\nDimensiones de A:', A.shape)\n",
    "\n",
    "B = np.arange(15).reshape(3, 5)         # Matriz de dimensiones 3x5\n",
    "print('\\nMatriz B =', B)\n",
    "print('\\nDimensiones de B:', B.shape)\n",
    "\n",
    "# Comprobamos que las dimensiones últimas de las dos matrices son iguales\n",
    "\n",
    "print('\\nLas matrices son broadcastable?:')\n",
    "print(broadcastable_matrixes(A, B))\n",
    "\n",
    " # Operación no válida: ValueError: operands could not be broadcast together with shapes (2,5,3) (3,5)\n",
    "print('\\nBroadcast válido, operacion de Matriz con Matriz subconjunto válido\\n\\n', A, '*\\n\\n', B, '=\\n\\n', A*B) # Operación válida"
   ]
  },
  {
   "cell_type": "markdown",
   "metadata": {},
   "source": [
    "## <center> Actividad 01.02</center>\n",
    "--- "
   ]
  },
  {
   "cell_type": "markdown",
   "metadata": {},
   "source": []
  },
  {
   "cell_type": "code",
   "execution_count": null,
   "metadata": {},
   "outputs": [],
   "source": []
  },
  {
   "cell_type": "markdown",
   "metadata": {},
   "source": [
    "## Artículo 02\n",
    "\n",
    "### Data Structures for Statistical Computing in Python\n",
    "\n",
    "McKinney, W. (2010). Data Structures for Statistical Computing in Python.\n",
    "Proceedings of the 9th Python in Science Conference, December, 56-61.\n",
    "https://doi.org/10.25080/majora-92bf1922-00a\n",
    "\n",
    "https://www.researchgate.net/publication/265001241_Data_Structures_for_Statistical_Computing_in_Python\n",
    "\n",
    "En este segundo artículo el creador de *pandas* introduce dicha librería en comparación con las estructuras nativas de R.\n",
    "\n",
    "- Actividad 02.01 - Desarrollar una opinión razonada del estado actual de las herramientas de análisis de datos estadísticos en contraposición a como se muestran en el artículo, R vs Python vs SQL vs Others..."
   ]
  },
  {
   "cell_type": "markdown",
   "metadata": {},
   "source": [
    "## <center> Actividad 02.01</center>\n",
    "--- "
   ]
  },
  {
   "cell_type": "markdown",
   "metadata": {},
   "source": []
  },
  {
   "cell_type": "markdown",
   "metadata": {},
   "source": [
    "## Bibliografía\n",
    "[Numpy, Broadcasting](https://numpy.org/devdocs/user/theory.broadcasting.html)"
   ]
  }
 ],
 "metadata": {
  "kernelspec": {
   "display_name": "Python 3.8.7 64-bit",
   "name": "python387jvsc74a57bd04cd7ab41f5fca4b9b44701077e38c5ffd31fe66a6cab21e0214b68d958d0e462"
  },
  "language_info": {
   "codemirror_mode": {
    "name": "ipython",
    "version": 3
   },
   "file_extension": ".py",
   "mimetype": "text/x-python",
   "name": "python",
   "nbconvert_exporter": "python",
   "pygments_lexer": "ipython3",
   "version": "3.8.7"
  },
  "metadata": {
   "interpreter": {
    "hash": "4cd7ab41f5fca4b9b44701077e38c5ffd31fe66a6cab21e0214b68d958d0e462"
   }
  }
 },
 "nbformat": 4,
 "nbformat_minor": 2
}