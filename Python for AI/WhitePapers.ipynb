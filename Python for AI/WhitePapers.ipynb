{
 "cells": [
  {
   "cell_type": "markdown",
   "metadata": {},
   "source": [
    "## Artículo 01\n",
    "\n",
    "### The NumPy array: a structure for efficient numerical computation\n",
    "\n",
    "Van Der Walt, S., Colbert, S. C., &amp; Varoquaux, G. (2011). The NumPy array: A\n",
    "structure for efficient numerical computation. Computing in Science and\n",
    "Engineering, 13(2), 22-30. https://doi.org/10.1109/MCSE.2011.37\n",
    "\n",
    "https://www.researchgate.net/publication/224223550_The_NumPy_Array_A_Structure_for_Efficient_Numerical_Computation\n",
    "\n",
    "En este artículo se presenta la estructura *ndarray* de NumPy, y se hace un estudio sobre su uso y cómo mejora el rendimiento de ciertas operaciones matemáticas para la computación numérica.\n",
    "\n",
    "Se hace una breve introducción al *Broadcasting* como técnica que usa NumPy para realizar operaciones artiméticas sobre dos o más arrays con distintas dimensiones. \n",
    "\n",
    "- Actividad 01.01 - Ampliar dicha explicación, aportando posibles restricciones o limitaciones a dicho sistema y ejemplos propios de los casos de uso.\n",
    "\n",
    "También se introduce el trabajo con ficheros usando memoria mapeada.\n",
    "\n",
    "- Actividad 01.02 - Verificar la eficacia y mejora posible de rendimiento del uso de dicha técnica sobre ndarrays de tamaños grandes."
   ]
  },
  {
   "cell_type": "markdown",
   "metadata": {},
   "source": [
    "## <center> Actividad 01.01</center>\n",
    "--- "
   ]
  },
  {
   "cell_type": "markdown",
   "metadata": {},
   "source": [
    "El uso del *Broadcasting* en Numpy y ayuda a realizar operaciones aritméticas entre matrices de distintas dimensiones. Esto resulta muy útil cuando se quiere **realizar cualquier operación sobre un escalar o sobre una matriz cuya dimensión sea un subconjunto válido de la anterior**. ¿Qué entendemos por un subconjunto válido?\n",
    "\n",
    "Numpy presenta la regla del *Broadcasting*. Esta regla limita el uso de esta operación entre *ndarrays* de la siguiente manera:\n",
    "\n",
    "- La operación se realiza con un escalar (dimensión 1)\n",
    "- La operación se realiza entre dos matrizes cuyas dimensiones (calculadas de atrás hacia delante) son iguales:\n",
    "\n",
    "Para exponer de manera más clara esta segunda regla vamos a imaginar dos matrices A y B. \n",
    "\n",
    "    Dimensión de A = (Ai, Aj, Ak)\n",
    "    Dimensión de B = (Bi, Bj)\n",
    "\n",
    "Para que *Numpy* pueda aplicar *Broadcasting* a una operación entre estas dos matrices se debe cumplir lo que: \n",
    "    \n",
    "    Ak = Bj\n",
    "    Aj = Bi\n",
    "\n",
    "Dentro de esta segunda regla estarían incluidas las operaciones entre matrices cuya ultima dimensión sea igual a a la dimensión del vector con el que operan. Sea una matriz A y un vector v\n",
    "\n",
    "    Dimensión de A = (Ai, Aj, Ak)\n",
    "    Dimensión de v = vi\n",
    "\n",
    "Se debe cumplir que:\n",
    "\n",
    "    Ak = vi\n",
    "\n",
    "Pasemos a presentar ejemplos:\n"
   ]
  },
  {
   "cell_type": "markdown",
   "metadata": {},
   "source": [
    "### Caso válido 1: operación con un escalar\n",
    "\n",
    "![Matriz por escalar](https://2.bp.blogspot.com/-Baqf02hjMUY/VvV0BNH3-mI/AAAAAAAABQo/y_VLwo57700CWgsiFK3_USKU0x9gyx2Ow/s280/multiplicar-una-matriz-por-un-escalar-en%2Bjava.jpg)"
   ]
  },
  {
   "cell_type": "code",
   "execution_count": null,
   "metadata": {},
   "outputs": [],
   "source": [
    "import numpy as np\n",
    "\n",
    "A = np.arange(9).reshape(3, 3)          # Matriz de dimensiones 3x3\n",
    "print('Matriz A =\\n\\n', A)\n",
    "print('\\nDimensiones de A:', A.shape)\n",
    "\n",
    "b = 5                                   # Escalar\n",
    "print('\\nEscalar b =', b)\n",
    "\n",
    "\n",
    "print('\\nBroadcast válido, operacion de Matriz con escalar\\n\\n', A, '*', b, '=\\n\\n', A*b)"
   ]
  },
  {
   "cell_type": "markdown",
   "metadata": {},
   "source": [
    "Cualquier tipo de dimensión sería valida para operar junto a un escalar:"
   ]
  },
  {
   "cell_type": "code",
   "execution_count": null,
   "metadata": {},
   "outputs": [],
   "source": [
    "A = np.arange(24).reshape(3, 2, 4)      # Matriz de dimensiones 3x2x4\n",
    "print('Matriz A =\\n\\n', A)\n",
    "print('\\nDimensiones de A:', A.shape)\n",
    "\n",
    "b = 5                                   # Escalar\n",
    "print('\\nEscalar b =', b)\n",
    "\n",
    "\n",
    "print('\\nBroadcast válido, operacion de Matriz con escalar\\n\\n', A, '*', b, '=\\n\\n', A*b)"
   ]
  },
  {
   "cell_type": "markdown",
   "metadata": {},
   "source": [
    "### Caso válido 2: operación con matriz de dimensiones válidas\n",
    "\n",
    "![Matriz por matriz](https://numpy.org/devdocs/_images/theory.broadcast_2.gif)"
   ]
  },
  {
   "cell_type": "markdown",
   "metadata": {},
   "source": [
    "**Matriz y vector**"
   ]
  },
  {
   "cell_type": "code",
   "execution_count": null,
   "metadata": {},
   "outputs": [],
   "source": [
    "### Matriz y vector ###\n",
    "\n",
    "A = np.arange(10).reshape(2, 5)         # Matriz de dimensiones 2x5\n",
    "print('Matriz A =\\n\\n', A)\n",
    "print('\\nDimensiones de A:', A.shape)\n",
    "\n",
    "v = np.arange(5)                        # Vector de dimension (5)\n",
    "print('\\nVector v =', v)\n",
    "print('\\nDimensiones de v:', v.shape)\n",
    "\n",
    "\n",
    "print('\\nBroadcast válido, operacion de Matriz con vector\\n\\n', A, '*', v, '=\\n\\n', A*v) # Operación válida"
   ]
  },
  {
   "cell_type": "markdown",
   "metadata": {},
   "source": [
    "**Matriz y matriz de dimensiones válidas**"
   ]
  },
  {
   "cell_type": "code",
   "execution_count": null,
   "metadata": {},
   "outputs": [],
   "source": [
    "### Matriz y matriz de dimensiones válidas ###\n",
    "\n",
    "A = np.arange(30).reshape(2, 5, 3)      # Matriz de dimensiones 2x5x3\n",
    "print('Matriz A =\\n\\n', A)\n",
    "print('\\nDimensiones de A:', A.shape)\n",
    "\n",
    "B = np.arange(15).reshape(5, 3)         # Matriz de dimensiones 5x3\n",
    "print('\\nMatriz B =', B)\n",
    "print('\\nDimensiones de B:', B.shape)\n",
    "\n",
    "# Vamos a definir una función que toma dos matrizes y comprueba que sus dimensiones últimas son iguales:\n",
    "# Esta función basicamente compara las dimensiones de las dos matrices de atras hacia delante usando slicing. \n",
    "# Usa el numero de dimensiones (1, 2 o 3) de la menor matriz como límite\n",
    "\n",
    "def broadcastable_matrixes(A, B):\n",
    "    if (len(A.shape) > len(B.shape)):\n",
    "        return B.shape[-len(B.shape):] == A.shape[-len(B.shape):]\n",
    "    else:\n",
    "        return B.shape[-len(A.shape):] == A.shape[-len(A.shape):]\n",
    "\n",
    "\n",
    "# Comprobamos que las dimensiones últimas de las dos matrices son iguales\n",
    "\n",
    "print('\\nLas matrices son broadcastable?:')\n",
    "print(broadcastable_matrixes(A, B))\n",
    "\n",
    "\n",
    "print('\\nBroadcast válido, operacion de Matriz con Matriz subconjunto válido\\n\\n', A, '*\\n\\n', B, '=\\n\\n', A*B) # Operación válida"
   ]
  },
  {
   "cell_type": "markdown",
   "metadata": {},
   "source": [
    "### Caso no válido 1: Matriz y vector de dimensiones NO válidas\n",
    "\n",
    "Se expone a continuación un ejemplo donde una matriz y un vector no son Broadcastable. No tienen dimensiones válidas\n",
    "\n",
    "![Matriz por matriz](https://numpy.org/devdocs/_images/theory.broadcast_3.gif)"
   ]
  },
  {
   "cell_type": "code",
   "execution_count": null,
   "metadata": {},
   "outputs": [],
   "source": [
    "### Matriz y vector no válido ###\n",
    "\n",
    "A = np.arange(10).reshape(2, 5)         # Matriz de dimensiones 2x5\n",
    "print('Matriz A =\\n\\n', A)\n",
    "print('\\nDimensiones de A:', A.shape)\n",
    "\n",
    "v = np.arange(3)                        # Vector de dimension (3)\n",
    "print('\\nVector v =', v)\n",
    "print('\\nDimensiones de v:', v.shape)\n",
    "\n",
    "# Operación no válida: ValueError: operands could not be broadcast together with shapes (2,5) (3,)\n",
    "print('\\nBroadcast válido, operacion de Matriz con vector\\n\\n', A, '*', v, '=\\n\\n', A*v) "
   ]
  },
  {
   "cell_type": "markdown",
   "metadata": {},
   "source": [
    "### Caso no válido 2: Matriz y matriz de dimensiones NO válidas\n",
    "\n",
    "Se expone a continuación ejemplos donde una matriz y otra matriz no son Broadcastable. No tienen dimensiones válidas"
   ]
  },
  {
   "cell_type": "code",
   "execution_count": null,
   "metadata": {},
   "outputs": [],
   "source": [
    "### Matriz y matriz de dimensiones no válidas ###\n",
    "\n",
    "A = np.arange(30).reshape(2, 5, 3)      # Matriz de dimensiones 2x5x3\n",
    "print('Matriz A =\\n\\n', A)\n",
    "print('\\nDimensiones de A:', A.shape)\n",
    "\n",
    "B = np.arange(15).reshape(3, 5)         # Matriz de dimensiones 3x5\n",
    "print('\\nMatriz B =', B)\n",
    "print('\\nDimensiones de B:', B.shape)\n",
    "\n",
    "# Comprobamos que las dimensiones últimas de las dos matrices son iguales\n",
    "\n",
    "print('\\nLas matrices son broadcastable?:')\n",
    "print(broadcastable_matrixes(A, B))\n",
    "\n",
    " # Operación no válida: ValueError: operands could not be broadcast together with shapes (2,5,3) (3,5)\n",
    "print('\\nBroadcast válido, operacion de Matriz con Matriz subconjunto válido\\n\\n', A, '*\\n\\n', B, '=\\n\\n', A*B) # Operación válida"
   ]
  },
  {
   "cell_type": "markdown",
   "metadata": {},
   "source": [
    "## <center> Actividad 01.02</center>\n",
    "--- "
   ]
  },
  {
   "cell_type": "markdown",
   "metadata": {},
   "source": [
    "### Eficacia sobre ndarrays de tamaños grandes\n",
    "\n",
    "Podemos comprobar en este sencillo código como unas lecturas sobre *ndarrays* en memoria mapeada mejora considerablemente.\n",
    "\n",
    "Se consideran dos arrays que contienen el tamaño del *ndarray* que será visualizado\n",
    "\n",
    "zarr da un mejor resultado"
   ]
  },
  {
   "cell_type": "code",
   "execution_count": 9,
   "metadata": {},
   "outputs": [
    {
     "name": "stdout",
     "output_type": "stream",
     "text": [
      "1.5806198120117188\n",
      "iter: 0 Time (ms): 1.580620\n",
      "0.5377769470214844\n",
      "iter: 1 Time (ms): 0.537777\n",
      "3.9073944091796875\n",
      "iter: 2 Time (ms): 3.907394\n",
      "28.345823287963867\n",
      "iter: 3 Time (ms): 28.345823\n",
      "169.40202713012695\n",
      "iter: 4 Time (ms): 169.402027\n",
      "535.6314182281494\n",
      "iter: 5 Time (ms): 535.631418\n",
      "iter: 0 Time (ms): 10.735416\n",
      "iter: 1 Time (ms): 0.335217\n",
      "iter: 2 Time (ms): 1.405954\n",
      "iter: 3 Time (ms): 17.006779\n",
      "iter: 4 Time (ms): 19.748163\n",
      "iter: 5 Time (ms): 39.995575\n",
      "iter: 0 Time (ms): 29.473448\n",
      "iter: 1 Time (ms): 30.405998\n",
      "iter: 2 Time (ms): 29.325628\n",
      "iter: 3 Time (ms): 40.743017\n",
      "iter: 4 Time (ms): 34.616423\n",
      "iter: 5 Time (ms): 31.830406\n"
     ]
    },
    {
     "data": {
      "image/png": "[encoded data removed]",
      "text/plain": "<Figure size 432x288 with 1 Axes>"
     },
     "metadata": {
      "needs_background": "light"
     },
     "output_type": "display_data"
    }
   ],
   "source": [
    "import numpy as np\n",
    "from time import time\n",
    "import matplotlib.pyplot as plt\n",
    "import zarr\n",
    "\n",
    "### NORMAL\n",
    "#a1 = np.arange(1000000).reshape(100, 100, 100)\n",
    "\n",
    "#save('/tmp/myarray1.npy', array1)\n",
    "\n",
    "#a1 = load('/tmp/myarray1.npy')\n",
    "\n",
    "\n",
    "### MEMMAP\n",
    "#a2 = np.memmap('/tmp/myarray2.memmap', mode='write', shape=(100, 100, 100))\n",
    "#a2.flat = np.arange(1000000)\n",
    "#a2.flush()\n",
    "\n",
    "cantidad_datos = np.array([1000, 125000, 1000000, 15625000, 42875000, 125000000]) #valores cuyas raices cubicas sean enteros para poder formar ndarrays de 3 dimensiones\n",
    "tiempo1 = np.zeros([6])\n",
    "tiempo2 = np.zeros([6])\n",
    "\n",
    "tiempo3 = np.zeros([6])\n",
    "\n",
    "for iter in range(6):\n",
    "    cantidad = cantidad_datos[iter]\n",
    "    cantidad_por_axis = int(cantidad**(1/3)) + 1\n",
    "    a1 = np.arange(cantidad).reshape(cantidad_por_axis, cantidad_por_axis, cantidad_por_axis)\n",
    "    \n",
    "    t1 = time()\n",
    "    for i in range(5):\n",
    "        view = np.array(a1[::, ::, ::])\n",
    "    t1 = ((time() - t1) / 5) * 1000\n",
    "    tiempo1[iter] = t1\n",
    "    print(tiempo1[iter])\n",
    "    print ('iter:', iter, 'Time (ms): %f' % t1)\n",
    "\n",
    "for iter in range(6):\n",
    "    cantidad = cantidad_datos[iter]\n",
    "    cantidad_por_axis = int(cantidad**(1/3)) + 1\n",
    "    a2 = np.memmap('/tmp/myarray2.memmap', mode='write', shape=(cantidad_por_axis, cantidad_por_axis, cantidad_por_axis))\n",
    "\n",
    "    t2 = time() \n",
    "    for i in range(5):\n",
    "        view = np.array(a2[::, ::, ::])\n",
    "    t2 = ((time() - t2) / 5) * 1000\n",
    "    tiempo2[iter] = t2\n",
    "    print ('iter:', iter, 'Time (ms): %f' % t2)\n",
    "\n",
    "\n",
    "\n",
    "for iter in range(6):\n",
    "    cantidad = cantidad_datos[iter]\n",
    "    cantidad_por_axis = int(cantidad**(1/3)) + 1\n",
    "    c_amitad = cantidad_por_axis/2\n",
    "    a4 = zarr.open('/tmp/myarray4.zarr', mode='a', shape=(cantidad_por_axis, cantidad_por_axis, cantidad_por_axis), chunks=(c_amitad, c_amitad, c_amitad))        \n",
    "\n",
    "    t3 = time() \n",
    "    for i in range(5):\n",
    "        view = np.array(a2[::, ::, ::])\n",
    "    t3 = ((time() - t3) / 5) * 1000\n",
    "    tiempo3[iter] = t3\n",
    "    print ('iter:', iter, 'Time (ms): %f' % t3)\n",
    "\n",
    "\n",
    "\n",
    "plt.plot(cantidad_datos, tiempo1, label=\"normal\")\n",
    "\n",
    "plt.plot(cantidad_datos, tiempo2, label=\"memmap\")\n",
    "\n",
    "plt.plot(cantidad_datos, tiempo3, label=\"zarr\")\n",
    "\n",
    "plt.ylabel('Tiempo')\n",
    "plt.xlabel('Cantidad de datos')\n",
    "\n",
    "plt.legend(loc=\"upper left\")\n",
    "\n",
    "\n",
    "#plt.plot(tiempo2)\n",
    "plt.show()\n",
    "\n"
   ]
  },
  {
   "cell_type": "code",
   "execution_count": 20,
   "metadata": {},
   "outputs": [
    {
     "name": "stdout",
     "output_type": "stream",
     "text": [
      "Time (ms): 0.031185\n",
      "Time (ms): 8.098221\n",
      "Time (ms): 0.079775\n",
      "Time (ms): 5.010986\n"
     ]
    }
   ],
   "source": [
    "import numpy as np\n",
    "from time import time\n",
    "import os\n",
    "import pathlib\n",
    "from tempfile import TemporaryFile\n",
    "from numpy import load\n",
    "from numpy import save\n",
    "import h5py, zarr\n",
    "\n",
    "### NORMAL\n",
    "a1 = np.arange(1000000).reshape(100, 100, 100)\n",
    "\n",
    "#save('/tmp/myarray1.npy', array1)\n",
    "\n",
    "#a1 = load('/tmp/myarray1.npy')\n",
    "\n",
    "\n",
    "### MEMMAP\n",
    "a2 = np.memmap('/tmp/myarray2.memmap', mode='write', shape=(1000, 1000, 1000))\n",
    "\n",
    "# a2.flat = np.arange(1000000000)\n",
    "\n",
    "# a2.flush()\n",
    "\n",
    "### HDF5\n",
    "a3 = np.random.random((100, 100, 100))\n",
    "\n",
    "with h5py.File('test.hdf', 'w') as outfile:\n",
    "    dset = outfile.create_dataset('a_descriptive_name', data=a3, chunks=True)\n",
    "    dset.attrs['some key'] = 'Did you want some metadata?'\n",
    "\n",
    "\n",
    "### Zarr\n",
    "a4 = zarr.open('/tmp/myarray4.zarr', mode='a', shape=(1000, 1000, 1000), chunks=(500, 500, 500))\n",
    "\n",
    "\n",
    "t1 = time()\n",
    "for i in range(5):\n",
    "    view = np.array(a1[::10, ::10, ::10])\n",
    "t1 = ((time() - t1) / 5) * 1000\n",
    "print ('Time (ms): %f' % t1)\n",
    "\n",
    "t2 = time()\n",
    "for i in range(5):\n",
    "    view = np.array(a2[::10, ::10, ::10])\n",
    "t2 = ((time() - t2) / 5) * 1000\n",
    "print ('Time (ms): %f' % t2)\n",
    "\n",
    "t3 = time()\n",
    "for i in range(5):\n",
    "    view = np.array(a3[::10, ::10, ::10])\n",
    "t3 = ((time() - t3) / 5) * 1000\n",
    "print ('Time (ms): %f' % t3)\n",
    "\n",
    "t4 = time()\n",
    "for i in range(5):\n",
    "    view = np.array(a4[::10, ::10, ::10])\n",
    "t4 = ((time() - t4) / 5) * 1000\n",
    "print ('Time (ms): %f' % t4)\n",
    "\n"
   ]
  },
  {
   "cell_type": "code",
   "execution_count": 2,
   "metadata": {},
   "outputs": [
    {
     "name": "stdout",
     "output_type": "stream",
     "text": [
      "Time (ms): 25\n"
     ]
    }
   ],
   "source": [
    "import numpy as np\n",
    "from time import time\n",
    "import os\n",
    "import pathlib\n",
    "\n",
    "\n",
    "file_path = os.path.join(pathlib.Path().absolute(),  'test1.dat') \n",
    "FILE = open(file_path, \"wb\")\n",
    "\n",
    "array = np.arange(1000000000).reshape(1000, 1000, 1000)\n",
    "\n",
    "FILE.write(array)\n",
    "\n",
    "t = time()\n",
    "for i in range(5):\n",
    "    view = np.array(array[::16, ::16])\n",
    "t = ((time() - t) / 5) * 1000\n",
    "print ('Time (ms): %i' % t)\n",
    "\n"
   ]
  },
  {
   "cell_type": "code",
   "execution_count": 1,
   "metadata": {},
   "outputs": [
    {
     "data": {
      "text/plain": "0"
     },
     "execution_count": 1,
     "metadata": {},
     "output_type": "execute_result"
    }
   ],
   "source": [
    "import h5py\n",
    "h5py.run_tests()"
   ]
  },
  {
   "cell_type": "markdown",
   "metadata": {},
   "source": [
    "## Artículo 02\n",
    "\n",
    "### Data Structures for Statistical Computing in Python\n",
    "\n",
    "McKinney, W. (2010). Data Structures for Statistical Computing in Python.\n",
    "Proceedings of the 9th Python in Science Conference, December, 56-61.\n",
    "https://doi.org/10.25080/majora-92bf1922-00a\n",
    "\n",
    "https://www.researchgate.net/publication/265001241_Data_Structures_for_Statistical_Computing_in_Python\n",
    "\n",
    "En este segundo artículo el creador de *pandas* introduce dicha librería en comparación con las estructuras nativas de R.\n",
    "\n",
    "- Actividad 02.01 - Desarrollar una opinión razonada del estado actual de las herramientas de análisis de datos estadísticos en contraposición a como se muestran en el artículo, R vs Python vs SQL vs Others..."
   ]
  },
  {
   "cell_type": "markdown",
   "metadata": {},
   "source": [
    "## <center> Actividad 02.01</center>\n",
    "--- "
   ]
  },
  {
   "cell_type": "markdown",
   "metadata": {},
   "source": []
  },
  {
   "cell_type": "markdown",
   "metadata": {},
   "source": [
    "## Bibliografía\n",
    "[Numpy, Broadcasting](https://numpy.org/devdocs/user/theory.broadcasting.html)"
   ]
  }
 ],
 "metadata": {
  "kernelspec": {
   "display_name": "Python 3.8.5 64-bit ('base': conda)",
   "name": "python385jvsc74a57bd05638214bed11d7e11a3bfbe061b56f3402c3883ec48123d3dea06d44b441dcac"
  },
  "language_info": {
   "codemirror_mode": {
    "name": "ipython",
    "version": 3
   },
   "file_extension": ".py",
   "mimetype": "text/x-python",
   "name": "python",
   "nbconvert_exporter": "python",
   "pygments_lexer": "ipython3",
   "version": "3.8.5"
  },
  "metadata": {
   "interpreter": {
    "hash": "4cd7ab41f5fca4b9b44701077e38c5ffd31fe66a6cab21e0214b68d958d0e462"
   }
  }
 },
 "nbformat": 4,
 "nbformat_minor": 2
}