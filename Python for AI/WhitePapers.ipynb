{
 "cells": [
  {
   "cell_type": "markdown",
   "metadata": {},
   "source": [
    "## Artículo 01\n",
    "\n",
    "### The NumPy array: a structure for efficient numerical computation\n",
    "\n",
    "Van Der Walt, S., Colbert, S. C., &amp; Varoquaux, G. (2011). The NumPy array: A\n",
    "structure for efficient numerical computation. Computing in Science and\n",
    "Engineering, 13(2), 22-30. https://doi.org/10.1109/MCSE.2011.37\n",
    "\n",
    "https://www.researchgate.net/publication/224223550_The_NumPy_Array_A_Structure_for_Efficient_Numerical_Computation\n",
    "\n",
    "En este artículo se presenta la estructura *ndarray* de NumPy, y se hace un estudio sobre su uso y cómo mejora el rendimiento de ciertas operaciones matemáticas para la computación numérica.\n",
    "\n",
    "Se hace una breve introducción al *Broadcasting* como técnica que usa NumPy para realizar operaciones artiméticas sobre dos o más arrays con distintas dimensiones. \n",
    "\n",
    "- Actividad 01.01 - Ampliar dicha explicación, aportando posibles restricciones o limitaciones a dicho sistema y ejemplos propios de los casos de uso.\n",
    "\n",
    "También se introduce el trabajo con ficheros usando memoria mapeada.\n",
    "\n",
    "- Actividad 01.02 - Verificar la eficacia y mejora posible de rendimiento del uso de dicha técnica sobre ndarrays de tamaños grandes."
   ]
  },
  {
   "cell_type": "markdown",
   "metadata": {},
   "source": [
    "## <center> Actividad 01.01</center>\n",
    "--- "
   ]
  },
  {
   "cell_type": "markdown",
   "metadata": {},
   "source": [
    "El uso del *Broadcasting* en Numpy y ayuda a realizar operaciones aritméticas entre matrices de distintas dimensiones. Esto resulta muy útil cuando se quiere **realizar cualquier operación sobre un escalar o sobre una matriz cuya dimensión sea un subconjunto válido de la anterior**. ¿Qué entendemos por un subconjunto válido?\n",
    "\n",
    "Numpy presenta la regla del *Broadcasting*. Esta regla limita el uso de esta operación entre *ndarrays* de la siguiente manera:\n",
    "\n",
    "- La operación se realiza con un escalar (dimensión 1)\n",
    "- La operación se realiza entre dos matrizes cuyas dimensiones (calculadas de atrás hacia delante) son iguales:\n",
    "\n",
    "Para exponer de manera más clara esta segunda regla vamos a imaginar dos matrices A y B. \n",
    "\n",
    "    Dimensión de A = (Ai, Aj, Ak)\n",
    "    Dimensión de B = (Bi, Bj)\n",
    "\n",
    "Para que *Numpy* pueda aplicar *Broadcasting* a una operación entre estas dos matrices se debe cumplir lo que: \n",
    "    \n",
    "    Ak = Bj\n",
    "    Aj = Bi\n",
    "\n",
    "Dentro de esta segunda regla estarían incluidas las operaciones entre matrices cuya ultima dimensión sea igual a a la dimensión del vector con el que operan. Sea una matriz A y un vector v\n",
    "\n",
    "    Dimensión de A = (Ai, Aj, Ak)\n",
    "    Dimensión de v = vi\n",
    "\n",
    "Se debe cumplir que:\n",
    "\n",
    "    Ak = vi\n",
    "\n",
    "Pasemos a presentar ejemplos:\n"
   ]
  },
  {
   "cell_type": "markdown",
   "metadata": {},
   "source": [
    "### Caso válido 1: operación con un escalar\n",
    "\n",
    "![Matriz por escalar](https://2.bp.blogspot.com/-Baqf02hjMUY/VvV0BNH3-mI/AAAAAAAABQo/y_VLwo57700CWgsiFK3_USKU0x9gyx2Ow/s280/multiplicar-una-matriz-por-un-escalar-en%2Bjava.jpg)"
   ]
  },
  {
   "cell_type": "code",
   "execution_count": 2,
   "metadata": {},
   "outputs": [
    {
     "name": "stdout",
     "output_type": "stream",
     "text": [
      "Matriz A =\n",
      "\n",
      " [[0 1 2]\n",
      " [3 4 5]\n",
      " [6 7 8]]\n",
      "\n",
      "Dimensiones de A: (3, 3)\n",
      "\n",
      "Escalar b = 5\n",
      "\n",
      "Broadcast válido, operacion de Matriz con escalar\n",
      "\n",
      " [[0 1 2]\n",
      " [3 4 5]\n",
      " [6 7 8]] * 5 =\n",
      "\n",
      " [[ 0  5 10]\n",
      " [15 20 25]\n",
      " [30 35 40]]\n"
     ]
    }
   ],
   "source": [
    "import numpy as np\n",
    "\n",
    "A = np.arange(9).reshape(3, 3)          # Matriz de dimensiones 3x3\n",
    "print('Matriz A =\\n\\n', A)\n",
    "print('\\nDimensiones de A:', A.shape)\n",
    "\n",
    "b = 5                                   # Escalar\n",
    "print('\\nEscalar b =', b)\n",
    "\n",
    "\n",
    "print('\\nBroadcast válido, operacion de Matriz con escalar\\n\\n', A, '*', b, '=\\n\\n', A*b)"
   ]
  },
  {
   "cell_type": "markdown",
   "metadata": {},
   "source": [
    "Cualquier tipo de dimensión sería valida para operar junto a un escalar:"
   ]
  },
  {
   "cell_type": "code",
   "execution_count": null,
   "metadata": {},
   "outputs": [],
   "source": [
    "A = np.arange(24).reshape(3, 2, 4)      # Matriz de dimensiones 3x2x4\n",
    "print('Matriz A =\\n\\n', A)\n",
    "print('\\nDimensiones de A:', A.shape)\n",
    "\n",
    "b = 5                                   # Escalar\n",
    "print('\\nEscalar b =', b)\n",
    "\n",
    "\n",
    "print('\\nBroadcast válido, operacion de Matriz con escalar\\n\\n', A, '*', b, '=\\n\\n', A*b)"
   ]
  },
  {
   "cell_type": "markdown",
   "metadata": {},
   "source": [
    "### Caso válido 2: operación con matriz de dimensiones válidas\n",
    "\n",
    "![Matriz por matriz](https://numpy.org/devdocs/_images/theory.broadcast_2.gif)"
   ]
  },
  {
   "cell_type": "markdown",
   "metadata": {},
   "source": [
    "#### Matriz y vector"
   ]
  },
  {
   "cell_type": "code",
   "execution_count": null,
   "metadata": {},
   "outputs": [],
   "source": [
    "### Matriz y vector ###\n",
    "\n",
    "A = np.arange(10).reshape(2, 5)         # Matriz de dimensiones 2x5\n",
    "print('Matriz A =\\n\\n', A)\n",
    "print('\\nDimensiones de A:', A.shape)\n",
    "\n",
    "v = np.arange(5)                        # Vector de dimension (5)\n",
    "print('\\nVector v =', v)\n",
    "print('\\nDimensiones de v:', v.shape)\n",
    "\n",
    "\n",
    "print('\\nBroadcast válido, operacion de Matriz con vector\\n\\n', A, '*', v, '=\\n\\n', A*v) # Operación válida"
   ]
  },
  {
   "cell_type": "markdown",
   "metadata": {},
   "source": [
    "#### Matriz y matriz de dimensiones válidas"
   ]
  },
  {
   "cell_type": "code",
   "execution_count": null,
   "metadata": {},
   "outputs": [],
   "source": [
    "### Matriz y matriz de dimensiones válidas ###\n",
    "\n",
    "A = np.arange(30).reshape(2, 5, 3)      # Matriz de dimensiones 2x5x3\n",
    "print('Matriz A =\\n\\n', A)\n",
    "print('\\nDimensiones de A:', A.shape)\n",
    "\n",
    "B = np.arange(15).reshape(5, 3)         # Matriz de dimensiones 5x3\n",
    "print('\\nMatriz B =', B)\n",
    "print('\\nDimensiones de B:', B.shape)\n",
    "\n",
    "# Vamos a definir una función que toma dos matrizes y comprueba que sus dimensiones últimas son iguales:\n",
    "# Esta función basicamente compara las dimensiones de las dos matrices de atras hacia delante usando slicing. \n",
    "# Usa el numero de dimensiones (1, 2 o 3) de la menor matriz como límite\n",
    "\n",
    "def broadcastable_matrixes(A, B):\n",
    "    if (len(A.shape) > len(B.shape)):\n",
    "        return B.shape[-len(B.shape):] == A.shape[-len(B.shape):]\n",
    "    else:\n",
    "        return B.shape[-len(A.shape):] == A.shape[-len(A.shape):]\n",
    "\n",
    "\n",
    "# Comprobamos que las dimensiones últimas de las dos matrices son iguales\n",
    "\n",
    "print('\\nLas matrices son broadcastable?:')\n",
    "print(broadcastable_matrixes(A, B))\n",
    "\n",
    "\n",
    "print('\\nBroadcast válido, operacion de Matriz con Matriz subconjunto válido\\n\\n', A, '*\\n\\n', B, '=\\n\\n', A*B) # Operación válida"
   ]
  },
  {
   "cell_type": "markdown",
   "metadata": {},
   "source": [
    "### Caso no válido 1: Matriz y vector de dimensiones NO válidas\n",
    "\n",
    "Se expone a continuación un ejemplo donde una matriz y un vector no son Broadcastable. No tienen dimensiones válidas\n",
    "\n",
    "![Matriz por matriz](https://numpy.org/devdocs/_images/theory.broadcast_3.gif)"
   ]
  },
  {
   "cell_type": "code",
   "execution_count": null,
   "metadata": {},
   "outputs": [],
   "source": [
    "### Matriz y vector no válido ###\n",
    "\n",
    "A = np.arange(10).reshape(2, 5)         # Matriz de dimensiones 2x5\n",
    "print('Matriz A =\\n\\n', A)\n",
    "print('\\nDimensiones de A:', A.shape)\n",
    "\n",
    "v = np.arange(3)                        # Vector de dimension (3)\n",
    "print('\\nVector v =', v)\n",
    "print('\\nDimensiones de v:', v.shape)\n",
    "\n",
    "# Operación no válida: ValueError: operands could not be broadcast together with shapes (2,5) (3,)\n",
    "print('\\nBroadcast válido, operacion de Matriz con vector\\n\\n', A, '*', v, '=\\n\\n', A*v) "
   ]
  },
  {
   "cell_type": "markdown",
   "metadata": {},
   "source": [
    "### Caso no válido 2: Matriz y matriz de dimensiones NO válidas\n",
    "\n",
    "Se expone a continuación ejemplos donde una matriz y otra matriz no son Broadcastable. No tienen dimensiones válidas"
   ]
  },
  {
   "cell_type": "code",
   "execution_count": null,
   "metadata": {},
   "outputs": [],
   "source": [
    "### Matriz y matriz de dimensiones no válidas ###\n",
    "\n",
    "A = np.arange(30).reshape(2, 5, 3)      # Matriz de dimensiones 2x5x3\n",
    "print('Matriz A =\\n\\n', A)\n",
    "print('\\nDimensiones de A:', A.shape)\n",
    "\n",
    "B = np.arange(15).reshape(3, 5)         # Matriz de dimensiones 3x5\n",
    "print('\\nMatriz B =', B)\n",
    "print('\\nDimensiones de B:', B.shape)\n",
    "\n",
    "# Comprobamos que las dimensiones últimas de las dos matrices son iguales\n",
    "\n",
    "print('\\nLas matrices son broadcastable?:')\n",
    "print(broadcastable_matrixes(A, B))\n",
    "\n",
    " # Operación no válida: ValueError: operands could not be broadcast together with shapes (2,5,3) (3,5)\n",
    "print('\\nBroadcast válido, operacion de Matriz con Matriz subconjunto válido\\n\\n', A, '*\\n\\n', B, '=\\n\\n', A*B) # Operación válida"
   ]
  },
  {
   "cell_type": "markdown",
   "metadata": {},
   "source": [
    "## <center> Actividad 01.02</center>\n",
    "--- "
   ]
  },
  {
   "cell_type": "markdown",
   "metadata": {},
   "source": [
    "### Eficacia sobre ndarrays de tamaños grandes\n",
    "\n",
    "A continuación se presenta una gráfica y una tabla donde se puede ver el comportamiento de la velocidad de acceso a un *ndarray* sin el uso de *memmap* y con el uso de *memmap*.\n",
    "\n",
    "La mejora de *memmap* es clara, ofreciendo mejoras de rendimiento 9 veces mayor sobre un acceso a un array completo.\n",
    "\n",
    "Además, cuanto mayor se hace el array mayor es la mejora obtenida."
   ]
  },
  {
   "cell_type": "code",
   "execution_count": 1,
   "metadata": {},
   "outputs": [
    {
     "name": "stdout",
     "output_type": "stream",
     "text": [
      "TABLA TIEMPOS SIN MEMMAP\n",
      "\n"
     ]
    },
    {
     "data": {
      "text/html": "<div>\n<style scoped>\n    .dataframe tbody tr th:only-of-type {\n        vertical-align: middle;\n    }\n\n    .dataframe tbody tr th {\n        vertical-align: top;\n    }\n\n    .dataframe thead th {\n        text-align: right;\n    }\n</style>\n<table border=\"1\" class=\"dataframe\">\n  <thead>\n    <tr style=\"text-align: right;\">\n      <th></th>\n      <th>Array dimension</th>\n      <th>Time (ms)</th>\n      <th>Time (ms) SUM</th>\n    </tr>\n  </thead>\n  <tbody>\n    <tr>\n      <th>0</th>\n      <td>1000</td>\n      <td>0.003767</td>\n      <td>0.003767</td>\n    </tr>\n    <tr>\n      <th>1</th>\n      <td>8000</td>\n      <td>0.004768</td>\n      <td>0.008535</td>\n    </tr>\n    <tr>\n      <th>2</th>\n      <td>27000</td>\n      <td>0.011015</td>\n      <td>0.019550</td>\n    </tr>\n    <tr>\n      <th>3</th>\n      <td>64000</td>\n      <td>0.133610</td>\n      <td>0.153160</td>\n    </tr>\n    <tr>\n      <th>4</th>\n      <td>125000</td>\n      <td>0.320005</td>\n      <td>0.473166</td>\n    </tr>\n    <tr>\n      <th>5</th>\n      <td>216000</td>\n      <td>0.483179</td>\n      <td>0.956345</td>\n    </tr>\n    <tr>\n      <th>6</th>\n      <td>343000</td>\n      <td>0.989151</td>\n      <td>1.945496</td>\n    </tr>\n    <tr>\n      <th>7</th>\n      <td>512000</td>\n      <td>1.440382</td>\n      <td>3.385878</td>\n    </tr>\n    <tr>\n      <th>8</th>\n      <td>729000</td>\n      <td>2.395391</td>\n      <td>5.781269</td>\n    </tr>\n    <tr>\n      <th>9</th>\n      <td>1000000</td>\n      <td>2.989006</td>\n      <td>8.770275</td>\n    </tr>\n    <tr>\n      <th>10</th>\n      <td>1331000</td>\n      <td>3.943205</td>\n      <td>12.713480</td>\n    </tr>\n    <tr>\n      <th>11</th>\n      <td>1728000</td>\n      <td>4.703188</td>\n      <td>17.416668</td>\n    </tr>\n    <tr>\n      <th>12</th>\n      <td>2197000</td>\n      <td>7.532835</td>\n      <td>24.949503</td>\n    </tr>\n    <tr>\n      <th>13</th>\n      <td>2744000</td>\n      <td>8.952808</td>\n      <td>33.902311</td>\n    </tr>\n    <tr>\n      <th>14</th>\n      <td>3375000</td>\n      <td>10.571337</td>\n      <td>44.473648</td>\n    </tr>\n    <tr>\n      <th>15</th>\n      <td>4096000</td>\n      <td>14.113426</td>\n      <td>58.587074</td>\n    </tr>\n    <tr>\n      <th>16</th>\n      <td>4913000</td>\n      <td>16.991997</td>\n      <td>75.579071</td>\n    </tr>\n    <tr>\n      <th>17</th>\n      <td>5832000</td>\n      <td>20.295858</td>\n      <td>95.874929</td>\n    </tr>\n    <tr>\n      <th>18</th>\n      <td>6859000</td>\n      <td>24.285603</td>\n      <td>120.160532</td>\n    </tr>\n    <tr>\n      <th>19</th>\n      <td>8000000</td>\n      <td>29.770374</td>\n      <td>149.930906</td>\n    </tr>\n    <tr>\n      <th>20</th>\n      <td>9261000</td>\n      <td>35.171032</td>\n      <td>185.101938</td>\n    </tr>\n    <tr>\n      <th>21</th>\n      <td>10648000</td>\n      <td>40.314817</td>\n      <td>225.416756</td>\n    </tr>\n    <tr>\n      <th>22</th>\n      <td>12167000</td>\n      <td>46.603012</td>\n      <td>272.019768</td>\n    </tr>\n    <tr>\n      <th>23</th>\n      <td>13824000</td>\n      <td>51.841831</td>\n      <td>323.861599</td>\n    </tr>\n    <tr>\n      <th>24</th>\n      <td>15625000</td>\n      <td>59.569407</td>\n      <td>383.431005</td>\n    </tr>\n    <tr>\n      <th>25</th>\n      <td>17576000</td>\n      <td>99.783611</td>\n      <td>483.214617</td>\n    </tr>\n    <tr>\n      <th>26</th>\n      <td>19683000</td>\n      <td>107.166958</td>\n      <td>590.381575</td>\n    </tr>\n    <tr>\n      <th>27</th>\n      <td>21952000</td>\n      <td>116.179419</td>\n      <td>706.560993</td>\n    </tr>\n    <tr>\n      <th>28</th>\n      <td>24389000</td>\n      <td>150.302982</td>\n      <td>856.863976</td>\n    </tr>\n    <tr>\n      <th>29</th>\n      <td>27000000</td>\n      <td>147.000360</td>\n      <td>1003.864336</td>\n    </tr>\n    <tr>\n      <th>30</th>\n      <td>29791000</td>\n      <td>162.504387</td>\n      <td>1166.368723</td>\n    </tr>\n    <tr>\n      <th>31</th>\n      <td>32768000</td>\n      <td>174.172020</td>\n      <td>1340.540743</td>\n    </tr>\n    <tr>\n      <th>32</th>\n      <td>35937000</td>\n      <td>180.446815</td>\n      <td>1520.987558</td>\n    </tr>\n    <tr>\n      <th>33</th>\n      <td>39304000</td>\n      <td>237.485933</td>\n      <td>1758.473492</td>\n    </tr>\n    <tr>\n      <th>34</th>\n      <td>42875000</td>\n      <td>208.473206</td>\n      <td>1966.946697</td>\n    </tr>\n    <tr>\n      <th>35</th>\n      <td>46656000</td>\n      <td>223.937988</td>\n      <td>2190.884686</td>\n    </tr>\n    <tr>\n      <th>36</th>\n      <td>50653000</td>\n      <td>246.249390</td>\n      <td>2437.134075</td>\n    </tr>\n    <tr>\n      <th>37</th>\n      <td>54872000</td>\n      <td>275.119019</td>\n      <td>2712.253094</td>\n    </tr>\n    <tr>\n      <th>38</th>\n      <td>59319000</td>\n      <td>286.593819</td>\n      <td>2998.846912</td>\n    </tr>\n    <tr>\n      <th>39</th>\n      <td>64000000</td>\n      <td>350.824404</td>\n      <td>3349.671316</td>\n    </tr>\n    <tr>\n      <th>40</th>\n      <td>68921000</td>\n      <td>357.986212</td>\n      <td>3707.657528</td>\n    </tr>\n    <tr>\n      <th>41</th>\n      <td>74088000</td>\n      <td>393.816805</td>\n      <td>4101.474333</td>\n    </tr>\n    <tr>\n      <th>42</th>\n      <td>79507000</td>\n      <td>410.879564</td>\n      <td>4512.353897</td>\n    </tr>\n    <tr>\n      <th>43</th>\n      <td>85184000</td>\n      <td>420.845652</td>\n      <td>4933.199549</td>\n    </tr>\n    <tr>\n      <th>44</th>\n      <td>91125000</td>\n      <td>428.287792</td>\n      <td>5361.487341</td>\n    </tr>\n    <tr>\n      <th>45</th>\n      <td>97336000</td>\n      <td>469.918633</td>\n      <td>5831.405973</td>\n    </tr>\n    <tr>\n      <th>46</th>\n      <td>103823000</td>\n      <td>515.470982</td>\n      <td>6346.876955</td>\n    </tr>\n    <tr>\n      <th>47</th>\n      <td>110592000</td>\n      <td>578.248596</td>\n      <td>6925.125551</td>\n    </tr>\n    <tr>\n      <th>48</th>\n      <td>117649000</td>\n      <td>561.756182</td>\n      <td>7486.881733</td>\n    </tr>\n    <tr>\n      <th>49</th>\n      <td>125000000</td>\n      <td>738.122940</td>\n      <td>8225.004673</td>\n    </tr>\n  </tbody>\n</table>\n</div>",
      "text/plain": "    Array dimension   Time (ms)  Time (ms) SUM\n0              1000    0.003767       0.003767\n1              8000    0.004768       0.008535\n2             27000    0.011015       0.019550\n3             64000    0.133610       0.153160\n4            125000    0.320005       0.473166\n5            216000    0.483179       0.956345\n6            343000    0.989151       1.945496\n7            512000    1.440382       3.385878\n8            729000    2.395391       5.781269\n9           1000000    2.989006       8.770275\n10          1331000    3.943205      12.713480\n11          1728000    4.703188      17.416668\n12          2197000    7.532835      24.949503\n13          2744000    8.952808      33.902311\n14          3375000   10.571337      44.473648\n15          4096000   14.113426      58.587074\n16          4913000   16.991997      75.579071\n17          5832000   20.295858      95.874929\n18          6859000   24.285603     120.160532\n19          8000000   29.770374     149.930906\n20          9261000   35.171032     185.101938\n21         10648000   40.314817     225.416756\n22         12167000   46.603012     272.019768\n23         13824000   51.841831     323.861599\n24         15625000   59.569407     383.431005\n25         17576000   99.783611     483.214617\n26         19683000  107.166958     590.381575\n27         21952000  116.179419     706.560993\n28         24389000  150.302982     856.863976\n29         27000000  147.000360    1003.864336\n30         29791000  162.504387    1166.368723\n31         32768000  174.172020    1340.540743\n32         35937000  180.446815    1520.987558\n33         39304000  237.485933    1758.473492\n34         42875000  208.473206    1966.946697\n35         46656000  223.937988    2190.884686\n36         50653000  246.249390    2437.134075\n37         54872000  275.119019    2712.253094\n38         59319000  286.593819    2998.846912\n39         64000000  350.824404    3349.671316\n40         68921000  357.986212    3707.657528\n41         74088000  393.816805    4101.474333\n42         79507000  410.879564    4512.353897\n43         85184000  420.845652    4933.199549\n44         91125000  428.287792    5361.487341\n45         97336000  469.918633    5831.405973\n46        103823000  515.470982    6346.876955\n47        110592000  578.248596    6925.125551\n48        117649000  561.756182    7486.881733\n49        125000000  738.122940    8225.004673"
     },
     "metadata": {},
     "output_type": "display_data"
    },
    {
     "name": "stdout",
     "output_type": "stream",
     "text": [
      "\n",
      "\n",
      "TABLA TIEMPOS CON MEMMAP\n",
      "\n"
     ]
    },
    {
     "data": {
      "text/html": "<div>\n<style scoped>\n    .dataframe tbody tr th:only-of-type {\n        vertical-align: middle;\n    }\n\n    .dataframe tbody tr th {\n        vertical-align: top;\n    }\n\n    .dataframe thead th {\n        text-align: right;\n    }\n</style>\n<table border=\"1\" class=\"dataframe\">\n  <thead>\n    <tr style=\"text-align: right;\">\n      <th></th>\n      <th>Array dimension</th>\n      <th>Time (ms)</th>\n      <th>Time (ms) SUM</th>\n    </tr>\n  </thead>\n  <tbody>\n    <tr>\n      <th>0</th>\n      <td>1000</td>\n      <td>17.608833</td>\n      <td>17.608833</td>\n    </tr>\n    <tr>\n      <th>1</th>\n      <td>8000</td>\n      <td>0.085402</td>\n      <td>17.694235</td>\n    </tr>\n    <tr>\n      <th>2</th>\n      <td>27000</td>\n      <td>0.160217</td>\n      <td>17.854452</td>\n    </tr>\n    <tr>\n      <th>3</th>\n      <td>64000</td>\n      <td>0.250626</td>\n      <td>18.105078</td>\n    </tr>\n    <tr>\n      <th>4</th>\n      <td>125000</td>\n      <td>0.421429</td>\n      <td>18.526506</td>\n    </tr>\n    <tr>\n      <th>5</th>\n      <td>216000</td>\n      <td>0.496006</td>\n      <td>19.022512</td>\n    </tr>\n    <tr>\n      <th>6</th>\n      <td>343000</td>\n      <td>0.585556</td>\n      <td>19.608068</td>\n    </tr>\n    <tr>\n      <th>7</th>\n      <td>512000</td>\n      <td>0.938606</td>\n      <td>20.546675</td>\n    </tr>\n    <tr>\n      <th>8</th>\n      <td>729000</td>\n      <td>0.927782</td>\n      <td>21.474457</td>\n    </tr>\n    <tr>\n      <th>9</th>\n      <td>1000000</td>\n      <td>1.054621</td>\n      <td>22.529078</td>\n    </tr>\n    <tr>\n      <th>10</th>\n      <td>1331000</td>\n      <td>1.604557</td>\n      <td>24.133635</td>\n    </tr>\n    <tr>\n      <th>11</th>\n      <td>1728000</td>\n      <td>1.848793</td>\n      <td>25.982428</td>\n    </tr>\n    <tr>\n      <th>12</th>\n      <td>2197000</td>\n      <td>3.248978</td>\n      <td>29.231405</td>\n    </tr>\n    <tr>\n      <th>13</th>\n      <td>2744000</td>\n      <td>5.357218</td>\n      <td>34.588623</td>\n    </tr>\n    <tr>\n      <th>14</th>\n      <td>3375000</td>\n      <td>5.854416</td>\n      <td>40.443039</td>\n    </tr>\n    <tr>\n      <th>15</th>\n      <td>4096000</td>\n      <td>5.948353</td>\n      <td>46.391392</td>\n    </tr>\n    <tr>\n      <th>16</th>\n      <td>4913000</td>\n      <td>6.777620</td>\n      <td>53.169012</td>\n    </tr>\n    <tr>\n      <th>17</th>\n      <td>5832000</td>\n      <td>8.550787</td>\n      <td>61.719799</td>\n    </tr>\n    <tr>\n      <th>18</th>\n      <td>6859000</td>\n      <td>7.999372</td>\n      <td>69.719172</td>\n    </tr>\n    <tr>\n      <th>19</th>\n      <td>8000000</td>\n      <td>8.106804</td>\n      <td>77.825975</td>\n    </tr>\n    <tr>\n      <th>20</th>\n      <td>9261000</td>\n      <td>10.565376</td>\n      <td>88.391352</td>\n    </tr>\n    <tr>\n      <th>21</th>\n      <td>10648000</td>\n      <td>11.108398</td>\n      <td>99.499750</td>\n    </tr>\n    <tr>\n      <th>22</th>\n      <td>12167000</td>\n      <td>12.911558</td>\n      <td>112.411308</td>\n    </tr>\n    <tr>\n      <th>23</th>\n      <td>13824000</td>\n      <td>14.602566</td>\n      <td>127.013874</td>\n    </tr>\n    <tr>\n      <th>24</th>\n      <td>15625000</td>\n      <td>15.426397</td>\n      <td>142.440271</td>\n    </tr>\n    <tr>\n      <th>25</th>\n      <td>17576000</td>\n      <td>8.813334</td>\n      <td>151.253605</td>\n    </tr>\n    <tr>\n      <th>26</th>\n      <td>19683000</td>\n      <td>9.830809</td>\n      <td>161.084414</td>\n    </tr>\n    <tr>\n      <th>27</th>\n      <td>21952000</td>\n      <td>12.499809</td>\n      <td>173.584223</td>\n    </tr>\n    <tr>\n      <th>28</th>\n      <td>24389000</td>\n      <td>14.741993</td>\n      <td>188.326216</td>\n    </tr>\n    <tr>\n      <th>29</th>\n      <td>27000000</td>\n      <td>15.304422</td>\n      <td>203.630638</td>\n    </tr>\n    <tr>\n      <th>30</th>\n      <td>29791000</td>\n      <td>17.221785</td>\n      <td>220.852423</td>\n    </tr>\n    <tr>\n      <th>31</th>\n      <td>32768000</td>\n      <td>19.113636</td>\n      <td>239.966059</td>\n    </tr>\n    <tr>\n      <th>32</th>\n      <td>35937000</td>\n      <td>20.122766</td>\n      <td>260.088825</td>\n    </tr>\n    <tr>\n      <th>33</th>\n      <td>39304000</td>\n      <td>20.984364</td>\n      <td>281.073189</td>\n    </tr>\n    <tr>\n      <th>34</th>\n      <td>42875000</td>\n      <td>23.451376</td>\n      <td>304.524565</td>\n    </tr>\n    <tr>\n      <th>35</th>\n      <td>46656000</td>\n      <td>23.997021</td>\n      <td>328.521585</td>\n    </tr>\n    <tr>\n      <th>36</th>\n      <td>50653000</td>\n      <td>25.610352</td>\n      <td>354.131937</td>\n    </tr>\n    <tr>\n      <th>37</th>\n      <td>54872000</td>\n      <td>31.284142</td>\n      <td>385.416079</td>\n    </tr>\n    <tr>\n      <th>38</th>\n      <td>59319000</td>\n      <td>32.038403</td>\n      <td>417.454481</td>\n    </tr>\n    <tr>\n      <th>39</th>\n      <td>64000000</td>\n      <td>35.877228</td>\n      <td>453.331709</td>\n    </tr>\n    <tr>\n      <th>40</th>\n      <td>68921000</td>\n      <td>36.995029</td>\n      <td>490.326738</td>\n    </tr>\n    <tr>\n      <th>41</th>\n      <td>74088000</td>\n      <td>39.696789</td>\n      <td>530.023527</td>\n    </tr>\n    <tr>\n      <th>42</th>\n      <td>79507000</td>\n      <td>41.115808</td>\n      <td>571.139336</td>\n    </tr>\n    <tr>\n      <th>43</th>\n      <td>85184000</td>\n      <td>43.344784</td>\n      <td>614.484119</td>\n    </tr>\n    <tr>\n      <th>44</th>\n      <td>91125000</td>\n      <td>46.094370</td>\n      <td>660.578489</td>\n    </tr>\n    <tr>\n      <th>45</th>\n      <td>97336000</td>\n      <td>53.361797</td>\n      <td>713.940287</td>\n    </tr>\n    <tr>\n      <th>46</th>\n      <td>103823000</td>\n      <td>59.187412</td>\n      <td>773.127699</td>\n    </tr>\n    <tr>\n      <th>47</th>\n      <td>110592000</td>\n      <td>78.810644</td>\n      <td>851.938343</td>\n    </tr>\n    <tr>\n      <th>48</th>\n      <td>117649000</td>\n      <td>79.676819</td>\n      <td>931.615162</td>\n    </tr>\n    <tr>\n      <th>49</th>\n      <td>125000000</td>\n      <td>85.054398</td>\n      <td>1016.669559</td>\n    </tr>\n  </tbody>\n</table>\n</div>",
      "text/plain": "    Array dimension  Time (ms)  Time (ms) SUM\n0              1000  17.608833      17.608833\n1              8000   0.085402      17.694235\n2             27000   0.160217      17.854452\n3             64000   0.250626      18.105078\n4            125000   0.421429      18.526506\n5            216000   0.496006      19.022512\n6            343000   0.585556      19.608068\n7            512000   0.938606      20.546675\n8            729000   0.927782      21.474457\n9           1000000   1.054621      22.529078\n10          1331000   1.604557      24.133635\n11          1728000   1.848793      25.982428\n12          2197000   3.248978      29.231405\n13          2744000   5.357218      34.588623\n14          3375000   5.854416      40.443039\n15          4096000   5.948353      46.391392\n16          4913000   6.777620      53.169012\n17          5832000   8.550787      61.719799\n18          6859000   7.999372      69.719172\n19          8000000   8.106804      77.825975\n20          9261000  10.565376      88.391352\n21         10648000  11.108398      99.499750\n22         12167000  12.911558     112.411308\n23         13824000  14.602566     127.013874\n24         15625000  15.426397     142.440271\n25         17576000   8.813334     151.253605\n26         19683000   9.830809     161.084414\n27         21952000  12.499809     173.584223\n28         24389000  14.741993     188.326216\n29         27000000  15.304422     203.630638\n30         29791000  17.221785     220.852423\n31         32768000  19.113636     239.966059\n32         35937000  20.122766     260.088825\n33         39304000  20.984364     281.073189\n34         42875000  23.451376     304.524565\n35         46656000  23.997021     328.521585\n36         50653000  25.610352     354.131937\n37         54872000  31.284142     385.416079\n38         59319000  32.038403     417.454481\n39         64000000  35.877228     453.331709\n40         68921000  36.995029     490.326738\n41         74088000  39.696789     530.023527\n42         79507000  41.115808     571.139336\n43         85184000  43.344784     614.484119\n44         91125000  46.094370     660.578489\n45         97336000  53.361797     713.940287\n46        103823000  59.187412     773.127699\n47        110592000  78.810644     851.938343\n48        117649000  79.676819     931.615162\n49        125000000  85.054398    1016.669559"
     },
     "metadata": {},
     "output_type": "display_data"
    },
    {
     "data": {
      "image/png": "[encoded data removed]",
      "text/plain": "<Figure size 432x288 with 1 Axes>"
     },
     "metadata": {
      "needs_background": "light"
     },
     "output_type": "display_data"
    },
    {
     "name": "stdout",
     "output_type": "stream",
     "text": [
      "\n",
      "Tiempo medio de acceso sin memmap:  164.500093460083 ms\n",
      "\n",
      "Tiempo medio de acceso con memmap:  20.333391189575195 ms\n",
      "\n",
      "El uso de memmap ha supuesto un 809.01%, del acceso sin memmap\n"
     ]
    }
   ],
   "source": [
    "import numpy as np\n",
    "from time import time\n",
    "import matplotlib.pyplot as plt\n",
    "import pandas as pd\n",
    "from IPython.display import display, HTML\n",
    "\n",
    "# Se usan varias dimensiones de arrays cuyas raices cubicas sean enteros para poder formar ndarrays de 3 dimensiones que hacen más complejo su acceso\n",
    "array_dim = np.power(np.arange(10, 501, 10), 3)\n",
    "\n",
    "dataset_size = len(array_dim)\n",
    "\n",
    "# Arrays que almacenan los tiempos de acceso según cada método (ndarray vs memmap)\n",
    "tiempos_ndarray = np.zeros(dataset_size)\n",
    "tiempos_memmap = np.zeros(dataset_size)\n",
    "\n",
    "# Se itera sobre un ndarray\n",
    "for iter in range(dataset_size):\n",
    "    size = array_dim[iter]\n",
    "    size_per_axis = int(size**(1/3)) + 1\n",
    "    a1 = np.arange(size).reshape(size_per_axis, size_per_axis, size_per_axis)\n",
    "    \n",
    "    # Calculamos el tiempo  medio de 5 accesos al array\n",
    "    t1 = time()\n",
    "    for i in range(5):\n",
    "        view = np.array(a1[::, ::, ::])\n",
    "    t1 = ((time() - t1) / 5) * 1000\n",
    "    tiempos_ndarray[iter] = t1\n",
    "\n",
    "# Tabla no memmap\n",
    "print('TABLA TIEMPOS SIN MEMMAP\\n')\n",
    "df_ndarray = pd.DataFrame({\"Array dimension\": array_dim, \"Time (ms)\": tiempos_ndarray, \"Time (ms) SUM\": np.cumsum(tiempos_ndarray)})\n",
    "display(df_ndarray)\n",
    "\n",
    "\n",
    "# Se itera sobre un ndarray con memmap\n",
    "for iter in range(dataset_size):\n",
    "    size = array_dim[iter]\n",
    "    size_per_axis = int(size**(1/3)) + 1\n",
    "    a2 = np.memmap('/tmp/myarray2.memmap', mode='write', shape=(size_per_axis, size_per_axis, size_per_axis))\n",
    "\n",
    "    # Calculamos el tiempo  medio de 5 accesos al array\n",
    "    t2 = time() \n",
    "    for i in range(5):\n",
    "        view = np.array(a2[::, ::, ::])\n",
    "    t2 = ((time() - t2) / 5) * 1000\n",
    "    tiempos_memmap[iter] = t2\n",
    "\n",
    "# Tabla memmap\n",
    "print('\\n\\nTABLA TIEMPOS CON MEMMAP\\n')\n",
    "df_memmap = pd.DataFrame({\"Array dimension\": array_dim, \"Time (ms)\": tiempos_memmap, \"Time (ms) SUM\": np.cumsum(tiempos_memmap)})\n",
    "display(df_memmap)\n",
    "\n",
    "\n",
    "#Plot\n",
    "plt.plot(array_dim, tiempos_ndarray, label=\"ndarray\")\n",
    "plt.plot(array_dim, tiempos_memmap, label=\"memmap\")\n",
    "\n",
    "#Estilo\n",
    "plt.rcParams['figure.figsize'] = (10,10)\n",
    "\n",
    "#Leyenda\n",
    "plt.ylabel('Tiempo')\n",
    "plt.xlabel('Dimensión del array')\n",
    "plt.legend(loc=\"upper left\")\n",
    "\n",
    "plt.show()\n",
    "\n",
    "# Cálculo para comparaciones\n",
    "ndarraymean = np.mean(tiempos_ndarray)\n",
    "memmapmean = np.mean(tiempos_memmap)\n",
    "improve = ndarraymean/memmapmean * 100\n",
    "\n",
    "print('\\nTiempo medio de acceso sin memmap: ', ndarraymean, 'ms')\n",
    "print('\\nTiempo medio de acceso con memmap: ', memmapmean, 'ms')\n",
    "print(\"\\nEl uso de memmap ha supuesto un {:.2f}%, del acceso sin memmap\".format(improve))"
   ]
  },
  {
   "cell_type": "markdown",
   "metadata": {},
   "source": [
    "### Comportamiento usando slicing sobre una dimension N\n",
    "Se puede observar sin embargo como el acceso a traves de slicing a dimensiones concretas empeora el rendimiento de memmap. Esto es debido a su comportamiento de lecutra de bloques completos en su búsqueda de valores dentro de las dimensiones solicitadas, teniendo que leer bloques enteros para acceder a solo un valor del mismo."
   ]
  },
  {
   "cell_type": "code",
   "execution_count": 2,
   "metadata": {},
   "outputs": [
    {
     "ename": "KeyboardInterrupt",
     "evalue": "",
     "output_type": "error",
     "traceback": [
      "\u001b[0;31m---------------------------------------------------------------------------\u001b[0m",
      "\u001b[0;31mKeyboardInterrupt\u001b[0m                         Traceback (most recent call last)",
      "\u001b[0;32m<ipython-input-2-fbaae7935270>\u001b[0m in \u001b[0;36m<module>\u001b[0;34m\u001b[0m\n\u001b[1;32m     18\u001b[0m     \u001b[0msize\u001b[0m \u001b[0;34m=\u001b[0m \u001b[0marray_dim\u001b[0m\u001b[0;34m[\u001b[0m\u001b[0miter\u001b[0m\u001b[0;34m]\u001b[0m\u001b[0;34m\u001b[0m\u001b[0;34m\u001b[0m\u001b[0m\n\u001b[1;32m     19\u001b[0m     \u001b[0msize_per_axis\u001b[0m \u001b[0;34m=\u001b[0m \u001b[0mint\u001b[0m\u001b[0;34m(\u001b[0m\u001b[0msize\u001b[0m\u001b[0;34m**\u001b[0m\u001b[0;34m(\u001b[0m\u001b[0;36m1\u001b[0m\u001b[0;34m/\u001b[0m\u001b[0;36m3\u001b[0m\u001b[0;34m)\u001b[0m\u001b[0;34m)\u001b[0m \u001b[0;34m+\u001b[0m \u001b[0;36m1\u001b[0m\u001b[0;34m\u001b[0m\u001b[0;34m\u001b[0m\u001b[0m\n\u001b[0;32m---> 20\u001b[0;31m     \u001b[0ma1\u001b[0m \u001b[0;34m=\u001b[0m \u001b[0mnp\u001b[0m\u001b[0;34m.\u001b[0m\u001b[0marange\u001b[0m\u001b[0;34m(\u001b[0m\u001b[0msize\u001b[0m\u001b[0;34m)\u001b[0m\u001b[0;34m.\u001b[0m\u001b[0mreshape\u001b[0m\u001b[0;34m(\u001b[0m\u001b[0msize_per_axis\u001b[0m\u001b[0;34m,\u001b[0m \u001b[0msize_per_axis\u001b[0m\u001b[0;34m,\u001b[0m \u001b[0msize_per_axis\u001b[0m\u001b[0;34m)\u001b[0m\u001b[0;34m\u001b[0m\u001b[0;34m\u001b[0m\u001b[0m\n\u001b[0m\u001b[1;32m     21\u001b[0m \u001b[0;34m\u001b[0m\u001b[0m\n\u001b[1;32m     22\u001b[0m     \u001b[0;31m# Calculamos el tiempo  medio de 5 accesos al array\u001b[0m\u001b[0;34m\u001b[0m\u001b[0;34m\u001b[0m\u001b[0;34m\u001b[0m\u001b[0m\n",
      "\u001b[0;31mKeyboardInterrupt\u001b[0m: "
     ]
    }
   ],
   "source": [
    "import numpy as np\n",
    "from time import time\n",
    "import matplotlib.pyplot as plt\n",
    "import pandas as pd\n",
    "from IPython.display import display, HTML\n",
    "\n",
    "# Se usan varias dimensiones de arrays cuyas raices cubicas sean enteros para poder formar ndarrays de 3 dimensiones que hacen más complejo su acceso\n",
    "array_dim = np.power(np.arange(10, 501, 10), 3)\n",
    "\n",
    "dataset_size = len(array_dim)\n",
    "\n",
    "# Arrays que almacenan los tiempos de acceso según cada método (ndarray vs memmap)\n",
    "tiempos_ndarray = np.zeros(dataset_size)\n",
    "tiempos_memmap = np.zeros(dataset_size)\n",
    "\n",
    "# Se itera sobre un ndarray\n",
    "for iter in range(dataset_size):\n",
    "    size = array_dim[iter]\n",
    "    size_per_axis = int(size**(1/3)) + 1\n",
    "    a1 = np.arange(size).reshape(size_per_axis, size_per_axis, size_per_axis)\n",
    "    \n",
    "    # Calculamos el tiempo  medio de 5 accesos al array\n",
    "    t1 = time()\n",
    "    for i in range(5):\n",
    "        view = np.array(a1[0, ::, ::]) # Acceso con axis bloqueado a 0\n",
    "    t1 = ((time() - t1) / 5) * 1000\n",
    "    tiempos_ndarray[iter] = t1\n",
    "\n",
    "# Tabla no memmap\n",
    "print('TABLA TIEMPOS SIN MEMMAP\\n')\n",
    "df_ndarray = pd.DataFrame({\"Array dimension\": array_dim, \"Time (ms)\": tiempos_ndarray, \"Time (ms) SUM\": np.cumsum(tiempos_ndarray)})\n",
    "display(df_ndarray)\n",
    "\n",
    "\n",
    "# Se itera sobre un ndarray con memmap\n",
    "for iter in range(dataset_size):\n",
    "    size = array_dim[iter]\n",
    "    size_per_axis = int(size**(1/3)) + 1\n",
    "    a2 = np.memmap('/tmp/myarray2.memmap', mode='write', shape=(size_per_axis, size_per_axis, size_per_axis))\n",
    "\n",
    "    # Calculamos el tiempo  medio de 5 accesos al array\n",
    "    t2 = time() \n",
    "    for i in range(5):\n",
    "        view = np.array(a2[0, ::, ::]) # Acceso con axis bloqueado a 0\n",
    "    t2 = ((time() - t2) / 5) * 1000\n",
    "    tiempos_memmap[iter] = t2\n",
    "\n",
    "# Tabla memmap\n",
    "print('\\n\\nTABLA TIEMPOS CON MEMMAP\\n')\n",
    "df_memmap = pd.DataFrame({\"Array dimension\": array_dim, \"Time (ms)\": tiempos_memmap, \"Time (ms) SUM\": np.cumsum(tiempos_memmap)})\n",
    "display(df_memmap)\n",
    "\n",
    "\n",
    "#Plot\n",
    "plt.plot(array_dim, tiempos_ndarray, label=\"ndarray\")\n",
    "plt.plot(array_dim, tiempos_memmap, label=\"memmap\")\n",
    "\n",
    "#Estilo\n",
    "plt.rcParams['figure.figsize'] = (10,10)\n",
    "\n",
    "#Leyenda\n",
    "plt.ylabel('Tiempo')\n",
    "plt.xlabel('Dimensión del array')\n",
    "plt.legend(loc=\"upper left\")\n",
    "\n",
    "# Cálculo para comparaciones\n",
    "ndarraymean = np.mean(tiempos_ndarray)\n",
    "memmapmean = np.mean(tiempos_memmap)\n",
    "improve = ndarraymean/memmapmean*100\n",
    "\n",
    "print('\\nTiempo medio de acceso sin memmap: ', ndarraymean, 'ms')\n",
    "print('\\nTiempo medio de acceso con memmap: ', memmapmean, 'ms')\n",
    "print(\"\\nEl uso de memmap ha supuesto un {:.2f}%, del acceso sin memmap\".format(improve))\n",
    "\n",
    "plt.show()"
   ]
  },
  {
   "cell_type": "markdown",
   "metadata": {},
   "source": [
    "Como podemos observar el uso de memmap para recorrer dimensiones concretas dejaría de ser útil. En este ejemplo accedemos a diferentes filas dejando las otras dos dimensiones fijas a valores concretos, el uso de memmap sobretodo en los primeros accesos muestra una clara deficiencia con respecto a un acceso a variable normal."
   ]
  },
  {
   "cell_type": "code",
   "execution_count": 28,
   "metadata": {},
   "outputs": [
    {
     "name": "stdout",
     "output_type": "stream",
     "text": [
      "TABLA TIEMPOS SIN MEMMAP\n",
      "\n"
     ]
    },
    {
     "data": {
      "text/html": "<div>\n<style scoped>\n    .dataframe tbody tr th:only-of-type {\n        vertical-align: middle;\n    }\n\n    .dataframe tbody tr th {\n        vertical-align: top;\n    }\n\n    .dataframe thead th {\n        text-align: right;\n    }\n</style>\n<table border=\"1\" class=\"dataframe\">\n  <thead>\n    <tr style=\"text-align: right;\">\n      <th></th>\n      <th>Array dimension</th>\n      <th>Time (ms)</th>\n      <th>Time (ms) SUM</th>\n    </tr>\n  </thead>\n  <tbody>\n    <tr>\n      <th>0</th>\n      <td>1000</td>\n      <td>0.013971</td>\n      <td>0.013971</td>\n    </tr>\n    <tr>\n      <th>1</th>\n      <td>8000</td>\n      <td>0.001383</td>\n      <td>0.015354</td>\n    </tr>\n    <tr>\n      <th>2</th>\n      <td>27000</td>\n      <td>0.002193</td>\n      <td>0.017548</td>\n    </tr>\n    <tr>\n      <th>3</th>\n      <td>64000</td>\n      <td>0.005579</td>\n      <td>0.023127</td>\n    </tr>\n    <tr>\n      <th>4</th>\n      <td>125000</td>\n      <td>0.003767</td>\n      <td>0.026894</td>\n    </tr>\n    <tr>\n      <th>...</th>\n      <td>...</td>\n      <td>...</td>\n      <td>...</td>\n    </tr>\n    <tr>\n      <th>75</th>\n      <td>438976000</td>\n      <td>0.005579</td>\n      <td>0.433159</td>\n    </tr>\n    <tr>\n      <th>76</th>\n      <td>456533000</td>\n      <td>0.005198</td>\n      <td>0.438356</td>\n    </tr>\n    <tr>\n      <th>77</th>\n      <td>474552000</td>\n      <td>0.005436</td>\n      <td>0.443792</td>\n    </tr>\n    <tr>\n      <th>78</th>\n      <td>493039000</td>\n      <td>0.005198</td>\n      <td>0.448990</td>\n    </tr>\n    <tr>\n      <th>79</th>\n      <td>512000000</td>\n      <td>0.005436</td>\n      <td>0.454426</td>\n    </tr>\n  </tbody>\n</table>\n<p>80 rows × 3 columns</p>\n</div>",
      "text/plain": "    Array dimension  Time (ms)  Time (ms) SUM\n0              1000   0.013971       0.013971\n1              8000   0.001383       0.015354\n2             27000   0.002193       0.017548\n3             64000   0.005579       0.023127\n4            125000   0.003767       0.026894\n..              ...        ...            ...\n75        438976000   0.005579       0.433159\n76        456533000   0.005198       0.438356\n77        474552000   0.005436       0.443792\n78        493039000   0.005198       0.448990\n79        512000000   0.005436       0.454426\n\n[80 rows x 3 columns]"
     },
     "metadata": {},
     "output_type": "display_data"
    },
    {
     "name": "stdout",
     "output_type": "stream",
     "text": [
      "\n",
      "\n",
      "TABLA TIEMPOS CON MEMMAP\n",
      "\n"
     ]
    },
    {
     "data": {
      "text/html": "<div>\n<style scoped>\n    .dataframe tbody tr th:only-of-type {\n        vertical-align: middle;\n    }\n\n    .dataframe tbody tr th {\n        vertical-align: top;\n    }\n\n    .dataframe thead th {\n        text-align: right;\n    }\n</style>\n<table border=\"1\" class=\"dataframe\">\n  <thead>\n    <tr style=\"text-align: right;\">\n      <th></th>\n      <th>Array dimension</th>\n      <th>Time (ms)</th>\n      <th>Time (ms) SUM</th>\n    </tr>\n  </thead>\n  <tbody>\n    <tr>\n      <th>0</th>\n      <td>1000</td>\n      <td>0.006771</td>\n      <td>0.006771</td>\n    </tr>\n    <tr>\n      <th>1</th>\n      <td>8000</td>\n      <td>0.071430</td>\n      <td>0.078201</td>\n    </tr>\n    <tr>\n      <th>2</th>\n      <td>27000</td>\n      <td>0.091171</td>\n      <td>0.169373</td>\n    </tr>\n    <tr>\n      <th>3</th>\n      <td>64000</td>\n      <td>0.105047</td>\n      <td>0.274420</td>\n    </tr>\n    <tr>\n      <th>4</th>\n      <td>125000</td>\n      <td>0.089455</td>\n      <td>0.363874</td>\n    </tr>\n    <tr>\n      <th>...</th>\n      <td>...</td>\n      <td>...</td>\n      <td>...</td>\n    </tr>\n    <tr>\n      <th>75</th>\n      <td>438976000</td>\n      <td>0.075388</td>\n      <td>6.602430</td>\n    </tr>\n    <tr>\n      <th>76</th>\n      <td>456533000</td>\n      <td>0.074959</td>\n      <td>6.677389</td>\n    </tr>\n    <tr>\n      <th>77</th>\n      <td>474552000</td>\n      <td>0.078249</td>\n      <td>6.755638</td>\n    </tr>\n    <tr>\n      <th>78</th>\n      <td>493039000</td>\n      <td>0.039864</td>\n      <td>6.795502</td>\n    </tr>\n    <tr>\n      <th>79</th>\n      <td>512000000</td>\n      <td>0.044012</td>\n      <td>6.839514</td>\n    </tr>\n  </tbody>\n</table>\n<p>80 rows × 3 columns</p>\n</div>",
      "text/plain": "    Array dimension  Time (ms)  Time (ms) SUM\n0              1000   0.006771       0.006771\n1              8000   0.071430       0.078201\n2             27000   0.091171       0.169373\n3             64000   0.105047       0.274420\n4            125000   0.089455       0.363874\n..              ...        ...            ...\n75        438976000   0.075388       6.602430\n76        456533000   0.074959       6.677389\n77        474552000   0.078249       6.755638\n78        493039000   0.039864       6.795502\n79        512000000   0.044012       6.839514\n\n[80 rows x 3 columns]"
     },
     "metadata": {},
     "output_type": "display_data"
    },
    {
     "name": "stdout",
     "output_type": "stream",
     "text": [
      "\n",
      "Tiempo medio de acceso sin memmap:  0.0056803226470947266 ms\n",
      "\n",
      "Tiempo medio de acceso con memmap:  0.08549392223358154 ms\n",
      "\n",
      "El uso de memmap ha supuesto un 0.07%, del acceso sin memmap\n"
     ]
    },
    {
     "data": {
      "image/png": "[encoded data removed]",
      "text/plain": "<Figure size 720x720 with 1 Axes>"
     },
     "metadata": {
      "needs_background": "light"
     },
     "output_type": "display_data"
    }
   ],
   "source": [
    "# Se usan varias dimensiones de arrays cuyas raices cubicas sean enteros para poder formar ndarrays de 3 dimensiones que hacen más complejo su acceso\n",
    "array_dim = np.power(np.arange(10, 801, 10), 3)\n",
    "\n",
    "dataset_size = len(array_dim)\n",
    "\n",
    "# Arrays que almacenan los tiempos de acceso según cada método (ndarray vs memmap)\n",
    "tiempos_ndarray = np.zeros(dataset_size)\n",
    "tiempos_memmap = np.zeros(dataset_size)\n",
    "\n",
    "# Se itera sobre un ndarray\n",
    "for iter in range(dataset_size):\n",
    "    size = array_dim[iter]\n",
    "    size_per_axis = int(size**(1/3)) + 1\n",
    "    a1 = np.arange(size).reshape(size_per_axis, size_per_axis, size_per_axis)\n",
    "    \n",
    "    # Calculamos el tiempo  medio de 5 accesos al array\n",
    "    t1 = time()\n",
    "    for i in range(5):\n",
    "        view = np.array(a1[i, 0, 0]) # Acceso con todos los axis bloqueados, iteramos sobre el primero\n",
    "    t1 = ((time() - t1) / 5) * 1000\n",
    "    tiempos_ndarray[iter] = t1\n",
    "\n",
    "# Tabla no memmap\n",
    "print('TABLA TIEMPOS SIN MEMMAP\\n')\n",
    "df_ndarray = pd.DataFrame({\"Array dimension\": array_dim, \"Time (ms)\": tiempos_ndarray, \"Time (ms) SUM\": np.cumsum(tiempos_ndarray)})\n",
    "display(df_ndarray)\n",
    "\n",
    "\n",
    "# Se itera sobre un ndarray con memmap\n",
    "for iter in range(dataset_size):\n",
    "    size = array_dim[iter]\n",
    "    size_per_axis = int(size**(1/3)) + 1\n",
    "    a2 = np.memmap('/tmp/myarray2.memmap', mode='write', shape=(size_per_axis, size_per_axis, size_per_axis))\n",
    "\n",
    "    # Calculamos el tiempo  medio de 5 accesos al array\n",
    "    t2 = time() \n",
    "    for i in range(5):\n",
    "        view = np.array(a2[i, 0, 0]) # Acceso con todos los axis bloqueados, iteramos sobre el primero\n",
    "    t2 = ((time() - t2) / 5) * 1000\n",
    "    tiempos_memmap[iter] = t2\n",
    "\n",
    "# Tabla memmap\n",
    "print('\\n\\nTABLA TIEMPOS CON MEMMAP\\n')\n",
    "df_memmap = pd.DataFrame({\"Array dimension\": array_dim, \"Time (ms)\": tiempos_memmap, \"Time (ms) SUM\": np.cumsum(tiempos_memmap)})\n",
    "display(df_memmap)\n",
    "\n",
    "\n",
    "#Plot\n",
    "plt.plot(array_dim, tiempos_ndarray, label=\"ndarray\")\n",
    "plt.plot(array_dim, tiempos_memmap, label=\"memmap\")\n",
    "\n",
    "#Estilo\n",
    "plt.rcParams['figure.figsize'] = (10,10)\n",
    "\n",
    "#Leyenda\n",
    "plt.ylabel('Tiempo')\n",
    "plt.xlabel('Dimensión del array')\n",
    "plt.legend(loc=\"upper left\")\n",
    "\n",
    "ndarraymean = np.mean(tiempos_ndarray)\n",
    "memmapmean = np.mean(tiempos_memmap)\n",
    "improve = ndarraymean/memmapmean\n",
    "\n",
    "print('\\nTiempo medio de acceso sin memmap: ', ndarraymean, 'ms')\n",
    "print('\\nTiempo medio de acceso con memmap: ', memmapmean, 'ms')\n",
    "print(\"\\nEl uso de memmap ha supuesto un {:.2f}%, del acceso sin memmap\".format(improve))"
   ]
  },
  {
   "cell_type": "markdown",
   "metadata": {},
   "source": [
    "### Librerías hyp5, pytables, y zarr\n",
    "\n",
    "Sería interesante valorar el uso de librerías para poder controlar la compresión y fragmentación de bloques de memoria. Estas librerías permiten modificar estos valores para poder acceder de forma más personalizada a nuestros dataset. Además ofrecen ciertas caracterísiticas como acceso en remoto a nuestros archivos a traves de aws s3 por ejemplo"
   ]
  },
  {
   "cell_type": "markdown",
   "metadata": {},
   "source": [
    "## Artículo 02\n",
    "\n",
    "### Data Structures for Statistical Computing in Python\n",
    "\n",
    "McKinney, W. (2010). Data Structures for Statistical Computing in Python.\n",
    "Proceedings of the 9th Python in Science Conference, December, 56-61.\n",
    "https://doi.org/10.25080/majora-92bf1922-00a\n",
    "\n",
    "https://www.researchgate.net/publication/265001241_Data_Structures_for_Statistical_Computing_in_Python\n",
    "\n",
    "En este segundo artículo el creador de *pandas* introduce dicha librería en comparación con las estructuras nativas de R.\n",
    "\n",
    "- Actividad 02.01 - Desarrollar una opinión razonada del estado actual de las herramientas de análisis de datos estadísticos en contraposición a como se muestran en el artículo, R vs Python vs SQL vs Others..."
   ]
  },
  {
   "cell_type": "markdown",
   "metadata": {},
   "source": [
    "## <center> Actividad 02.01</center>\n",
    "--- "
   ]
  },
  {
   "cell_type": "markdown",
   "metadata": {},
   "source": [
    "Vamos a tener en cuenta las siguientes herramientas para el análisis de datos estadísticos:\n",
    "\n",
    "- R\n",
    "- Python\n",
    "- SQL\n",
    "- Matlab\n",
    "- SAS\n",
    "- Tableau\n",
    "\n",
    "Actualmente Python está pasando a dominar sobre las demás herramientas de análisis estadístico. Generalmente se debe a su propiedad open source que permite incluir librerías cada vez más sofisticadas que hasta ahora han llevado a ofrecer una gran variedad de herramientas para complementar la preparación, análisis y visualización de los datos. \n",
    "\n",
    "Es en este último aspecto, **la visualización de datos** es donde **python, R y Matlab dominan sobre SAS**, dada la complejidad de este último software para computar gráficos en su librería SAS Graph package. Si bien, Tableau (y Power BI) ha demostrado ofrecer una facilidad y potencia para la visualización mayor que cualquiera de las demás herramientas. Estos últimos sin embargo no ofrecen la misma potencia en cuanto a la preparación y análisis de los datos que pueden ofrecer Python y R, sobretodo en bases de datos no relacionales. Esto se debe a la característica de Tableau de ser un software más bien orientado hacia la visualización que hacia el análisis.\n",
    "\n",
    "Python es un lenguaje orientado a objetos mientras que R se basa más en funciones, las cuales suelen ir directamente dirigidas al análisis estadístico, es por esto que **R posee muchas más capacidades analíticas *built-in*** mientras que **Python se basa en sus librerías**. Esto sin embargo es uno de los fuertes de Python, ya que posee muchos mas desarrolladores dedicados a incrementar estas librerías.\n",
    "\n",
    "Dada su naturaleza dedicada al análisis de datos **R y Matlab requieren menos lineas de código**, si bien resultan menos legibles y por tanto la curva de aprendizaje de estos lenguajes, a pesar de ser rápida, es algo mayor, sobretodo en R. Destacar de este último, así como SAS y Tableau que no son gratuitos (también ocurre con R en menor medida).\n",
    "\n",
    "**SQL** por su parte resulta ser un lengauje más sencillo y potente (hasta cierto límite), sobre bases de datos estructuradas. Es cierto que SQL se orienta hacia la realización de consultas, pero tiene cierto grado de semajanza en el análisis estadístico con R, Matlab y Python. Su elección sobre las demás es clara cunado se desea consultar sobre bases de datos estructuradas, por ejemplo desde entornos *Cloud*, como *BigQuery*. Su simpleza y legibilidad hace de SQL una opción muy válida cuando tratamos con este tipo de bases de datos. Sin embargo existe un **límite claro, las bases de datos no estructuradas y ciertas consultas excesivamente** complejas que sería mucho más sencillo realizar con lenguajes como Python o R, donde podemos declarar nuevas variables o manejar estructuras de datos con mucha mayor flexibilidad.\n",
    "\n",
    "**En cuanto a coste computacional, Matlab domina sobre R y Python.**\n",
    "\n",
    "### Opinión\n",
    "\n",
    "Valorando la capacidad de análisis, computación, visualización, flexibilidad y coste, los dos ganadores en el análisis de datos son R y Python. Entre estos dos lenguajes, R está puramente orientado a funciones y análisis estadístico mientras que python es un lenguaje orientado a objetos que incluye una gran librería orientada al análisis. Creo que esta carácteristica de Python le hace mejor sobre R, dado que ofrece muchas mas opciones y libertad en la forma de afrontar problemas relacionados con la estadística así como una integración y flexibilidad con otros aspectos no estadísticos resulta mayor que R."
   ]
  },
  {
   "cell_type": "markdown",
   "metadata": {},
   "source": [
    "## Bibliografía"
   ]
  },
  {
   "cell_type": "markdown",
   "metadata": {},
   "source": [
    "\n",
    "[Numpy, Broadcasting](https://numpy.org/devdocs/user/theory.broadcasting.html)\n",
    "\n",
    "[Numpy, memmap](https://numpy.org/doc/stable/reference/generated/numpy.memmap.html)\n",
    "\n",
    "[Zarr, documentation](https://zarr.readthedocs.io/en/stable/)\n",
    "\n",
    "[Memmap vs HDF5/zarr](https://pythonspeed.com/articles/mmap-vs-zarr-hdf5/)\n",
    "\n",
    "[Matlab vs Python vs R](http://www.jds-online.com/files/150完成V.pdf)\n",
    "\n",
    "[Most used statistical analysis tools](https://imotions.com/blog/statistical-tools/)\n",
    "\n",
    "[SQL & Python](https://mode.com/blog/learning-python-sql/)\n",
    "\n",
    "[R & Matlab comparisson](https://statanalytica.com/blog/r-vs-matlab/)\n",
    "\n",
    "[SAS vs R vs Python](https://www.analyticsvidhya.com/blog/2017/09/sas-vs-vs-python-tool-learn/)"
   ]
  }
 ],
 "metadata": {
  "kernelspec": {
   "display_name": "Python 3.8.8 64-bit ('py8.8env': conda)",
   "name": "python388jvsc74a57bd0872ef5f367a824e2a9f29f9c70026d6dc7e7210644532417612a85a25d586e43"
  },
  "language_info": {
   "name": "python",
   "version": ""
  },
  "metadata": {
   "interpreter": {
    "hash": "4cd7ab41f5fca4b9b44701077e38c5ffd31fe66a6cab21e0214b68d958d0e462"
   }
  }
 },
 "nbformat": 4,
 "nbformat_minor": 2
}