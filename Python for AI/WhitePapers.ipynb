{
 "cells": [
  {
   "cell_type": "markdown",
   "metadata": {},
   "source": [
    "## Artículo 01\n",
    "\n",
    "### The NumPy array: a structure for efficient numerical computation\n",
    "\n",
    "Van Der Walt, S., Colbert, S. C., &amp; Varoquaux, G. (2011). The NumPy array: A\n",
    "structure for efficient numerical computation. Computing in Science and\n",
    "Engineering, 13(2), 22-30. https://doi.org/10.1109/MCSE.2011.37\n",
    "\n",
    "https://www.researchgate.net/publication/224223550_The_NumPy_Array_A_Structure_for_Efficient_Numerical_Computation\n",
    "\n",
    "En este artículo se presenta la estructura *ndarray* de NumPy, y se hace un estudio sobre su uso y cómo mejora el rendimiento de ciertas operaciones matemáticas para la computación numérica.\n",
    "\n",
    "Se hace una breve introducción al *Broadcasting* como técnica que usa NumPy para realizar operaciones artiméticas sobre dos o más arrays con distintas dimensiones. \n",
    "\n",
    "- Actividad 01.01 - Ampliar dicha explicación, aportando posibles restricciones o limitaciones a dicho sistema y ejemplos propios de los casos de uso.\n",
    "\n",
    "También se introduce el trabajo con ficheros usando memoria mapeada.\n",
    "\n",
    "- Actividad 01.02 - Verificar la eficacia y mejora posible de rendimiento del uso de dicha técnica sobre ndarrays de tamaños grandes."
   ]
  },
  {
   "cell_type": "markdown",
   "metadata": {},
   "source": [
    "## <center> Actividad 01.01</center>\n",
    "--- "
   ]
  },
  {
   "cell_type": "markdown",
   "metadata": {},
   "source": [
    "El uso del *Broadcasting* en Numpy y ayuda a realizar operaciones aritméticas entre matrices de distintas dimensiones. Esto resulta muy útil cuando se quiere **realizar cualquier operación sobre un escalar o sobre una matriz cuya dimensión sea un subconjunto válido de la anterior**. ¿Qué entendemos por un subconjunto válido?\n",
    "\n",
    "Numpy presenta la regla del *Broadcasting*. Esta regla limita el uso de esta operación entre *ndarrays* de la siguiente manera:\n",
    "\n",
    "- La operación se realiza con un escalar (dimensión 1)\n",
    "- La operación se realiza entre dos matrizes cuyas dimensiones (calculadas de atrás hacia delante) son iguales:\n",
    "\n",
    "Para exponer de manera más clara esta segunda regla vamos a imaginar dos matrices A y B. \n",
    "\n",
    "    Dimensión de A = (Ai, Aj, Ak)\n",
    "    Dimensión de B = (Bi, Bj)\n",
    "\n",
    "Para que *Numpy* pueda aplicar *Broadcasting* a una operación entre estas dos matrices se debe cumplir lo que: \n",
    "    \n",
    "    Ak = Bj\n",
    "    Aj = Bi\n",
    "\n",
    "Dentro de esta segunda regla estarían incluidas las operaciones entre matrices cuya ultima dimensión sea igual a a la dimensión del vector con el que operan. Sea una matriz A y un vector v\n",
    "\n",
    "    Dimensión de A = (Ai, Aj, Ak)\n",
    "    Dimensión de v = vi\n",
    "\n",
    "Se debe cumplir que:\n",
    "\n",
    "    Ak = vi\n",
    "\n",
    "Pasemos a presentar ejemplos:\n"
   ]
  },
  {
   "cell_type": "markdown",
   "metadata": {},
   "source": [
    "### Caso válido 1: operación con un escalar\n",
    "\n",
    "![Matriz por escalar](https://2.bp.blogspot.com/-Baqf02hjMUY/VvV0BNH3-mI/AAAAAAAABQo/y_VLwo57700CWgsiFK3_USKU0x9gyx2Ow/s280/multiplicar-una-matriz-por-un-escalar-en%2Bjava.jpg)"
   ]
  },
  {
   "cell_type": "code",
   "execution_count": 1,
   "metadata": {},
   "outputs": [
    {
     "name": "stdout",
     "output_type": "stream",
     "text": [
      "Matriz A =\n",
      "\n",
      " [[0 1 2]\n",
      " [3 4 5]\n",
      " [6 7 8]]\n",
      "\n",
      "Dimensiones de A: (3, 3)\n",
      "\n",
      "Escalar b = 5\n",
      "\n",
      "Broadcast válido, operacion de Matriz con escalar\n",
      "\n",
      " [[0 1 2]\n",
      " [3 4 5]\n",
      " [6 7 8]] * 5 =\n",
      "\n",
      " [[ 0  5 10]\n",
      " [15 20 25]\n",
      " [30 35 40]]\n"
     ]
    }
   ],
   "source": [
    "import numpy as np\n",
    "\n",
    "A = np.arange(9).reshape(3, 3)          # Matriz de dimensiones 3x3\n",
    "print('Matriz A =\\n\\n', A)\n",
    "print('\\nDimensiones de A:', A.shape)\n",
    "\n",
    "b = 5                                   # Escalar\n",
    "print('\\nEscalar b =', b)\n",
    "\n",
    "\n",
    "print('\\nBroadcast válido, operacion de Matriz con escalar\\n\\n', A, '*', b, '=\\n\\n', A*b)"
   ]
  },
  {
   "cell_type": "markdown",
   "metadata": {},
   "source": [
    "Cualquier tipo de dimensión sería valida para operar junto a un escalar:"
   ]
  },
  {
   "cell_type": "code",
   "execution_count": 2,
   "metadata": {},
   "outputs": [
    {
     "name": "stdout",
     "output_type": "stream",
     "text": [
      "Matriz A =\n",
      "\n",
      " [[[ 0  1  2  3]\n",
      "  [ 4  5  6  7]]\n",
      "\n",
      " [[ 8  9 10 11]\n",
      "  [12 13 14 15]]\n",
      "\n",
      " [[16 17 18 19]\n",
      "  [20 21 22 23]]]\n",
      "\n",
      "Dimensiones de A: (3, 2, 4)\n",
      "\n",
      "Escalar b = 5\n",
      "\n",
      "Broadcast válido, operacion de Matriz con escalar\n",
      "\n",
      " [[[ 0  1  2  3]\n",
      "  [ 4  5  6  7]]\n",
      "\n",
      " [[ 8  9 10 11]\n",
      "  [12 13 14 15]]\n",
      "\n",
      " [[16 17 18 19]\n",
      "  [20 21 22 23]]] * 5 =\n",
      "\n",
      " [[[  0   5  10  15]\n",
      "  [ 20  25  30  35]]\n",
      "\n",
      " [[ 40  45  50  55]\n",
      "  [ 60  65  70  75]]\n",
      "\n",
      " [[ 80  85  90  95]\n",
      "  [100 105 110 115]]]\n"
     ]
    }
   ],
   "source": [
    "A = np.arange(24).reshape(3, 2, 4)      # Matriz de dimensiones 3x2x4\n",
    "print('Matriz A =\\n\\n', A)\n",
    "print('\\nDimensiones de A:', A.shape)\n",
    "\n",
    "b = 5                                   # Escalar\n",
    "print('\\nEscalar b =', b)\n",
    "\n",
    "\n",
    "print('\\nBroadcast válido, operacion de Matriz con escalar\\n\\n', A, '*', b, '=\\n\\n', A*b)"
   ]
  },
  {
   "cell_type": "markdown",
   "metadata": {},
   "source": [
    "### Caso válido 2: operación con matriz de dimensiones válidas\n",
    "\n",
    "![Matriz por matriz](https://numpy.org/devdocs/_images/theory.broadcast_2.gif)"
   ]
  },
  {
   "cell_type": "markdown",
   "metadata": {},
   "source": [
    "#### Matriz y vector"
   ]
  },
  {
   "cell_type": "code",
   "execution_count": 3,
   "metadata": {},
   "outputs": [
    {
     "name": "stdout",
     "output_type": "stream",
     "text": [
      "Matriz A =\n",
      "\n",
      " [[0 1 2 3 4]\n",
      " [5 6 7 8 9]]\n",
      "\n",
      "Dimensiones de A: (2, 5)\n",
      "\n",
      "Vector v = [0 1 2 3 4]\n",
      "\n",
      "Dimensiones de v: (5,)\n",
      "\n",
      "Broadcast válido, operacion de Matriz con vector\n",
      "\n",
      " [[0 1 2 3 4]\n",
      " [5 6 7 8 9]] * [0 1 2 3 4] =\n",
      "\n",
      " [[ 0  1  4  9 16]\n",
      " [ 0  6 14 24 36]]\n"
     ]
    }
   ],
   "source": [
    "### Matriz y vector ###\n",
    "\n",
    "A = np.arange(10).reshape(2, 5)         # Matriz de dimensiones 2x5\n",
    "print('Matriz A =\\n\\n', A)\n",
    "print('\\nDimensiones de A:', A.shape)\n",
    "\n",
    "v = np.arange(5)                        # Vector de dimension (5)\n",
    "print('\\nVector v =', v)\n",
    "print('\\nDimensiones de v:', v.shape)\n",
    "\n",
    "\n",
    "print('\\nBroadcast válido, operacion de Matriz con vector\\n\\n', A, '*', v, '=\\n\\n', A*v) # Operación válida"
   ]
  },
  {
   "cell_type": "markdown",
   "metadata": {},
   "source": [
    "#### Matriz y matriz de dimensiones válidas"
   ]
  },
  {
   "cell_type": "code",
   "execution_count": 4,
   "metadata": {},
   "outputs": [
    {
     "name": "stdout",
     "output_type": "stream",
     "text": [
      "Matriz A =\n",
      "\n",
      " [[[ 0  1  2]\n",
      "  [ 3  4  5]\n",
      "  [ 6  7  8]\n",
      "  [ 9 10 11]\n",
      "  [12 13 14]]\n",
      "\n",
      " [[15 16 17]\n",
      "  [18 19 20]\n",
      "  [21 22 23]\n",
      "  [24 25 26]\n",
      "  [27 28 29]]]\n",
      "\n",
      "Dimensiones de A: (2, 5, 3)\n",
      "\n",
      "Matriz B = [[ 0  1  2]\n",
      " [ 3  4  5]\n",
      " [ 6  7  8]\n",
      " [ 9 10 11]\n",
      " [12 13 14]]\n",
      "\n",
      "Dimensiones de B: (5, 3)\n",
      "\n",
      "Las matrices son broadcastable?:\n",
      "True\n",
      "\n",
      "Broadcast válido, operacion de Matriz con Matriz subconjunto válido\n",
      "\n",
      " [[[ 0  1  2]\n",
      "  [ 3  4  5]\n",
      "  [ 6  7  8]\n",
      "  [ 9 10 11]\n",
      "  [12 13 14]]\n",
      "\n",
      " [[15 16 17]\n",
      "  [18 19 20]\n",
      "  [21 22 23]\n",
      "  [24 25 26]\n",
      "  [27 28 29]]] *\n",
      "\n",
      " [[ 0  1  2]\n",
      " [ 3  4  5]\n",
      " [ 6  7  8]\n",
      " [ 9 10 11]\n",
      " [12 13 14]] =\n",
      "\n",
      " [[[  0   1   4]\n",
      "  [  9  16  25]\n",
      "  [ 36  49  64]\n",
      "  [ 81 100 121]\n",
      "  [144 169 196]]\n",
      "\n",
      " [[  0  16  34]\n",
      "  [ 54  76 100]\n",
      "  [126 154 184]\n",
      "  [216 250 286]\n",
      "  [324 364 406]]]\n"
     ]
    }
   ],
   "source": [
    "### Matriz y matriz de dimensiones válidas ###\n",
    "\n",
    "A = np.arange(30).reshape(2, 5, 3)      # Matriz de dimensiones 2x5x3\n",
    "print('Matriz A =\\n\\n', A)\n",
    "print('\\nDimensiones de A:', A.shape)\n",
    "\n",
    "B = np.arange(15).reshape(5, 3)         # Matriz de dimensiones 5x3\n",
    "print('\\nMatriz B =', B)\n",
    "print('\\nDimensiones de B:', B.shape)\n",
    "\n",
    "# Vamos a definir una función que toma dos matrizes y comprueba que sus dimensiones últimas son iguales:\n",
    "# Esta función basicamente compara las dimensiones de las dos matrices de atras hacia delante usando slicing. \n",
    "# Usa el numero de dimensiones (1, 2 o 3) de la menor matriz como límite\n",
    "\n",
    "def broadcastable_matrixes(A, B):\n",
    "    if (len(A.shape) > len(B.shape)):\n",
    "        return B.shape[-len(B.shape):] == A.shape[-len(B.shape):]\n",
    "    else:\n",
    "        return B.shape[-len(A.shape):] == A.shape[-len(A.shape):]\n",
    "\n",
    "\n",
    "# Comprobamos que las dimensiones últimas de las dos matrices son iguales\n",
    "\n",
    "print('\\nLas matrices son broadcastable?:')\n",
    "print(broadcastable_matrixes(A, B))\n",
    "\n",
    "\n",
    "print('\\nBroadcast válido, operacion de Matriz con Matriz subconjunto válido\\n\\n', A, '*\\n\\n', B, '=\\n\\n', A*B) # Operación válida"
   ]
  },
  {
   "cell_type": "markdown",
   "metadata": {},
   "source": [
    "### Caso no válido 1: Matriz y vector de dimensiones NO válidas\n",
    "\n",
    "Se expone a continuación un ejemplo donde una matriz y un vector no son Broadcastable. No tienen dimensiones válidas\n",
    "\n",
    "![Matriz por matriz](https://numpy.org/devdocs/_images/theory.broadcast_3.gif)"
   ]
  },
  {
   "cell_type": "code",
   "execution_count": 5,
   "metadata": {},
   "outputs": [
    {
     "name": "stdout",
     "output_type": "stream",
     "text": [
      "Matriz A =\n",
      "\n",
      " [[0 1 2 3 4]\n",
      " [5 6 7 8 9]]\n",
      "\n",
      "Dimensiones de A: (2, 5)\n",
      "\n",
      "Vector v = [0 1 2]\n",
      "\n",
      "Dimensiones de v: (3,)\n"
     ]
    },
    {
     "ename": "ValueError",
     "evalue": "operands could not be broadcast together with shapes (2,5) (3,) ",
     "output_type": "error",
     "traceback": [
      "\u001b[0;31m---------------------------------------------------------------------------\u001b[0m",
      "\u001b[0;31mValueError\u001b[0m                                Traceback (most recent call last)",
      "\u001b[0;32m<ipython-input-5-4d5c5d2dca29>\u001b[0m in \u001b[0;36m<module>\u001b[0;34m\u001b[0m\n\u001b[1;32m     10\u001b[0m \u001b[0;34m\u001b[0m\u001b[0m\n\u001b[1;32m     11\u001b[0m \u001b[0;31m# Operación no válida: ValueError: operands could not be broadcast together with shapes (2,5) (3,)\u001b[0m\u001b[0;34m\u001b[0m\u001b[0;34m\u001b[0m\u001b[0;34m\u001b[0m\u001b[0m\n\u001b[0;32m---> 12\u001b[0;31m \u001b[0mprint\u001b[0m\u001b[0;34m(\u001b[0m\u001b[0;34m'\\nBroadcast válido, operacion de Matriz con vector\\n\\n'\u001b[0m\u001b[0;34m,\u001b[0m \u001b[0mA\u001b[0m\u001b[0;34m,\u001b[0m \u001b[0;34m'*'\u001b[0m\u001b[0;34m,\u001b[0m \u001b[0mv\u001b[0m\u001b[0;34m,\u001b[0m \u001b[0;34m'=\\n\\n'\u001b[0m\u001b[0;34m,\u001b[0m \u001b[0mA\u001b[0m\u001b[0;34m*\u001b[0m\u001b[0mv\u001b[0m\u001b[0;34m)\u001b[0m\u001b[0;34m\u001b[0m\u001b[0;34m\u001b[0m\u001b[0m\n\u001b[0m",
      "\u001b[0;31mValueError\u001b[0m: operands could not be broadcast together with shapes (2,5) (3,) "
     ]
    }
   ],
   "source": [
    "### Matriz y vector no válido ###\n",
    "\n",
    "A = np.arange(10).reshape(2, 5)         # Matriz de dimensiones 2x5\n",
    "print('Matriz A =\\n\\n', A)\n",
    "print('\\nDimensiones de A:', A.shape)\n",
    "\n",
    "v = np.arange(3)                        # Vector de dimension (3)\n",
    "print('\\nVector v =', v)\n",
    "print('\\nDimensiones de v:', v.shape)\n",
    "\n",
    "# Operación no válida: ValueError: operands could not be broadcast together with shapes (2,5) (3,)\n",
    "print('\\nBroadcast válido, operacion de Matriz con vector\\n\\n', A, '*', v, '=\\n\\n', A*v) "
   ]
  },
  {
   "cell_type": "markdown",
   "metadata": {},
   "source": [
    "### Caso no válido 2: Matriz y matriz de dimensiones NO válidas\n",
    "\n",
    "Se expone a continuación ejemplos donde una matriz y otra matriz no son Broadcastable. No tienen dimensiones válidas"
   ]
  },
  {
   "cell_type": "code",
   "execution_count": 6,
   "metadata": {},
   "outputs": [
    {
     "name": "stdout",
     "output_type": "stream",
     "text": [
      "Matriz A =\n",
      "\n",
      " [[[ 0  1  2]\n",
      "  [ 3  4  5]\n",
      "  [ 6  7  8]\n",
      "  [ 9 10 11]\n",
      "  [12 13 14]]\n",
      "\n",
      " [[15 16 17]\n",
      "  [18 19 20]\n",
      "  [21 22 23]\n",
      "  [24 25 26]\n",
      "  [27 28 29]]]\n",
      "\n",
      "Dimensiones de A: (2, 5, 3)\n",
      "\n",
      "Matriz B = [[ 0  1  2  3  4]\n",
      " [ 5  6  7  8  9]\n",
      " [10 11 12 13 14]]\n",
      "\n",
      "Dimensiones de B: (3, 5)\n",
      "\n",
      "Las matrices son broadcastable?:\n",
      "False\n"
     ]
    },
    {
     "ename": "ValueError",
     "evalue": "operands could not be broadcast together with shapes (2,5,3) (3,5) ",
     "output_type": "error",
     "traceback": [
      "\u001b[0;31m---------------------------------------------------------------------------\u001b[0m",
      "\u001b[0;31mValueError\u001b[0m                                Traceback (most recent call last)",
      "\u001b[0;32m<ipython-input-6-d6e37181f30e>\u001b[0m in \u001b[0;36m<module>\u001b[0;34m\u001b[0m\n\u001b[1;32m     15\u001b[0m \u001b[0;34m\u001b[0m\u001b[0m\n\u001b[1;32m     16\u001b[0m  \u001b[0;31m# Operación no válida: ValueError: operands could not be broadcast together with shapes (2,5,3) (3,5)\u001b[0m\u001b[0;34m\u001b[0m\u001b[0;34m\u001b[0m\u001b[0;34m\u001b[0m\u001b[0m\n\u001b[0;32m---> 17\u001b[0;31m \u001b[0mprint\u001b[0m\u001b[0;34m(\u001b[0m\u001b[0;34m'\\nBroadcast válido, operacion de Matriz con Matriz subconjunto válido\\n\\n'\u001b[0m\u001b[0;34m,\u001b[0m \u001b[0mA\u001b[0m\u001b[0;34m,\u001b[0m \u001b[0;34m'*\\n\\n'\u001b[0m\u001b[0;34m,\u001b[0m \u001b[0mB\u001b[0m\u001b[0;34m,\u001b[0m \u001b[0;34m'=\\n\\n'\u001b[0m\u001b[0;34m,\u001b[0m \u001b[0mA\u001b[0m\u001b[0;34m*\u001b[0m\u001b[0mB\u001b[0m\u001b[0;34m)\u001b[0m \u001b[0;31m# Operación válida\u001b[0m\u001b[0;34m\u001b[0m\u001b[0;34m\u001b[0m\u001b[0m\n\u001b[0m",
      "\u001b[0;31mValueError\u001b[0m: operands could not be broadcast together with shapes (2,5,3) (3,5) "
     ]
    }
   ],
   "source": [
    "### Matriz y matriz de dimensiones no válidas ###\n",
    "\n",
    "A = np.arange(30).reshape(2, 5, 3)      # Matriz de dimensiones 2x5x3\n",
    "print('Matriz A =\\n\\n', A)\n",
    "print('\\nDimensiones de A:', A.shape)\n",
    "\n",
    "B = np.arange(15).reshape(3, 5)         # Matriz de dimensiones 3x5\n",
    "print('\\nMatriz B =', B)\n",
    "print('\\nDimensiones de B:', B.shape)\n",
    "\n",
    "# Comprobamos que las dimensiones últimas de las dos matrices son iguales\n",
    "\n",
    "print('\\nLas matrices son broadcastable?:')\n",
    "print(broadcastable_matrixes(A, B))\n",
    "\n",
    " # Operación no válida: ValueError: operands could not be broadcast together with shapes (2,5,3) (3,5)\n",
    "print('\\nBroadcast válido, operacion de Matriz con Matriz subconjunto válido\\n\\n', A, '*\\n\\n', B, '=\\n\\n', A*B) # Operación válida"
   ]
  },
  {
   "cell_type": "markdown",
   "metadata": {},
   "source": [
    "## <center> Actividad 01.02</center>\n",
    "--- "
   ]
  },
  {
   "cell_type": "markdown",
   "metadata": {},
   "source": [
    "### Eficacia sobre ndarrays de tamaños grandes\n",
    "\n",
    "A continuación se presenta una gráfica y una tabla donde se puede ver el comportamiento de la velocidad de acceso a un *ndarray* sin el uso de *memmap* y con el uso de *memmap*.\n",
    "\n",
    "La mejora de *memmap* es clara, ofreciendo mejoras de rendimiento 9 veces mayor sobre un acceso a un array completo.\n",
    "\n",
    "Además, cuanto mayor se hace el array mayor es la mejora obtenida."
   ]
  },
  {
   "cell_type": "code",
   "execution_count": 7,
   "metadata": {},
   "outputs": [
    {
     "name": "stdout",
     "output_type": "stream",
     "text": [
      "TABLA TIEMPOS SIN MEMMAP\n",
      "\n"
     ]
    },
    {
     "data": {
      "text/html": "<div>\n<style scoped>\n    .dataframe tbody tr th:only-of-type {\n        vertical-align: middle;\n    }\n\n    .dataframe tbody tr th {\n        vertical-align: top;\n    }\n\n    .dataframe thead th {\n        text-align: right;\n    }\n</style>\n<table border=\"1\" class=\"dataframe\">\n  <thead>\n    <tr style=\"text-align: right;\">\n      <th></th>\n      <th>Array dimension</th>\n      <th>Time (ms)</th>\n      <th>Time (ms) SUM</th>\n    </tr>\n  </thead>\n  <tbody>\n    <tr>\n      <th>0</th>\n      <td>1000</td>\n      <td>0.004005</td>\n      <td>0.004005</td>\n    </tr>\n    <tr>\n      <th>1</th>\n      <td>8000</td>\n      <td>0.011826</td>\n      <td>0.015831</td>\n    </tr>\n    <tr>\n      <th>2</th>\n      <td>27000</td>\n      <td>0.031996</td>\n      <td>0.047827</td>\n    </tr>\n    <tr>\n      <th>3</th>\n      <td>64000</td>\n      <td>0.126219</td>\n      <td>0.174046</td>\n    </tr>\n    <tr>\n      <th>4</th>\n      <td>125000</td>\n      <td>0.240231</td>\n      <td>0.414276</td>\n    </tr>\n    <tr>\n      <th>5</th>\n      <td>216000</td>\n      <td>0.488186</td>\n      <td>0.902462</td>\n    </tr>\n    <tr>\n      <th>6</th>\n      <td>343000</td>\n      <td>1.009750</td>\n      <td>1.912212</td>\n    </tr>\n    <tr>\n      <th>7</th>\n      <td>512000</td>\n      <td>1.562977</td>\n      <td>3.475189</td>\n    </tr>\n    <tr>\n      <th>8</th>\n      <td>729000</td>\n      <td>2.578259</td>\n      <td>6.053448</td>\n    </tr>\n    <tr>\n      <th>9</th>\n      <td>1000000</td>\n      <td>3.371000</td>\n      <td>9.424448</td>\n    </tr>\n    <tr>\n      <th>10</th>\n      <td>1331000</td>\n      <td>4.837036</td>\n      <td>14.261484</td>\n    </tr>\n    <tr>\n      <th>11</th>\n      <td>1728000</td>\n      <td>5.179024</td>\n      <td>19.440508</td>\n    </tr>\n    <tr>\n      <th>12</th>\n      <td>2197000</td>\n      <td>8.628368</td>\n      <td>28.068876</td>\n    </tr>\n    <tr>\n      <th>13</th>\n      <td>2744000</td>\n      <td>8.689833</td>\n      <td>36.758709</td>\n    </tr>\n    <tr>\n      <th>14</th>\n      <td>3375000</td>\n      <td>10.466814</td>\n      <td>47.225523</td>\n    </tr>\n    <tr>\n      <th>15</th>\n      <td>4096000</td>\n      <td>13.752604</td>\n      <td>60.978127</td>\n    </tr>\n    <tr>\n      <th>16</th>\n      <td>4913000</td>\n      <td>18.532228</td>\n      <td>79.510355</td>\n    </tr>\n    <tr>\n      <th>17</th>\n      <td>5832000</td>\n      <td>21.501446</td>\n      <td>101.011801</td>\n    </tr>\n    <tr>\n      <th>18</th>\n      <td>6859000</td>\n      <td>24.548578</td>\n      <td>125.560379</td>\n    </tr>\n    <tr>\n      <th>19</th>\n      <td>8000000</td>\n      <td>29.465389</td>\n      <td>155.025768</td>\n    </tr>\n    <tr>\n      <th>20</th>\n      <td>9261000</td>\n      <td>33.360004</td>\n      <td>188.385773</td>\n    </tr>\n    <tr>\n      <th>21</th>\n      <td>10648000</td>\n      <td>38.782787</td>\n      <td>227.168560</td>\n    </tr>\n    <tr>\n      <th>22</th>\n      <td>12167000</td>\n      <td>44.634438</td>\n      <td>271.802998</td>\n    </tr>\n    <tr>\n      <th>23</th>\n      <td>13824000</td>\n      <td>51.705599</td>\n      <td>323.508596</td>\n    </tr>\n    <tr>\n      <th>24</th>\n      <td>15625000</td>\n      <td>58.817625</td>\n      <td>382.326221</td>\n    </tr>\n    <tr>\n      <th>25</th>\n      <td>17576000</td>\n      <td>97.982121</td>\n      <td>480.308342</td>\n    </tr>\n    <tr>\n      <th>26</th>\n      <td>19683000</td>\n      <td>100.577021</td>\n      <td>580.885363</td>\n    </tr>\n    <tr>\n      <th>27</th>\n      <td>21952000</td>\n      <td>111.496925</td>\n      <td>692.382288</td>\n    </tr>\n    <tr>\n      <th>28</th>\n      <td>24389000</td>\n      <td>124.439621</td>\n      <td>816.821909</td>\n    </tr>\n    <tr>\n      <th>29</th>\n      <td>27000000</td>\n      <td>147.203779</td>\n      <td>964.025688</td>\n    </tr>\n    <tr>\n      <th>30</th>\n      <td>29791000</td>\n      <td>145.846367</td>\n      <td>1109.872055</td>\n    </tr>\n    <tr>\n      <th>31</th>\n      <td>32768000</td>\n      <td>165.022612</td>\n      <td>1274.894667</td>\n    </tr>\n    <tr>\n      <th>32</th>\n      <td>35937000</td>\n      <td>186.033773</td>\n      <td>1460.928440</td>\n    </tr>\n    <tr>\n      <th>33</th>\n      <td>39304000</td>\n      <td>204.728222</td>\n      <td>1665.656662</td>\n    </tr>\n    <tr>\n      <th>34</th>\n      <td>42875000</td>\n      <td>216.540766</td>\n      <td>1882.197428</td>\n    </tr>\n    <tr>\n      <th>35</th>\n      <td>46656000</td>\n      <td>304.141855</td>\n      <td>2186.339283</td>\n    </tr>\n    <tr>\n      <th>36</th>\n      <td>50653000</td>\n      <td>252.486801</td>\n      <td>2438.826084</td>\n    </tr>\n    <tr>\n      <th>37</th>\n      <td>54872000</td>\n      <td>275.600004</td>\n      <td>2714.426088</td>\n    </tr>\n    <tr>\n      <th>38</th>\n      <td>59319000</td>\n      <td>285.450983</td>\n      <td>2999.877071</td>\n    </tr>\n    <tr>\n      <th>39</th>\n      <td>64000000</td>\n      <td>299.987555</td>\n      <td>3299.864626</td>\n    </tr>\n    <tr>\n      <th>40</th>\n      <td>68921000</td>\n      <td>353.362226</td>\n      <td>3653.226852</td>\n    </tr>\n    <tr>\n      <th>41</th>\n      <td>74088000</td>\n      <td>404.949045</td>\n      <td>4058.175898</td>\n    </tr>\n    <tr>\n      <th>42</th>\n      <td>79507000</td>\n      <td>448.878384</td>\n      <td>4507.054281</td>\n    </tr>\n    <tr>\n      <th>43</th>\n      <td>85184000</td>\n      <td>394.895220</td>\n      <td>4901.949501</td>\n    </tr>\n    <tr>\n      <th>44</th>\n      <td>91125000</td>\n      <td>429.227209</td>\n      <td>5331.176710</td>\n    </tr>\n    <tr>\n      <th>45</th>\n      <td>97336000</td>\n      <td>475.050592</td>\n      <td>5806.227303</td>\n    </tr>\n    <tr>\n      <th>46</th>\n      <td>103823000</td>\n      <td>537.306404</td>\n      <td>6343.533707</td>\n    </tr>\n    <tr>\n      <th>47</th>\n      <td>110592000</td>\n      <td>540.106630</td>\n      <td>6883.640337</td>\n    </tr>\n    <tr>\n      <th>48</th>\n      <td>117649000</td>\n      <td>677.946949</td>\n      <td>7561.587286</td>\n    </tr>\n    <tr>\n      <th>49</th>\n      <td>125000000</td>\n      <td>631.981611</td>\n      <td>8193.568897</td>\n    </tr>\n  </tbody>\n</table>\n</div>",
      "text/plain": "    Array dimension   Time (ms)  Time (ms) SUM\n0              1000    0.004005       0.004005\n1              8000    0.011826       0.015831\n2             27000    0.031996       0.047827\n3             64000    0.126219       0.174046\n4            125000    0.240231       0.414276\n5            216000    0.488186       0.902462\n6            343000    1.009750       1.912212\n7            512000    1.562977       3.475189\n8            729000    2.578259       6.053448\n9           1000000    3.371000       9.424448\n10          1331000    4.837036      14.261484\n11          1728000    5.179024      19.440508\n12          2197000    8.628368      28.068876\n13          2744000    8.689833      36.758709\n14          3375000   10.466814      47.225523\n15          4096000   13.752604      60.978127\n16          4913000   18.532228      79.510355\n17          5832000   21.501446     101.011801\n18          6859000   24.548578     125.560379\n19          8000000   29.465389     155.025768\n20          9261000   33.360004     188.385773\n21         10648000   38.782787     227.168560\n22         12167000   44.634438     271.802998\n23         13824000   51.705599     323.508596\n24         15625000   58.817625     382.326221\n25         17576000   97.982121     480.308342\n26         19683000  100.577021     580.885363\n27         21952000  111.496925     692.382288\n28         24389000  124.439621     816.821909\n29         27000000  147.203779     964.025688\n30         29791000  145.846367    1109.872055\n31         32768000  165.022612    1274.894667\n32         35937000  186.033773    1460.928440\n33         39304000  204.728222    1665.656662\n34         42875000  216.540766    1882.197428\n35         46656000  304.141855    2186.339283\n36         50653000  252.486801    2438.826084\n37         54872000  275.600004    2714.426088\n38         59319000  285.450983    2999.877071\n39         64000000  299.987555    3299.864626\n40         68921000  353.362226    3653.226852\n41         74088000  404.949045    4058.175898\n42         79507000  448.878384    4507.054281\n43         85184000  394.895220    4901.949501\n44         91125000  429.227209    5331.176710\n45         97336000  475.050592    5806.227303\n46        103823000  537.306404    6343.533707\n47        110592000  540.106630    6883.640337\n48        117649000  677.946949    7561.587286\n49        125000000  631.981611    8193.568897"
     },
     "metadata": {},
     "output_type": "display_data"
    },
    {
     "name": "stdout",
     "output_type": "stream",
     "text": [
      "\n",
      "\n",
      "TABLA TIEMPOS CON MEMMAP\n",
      "\n"
     ]
    },
    {
     "data": {
      "text/html": "<div>\n<style scoped>\n    .dataframe tbody tr th:only-of-type {\n        vertical-align: middle;\n    }\n\n    .dataframe tbody tr th {\n        vertical-align: top;\n    }\n\n    .dataframe thead th {\n        text-align: right;\n    }\n</style>\n<table border=\"1\" class=\"dataframe\">\n  <thead>\n    <tr style=\"text-align: right;\">\n      <th></th>\n      <th>Array dimension</th>\n      <th>Time (ms)</th>\n      <th>Time (ms) SUM</th>\n    </tr>\n  </thead>\n  <tbody>\n    <tr>\n      <th>0</th>\n      <td>1000</td>\n      <td>15.230036</td>\n      <td>15.230036</td>\n    </tr>\n    <tr>\n      <th>1</th>\n      <td>8000</td>\n      <td>0.110388</td>\n      <td>15.340424</td>\n    </tr>\n    <tr>\n      <th>2</th>\n      <td>27000</td>\n      <td>0.200558</td>\n      <td>15.540981</td>\n    </tr>\n    <tr>\n      <th>3</th>\n      <td>64000</td>\n      <td>0.255585</td>\n      <td>15.796566</td>\n    </tr>\n    <tr>\n      <th>4</th>\n      <td>125000</td>\n      <td>0.273991</td>\n      <td>16.070557</td>\n    </tr>\n    <tr>\n      <th>5</th>\n      <td>216000</td>\n      <td>0.304794</td>\n      <td>16.375351</td>\n    </tr>\n    <tr>\n      <th>6</th>\n      <td>343000</td>\n      <td>0.481606</td>\n      <td>16.856956</td>\n    </tr>\n    <tr>\n      <th>7</th>\n      <td>512000</td>\n      <td>0.619173</td>\n      <td>17.476130</td>\n    </tr>\n    <tr>\n      <th>8</th>\n      <td>729000</td>\n      <td>0.854540</td>\n      <td>18.330669</td>\n    </tr>\n    <tr>\n      <th>9</th>\n      <td>1000000</td>\n      <td>1.038790</td>\n      <td>19.369459</td>\n    </tr>\n    <tr>\n      <th>10</th>\n      <td>1331000</td>\n      <td>1.504230</td>\n      <td>20.873690</td>\n    </tr>\n    <tr>\n      <th>11</th>\n      <td>1728000</td>\n      <td>2.019405</td>\n      <td>22.893095</td>\n    </tr>\n    <tr>\n      <th>12</th>\n      <td>2197000</td>\n      <td>2.948809</td>\n      <td>25.841904</td>\n    </tr>\n    <tr>\n      <th>13</th>\n      <td>2744000</td>\n      <td>4.860449</td>\n      <td>30.702353</td>\n    </tr>\n    <tr>\n      <th>14</th>\n      <td>3375000</td>\n      <td>5.878592</td>\n      <td>36.580944</td>\n    </tr>\n    <tr>\n      <th>15</th>\n      <td>4096000</td>\n      <td>7.435989</td>\n      <td>44.016933</td>\n    </tr>\n    <tr>\n      <th>16</th>\n      <td>4913000</td>\n      <td>8.743572</td>\n      <td>52.760506</td>\n    </tr>\n    <tr>\n      <th>17</th>\n      <td>5832000</td>\n      <td>11.110830</td>\n      <td>63.871336</td>\n    </tr>\n    <tr>\n      <th>18</th>\n      <td>6859000</td>\n      <td>12.506628</td>\n      <td>76.377964</td>\n    </tr>\n    <tr>\n      <th>19</th>\n      <td>8000000</td>\n      <td>14.118576</td>\n      <td>90.496540</td>\n    </tr>\n    <tr>\n      <th>20</th>\n      <td>9261000</td>\n      <td>12.965202</td>\n      <td>103.461742</td>\n    </tr>\n    <tr>\n      <th>21</th>\n      <td>10648000</td>\n      <td>16.892195</td>\n      <td>120.353937</td>\n    </tr>\n    <tr>\n      <th>22</th>\n      <td>12167000</td>\n      <td>17.013597</td>\n      <td>137.367535</td>\n    </tr>\n    <tr>\n      <th>23</th>\n      <td>13824000</td>\n      <td>14.998055</td>\n      <td>152.365589</td>\n    </tr>\n    <tr>\n      <th>24</th>\n      <td>15625000</td>\n      <td>19.755363</td>\n      <td>172.120953</td>\n    </tr>\n    <tr>\n      <th>25</th>\n      <td>17576000</td>\n      <td>10.129023</td>\n      <td>182.249975</td>\n    </tr>\n    <tr>\n      <th>26</th>\n      <td>19683000</td>\n      <td>13.452625</td>\n      <td>195.702600</td>\n    </tr>\n    <tr>\n      <th>27</th>\n      <td>21952000</td>\n      <td>13.769054</td>\n      <td>209.471655</td>\n    </tr>\n    <tr>\n      <th>28</th>\n      <td>24389000</td>\n      <td>12.137413</td>\n      <td>221.609068</td>\n    </tr>\n    <tr>\n      <th>29</th>\n      <td>27000000</td>\n      <td>14.347601</td>\n      <td>235.956669</td>\n    </tr>\n    <tr>\n      <th>30</th>\n      <td>29791000</td>\n      <td>15.137386</td>\n      <td>251.094055</td>\n    </tr>\n    <tr>\n      <th>31</th>\n      <td>32768000</td>\n      <td>16.549635</td>\n      <td>267.643690</td>\n    </tr>\n    <tr>\n      <th>32</th>\n      <td>35937000</td>\n      <td>19.476986</td>\n      <td>287.120676</td>\n    </tr>\n    <tr>\n      <th>33</th>\n      <td>39304000</td>\n      <td>26.840782</td>\n      <td>313.961458</td>\n    </tr>\n    <tr>\n      <th>34</th>\n      <td>42875000</td>\n      <td>22.368431</td>\n      <td>336.329889</td>\n    </tr>\n    <tr>\n      <th>35</th>\n      <td>46656000</td>\n      <td>23.672962</td>\n      <td>360.002851</td>\n    </tr>\n    <tr>\n      <th>36</th>\n      <td>50653000</td>\n      <td>24.727964</td>\n      <td>384.730816</td>\n    </tr>\n    <tr>\n      <th>37</th>\n      <td>54872000</td>\n      <td>36.756992</td>\n      <td>421.487808</td>\n    </tr>\n    <tr>\n      <th>38</th>\n      <td>59319000</td>\n      <td>34.294844</td>\n      <td>455.782652</td>\n    </tr>\n    <tr>\n      <th>39</th>\n      <td>64000000</td>\n      <td>35.260439</td>\n      <td>491.043091</td>\n    </tr>\n    <tr>\n      <th>40</th>\n      <td>68921000</td>\n      <td>40.914154</td>\n      <td>531.957245</td>\n    </tr>\n    <tr>\n      <th>41</th>\n      <td>74088000</td>\n      <td>35.943604</td>\n      <td>567.900848</td>\n    </tr>\n    <tr>\n      <th>42</th>\n      <td>79507000</td>\n      <td>39.445210</td>\n      <td>607.346058</td>\n    </tr>\n    <tr>\n      <th>43</th>\n      <td>85184000</td>\n      <td>50.985050</td>\n      <td>658.331108</td>\n    </tr>\n    <tr>\n      <th>44</th>\n      <td>91125000</td>\n      <td>50.562191</td>\n      <td>708.893299</td>\n    </tr>\n    <tr>\n      <th>45</th>\n      <td>97336000</td>\n      <td>55.537176</td>\n      <td>764.430475</td>\n    </tr>\n    <tr>\n      <th>46</th>\n      <td>103823000</td>\n      <td>51.354027</td>\n      <td>815.784502</td>\n    </tr>\n    <tr>\n      <th>47</th>\n      <td>110592000</td>\n      <td>54.115009</td>\n      <td>869.899511</td>\n    </tr>\n    <tr>\n      <th>48</th>\n      <td>117649000</td>\n      <td>61.573648</td>\n      <td>931.473160</td>\n    </tr>\n    <tr>\n      <th>49</th>\n      <td>125000000</td>\n      <td>60.713959</td>\n      <td>992.187119</td>\n    </tr>\n  </tbody>\n</table>\n</div>",
      "text/plain": "    Array dimension  Time (ms)  Time (ms) SUM\n0              1000  15.230036      15.230036\n1              8000   0.110388      15.340424\n2             27000   0.200558      15.540981\n3             64000   0.255585      15.796566\n4            125000   0.273991      16.070557\n5            216000   0.304794      16.375351\n6            343000   0.481606      16.856956\n7            512000   0.619173      17.476130\n8            729000   0.854540      18.330669\n9           1000000   1.038790      19.369459\n10          1331000   1.504230      20.873690\n11          1728000   2.019405      22.893095\n12          2197000   2.948809      25.841904\n13          2744000   4.860449      30.702353\n14          3375000   5.878592      36.580944\n15          4096000   7.435989      44.016933\n16          4913000   8.743572      52.760506\n17          5832000  11.110830      63.871336\n18          6859000  12.506628      76.377964\n19          8000000  14.118576      90.496540\n20          9261000  12.965202     103.461742\n21         10648000  16.892195     120.353937\n22         12167000  17.013597     137.367535\n23         13824000  14.998055     152.365589\n24         15625000  19.755363     172.120953\n25         17576000  10.129023     182.249975\n26         19683000  13.452625     195.702600\n27         21952000  13.769054     209.471655\n28         24389000  12.137413     221.609068\n29         27000000  14.347601     235.956669\n30         29791000  15.137386     251.094055\n31         32768000  16.549635     267.643690\n32         35937000  19.476986     287.120676\n33         39304000  26.840782     313.961458\n34         42875000  22.368431     336.329889\n35         46656000  23.672962     360.002851\n36         50653000  24.727964     384.730816\n37         54872000  36.756992     421.487808\n38         59319000  34.294844     455.782652\n39         64000000  35.260439     491.043091\n40         68921000  40.914154     531.957245\n41         74088000  35.943604     567.900848\n42         79507000  39.445210     607.346058\n43         85184000  50.985050     658.331108\n44         91125000  50.562191     708.893299\n45         97336000  55.537176     764.430475\n46        103823000  51.354027     815.784502\n47        110592000  54.115009     869.899511\n48        117649000  61.573648     931.473160\n49        125000000  60.713959     992.187119"
     },
     "metadata": {},
     "output_type": "display_data"
    },
    {
     "data": {
      "image/png": "[encoded data removed]",
      "text/plain": "<Figure size 432x288 with 1 Axes>"
     },
     "metadata": {
      "needs_background": "light"
     },
     "output_type": "display_data"
    },
    {
     "name": "stdout",
     "output_type": "stream",
     "text": [
      "\n",
      "Tiempo medio de acceso sin memmap:  163.8713779449463 ms\n",
      "\n",
      "Tiempo medio de acceso con memmap:  19.84374237060547 ms\n",
      "\n",
      "El uso de memmap ha supuesto un 825.81%, del acceso sin memmap\n"
     ]
    }
   ],
   "source": [
    "import numpy as np\n",
    "from time import time\n",
    "import matplotlib.pyplot as plt\n",
    "import pandas as pd\n",
    "from IPython.display import display, HTML\n",
    "\n",
    "# Se usan varias dimensiones de arrays cuyas raices cubicas sean enteros para poder formar ndarrays de 3 dimensiones que hacen más complejo su acceso\n",
    "array_dim = np.power(np.arange(10, 501, 10), 3)\n",
    "\n",
    "dataset_size = len(array_dim)\n",
    "\n",
    "# Arrays que almacenan los tiempos de acceso según cada método (ndarray vs memmap)\n",
    "tiempos_ndarray = np.zeros(dataset_size)\n",
    "tiempos_memmap = np.zeros(dataset_size)\n",
    "\n",
    "# Se itera sobre un ndarray\n",
    "for iter in range(dataset_size):\n",
    "    size = array_dim[iter]\n",
    "    size_per_axis = int(size**(1/3)) + 1\n",
    "    a1 = np.arange(size).reshape(size_per_axis, size_per_axis, size_per_axis)\n",
    "    \n",
    "    # Calculamos el tiempo  medio de 5 accesos al array\n",
    "    t1 = time()\n",
    "    for i in range(5):\n",
    "        view = np.array(a1[::, ::, ::])\n",
    "    t1 = ((time() - t1) / 5) * 1000\n",
    "    tiempos_ndarray[iter] = t1\n",
    "\n",
    "# Tabla no memmap\n",
    "print('TABLA TIEMPOS SIN MEMMAP\\n')\n",
    "df_ndarray = pd.DataFrame({\"Array dimension\": array_dim, \"Time (ms)\": tiempos_ndarray, \"Time (ms) SUM\": np.cumsum(tiempos_ndarray)})\n",
    "display(df_ndarray)\n",
    "\n",
    "# Se itera sobre un ndarray con memmap\n",
    "for iter in range(dataset_size):\n",
    "    size = array_dim[iter]\n",
    "    size_per_axis = int(size**(1/3)) + 1\n",
    "    a2 = np.memmap('/tmp/myarray2.memmap', mode='write', shape=(size_per_axis, size_per_axis, size_per_axis))\n",
    "\n",
    "    # Calculamos el tiempo  medio de 5 accesos al array\n",
    "    t2 = time() \n",
    "    for i in range(5):\n",
    "        view = np.array(a2[::, ::, ::])\n",
    "    t2 = ((time() - t2) / 5) * 1000\n",
    "    tiempos_memmap[iter] = t2\n",
    "\n",
    "# Tabla memmap\n",
    "print('\\n\\nTABLA TIEMPOS CON MEMMAP\\n')\n",
    "df_memmap = pd.DataFrame({\"Array dimension\": array_dim, \"Time (ms)\": tiempos_memmap, \"Time (ms) SUM\": np.cumsum(tiempos_memmap)})\n",
    "display(df_memmap)\n",
    "\n",
    "#Plot\n",
    "plt.plot(array_dim, tiempos_ndarray, label=\"ndarray\")\n",
    "plt.plot(array_dim, tiempos_memmap, label=\"memmap\")\n",
    "\n",
    "#Estilo\n",
    "plt.rcParams['figure.figsize'] = (10,10)\n",
    "\n",
    "#Leyenda\n",
    "plt.ylabel('Tiempo')\n",
    "plt.xlabel('Dimensión del array')\n",
    "plt.legend(loc=\"upper left\")\n",
    "\n",
    "plt.show()\n",
    "\n",
    "# Cálculo para comparaciones\n",
    "ndarraymean = np.mean(tiempos_ndarray)\n",
    "memmapmean = np.mean(tiempos_memmap)\n",
    "improve = ndarraymean/memmapmean * 100\n",
    "\n",
    "print('\\nTiempo medio de acceso sin memmap: ', ndarraymean, 'ms')\n",
    "print('\\nTiempo medio de acceso con memmap: ', memmapmean, 'ms')\n",
    "print(\"\\nEl uso de memmap ha supuesto un {:.2f}%, del acceso sin memmap\".format(improve))"
   ]
  },
  {
   "cell_type": "markdown",
   "metadata": {},
   "source": [
    "### Comportamiento usando slicing sobre una dimension N\n",
    "Se puede observar sin embargo como el acceso a traves de slicing a dimensiones concretas empeora el rendimiento de memmap. Esto es debido a su comportamiento de lectura de bloques completos en su búsqueda de valores dentro de las dimensiones solicitadas, teniendo que leer bloques enteros para acceder a solo un valor del mismo."
   ]
  },
  {
   "cell_type": "code",
   "execution_count": 8,
   "metadata": {},
   "outputs": [
    {
     "name": "stdout",
     "output_type": "stream",
     "text": [
      "TABLA TIEMPOS SIN MEMMAP\n",
      "\n"
     ]
    },
    {
     "data": {
      "text/html": "<div>\n<style scoped>\n    .dataframe tbody tr th:only-of-type {\n        vertical-align: middle;\n    }\n\n    .dataframe tbody tr th {\n        vertical-align: top;\n    }\n\n    .dataframe thead th {\n        text-align: right;\n    }\n</style>\n<table border=\"1\" class=\"dataframe\">\n  <thead>\n    <tr style=\"text-align: right;\">\n      <th></th>\n      <th>Array dimension</th>\n      <th>Time (ms)</th>\n      <th>Time (ms) SUM</th>\n    </tr>\n  </thead>\n  <tbody>\n    <tr>\n      <th>0</th>\n      <td>1000</td>\n      <td>2.737188</td>\n      <td>2.737188</td>\n    </tr>\n    <tr>\n      <th>1</th>\n      <td>8000</td>\n      <td>0.007343</td>\n      <td>2.744532</td>\n    </tr>\n    <tr>\n      <th>2</th>\n      <td>27000</td>\n      <td>0.006819</td>\n      <td>2.751350</td>\n    </tr>\n    <tr>\n      <th>3</th>\n      <td>64000</td>\n      <td>0.003958</td>\n      <td>2.755308</td>\n    </tr>\n    <tr>\n      <th>4</th>\n      <td>125000</td>\n      <td>0.010777</td>\n      <td>2.766085</td>\n    </tr>\n    <tr>\n      <th>5</th>\n      <td>216000</td>\n      <td>0.009251</td>\n      <td>2.775335</td>\n    </tr>\n    <tr>\n      <th>6</th>\n      <td>343000</td>\n      <td>0.010395</td>\n      <td>2.785730</td>\n    </tr>\n    <tr>\n      <th>7</th>\n      <td>512000</td>\n      <td>0.007200</td>\n      <td>2.792931</td>\n    </tr>\n    <tr>\n      <th>8</th>\n      <td>729000</td>\n      <td>0.011158</td>\n      <td>2.804089</td>\n    </tr>\n    <tr>\n      <th>9</th>\n      <td>1000000</td>\n      <td>0.017023</td>\n      <td>2.821112</td>\n    </tr>\n    <tr>\n      <th>10</th>\n      <td>1331000</td>\n      <td>0.013447</td>\n      <td>2.834558</td>\n    </tr>\n    <tr>\n      <th>11</th>\n      <td>1728000</td>\n      <td>0.015020</td>\n      <td>2.849579</td>\n    </tr>\n    <tr>\n      <th>12</th>\n      <td>2197000</td>\n      <td>2.092409</td>\n      <td>4.941988</td>\n    </tr>\n    <tr>\n      <th>13</th>\n      <td>2744000</td>\n      <td>0.082779</td>\n      <td>5.024767</td>\n    </tr>\n    <tr>\n      <th>14</th>\n      <td>3375000</td>\n      <td>0.110817</td>\n      <td>5.135584</td>\n    </tr>\n    <tr>\n      <th>15</th>\n      <td>4096000</td>\n      <td>0.101757</td>\n      <td>5.237341</td>\n    </tr>\n    <tr>\n      <th>16</th>\n      <td>4913000</td>\n      <td>0.276852</td>\n      <td>5.514193</td>\n    </tr>\n    <tr>\n      <th>17</th>\n      <td>5832000</td>\n      <td>0.261831</td>\n      <td>5.776024</td>\n    </tr>\n    <tr>\n      <th>18</th>\n      <td>6859000</td>\n      <td>0.288010</td>\n      <td>6.064034</td>\n    </tr>\n    <tr>\n      <th>19</th>\n      <td>8000000</td>\n      <td>0.309801</td>\n      <td>6.373835</td>\n    </tr>\n    <tr>\n      <th>20</th>\n      <td>9261000</td>\n      <td>0.367165</td>\n      <td>6.740999</td>\n    </tr>\n    <tr>\n      <th>21</th>\n      <td>10648000</td>\n      <td>0.419569</td>\n      <td>7.160568</td>\n    </tr>\n    <tr>\n      <th>22</th>\n      <td>12167000</td>\n      <td>0.558615</td>\n      <td>7.719183</td>\n    </tr>\n    <tr>\n      <th>23</th>\n      <td>13824000</td>\n      <td>0.565052</td>\n      <td>8.284235</td>\n    </tr>\n    <tr>\n      <th>24</th>\n      <td>15625000</td>\n      <td>0.657177</td>\n      <td>8.941412</td>\n    </tr>\n    <tr>\n      <th>25</th>\n      <td>17576000</td>\n      <td>0.799990</td>\n      <td>9.741402</td>\n    </tr>\n    <tr>\n      <th>26</th>\n      <td>19683000</td>\n      <td>0.767851</td>\n      <td>10.509253</td>\n    </tr>\n    <tr>\n      <th>27</th>\n      <td>21952000</td>\n      <td>0.162792</td>\n      <td>10.672045</td>\n    </tr>\n    <tr>\n      <th>28</th>\n      <td>24389000</td>\n      <td>0.845146</td>\n      <td>11.517191</td>\n    </tr>\n    <tr>\n      <th>29</th>\n      <td>27000000</td>\n      <td>1.089573</td>\n      <td>12.606764</td>\n    </tr>\n    <tr>\n      <th>30</th>\n      <td>29791000</td>\n      <td>0.220346</td>\n      <td>12.827110</td>\n    </tr>\n    <tr>\n      <th>31</th>\n      <td>32768000</td>\n      <td>1.069021</td>\n      <td>13.896132</td>\n    </tr>\n    <tr>\n      <th>32</th>\n      <td>35937000</td>\n      <td>1.281023</td>\n      <td>15.177155</td>\n    </tr>\n    <tr>\n      <th>33</th>\n      <td>39304000</td>\n      <td>0.249815</td>\n      <td>15.426970</td>\n    </tr>\n    <tr>\n      <th>34</th>\n      <td>42875000</td>\n      <td>0.240040</td>\n      <td>15.667009</td>\n    </tr>\n    <tr>\n      <th>35</th>\n      <td>46656000</td>\n      <td>0.246382</td>\n      <td>15.913391</td>\n    </tr>\n    <tr>\n      <th>36</th>\n      <td>50653000</td>\n      <td>0.279760</td>\n      <td>16.193151</td>\n    </tr>\n    <tr>\n      <th>37</th>\n      <td>54872000</td>\n      <td>0.365734</td>\n      <td>16.558886</td>\n    </tr>\n    <tr>\n      <th>38</th>\n      <td>59319000</td>\n      <td>0.354195</td>\n      <td>16.913080</td>\n    </tr>\n    <tr>\n      <th>39</th>\n      <td>64000000</td>\n      <td>0.503969</td>\n      <td>17.417049</td>\n    </tr>\n    <tr>\n      <th>40</th>\n      <td>68921000</td>\n      <td>0.495005</td>\n      <td>17.912054</td>\n    </tr>\n    <tr>\n      <th>41</th>\n      <td>74088000</td>\n      <td>0.405645</td>\n      <td>18.317699</td>\n    </tr>\n    <tr>\n      <th>42</th>\n      <td>79507000</td>\n      <td>0.537968</td>\n      <td>18.855667</td>\n    </tr>\n    <tr>\n      <th>43</th>\n      <td>85184000</td>\n      <td>0.524616</td>\n      <td>19.380283</td>\n    </tr>\n    <tr>\n      <th>44</th>\n      <td>91125000</td>\n      <td>0.480413</td>\n      <td>19.860697</td>\n    </tr>\n    <tr>\n      <th>45</th>\n      <td>97336000</td>\n      <td>0.557423</td>\n      <td>20.418119</td>\n    </tr>\n    <tr>\n      <th>46</th>\n      <td>103823000</td>\n      <td>0.579023</td>\n      <td>20.997143</td>\n    </tr>\n    <tr>\n      <th>47</th>\n      <td>110592000</td>\n      <td>0.724602</td>\n      <td>21.721745</td>\n    </tr>\n    <tr>\n      <th>48</th>\n      <td>117649000</td>\n      <td>0.765228</td>\n      <td>22.486973</td>\n    </tr>\n    <tr>\n      <th>49</th>\n      <td>125000000</td>\n      <td>0.761414</td>\n      <td>23.248386</td>\n    </tr>\n  </tbody>\n</table>\n</div>",
      "text/plain": "    Array dimension  Time (ms)  Time (ms) SUM\n0              1000   2.737188       2.737188\n1              8000   0.007343       2.744532\n2             27000   0.006819       2.751350\n3             64000   0.003958       2.755308\n4            125000   0.010777       2.766085\n5            216000   0.009251       2.775335\n6            343000   0.010395       2.785730\n7            512000   0.007200       2.792931\n8            729000   0.011158       2.804089\n9           1000000   0.017023       2.821112\n10          1331000   0.013447       2.834558\n11          1728000   0.015020       2.849579\n12          2197000   2.092409       4.941988\n13          2744000   0.082779       5.024767\n14          3375000   0.110817       5.135584\n15          4096000   0.101757       5.237341\n16          4913000   0.276852       5.514193\n17          5832000   0.261831       5.776024\n18          6859000   0.288010       6.064034\n19          8000000   0.309801       6.373835\n20          9261000   0.367165       6.740999\n21         10648000   0.419569       7.160568\n22         12167000   0.558615       7.719183\n23         13824000   0.565052       8.284235\n24         15625000   0.657177       8.941412\n25         17576000   0.799990       9.741402\n26         19683000   0.767851      10.509253\n27         21952000   0.162792      10.672045\n28         24389000   0.845146      11.517191\n29         27000000   1.089573      12.606764\n30         29791000   0.220346      12.827110\n31         32768000   1.069021      13.896132\n32         35937000   1.281023      15.177155\n33         39304000   0.249815      15.426970\n34         42875000   0.240040      15.667009\n35         46656000   0.246382      15.913391\n36         50653000   0.279760      16.193151\n37         54872000   0.365734      16.558886\n38         59319000   0.354195      16.913080\n39         64000000   0.503969      17.417049\n40         68921000   0.495005      17.912054\n41         74088000   0.405645      18.317699\n42         79507000   0.537968      18.855667\n43         85184000   0.524616      19.380283\n44         91125000   0.480413      19.860697\n45         97336000   0.557423      20.418119\n46        103823000   0.579023      20.997143\n47        110592000   0.724602      21.721745\n48        117649000   0.765228      22.486973\n49        125000000   0.761414      23.248386"
     },
     "metadata": {},
     "output_type": "display_data"
    },
    {
     "name": "stdout",
     "output_type": "stream",
     "text": [
      "\n",
      "\n",
      "TABLA TIEMPOS CON MEMMAP\n",
      "\n"
     ]
    },
    {
     "data": {
      "text/html": "<div>\n<style scoped>\n    .dataframe tbody tr th:only-of-type {\n        vertical-align: middle;\n    }\n\n    .dataframe tbody tr th {\n        vertical-align: top;\n    }\n\n    .dataframe thead th {\n        text-align: right;\n    }\n</style>\n<table border=\"1\" class=\"dataframe\">\n  <thead>\n    <tr style=\"text-align: right;\">\n      <th></th>\n      <th>Array dimension</th>\n      <th>Time (ms)</th>\n      <th>Time (ms) SUM</th>\n    </tr>\n  </thead>\n  <tbody>\n    <tr>\n      <th>0</th>\n      <td>1000</td>\n      <td>0.053930</td>\n      <td>0.053930</td>\n    </tr>\n    <tr>\n      <th>1</th>\n      <td>8000</td>\n      <td>0.099230</td>\n      <td>0.153160</td>\n    </tr>\n    <tr>\n      <th>2</th>\n      <td>27000</td>\n      <td>0.142574</td>\n      <td>0.295734</td>\n    </tr>\n    <tr>\n      <th>3</th>\n      <td>64000</td>\n      <td>0.275421</td>\n      <td>0.571156</td>\n    </tr>\n    <tr>\n      <th>4</th>\n      <td>125000</td>\n      <td>0.167418</td>\n      <td>0.738573</td>\n    </tr>\n    <tr>\n      <th>5</th>\n      <td>216000</td>\n      <td>0.195837</td>\n      <td>0.934410</td>\n    </tr>\n    <tr>\n      <th>6</th>\n      <td>343000</td>\n      <td>0.163794</td>\n      <td>1.098204</td>\n    </tr>\n    <tr>\n      <th>7</th>\n      <td>512000</td>\n      <td>0.199652</td>\n      <td>1.297855</td>\n    </tr>\n    <tr>\n      <th>8</th>\n      <td>729000</td>\n      <td>0.160217</td>\n      <td>1.458073</td>\n    </tr>\n    <tr>\n      <th>9</th>\n      <td>1000000</td>\n      <td>0.183821</td>\n      <td>1.641893</td>\n    </tr>\n    <tr>\n      <th>10</th>\n      <td>1331000</td>\n      <td>0.173855</td>\n      <td>1.815748</td>\n    </tr>\n    <tr>\n      <th>11</th>\n      <td>1728000</td>\n      <td>0.183392</td>\n      <td>1.999140</td>\n    </tr>\n    <tr>\n      <th>12</th>\n      <td>2197000</td>\n      <td>0.308228</td>\n      <td>2.307367</td>\n    </tr>\n    <tr>\n      <th>13</th>\n      <td>2744000</td>\n      <td>0.166845</td>\n      <td>2.474213</td>\n    </tr>\n    <tr>\n      <th>14</th>\n      <td>3375000</td>\n      <td>0.315380</td>\n      <td>2.789593</td>\n    </tr>\n    <tr>\n      <th>15</th>\n      <td>4096000</td>\n      <td>0.323391</td>\n      <td>3.112984</td>\n    </tr>\n    <tr>\n      <th>16</th>\n      <td>4913000</td>\n      <td>0.301027</td>\n      <td>3.414011</td>\n    </tr>\n    <tr>\n      <th>17</th>\n      <td>5832000</td>\n      <td>0.191164</td>\n      <td>3.605175</td>\n    </tr>\n    <tr>\n      <th>18</th>\n      <td>6859000</td>\n      <td>0.396252</td>\n      <td>4.001427</td>\n    </tr>\n    <tr>\n      <th>19</th>\n      <td>8000000</td>\n      <td>0.355053</td>\n      <td>4.356480</td>\n    </tr>\n    <tr>\n      <th>20</th>\n      <td>9261000</td>\n      <td>0.462770</td>\n      <td>4.819250</td>\n    </tr>\n    <tr>\n      <th>21</th>\n      <td>10648000</td>\n      <td>0.462675</td>\n      <td>5.281925</td>\n    </tr>\n    <tr>\n      <th>22</th>\n      <td>12167000</td>\n      <td>0.382376</td>\n      <td>5.664301</td>\n    </tr>\n    <tr>\n      <th>23</th>\n      <td>13824000</td>\n      <td>0.427771</td>\n      <td>6.092072</td>\n    </tr>\n    <tr>\n      <th>24</th>\n      <td>15625000</td>\n      <td>0.365543</td>\n      <td>6.457615</td>\n    </tr>\n    <tr>\n      <th>25</th>\n      <td>17576000</td>\n      <td>0.200415</td>\n      <td>6.658030</td>\n    </tr>\n    <tr>\n      <th>26</th>\n      <td>19683000</td>\n      <td>0.170040</td>\n      <td>6.828070</td>\n    </tr>\n    <tr>\n      <th>27</th>\n      <td>21952000</td>\n      <td>0.127602</td>\n      <td>6.955671</td>\n    </tr>\n    <tr>\n      <th>28</th>\n      <td>24389000</td>\n      <td>0.130796</td>\n      <td>7.086468</td>\n    </tr>\n    <tr>\n      <th>29</th>\n      <td>27000000</td>\n      <td>0.134420</td>\n      <td>7.220888</td>\n    </tr>\n    <tr>\n      <th>30</th>\n      <td>29791000</td>\n      <td>0.189352</td>\n      <td>7.410240</td>\n    </tr>\n    <tr>\n      <th>31</th>\n      <td>32768000</td>\n      <td>0.179577</td>\n      <td>7.589817</td>\n    </tr>\n    <tr>\n      <th>32</th>\n      <td>35937000</td>\n      <td>0.194979</td>\n      <td>7.784796</td>\n    </tr>\n    <tr>\n      <th>33</th>\n      <td>39304000</td>\n      <td>0.166416</td>\n      <td>7.951212</td>\n    </tr>\n    <tr>\n      <th>34</th>\n      <td>42875000</td>\n      <td>0.166798</td>\n      <td>8.118010</td>\n    </tr>\n    <tr>\n      <th>35</th>\n      <td>46656000</td>\n      <td>0.191021</td>\n      <td>8.309031</td>\n    </tr>\n    <tr>\n      <th>36</th>\n      <td>50653000</td>\n      <td>0.116253</td>\n      <td>8.425283</td>\n    </tr>\n    <tr>\n      <th>37</th>\n      <td>54872000</td>\n      <td>0.221205</td>\n      <td>8.646488</td>\n    </tr>\n    <tr>\n      <th>38</th>\n      <td>59319000</td>\n      <td>0.209999</td>\n      <td>8.856487</td>\n    </tr>\n    <tr>\n      <th>39</th>\n      <td>64000000</td>\n      <td>0.147820</td>\n      <td>9.004307</td>\n    </tr>\n    <tr>\n      <th>40</th>\n      <td>68921000</td>\n      <td>0.244188</td>\n      <td>9.248495</td>\n    </tr>\n    <tr>\n      <th>41</th>\n      <td>74088000</td>\n      <td>0.236368</td>\n      <td>9.484863</td>\n    </tr>\n    <tr>\n      <th>42</th>\n      <td>79507000</td>\n      <td>0.284433</td>\n      <td>9.769297</td>\n    </tr>\n    <tr>\n      <th>43</th>\n      <td>85184000</td>\n      <td>0.157166</td>\n      <td>9.926462</td>\n    </tr>\n    <tr>\n      <th>44</th>\n      <td>91125000</td>\n      <td>0.277424</td>\n      <td>10.203886</td>\n    </tr>\n    <tr>\n      <th>45</th>\n      <td>97336000</td>\n      <td>0.279570</td>\n      <td>10.483456</td>\n    </tr>\n    <tr>\n      <th>46</th>\n      <td>103823000</td>\n      <td>0.311422</td>\n      <td>10.794878</td>\n    </tr>\n    <tr>\n      <th>47</th>\n      <td>110592000</td>\n      <td>0.180340</td>\n      <td>10.975218</td>\n    </tr>\n    <tr>\n      <th>48</th>\n      <td>117649000</td>\n      <td>0.258970</td>\n      <td>11.234188</td>\n    </tr>\n    <tr>\n      <th>49</th>\n      <td>125000000</td>\n      <td>0.310230</td>\n      <td>11.544418</td>\n    </tr>\n  </tbody>\n</table>\n</div>",
      "text/plain": "    Array dimension  Time (ms)  Time (ms) SUM\n0              1000   0.053930       0.053930\n1              8000   0.099230       0.153160\n2             27000   0.142574       0.295734\n3             64000   0.275421       0.571156\n4            125000   0.167418       0.738573\n5            216000   0.195837       0.934410\n6            343000   0.163794       1.098204\n7            512000   0.199652       1.297855\n8            729000   0.160217       1.458073\n9           1000000   0.183821       1.641893\n10          1331000   0.173855       1.815748\n11          1728000   0.183392       1.999140\n12          2197000   0.308228       2.307367\n13          2744000   0.166845       2.474213\n14          3375000   0.315380       2.789593\n15          4096000   0.323391       3.112984\n16          4913000   0.301027       3.414011\n17          5832000   0.191164       3.605175\n18          6859000   0.396252       4.001427\n19          8000000   0.355053       4.356480\n20          9261000   0.462770       4.819250\n21         10648000   0.462675       5.281925\n22         12167000   0.382376       5.664301\n23         13824000   0.427771       6.092072\n24         15625000   0.365543       6.457615\n25         17576000   0.200415       6.658030\n26         19683000   0.170040       6.828070\n27         21952000   0.127602       6.955671\n28         24389000   0.130796       7.086468\n29         27000000   0.134420       7.220888\n30         29791000   0.189352       7.410240\n31         32768000   0.179577       7.589817\n32         35937000   0.194979       7.784796\n33         39304000   0.166416       7.951212\n34         42875000   0.166798       8.118010\n35         46656000   0.191021       8.309031\n36         50653000   0.116253       8.425283\n37         54872000   0.221205       8.646488\n38         59319000   0.209999       8.856487\n39         64000000   0.147820       9.004307\n40         68921000   0.244188       9.248495\n41         74088000   0.236368       9.484863\n42         79507000   0.284433       9.769297\n43         85184000   0.157166       9.926462\n44         91125000   0.277424      10.203886\n45         97336000   0.279570      10.483456\n46        103823000   0.311422      10.794878\n47        110592000   0.180340      10.975218\n48        117649000   0.258970      11.234188\n49        125000000   0.310230      11.544418"
     },
     "metadata": {},
     "output_type": "display_data"
    },
    {
     "name": "stdout",
     "output_type": "stream",
     "text": [
      "\n",
      "Tiempo medio de acceso sin memmap:  0.4649677276611328 ms\n",
      "\n",
      "Tiempo medio de acceso con memmap:  0.23088836669921875 ms\n",
      "\n",
      "El uso de memmap ha supuesto un 201.38%, del acceso sin memmap\n"
     ]
    },
    {
     "data": {
      "image/png": "[encoded data removed]",
      "text/plain": "<Figure size 720x720 with 1 Axes>"
     },
     "metadata": {
      "needs_background": "light"
     },
     "output_type": "display_data"
    }
   ],
   "source": [
    "import numpy as np\n",
    "from time import time\n",
    "import matplotlib.pyplot as plt\n",
    "import pandas as pd\n",
    "from IPython.display import display, HTML\n",
    "\n",
    "# Se usan varias dimensiones de arrays cuyas raices cubicas sean enteros para poder formar ndarrays de 3 dimensiones que hacen más complejo su acceso\n",
    "array_dim = np.power(np.arange(10, 501, 10), 3)\n",
    "\n",
    "dataset_size = len(array_dim)\n",
    "\n",
    "# Arrays que almacenan los tiempos de acceso según cada método (ndarray vs memmap)\n",
    "tiempos_ndarray = np.zeros(dataset_size)\n",
    "tiempos_memmap = np.zeros(dataset_size)\n",
    "\n",
    "# Se itera sobre un ndarray\n",
    "for iter in range(dataset_size):\n",
    "    size = array_dim[iter]\n",
    "    size_per_axis = int(size**(1/3)) + 1\n",
    "    a1 = np.arange(size).reshape(size_per_axis, size_per_axis, size_per_axis)\n",
    "    \n",
    "    # Calculamos el tiempo  medio de 5 accesos al array\n",
    "    t1 = time()\n",
    "    for i in range(5):\n",
    "        view = np.array(a1[0, ::, ::]) # Acceso con axis bloqueado a 0\n",
    "    t1 = ((time() - t1) / 5) * 1000\n",
    "    tiempos_ndarray[iter] = t1\n",
    "\n",
    "# Tabla no memmap\n",
    "print('TABLA TIEMPOS SIN MEMMAP\\n')\n",
    "df_ndarray = pd.DataFrame({\"Array dimension\": array_dim, \"Time (ms)\": tiempos_ndarray, \"Time (ms) SUM\": np.cumsum(tiempos_ndarray)})\n",
    "display(df_ndarray)\n",
    "\n",
    "\n",
    "# Se itera sobre un ndarray con memmap\n",
    "for iter in range(dataset_size):\n",
    "    size = array_dim[iter]\n",
    "    size_per_axis = int(size**(1/3)) + 1\n",
    "    a2 = np.memmap('/tmp/myarray2.memmap', mode='write', shape=(size_per_axis, size_per_axis, size_per_axis))\n",
    "\n",
    "    # Calculamos el tiempo  medio de 5 accesos al array\n",
    "    t2 = time() \n",
    "    for i in range(5):\n",
    "        view = np.array(a2[0, ::, ::]) # Acceso con axis bloqueado a 0\n",
    "    t2 = ((time() - t2) / 5) * 1000\n",
    "    tiempos_memmap[iter] = t2\n",
    "\n",
    "# Tabla memmap\n",
    "print('\\n\\nTABLA TIEMPOS CON MEMMAP\\n')\n",
    "df_memmap = pd.DataFrame({\"Array dimension\": array_dim, \"Time (ms)\": tiempos_memmap, \"Time (ms) SUM\": np.cumsum(tiempos_memmap)})\n",
    "display(df_memmap)\n",
    "\n",
    "\n",
    "#Plot\n",
    "plt.plot(array_dim, tiempos_ndarray, label=\"ndarray\")\n",
    "plt.plot(array_dim, tiempos_memmap, label=\"memmap\")\n",
    "\n",
    "#Estilo\n",
    "plt.rcParams['figure.figsize'] = (10,10)\n",
    "\n",
    "#Leyenda\n",
    "plt.ylabel('Tiempo')\n",
    "plt.xlabel('Dimensión del array')\n",
    "plt.legend(loc=\"upper left\")\n",
    "\n",
    "# Cálculo para comparaciones\n",
    "ndarraymean = np.mean(tiempos_ndarray)\n",
    "memmapmean = np.mean(tiempos_memmap)\n",
    "improve = ndarraymean/memmapmean*100\n",
    "\n",
    "print('\\nTiempo medio de acceso sin memmap: ', ndarraymean, 'ms')\n",
    "print('\\nTiempo medio de acceso con memmap: ', memmapmean, 'ms')\n",
    "print(\"\\nEl uso de memmap ha supuesto un {:.2f}%, del acceso sin memmap\".format(improve))\n",
    "\n",
    "plt.show()"
   ]
  },
  {
   "cell_type": "markdown",
   "metadata": {},
   "source": [
    "Como podemos observar el uso de memmap para recorrer dimensiones concretas dejaría de ser útil. En este ejemplo accedemos a diferentes filas dejando las otras dos dimensiones fijas a valores concretos, el uso de memmap sobretodo en los primeros accesos muestra una clara deficiencia con respecto a un acceso a variable normal."
   ]
  },
  {
   "cell_type": "code",
   "execution_count": 9,
   "metadata": {},
   "outputs": [
    {
     "name": "stdout",
     "output_type": "stream",
     "text": [
      "TABLA TIEMPOS SIN MEMMAP\n",
      "\n"
     ]
    },
    {
     "data": {
      "text/html": "<div>\n<style scoped>\n    .dataframe tbody tr th:only-of-type {\n        vertical-align: middle;\n    }\n\n    .dataframe tbody tr th {\n        vertical-align: top;\n    }\n\n    .dataframe thead th {\n        text-align: right;\n    }\n</style>\n<table border=\"1\" class=\"dataframe\">\n  <thead>\n    <tr style=\"text-align: right;\">\n      <th></th>\n      <th>Array dimension</th>\n      <th>Time (ms)</th>\n      <th>Time (ms) SUM</th>\n    </tr>\n  </thead>\n  <tbody>\n    <tr>\n      <th>0</th>\n      <td>1000</td>\n      <td>0.012827</td>\n      <td>0.012827</td>\n    </tr>\n    <tr>\n      <th>1</th>\n      <td>8000</td>\n      <td>0.001192</td>\n      <td>0.014019</td>\n    </tr>\n    <tr>\n      <th>2</th>\n      <td>27000</td>\n      <td>0.001001</td>\n      <td>0.015020</td>\n    </tr>\n    <tr>\n      <th>3</th>\n      <td>64000</td>\n      <td>0.002193</td>\n      <td>0.017214</td>\n    </tr>\n    <tr>\n      <th>4</th>\n      <td>125000</td>\n      <td>0.001240</td>\n      <td>0.018454</td>\n    </tr>\n    <tr>\n      <th>...</th>\n      <td>...</td>\n      <td>...</td>\n      <td>...</td>\n    </tr>\n    <tr>\n      <th>75</th>\n      <td>438976000</td>\n      <td>0.005579</td>\n      <td>0.390339</td>\n    </tr>\n    <tr>\n      <th>76</th>\n      <td>456533000</td>\n      <td>0.009251</td>\n      <td>0.399590</td>\n    </tr>\n    <tr>\n      <th>77</th>\n      <td>474552000</td>\n      <td>0.008202</td>\n      <td>0.407791</td>\n    </tr>\n    <tr>\n      <th>78</th>\n      <td>493039000</td>\n      <td>0.008631</td>\n      <td>0.416422</td>\n    </tr>\n    <tr>\n      <th>79</th>\n      <td>512000000</td>\n      <td>0.005579</td>\n      <td>0.422001</td>\n    </tr>\n  </tbody>\n</table>\n<p>80 rows × 3 columns</p>\n</div>",
      "text/plain": "    Array dimension  Time (ms)  Time (ms) SUM\n0              1000   0.012827       0.012827\n1              8000   0.001192       0.014019\n2             27000   0.001001       0.015020\n3             64000   0.002193       0.017214\n4            125000   0.001240       0.018454\n..              ...        ...            ...\n75        438976000   0.005579       0.390339\n76        456533000   0.009251       0.399590\n77        474552000   0.008202       0.407791\n78        493039000   0.008631       0.416422\n79        512000000   0.005579       0.422001\n\n[80 rows x 3 columns]"
     },
     "metadata": {},
     "output_type": "display_data"
    },
    {
     "name": "stdout",
     "output_type": "stream",
     "text": [
      "\n",
      "\n",
      "TABLA TIEMPOS CON MEMMAP\n",
      "\n"
     ]
    },
    {
     "data": {
      "text/html": "<div>\n<style scoped>\n    .dataframe tbody tr th:only-of-type {\n        vertical-align: middle;\n    }\n\n    .dataframe tbody tr th {\n        vertical-align: top;\n    }\n\n    .dataframe thead th {\n        text-align: right;\n    }\n</style>\n<table border=\"1\" class=\"dataframe\">\n  <thead>\n    <tr style=\"text-align: right;\">\n      <th></th>\n      <th>Array dimension</th>\n      <th>Time (ms)</th>\n      <th>Time (ms) SUM</th>\n    </tr>\n  </thead>\n  <tbody>\n    <tr>\n      <th>0</th>\n      <td>1000</td>\n      <td>0.013399</td>\n      <td>0.013399</td>\n    </tr>\n    <tr>\n      <th>1</th>\n      <td>8000</td>\n      <td>0.094032</td>\n      <td>0.107431</td>\n    </tr>\n    <tr>\n      <th>2</th>\n      <td>27000</td>\n      <td>0.107241</td>\n      <td>0.214672</td>\n    </tr>\n    <tr>\n      <th>3</th>\n      <td>64000</td>\n      <td>0.108624</td>\n      <td>0.323296</td>\n    </tr>\n    <tr>\n      <th>4</th>\n      <td>125000</td>\n      <td>0.110579</td>\n      <td>0.433874</td>\n    </tr>\n    <tr>\n      <th>...</th>\n      <td>...</td>\n      <td>...</td>\n      <td>...</td>\n    </tr>\n    <tr>\n      <th>75</th>\n      <td>438976000</td>\n      <td>0.083828</td>\n      <td>8.244848</td>\n    </tr>\n    <tr>\n      <th>76</th>\n      <td>456533000</td>\n      <td>0.084209</td>\n      <td>8.329058</td>\n    </tr>\n    <tr>\n      <th>77</th>\n      <td>474552000</td>\n      <td>0.076818</td>\n      <td>8.405876</td>\n    </tr>\n    <tr>\n      <th>78</th>\n      <td>493039000</td>\n      <td>0.080156</td>\n      <td>8.486032</td>\n    </tr>\n    <tr>\n      <th>79</th>\n      <td>512000000</td>\n      <td>0.079775</td>\n      <td>8.565807</td>\n    </tr>\n  </tbody>\n</table>\n<p>80 rows × 3 columns</p>\n</div>",
      "text/plain": "    Array dimension  Time (ms)  Time (ms) SUM\n0              1000   0.013399       0.013399\n1              8000   0.094032       0.107431\n2             27000   0.107241       0.214672\n3             64000   0.108624       0.323296\n4            125000   0.110579       0.433874\n..              ...        ...            ...\n75        438976000   0.083828       8.244848\n76        456533000   0.084209       8.329058\n77        474552000   0.076818       8.405876\n78        493039000   0.080156       8.486032\n79        512000000   0.079775       8.565807\n\n[80 rows x 3 columns]"
     },
     "metadata": {},
     "output_type": "display_data"
    },
    {
     "name": "stdout",
     "output_type": "stream",
     "text": [
      "\n",
      "Tiempo medio de acceso sin memmap:  0.00527501106262207 ms\n",
      "\n",
      "Tiempo medio de acceso con memmap:  0.10707259178161621 ms\n",
      "\n",
      "El uso de memmap ha supuesto un 0.05%, del acceso sin memmap\n"
     ]
    },
    {
     "data": {
      "image/png": "[encoded data removed]",
      "text/plain": "<Figure size 720x720 with 1 Axes>"
     },
     "metadata": {
      "needs_background": "light"
     },
     "output_type": "display_data"
    }
   ],
   "source": [
    "# Se usan varias dimensiones de arrays cuyas raices cubicas sean enteros para poder formar ndarrays de 3 dimensiones que hacen más complejo su acceso\n",
    "array_dim = np.power(np.arange(10, 801, 10), 3)\n",
    "\n",
    "dataset_size = len(array_dim)\n",
    "\n",
    "# Arrays que almacenan los tiempos de acceso según cada método (ndarray vs memmap)\n",
    "tiempos_ndarray = np.zeros(dataset_size)\n",
    "tiempos_memmap = np.zeros(dataset_size)\n",
    "\n",
    "# Se itera sobre un ndarray\n",
    "for iter in range(dataset_size):\n",
    "    size = array_dim[iter]\n",
    "    size_per_axis = int(size**(1/3)) + 1\n",
    "    a1 = np.arange(size).reshape(size_per_axis, size_per_axis, size_per_axis)\n",
    "    \n",
    "    # Calculamos el tiempo  medio de 5 accesos al array\n",
    "    t1 = time()\n",
    "    for i in range(5):\n",
    "        view = np.array(a1[i, 0, 0]) # Acceso con todos los axis bloqueados, iteramos sobre el primero\n",
    "    t1 = ((time() - t1) / 5) * 1000\n",
    "    tiempos_ndarray[iter] = t1\n",
    "\n",
    "# Tabla no memmap\n",
    "print('TABLA TIEMPOS SIN MEMMAP\\n')\n",
    "df_ndarray = pd.DataFrame({\"Array dimension\": array_dim, \"Time (ms)\": tiempos_ndarray, \"Time (ms) SUM\": np.cumsum(tiempos_ndarray)})\n",
    "display(df_ndarray)\n",
    "\n",
    "\n",
    "# Se itera sobre un ndarray con memmap\n",
    "for iter in range(dataset_size):\n",
    "    size = array_dim[iter]\n",
    "    size_per_axis = int(size**(1/3)) + 1\n",
    "    a2 = np.memmap('/tmp/myarray2.memmap', mode='write', shape=(size_per_axis, size_per_axis, size_per_axis))\n",
    "\n",
    "    # Calculamos el tiempo  medio de 5 accesos al array\n",
    "    t2 = time() \n",
    "    for i in range(5):\n",
    "        view = np.array(a2[i, 0, 0]) # Acceso con todos los axis bloqueados, iteramos sobre el primero\n",
    "    t2 = ((time() - t2) / 5) * 1000\n",
    "    tiempos_memmap[iter] = t2\n",
    "\n",
    "# Tabla memmap\n",
    "print('\\n\\nTABLA TIEMPOS CON MEMMAP\\n')\n",
    "df_memmap = pd.DataFrame({\"Array dimension\": array_dim, \"Time (ms)\": tiempos_memmap, \"Time (ms) SUM\": np.cumsum(tiempos_memmap)})\n",
    "display(df_memmap)\n",
    "\n",
    "\n",
    "#Plot\n",
    "plt.plot(array_dim, tiempos_ndarray, label=\"ndarray\")\n",
    "plt.plot(array_dim, tiempos_memmap, label=\"memmap\")\n",
    "\n",
    "#Estilo\n",
    "plt.rcParams['figure.figsize'] = (10,10)\n",
    "\n",
    "#Leyenda\n",
    "plt.ylabel('Tiempo')\n",
    "plt.xlabel('Dimensión del array')\n",
    "plt.legend(loc=\"upper left\")\n",
    "\n",
    "ndarraymean = np.mean(tiempos_ndarray)\n",
    "memmapmean = np.mean(tiempos_memmap)\n",
    "improve = ndarraymean/memmapmean\n",
    "\n",
    "print('\\nTiempo medio de acceso sin memmap: ', ndarraymean, 'ms')\n",
    "print('\\nTiempo medio de acceso con memmap: ', memmapmean, 'ms')\n",
    "print(\"\\nEl uso de memmap ha supuesto un {:.2f}%, del acceso sin memmap\".format(improve))"
   ]
  },
  {
   "cell_type": "markdown",
   "metadata": {},
   "source": [
    "### Librerías hyp5, pytables, y zarr\n",
    "\n",
    "Sería interesante valorar el uso de librerías para poder controlar la compresión y fragmentación de bloques de memoria. Estas librerías permiten modificar estos valores para poder acceder de forma más personalizada a nuestros dataset. Además ofrecen ciertas caracterísiticas como acceso en remoto a nuestros archivos a traves de aws s3."
   ]
  },
  {
   "cell_type": "markdown",
   "metadata": {},
   "source": [
    "## Artículo 02\n",
    "\n",
    "### Data Structures for Statistical Computing in Python\n",
    "\n",
    "McKinney, W. (2010). Data Structures for Statistical Computing in Python.\n",
    "Proceedings of the 9th Python in Science Conference, December, 56-61.\n",
    "https://doi.org/10.25080/majora-92bf1922-00a\n",
    "\n",
    "https://www.researchgate.net/publication/265001241_Data_Structures_for_Statistical_Computing_in_Python\n",
    "\n",
    "En este segundo artículo el creador de *pandas* introduce dicha librería en comparación con las estructuras nativas de R.\n",
    "\n",
    "- Actividad 02.01 - Desarrollar una opinión razonada del estado actual de las herramientas de análisis de datos estadísticos en contraposición a como se muestran en el artículo, R vs Python vs SQL vs Others..."
   ]
  },
  {
   "cell_type": "markdown",
   "metadata": {},
   "source": [
    "## <center> Actividad 02.01</center>\n",
    "--- "
   ]
  },
  {
   "cell_type": "markdown",
   "metadata": {},
   "source": [
    "Vamos a tener en cuenta las siguientes herramientas para el análisis de datos estadísticos:\n",
    "\n",
    "- R\n",
    "- Python\n",
    "- SQL\n",
    "- Matlab\n",
    "- SAS\n",
    "- Tableau\n",
    "\n",
    "Actualmente Python está pasando a dominar sobre las demás herramientas de análisis estadístico. Generalmente se debe a su propiedad open source que permite incluir librerías cada vez más sofisticadas que hasta ahora han llevado a ofrecer una gran variedad de herramientas para complementar la preparación, análisis y visualización de los datos. \n",
    "\n",
    "Es en este último aspecto, **la visualización de datos** es donde **python, R y Matlab dominan sobre SAS**, dada la complejidad de este último software para computar gráficos en su librería SAS Graph package. Si bien, Tableau (y Power BI) ha demostrado ofrecer una facilidad y potencia para la visualización mayor que cualquiera de las demás herramientas. Estos últimos sin embargo no ofrecen la misma potencia en cuanto a la preparación y análisis de los datos que pueden ofrecer Python y R, sobretodo en bases de datos no relacionales. Esto se debe a la característica de Tableau de ser un software más bien orientado hacia la visualización que hacia el análisis.\n",
    "\n",
    "Python es un lenguaje orientado a objetos mientras que R se basa más en funciones, las cuales suelen ir directamente dirigidas al análisis estadístico, es por esto que **R posee muchas más capacidades analíticas *built-in*** mientras que **Python se basa en sus librerías**. Esto sin embargo es uno de los fuertes de Python, ya que posee muchos mas desarrolladores dedicados a incrementar estas librerías.\n",
    "\n",
    "Dada su naturaleza dedicada al análisis de datos **R y Matlab requieren menos lineas de código**, si bien resultan menos legibles y por tanto la curva de aprendizaje de estos lenguajes, a pesar de ser rápida, es algo mayor, sobretodo en R. Destacar de este último, así como SAS y Tableau que no son gratuitos (también ocurre con R en menor medida).\n",
    "\n",
    "**SQL** por su parte resulta ser un lengauje más sencillo y potente (hasta cierto límite), sobre bases de datos estructuradas. Es cierto que SQL se orienta hacia la realización de consultas, pero tiene cierto grado de semajanza en el análisis estadístico con R, Matlab y Python. Su elección sobre las demás es clara cunado se desea consultar sobre bases de datos estructuradas, por ejemplo desde entornos *Cloud*, como *BigQuery*. Su simpleza y legibilidad hace de SQL una opción muy válida cuando tratamos con este tipo de bases de datos. Sin embargo existe un **límite claro, las bases de datos no estructuradas y ciertas consultas excesivamente complejas** que sería mucho más sencillo realizar con lenguajes como Python o R, donde podemos declarar nuevas variables o manejar estructuras de datos con mucha mayor flexibilidad.\n",
    "\n",
    "**En cuanto a coste computacional, Matlab domina sobre R y Python.**\n",
    "\n",
    "### Opinión\n",
    "\n",
    "Valorando la capacidad de análisis, computación, visualización, flexibilidad y coste, los dos ganadores en el análisis de datos son R y Python. Entre estos dos lenguajes, R está puramente orientado a funciones y análisis estadístico mientras que python es un lenguaje orientado a objetos que incluye una gran librería orientada al análisis. Creo que esta carácteristica de Python le hace mejor sobre R, dado que ofrece muchas mas opciones y libertad en la forma de afrontar problemas relacionados con la estadística así como una integración y flexibilidad con otros aspectos no estadísticos resulta mayor que R."
   ]
  },
  {
   "cell_type": "markdown",
   "metadata": {},
   "source": [
    "## Bibliografía"
   ]
  },
  {
   "cell_type": "markdown",
   "metadata": {},
   "source": [
    "\n",
    "[Numpy, Broadcasting](https://numpy.org/devdocs/user/theory.broadcasting.html)\n",
    "\n",
    "[Numpy, memmap](https://numpy.org/doc/stable/reference/generated/numpy.memmap.html)\n",
    "\n",
    "[Zarr, documentation](https://zarr.readthedocs.io/en/stable/)\n",
    "\n",
    "[Memmap vs HDF5/zarr](https://pythonspeed.com/articles/mmap-vs-zarr-hdf5/)\n",
    "\n",
    "[Matlab vs Python vs R](http://www.jds-online.com/files/150完成V.pdf)\n",
    "\n",
    "[Most used statistical analysis tools](https://imotions.com/blog/statistical-tools/)\n",
    "\n",
    "[SQL & Python](https://mode.com/blog/learning-python-sql/)\n",
    "\n",
    "[R & Matlab comparisson](https://statanalytica.com/blog/r-vs-matlab/)\n",
    "\n",
    "[SAS vs R vs Python](https://www.analyticsvidhya.com/blog/2017/09/sas-vs-vs-python-tool-learn/)"
   ]
  }
 ],
 "metadata": {
  "kernelspec": {
   "display_name": "Python 3.7.9 64-bit ('tf': conda)",
   "name": "python379jvsc74a57bd00e3b36984b19af1918e567b6ef4427128e64f599ce0f81735987234538bd33aa"
  },
  "language_info": {
   "codemirror_mode": {
    "name": "ipython",
    "version": 3
   },
   "file_extension": ".py",
   "mimetype": "text/x-python",
   "name": "python",
   "nbconvert_exporter": "python",
   "pygments_lexer": "ipython3",
   "version": "3.7.9"
  },
  "metadata": {
   "interpreter": {
    "hash": "4cd7ab41f5fca4b9b44701077e38c5ffd31fe66a6cab21e0214b68d958d0e462"
   }
  }
 },
 "nbformat": 4,
 "nbformat_minor": 2
}