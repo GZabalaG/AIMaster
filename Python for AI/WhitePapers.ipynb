{
 "cells": [
  {
   "cell_type": "markdown",
   "metadata": {},
   "source": [
    "## Artículo 01\n",
    "\n",
    "### The NumPy array: a structure for efficient numerical computation\n",
    "\n",
    "Van Der Walt, S., Colbert, S. C., &amp; Varoquaux, G. (2011). The NumPy array: A\n",
    "structure for efficient numerical computation. Computing in Science and\n",
    "Engineering, 13(2), 22-30. https://doi.org/10.1109/MCSE.2011.37\n",
    "\n",
    "https://www.researchgate.net/publication/224223550_The_NumPy_Array_A_Structure_for_Efficient_Numerical_Computation\n",
    "\n",
    "En este artículo se presenta la estructura *ndarray* de NumPy, y se hace un estudio sobre su uso y cómo mejora el rendimiento de ciertas operaciones matemáticas para la computación numérica.\n",
    "\n",
    "Se hace una breve introducción al *Broadcasting* como técnica que usa NumPy para realizar operaciones artiméticas sobre dos o más arrays con distintas dimensiones. \n",
    "\n",
    "- Actividad 01.01 - Ampliar dicha explicación, aportando posibles restricciones o limitaciones a dicho sistema y ejemplos propios de los casos de uso.\n",
    "\n",
    "También se introduce el trabajo con ficheros usando memoria mapeada.\n",
    "\n",
    "- Actividad 01.02 - Verificar la eficacia y mejora posible de rendimiento del uso de dicha técnica sobre ndarrays de tamaños grandes."
   ]
  },
  {
   "cell_type": "markdown",
   "metadata": {},
   "source": [
    "## <center> Actividad 01.01</center>\n",
    "--- "
   ]
  },
  {
   "cell_type": "markdown",
   "metadata": {},
   "source": [
    "El uso del *Broadcasting* en Numpy y ayuda a realizar operaciones aritméticas entre matrices de distintas dimensiones. Esto resulta muy útil cuando se quiere **realizar cualquier operación sobre un escalar o sobre una matriz cuya dimensión sea un subconjunto válido de la anterior**. ¿Qué entendemos por un subconjunto válido?\n",
    "\n",
    "Numpy presenta la regla del *Broadcasting*. Esta regla limita el uso de esta operación entre *ndarrays* de la siguiente manera:\n",
    "\n",
    "- La operación se realiza con un escalar (dimensión 1)\n",
    "- La operación se realiza entre dos matrizes cuyas dimensiones (calculadas de atrás hacia delante) son iguales:\n",
    "\n",
    "Para exponer de manera más clara esta segunda regla vamos a imaginar dos matrices A y B. \n",
    "\n",
    "    Dimensión de A = (Ai, Aj, Ak)\n",
    "    Dimensión de B = (Bi, Bj)\n",
    "\n",
    "Para que *Numpy* pueda aplicar *Broadcasting* a una operación entre estas dos matrices se debe cumplir lo que: \n",
    "    \n",
    "    Ak = Bj\n",
    "    Aj = Bi\n",
    "\n",
    "Dentro de esta segunda regla estarían incluidas las operaciones entre matrices cuya ultima dimensión sea igual a a la dimensión del vector con el que operan. Sea una matriz A y un vector v\n",
    "\n",
    "    Dimensión de A = (Ai, Aj, Ak)\n",
    "    Dimensión de v = vi\n",
    "\n",
    "Se debe cumplir que:\n",
    "\n",
    "    Ak = vi\n",
    "\n",
    "Pasemos a presentar ejemplos:\n"
   ]
  },
  {
   "cell_type": "markdown",
   "metadata": {},
   "source": [
    "### Caso válido 1: operación con un escalar\n",
    "\n",
    "![Matriz por escalar](https://2.bp.blogspot.com/-Baqf02hjMUY/VvV0BNH3-mI/AAAAAAAABQo/y_VLwo57700CWgsiFK3_USKU0x9gyx2Ow/s280/multiplicar-una-matriz-por-un-escalar-en%2Bjava.jpg)"
   ]
  },
  {
   "cell_type": "code",
   "execution_count": null,
   "metadata": {},
   "outputs": [],
   "source": [
    "import numpy as np\n",
    "\n",
    "A = np.arange(9).reshape(3, 3)          # Matriz de dimensiones 3x3\n",
    "print('Matriz A =\\n\\n', A)\n",
    "print('\\nDimensiones de A:', A.shape)\n",
    "\n",
    "b = 5                                   # Escalar\n",
    "print('\\nEscalar b =', b)\n",
    "\n",
    "\n",
    "print('\\nBroadcast válido, operacion de Matriz con escalar\\n\\n', A, '*', b, '=\\n\\n', A*b)"
   ]
  },
  {
   "cell_type": "markdown",
   "metadata": {},
   "source": [
    "Cualquier tipo de dimensión sería valida para operar junto a un escalar:"
   ]
  },
  {
   "cell_type": "code",
   "execution_count": null,
   "metadata": {},
   "outputs": [],
   "source": [
    "A = np.arange(24).reshape(3, 2, 4)      # Matriz de dimensiones 3x2x4\n",
    "print('Matriz A =\\n\\n', A)\n",
    "print('\\nDimensiones de A:', A.shape)\n",
    "\n",
    "b = 5                                   # Escalar\n",
    "print('\\nEscalar b =', b)\n",
    "\n",
    "\n",
    "print('\\nBroadcast válido, operacion de Matriz con escalar\\n\\n', A, '*', b, '=\\n\\n', A*b)"
   ]
  },
  {
   "cell_type": "markdown",
   "metadata": {},
   "source": [
    "### Caso válido 2: operación con matriz de dimensiones válidas\n",
    "\n",
    "![Matriz por matriz](https://numpy.org/devdocs/_images/theory.broadcast_2.gif)"
   ]
  },
  {
   "cell_type": "markdown",
   "metadata": {},
   "source": [
    "**Matriz y vector**"
   ]
  },
  {
   "cell_type": "code",
   "execution_count": null,
   "metadata": {},
   "outputs": [],
   "source": [
    "### Matriz y vector ###\n",
    "\n",
    "A = np.arange(10).reshape(2, 5)         # Matriz de dimensiones 2x5\n",
    "print('Matriz A =\\n\\n', A)\n",
    "print('\\nDimensiones de A:', A.shape)\n",
    "\n",
    "v = np.arange(5)                        # Vector de dimension (5)\n",
    "print('\\nVector v =', v)\n",
    "print('\\nDimensiones de v:', v.shape)\n",
    "\n",
    "\n",
    "print('\\nBroadcast válido, operacion de Matriz con vector\\n\\n', A, '*', v, '=\\n\\n', A*v) # Operación válida"
   ]
  },
  {
   "cell_type": "markdown",
   "metadata": {},
   "source": [
    "**Matriz y matriz de dimensiones válidas**"
   ]
  },
  {
   "cell_type": "code",
   "execution_count": null,
   "metadata": {},
   "outputs": [],
   "source": [
    "### Matriz y matriz de dimensiones válidas ###\n",
    "\n",
    "A = np.arange(30).reshape(2, 5, 3)      # Matriz de dimensiones 2x5x3\n",
    "print('Matriz A =\\n\\n', A)\n",
    "print('\\nDimensiones de A:', A.shape)\n",
    "\n",
    "B = np.arange(15).reshape(5, 3)         # Matriz de dimensiones 5x3\n",
    "print('\\nMatriz B =', B)\n",
    "print('\\nDimensiones de B:', B.shape)\n",
    "\n",
    "# Vamos a definir una función que toma dos matrizes y comprueba que sus dimensiones últimas son iguales:\n",
    "# Esta función basicamente compara las dimensiones de las dos matrices de atras hacia delante usando slicing. \n",
    "# Usa el numero de dimensiones (1, 2 o 3) de la menor matriz como límite\n",
    "\n",
    "def broadcastable_matrixes(A, B):\n",
    "    if (len(A.shape) > len(B.shape)):\n",
    "        return B.shape[-len(B.shape):] == A.shape[-len(B.shape):]\n",
    "    else:\n",
    "        return B.shape[-len(A.shape):] == A.shape[-len(A.shape):]\n",
    "\n",
    "\n",
    "# Comprobamos que las dimensiones últimas de las dos matrices son iguales\n",
    "\n",
    "print('\\nLas matrices son broadcastable?:')\n",
    "print(broadcastable_matrixes(A, B))\n",
    "\n",
    "\n",
    "print('\\nBroadcast válido, operacion de Matriz con Matriz subconjunto válido\\n\\n', A, '*\\n\\n', B, '=\\n\\n', A*B) # Operación válida"
   ]
  },
  {
   "cell_type": "markdown",
   "metadata": {},
   "source": [
    "### Caso no válido 1: Matriz y vector de dimensiones NO válidas\n",
    "\n",
    "Se expone a continuación un ejemplo donde una matriz y un vector no son Broadcastable. No tienen dimensiones válidas\n",
    "\n",
    "![Matriz por matriz](https://numpy.org/devdocs/_images/theory.broadcast_3.gif)"
   ]
  },
  {
   "cell_type": "code",
   "execution_count": null,
   "metadata": {},
   "outputs": [],
   "source": [
    "### Matriz y vector no válido ###\n",
    "\n",
    "A = np.arange(10).reshape(2, 5)         # Matriz de dimensiones 2x5\n",
    "print('Matriz A =\\n\\n', A)\n",
    "print('\\nDimensiones de A:', A.shape)\n",
    "\n",
    "v = np.arange(3)                        # Vector de dimension (3)\n",
    "print('\\nVector v =', v)\n",
    "print('\\nDimensiones de v:', v.shape)\n",
    "\n",
    "# Operación no válida: ValueError: operands could not be broadcast together with shapes (2,5) (3,)\n",
    "print('\\nBroadcast válido, operacion de Matriz con vector\\n\\n', A, '*', v, '=\\n\\n', A*v) "
   ]
  },
  {
   "cell_type": "markdown",
   "metadata": {},
   "source": [
    "### Caso no válido 2: Matriz y matriz de dimensiones NO válidas\n",
    "\n",
    "Se expone a continuación ejemplos donde una matriz y otra matriz no son Broadcastable. No tienen dimensiones válidas"
   ]
  },
  {
   "cell_type": "code",
   "execution_count": null,
   "metadata": {},
   "outputs": [],
   "source": [
    "### Matriz y matriz de dimensiones no válidas ###\n",
    "\n",
    "A = np.arange(30).reshape(2, 5, 3)      # Matriz de dimensiones 2x5x3\n",
    "print('Matriz A =\\n\\n', A)\n",
    "print('\\nDimensiones de A:', A.shape)\n",
    "\n",
    "B = np.arange(15).reshape(3, 5)         # Matriz de dimensiones 3x5\n",
    "print('\\nMatriz B =', B)\n",
    "print('\\nDimensiones de B:', B.shape)\n",
    "\n",
    "# Comprobamos que las dimensiones últimas de las dos matrices son iguales\n",
    "\n",
    "print('\\nLas matrices son broadcastable?:')\n",
    "print(broadcastable_matrixes(A, B))\n",
    "\n",
    " # Operación no válida: ValueError: operands could not be broadcast together with shapes (2,5,3) (3,5)\n",
    "print('\\nBroadcast válido, operacion de Matriz con Matriz subconjunto válido\\n\\n', A, '*\\n\\n', B, '=\\n\\n', A*B) # Operación válida"
   ]
  },
  {
   "cell_type": "markdown",
   "metadata": {},
   "source": [
    "## <center> Actividad 01.02</center>\n",
    "--- "
   ]
  },
  {
   "cell_type": "markdown",
   "metadata": {},
   "source": [
    "### Eficacia sobre ndarrays de tamaños grandes\n",
    "\n",
    "A continuación se presenta una gráfica y una tabla donde se puede ver el comportamiento de la velocidad de acceso a un *ndarray* sin el uso de *memmap* y con el uso de *memmap*.\n",
    "\n",
    "La mejora de *memmap* es clara, ofreciendo mejoras de rendimiento 9 veces mayor sobre un acceso a un array completo.\n",
    "\n",
    "Además, cuanto mayor se hace el array mayor es la mejora obtenida."
   ]
  },
  {
   "cell_type": "code",
   "execution_count": null,
   "metadata": {},
   "outputs": [],
   "source": [
    "import numpy as np\n",
    "from time import time\n",
    "import matplotlib.pyplot as plt\n",
    "import pandas as pd\n",
    "from IPython.display import display, HTML\n",
    "\n",
    "# Se usan varias dimensiones de arrays cuyas raices cubicas sean enteros para poder formar ndarrays de 3 dimensiones que hacen más complejo su acceso\n",
    "array_dim = np.power(np.arange(10, 501, 10), 3)\n",
    "\n",
    "dataset_size = len(array_dim)\n",
    "\n",
    "# Arrays que almacenan los tiempos de acceso según cada método (ndarray vs memmap)\n",
    "tiempos_ndarray = np.zeros(dataset_size)\n",
    "tiempos_memmap = np.zeros(dataset_size)\n",
    "\n",
    "# Se itera sobre un ndarray\n",
    "for iter in range(dataset_size):\n",
    "    size = array_dim[iter]\n",
    "    size_per_axis = int(size**(1/3)) + 1\n",
    "    a1 = np.arange(size).reshape(size_per_axis, size_per_axis, size_per_axis)\n",
    "    \n",
    "    # Calculamos el tiempo  medio de 5 accesos al array\n",
    "    t1 = time()\n",
    "    for i in range(5):\n",
    "        view = np.array(a1[::, ::, ::])\n",
    "    t1 = ((time() - t1) / 5) * 1000\n",
    "    tiempos_ndarray[iter] = t1\n",
    "\n",
    "# Tabla no memmap\n",
    "print('TABLA TIEMPOS SIN MEMMAP\\n')\n",
    "df_ndarray = pd.DataFrame({\"Array dimension\": array_dim, \"Time (ms)\": tiempos_ndarray, \"Time (ms) SUM\": np.cumsum(tiempos_ndarray)})\n",
    "display(df_ndarray)\n",
    "\n",
    "\n",
    "# Se itera sobre un ndarray con memmap\n",
    "for iter in range(dataset_size):\n",
    "    size = array_dim[iter]\n",
    "    size_per_axis = int(size**(1/3)) + 1\n",
    "    a2 = np.memmap('/tmp/myarray2.memmap', mode='write', shape=(size_per_axis, size_per_axis, size_per_axis))\n",
    "\n",
    "    # Calculamos el tiempo  medio de 5 accesos al array\n",
    "    t2 = time() \n",
    "    for i in range(5):\n",
    "        view = np.array(a2[::, ::, ::])\n",
    "    t2 = ((time() - t2) / 5) * 1000\n",
    "    tiempos_memmap[iter] = t2\n",
    "\n",
    "# Tabla memmap\n",
    "print('\\n\\nTABLA TIEMPOS CON MEMMAP\\n')\n",
    "df_memmap = pd.DataFrame({\"Array dimension\": array_dim, \"Time (ms)\": tiempos_memmap, \"Time (ms) SUM\": np.cumsum(tiempos_memmap)})\n",
    "display(df_memmap)\n",
    "\n",
    "\n",
    "#Plot\n",
    "plt.plot(array_dim, tiempos_ndarray, label=\"ndarray\")\n",
    "plt.plot(array_dim, tiempos_memmap, label=\"memmap\")\n",
    "\n",
    "#Estilo\n",
    "plt.rcParams['figure.figsize'] = (10,10)\n",
    "\n",
    "#Leyenda\n",
    "plt.ylabel('Tiempo')\n",
    "plt.xlabel('Dimensión del array')\n",
    "plt.legend(loc=\"upper left\")\n",
    "\n",
    "plt.show()\n",
    "\n",
    "\n",
    "ndarraymean = np.mean(tiempos_ndarray)\n",
    "memmapmean = np.mean(tiempos_memmap)\n",
    "improve = ndarraymean/memmapmean * 100\n",
    "\n",
    "print('\\nTiempo medio de acceso sin memmap: ', ndarraymean, 'ms')\n",
    "print('\\nTiempo medio de acceso con memmap: ', memmapmean, 'ms')\n",
    "print(\"\\nEl uso de memmap ha supuesto un {:.2f}%, del acceso sin memmap\".format(improve))"
   ]
  },
  {
   "cell_type": "markdown",
   "metadata": {},
   "source": [
    "## Comportamiento usando slicing sobre una dimension N\n",
    "Se puede observar sin embargo como el acceso a traves de slicing a dimensiones concretas empeora el rendimiento de memmap. Esto es debido a su comportamiento de lecutra de bloques completos en su búsqueda de valores dentro de las dimensiones solicitadas, teniendo que leer bloques enteros para acceder a solo un valor del mismo."
   ]
  },
  {
   "cell_type": "code",
   "execution_count": 27,
   "metadata": {},
   "outputs": [
    {
     "name": "stdout",
     "output_type": "stream",
     "text": [
      "TABLA TIEMPOS SIN MEMMAP\n",
      "\n"
     ]
    },
    {
     "data": {
      "text/html": "<div>\n<style scoped>\n    .dataframe tbody tr th:only-of-type {\n        vertical-align: middle;\n    }\n\n    .dataframe tbody tr th {\n        vertical-align: top;\n    }\n\n    .dataframe thead th {\n        text-align: right;\n    }\n</style>\n<table border=\"1\" class=\"dataframe\">\n  <thead>\n    <tr style=\"text-align: right;\">\n      <th></th>\n      <th>Array dimension</th>\n      <th>Time (ms)</th>\n      <th>Time (ms) SUM</th>\n    </tr>\n  </thead>\n  <tbody>\n    <tr>\n      <th>0</th>\n      <td>1000</td>\n      <td>3.351164</td>\n      <td>3.351164</td>\n    </tr>\n    <tr>\n      <th>1</th>\n      <td>8000</td>\n      <td>0.004625</td>\n      <td>3.355789</td>\n    </tr>\n    <tr>\n      <th>2</th>\n      <td>27000</td>\n      <td>0.038624</td>\n      <td>3.394413</td>\n    </tr>\n    <tr>\n      <th>3</th>\n      <td>64000</td>\n      <td>0.008059</td>\n      <td>3.402472</td>\n    </tr>\n    <tr>\n      <th>4</th>\n      <td>125000</td>\n      <td>0.003433</td>\n      <td>3.405905</td>\n    </tr>\n    <tr>\n      <th>5</th>\n      <td>216000</td>\n      <td>0.003958</td>\n      <td>3.409863</td>\n    </tr>\n    <tr>\n      <th>6</th>\n      <td>343000</td>\n      <td>0.013208</td>\n      <td>3.423071</td>\n    </tr>\n    <tr>\n      <th>7</th>\n      <td>512000</td>\n      <td>0.007010</td>\n      <td>3.430080</td>\n    </tr>\n    <tr>\n      <th>8</th>\n      <td>729000</td>\n      <td>0.014400</td>\n      <td>3.444481</td>\n    </tr>\n    <tr>\n      <th>9</th>\n      <td>1000000</td>\n      <td>0.015736</td>\n      <td>3.460217</td>\n    </tr>\n    <tr>\n      <th>10</th>\n      <td>1331000</td>\n      <td>0.016785</td>\n      <td>3.477001</td>\n    </tr>\n    <tr>\n      <th>11</th>\n      <td>1728000</td>\n      <td>0.017405</td>\n      <td>3.494406</td>\n    </tr>\n    <tr>\n      <th>12</th>\n      <td>2197000</td>\n      <td>2.050781</td>\n      <td>5.545187</td>\n    </tr>\n    <tr>\n      <th>13</th>\n      <td>2744000</td>\n      <td>1.455545</td>\n      <td>7.000732</td>\n    </tr>\n    <tr>\n      <th>14</th>\n      <td>3375000</td>\n      <td>0.049591</td>\n      <td>7.050323</td>\n    </tr>\n    <tr>\n      <th>15</th>\n      <td>4096000</td>\n      <td>0.074196</td>\n      <td>7.124519</td>\n    </tr>\n    <tr>\n      <th>16</th>\n      <td>4913000</td>\n      <td>0.099802</td>\n      <td>7.224321</td>\n    </tr>\n    <tr>\n      <th>17</th>\n      <td>5832000</td>\n      <td>0.194597</td>\n      <td>7.418919</td>\n    </tr>\n    <tr>\n      <th>18</th>\n      <td>6859000</td>\n      <td>0.200176</td>\n      <td>7.619095</td>\n    </tr>\n    <tr>\n      <th>19</th>\n      <td>8000000</td>\n      <td>0.374222</td>\n      <td>7.993317</td>\n    </tr>\n    <tr>\n      <th>20</th>\n      <td>9261000</td>\n      <td>0.297594</td>\n      <td>8.290911</td>\n    </tr>\n    <tr>\n      <th>21</th>\n      <td>10648000</td>\n      <td>0.331020</td>\n      <td>8.621931</td>\n    </tr>\n    <tr>\n      <th>22</th>\n      <td>12167000</td>\n      <td>0.378799</td>\n      <td>9.000731</td>\n    </tr>\n    <tr>\n      <th>23</th>\n      <td>13824000</td>\n      <td>1.060629</td>\n      <td>10.061359</td>\n    </tr>\n    <tr>\n      <th>24</th>\n      <td>15625000</td>\n      <td>1.039028</td>\n      <td>11.100388</td>\n    </tr>\n    <tr>\n      <th>25</th>\n      <td>17576000</td>\n      <td>0.827980</td>\n      <td>11.928368</td>\n    </tr>\n    <tr>\n      <th>26</th>\n      <td>19683000</td>\n      <td>0.866985</td>\n      <td>12.795353</td>\n    </tr>\n    <tr>\n      <th>27</th>\n      <td>21952000</td>\n      <td>0.165844</td>\n      <td>12.961197</td>\n    </tr>\n    <tr>\n      <th>28</th>\n      <td>24389000</td>\n      <td>1.031590</td>\n      <td>13.992786</td>\n    </tr>\n    <tr>\n      <th>29</th>\n      <td>27000000</td>\n      <td>1.773214</td>\n      <td>15.766001</td>\n    </tr>\n    <tr>\n      <th>30</th>\n      <td>29791000</td>\n      <td>0.276041</td>\n      <td>16.042042</td>\n    </tr>\n    <tr>\n      <th>31</th>\n      <td>32768000</td>\n      <td>1.473570</td>\n      <td>17.515612</td>\n    </tr>\n    <tr>\n      <th>32</th>\n      <td>35937000</td>\n      <td>1.325607</td>\n      <td>18.841219</td>\n    </tr>\n    <tr>\n      <th>33</th>\n      <td>39304000</td>\n      <td>0.226641</td>\n      <td>19.067860</td>\n    </tr>\n    <tr>\n      <th>34</th>\n      <td>42875000</td>\n      <td>0.231218</td>\n      <td>19.299078</td>\n    </tr>\n    <tr>\n      <th>35</th>\n      <td>46656000</td>\n      <td>0.261021</td>\n      <td>19.560099</td>\n    </tr>\n    <tr>\n      <th>36</th>\n      <td>50653000</td>\n      <td>0.287628</td>\n      <td>19.847727</td>\n    </tr>\n    <tr>\n      <th>37</th>\n      <td>54872000</td>\n      <td>0.335598</td>\n      <td>20.183325</td>\n    </tr>\n    <tr>\n      <th>38</th>\n      <td>59319000</td>\n      <td>0.305033</td>\n      <td>20.488358</td>\n    </tr>\n    <tr>\n      <th>39</th>\n      <td>64000000</td>\n      <td>0.444460</td>\n      <td>20.932817</td>\n    </tr>\n    <tr>\n      <th>40</th>\n      <td>68921000</td>\n      <td>0.510216</td>\n      <td>21.443033</td>\n    </tr>\n    <tr>\n      <th>41</th>\n      <td>74088000</td>\n      <td>0.444126</td>\n      <td>21.887159</td>\n    </tr>\n    <tr>\n      <th>42</th>\n      <td>79507000</td>\n      <td>0.553036</td>\n      <td>22.440195</td>\n    </tr>\n    <tr>\n      <th>43</th>\n      <td>85184000</td>\n      <td>0.481224</td>\n      <td>22.921419</td>\n    </tr>\n    <tr>\n      <th>44</th>\n      <td>91125000</td>\n      <td>0.455999</td>\n      <td>23.377419</td>\n    </tr>\n    <tr>\n      <th>45</th>\n      <td>97336000</td>\n      <td>0.550795</td>\n      <td>23.928213</td>\n    </tr>\n    <tr>\n      <th>46</th>\n      <td>103823000</td>\n      <td>0.578403</td>\n      <td>24.506617</td>\n    </tr>\n    <tr>\n      <th>47</th>\n      <td>110592000</td>\n      <td>0.730133</td>\n      <td>25.236750</td>\n    </tr>\n    <tr>\n      <th>48</th>\n      <td>117649000</td>\n      <td>0.742006</td>\n      <td>25.978756</td>\n    </tr>\n    <tr>\n      <th>49</th>\n      <td>125000000</td>\n      <td>0.792599</td>\n      <td>26.771355</td>\n    </tr>\n  </tbody>\n</table>\n</div>",
      "text/plain": "    Array dimension  Time (ms)  Time (ms) SUM\n0              1000   3.351164       3.351164\n1              8000   0.004625       3.355789\n2             27000   0.038624       3.394413\n3             64000   0.008059       3.402472\n4            125000   0.003433       3.405905\n5            216000   0.003958       3.409863\n6            343000   0.013208       3.423071\n7            512000   0.007010       3.430080\n8            729000   0.014400       3.444481\n9           1000000   0.015736       3.460217\n10          1331000   0.016785       3.477001\n11          1728000   0.017405       3.494406\n12          2197000   2.050781       5.545187\n13          2744000   1.455545       7.000732\n14          3375000   0.049591       7.050323\n15          4096000   0.074196       7.124519\n16          4913000   0.099802       7.224321\n17          5832000   0.194597       7.418919\n18          6859000   0.200176       7.619095\n19          8000000   0.374222       7.993317\n20          9261000   0.297594       8.290911\n21         10648000   0.331020       8.621931\n22         12167000   0.378799       9.000731\n23         13824000   1.060629      10.061359\n24         15625000   1.039028      11.100388\n25         17576000   0.827980      11.928368\n26         19683000   0.866985      12.795353\n27         21952000   0.165844      12.961197\n28         24389000   1.031590      13.992786\n29         27000000   1.773214      15.766001\n30         29791000   0.276041      16.042042\n31         32768000   1.473570      17.515612\n32         35937000   1.325607      18.841219\n33         39304000   0.226641      19.067860\n34         42875000   0.231218      19.299078\n35         46656000   0.261021      19.560099\n36         50653000   0.287628      19.847727\n37         54872000   0.335598      20.183325\n38         59319000   0.305033      20.488358\n39         64000000   0.444460      20.932817\n40         68921000   0.510216      21.443033\n41         74088000   0.444126      21.887159\n42         79507000   0.553036      22.440195\n43         85184000   0.481224      22.921419\n44         91125000   0.455999      23.377419\n45         97336000   0.550795      23.928213\n46        103823000   0.578403      24.506617\n47        110592000   0.730133      25.236750\n48        117649000   0.742006      25.978756\n49        125000000   0.792599      26.771355"
     },
     "metadata": {},
     "output_type": "display_data"
    },
    {
     "name": "stdout",
     "output_type": "stream",
     "text": [
      "\n",
      "\n",
      "TABLA TIEMPOS CON MEMMAP\n",
      "\n"
     ]
    },
    {
     "data": {
      "text/html": "<div>\n<style scoped>\n    .dataframe tbody tr th:only-of-type {\n        vertical-align: middle;\n    }\n\n    .dataframe tbody tr th {\n        vertical-align: top;\n    }\n\n    .dataframe thead th {\n        text-align: right;\n    }\n</style>\n<table border=\"1\" class=\"dataframe\">\n  <thead>\n    <tr style=\"text-align: right;\">\n      <th></th>\n      <th>Array dimension</th>\n      <th>Time (ms)</th>\n      <th>Time (ms) SUM</th>\n    </tr>\n  </thead>\n  <tbody>\n    <tr>\n      <th>0</th>\n      <td>1000</td>\n      <td>0.061798</td>\n      <td>0.061798</td>\n    </tr>\n    <tr>\n      <th>1</th>\n      <td>8000</td>\n      <td>0.082016</td>\n      <td>0.143814</td>\n    </tr>\n    <tr>\n      <th>2</th>\n      <td>27000</td>\n      <td>0.086975</td>\n      <td>0.230789</td>\n    </tr>\n    <tr>\n      <th>3</th>\n      <td>64000</td>\n      <td>0.145388</td>\n      <td>0.376177</td>\n    </tr>\n    <tr>\n      <th>4</th>\n      <td>125000</td>\n      <td>0.123835</td>\n      <td>0.500011</td>\n    </tr>\n    <tr>\n      <th>5</th>\n      <td>216000</td>\n      <td>0.167656</td>\n      <td>0.667667</td>\n    </tr>\n    <tr>\n      <th>6</th>\n      <td>343000</td>\n      <td>0.154972</td>\n      <td>0.822639</td>\n    </tr>\n    <tr>\n      <th>7</th>\n      <td>512000</td>\n      <td>0.175762</td>\n      <td>0.998402</td>\n    </tr>\n    <tr>\n      <th>8</th>\n      <td>729000</td>\n      <td>0.167418</td>\n      <td>1.165819</td>\n    </tr>\n    <tr>\n      <th>9</th>\n      <td>1000000</td>\n      <td>0.149202</td>\n      <td>1.315022</td>\n    </tr>\n    <tr>\n      <th>10</th>\n      <td>1331000</td>\n      <td>0.176191</td>\n      <td>1.491213</td>\n    </tr>\n    <tr>\n      <th>11</th>\n      <td>1728000</td>\n      <td>0.140429</td>\n      <td>1.631641</td>\n    </tr>\n    <tr>\n      <th>12</th>\n      <td>2197000</td>\n      <td>0.277185</td>\n      <td>1.908827</td>\n    </tr>\n    <tr>\n      <th>13</th>\n      <td>2744000</td>\n      <td>0.443602</td>\n      <td>2.352428</td>\n    </tr>\n    <tr>\n      <th>14</th>\n      <td>3375000</td>\n      <td>0.223207</td>\n      <td>2.575636</td>\n    </tr>\n    <tr>\n      <th>15</th>\n      <td>4096000</td>\n      <td>0.261021</td>\n      <td>2.836657</td>\n    </tr>\n    <tr>\n      <th>16</th>\n      <td>4913000</td>\n      <td>0.250816</td>\n      <td>3.087473</td>\n    </tr>\n    <tr>\n      <th>17</th>\n      <td>5832000</td>\n      <td>0.150585</td>\n      <td>3.238058</td>\n    </tr>\n    <tr>\n      <th>18</th>\n      <td>6859000</td>\n      <td>0.348806</td>\n      <td>3.586864</td>\n    </tr>\n    <tr>\n      <th>19</th>\n      <td>8000000</td>\n      <td>0.323629</td>\n      <td>3.910494</td>\n    </tr>\n    <tr>\n      <th>20</th>\n      <td>9261000</td>\n      <td>0.278568</td>\n      <td>4.189062</td>\n    </tr>\n    <tr>\n      <th>21</th>\n      <td>10648000</td>\n      <td>0.351906</td>\n      <td>4.540968</td>\n    </tr>\n    <tr>\n      <th>22</th>\n      <td>12167000</td>\n      <td>0.352240</td>\n      <td>4.893208</td>\n    </tr>\n    <tr>\n      <th>23</th>\n      <td>13824000</td>\n      <td>0.419664</td>\n      <td>5.312872</td>\n    </tr>\n    <tr>\n      <th>24</th>\n      <td>15625000</td>\n      <td>0.408411</td>\n      <td>5.721283</td>\n    </tr>\n    <tr>\n      <th>25</th>\n      <td>17576000</td>\n      <td>0.204802</td>\n      <td>5.926085</td>\n    </tr>\n    <tr>\n      <th>26</th>\n      <td>19683000</td>\n      <td>0.123167</td>\n      <td>6.049252</td>\n    </tr>\n    <tr>\n      <th>27</th>\n      <td>21952000</td>\n      <td>0.110006</td>\n      <td>6.159258</td>\n    </tr>\n    <tr>\n      <th>28</th>\n      <td>24389000</td>\n      <td>0.112247</td>\n      <td>6.271505</td>\n    </tr>\n    <tr>\n      <th>29</th>\n      <td>27000000</td>\n      <td>0.142241</td>\n      <td>6.413746</td>\n    </tr>\n    <tr>\n      <th>30</th>\n      <td>29791000</td>\n      <td>0.198603</td>\n      <td>6.612349</td>\n    </tr>\n    <tr>\n      <th>31</th>\n      <td>32768000</td>\n      <td>0.193214</td>\n      <td>6.805563</td>\n    </tr>\n    <tr>\n      <th>32</th>\n      <td>35937000</td>\n      <td>0.194740</td>\n      <td>7.000303</td>\n    </tr>\n    <tr>\n      <th>33</th>\n      <td>39304000</td>\n      <td>0.182581</td>\n      <td>7.182884</td>\n    </tr>\n    <tr>\n      <th>34</th>\n      <td>42875000</td>\n      <td>0.099564</td>\n      <td>7.282448</td>\n    </tr>\n    <tr>\n      <th>35</th>\n      <td>46656000</td>\n      <td>0.101995</td>\n      <td>7.384443</td>\n    </tr>\n    <tr>\n      <th>36</th>\n      <td>50653000</td>\n      <td>0.140190</td>\n      <td>7.524633</td>\n    </tr>\n    <tr>\n      <th>37</th>\n      <td>54872000</td>\n      <td>0.177431</td>\n      <td>7.702065</td>\n    </tr>\n    <tr>\n      <th>38</th>\n      <td>59319000</td>\n      <td>0.196409</td>\n      <td>7.898474</td>\n    </tr>\n    <tr>\n      <th>39</th>\n      <td>64000000</td>\n      <td>0.203133</td>\n      <td>8.101606</td>\n    </tr>\n    <tr>\n      <th>40</th>\n      <td>68921000</td>\n      <td>0.223589</td>\n      <td>8.325195</td>\n    </tr>\n    <tr>\n      <th>41</th>\n      <td>74088000</td>\n      <td>0.217056</td>\n      <td>8.542252</td>\n    </tr>\n    <tr>\n      <th>42</th>\n      <td>79507000</td>\n      <td>0.130177</td>\n      <td>8.672428</td>\n    </tr>\n    <tr>\n      <th>43</th>\n      <td>85184000</td>\n      <td>0.312567</td>\n      <td>8.984995</td>\n    </tr>\n    <tr>\n      <th>44</th>\n      <td>91125000</td>\n      <td>0.328588</td>\n      <td>9.313583</td>\n    </tr>\n    <tr>\n      <th>45</th>\n      <td>97336000</td>\n      <td>0.242233</td>\n      <td>9.555817</td>\n    </tr>\n    <tr>\n      <th>46</th>\n      <td>103823000</td>\n      <td>0.230169</td>\n      <td>9.785986</td>\n    </tr>\n    <tr>\n      <th>47</th>\n      <td>110592000</td>\n      <td>0.177002</td>\n      <td>9.962988</td>\n    </tr>\n    <tr>\n      <th>48</th>\n      <td>117649000</td>\n      <td>0.259972</td>\n      <td>10.222960</td>\n    </tr>\n    <tr>\n      <th>49</th>\n      <td>125000000</td>\n      <td>0.231361</td>\n      <td>10.454321</td>\n    </tr>\n  </tbody>\n</table>\n</div>",
      "text/plain": "    Array dimension  Time (ms)  Time (ms) SUM\n0              1000   0.061798       0.061798\n1              8000   0.082016       0.143814\n2             27000   0.086975       0.230789\n3             64000   0.145388       0.376177\n4            125000   0.123835       0.500011\n5            216000   0.167656       0.667667\n6            343000   0.154972       0.822639\n7            512000   0.175762       0.998402\n8            729000   0.167418       1.165819\n9           1000000   0.149202       1.315022\n10          1331000   0.176191       1.491213\n11          1728000   0.140429       1.631641\n12          2197000   0.277185       1.908827\n13          2744000   0.443602       2.352428\n14          3375000   0.223207       2.575636\n15          4096000   0.261021       2.836657\n16          4913000   0.250816       3.087473\n17          5832000   0.150585       3.238058\n18          6859000   0.348806       3.586864\n19          8000000   0.323629       3.910494\n20          9261000   0.278568       4.189062\n21         10648000   0.351906       4.540968\n22         12167000   0.352240       4.893208\n23         13824000   0.419664       5.312872\n24         15625000   0.408411       5.721283\n25         17576000   0.204802       5.926085\n26         19683000   0.123167       6.049252\n27         21952000   0.110006       6.159258\n28         24389000   0.112247       6.271505\n29         27000000   0.142241       6.413746\n30         29791000   0.198603       6.612349\n31         32768000   0.193214       6.805563\n32         35937000   0.194740       7.000303\n33         39304000   0.182581       7.182884\n34         42875000   0.099564       7.282448\n35         46656000   0.101995       7.384443\n36         50653000   0.140190       7.524633\n37         54872000   0.177431       7.702065\n38         59319000   0.196409       7.898474\n39         64000000   0.203133       8.101606\n40         68921000   0.223589       8.325195\n41         74088000   0.217056       8.542252\n42         79507000   0.130177       8.672428\n43         85184000   0.312567       8.984995\n44         91125000   0.328588       9.313583\n45         97336000   0.242233       9.555817\n46        103823000   0.230169       9.785986\n47        110592000   0.177002       9.962988\n48        117649000   0.259972      10.222960\n49        125000000   0.231361      10.454321"
     },
     "metadata": {},
     "output_type": "display_data"
    },
    {
     "name": "stdout",
     "output_type": "stream",
     "text": [
      "\n",
      "Tiempo medio de acceso sin memmap:  0.5354270935058594 ms\n",
      "\n",
      "Tiempo medio de acceso con memmap:  0.20908641815185547 ms\n",
      "\n",
      "El uso de memmap ha supuesto un 256.08%, del acceso sin memmap\n"
     ]
    },
    {
     "data": {
      "image/png": "[encoded data removed]",
      "text/plain": "<Figure size 720x720 with 1 Axes>"
     },
     "metadata": {
      "needs_background": "light"
     },
     "output_type": "display_data"
    }
   ],
   "source": [
    "import numpy as np\n",
    "from time import time\n",
    "import matplotlib.pyplot as plt\n",
    "import pandas as pd\n",
    "from IPython.display import display, HTML\n",
    "\n",
    "# Se usan varias dimensiones de arrays cuyas raices cubicas sean enteros para poder formar ndarrays de 3 dimensiones que hacen más complejo su acceso\n",
    "array_dim = np.power(np.arange(10, 501, 10), 3)\n",
    "\n",
    "dataset_size = len(array_dim)\n",
    "\n",
    "# Arrays que almacenan los tiempos de acceso según cada método (ndarray vs memmap)\n",
    "tiempos_ndarray = np.zeros(dataset_size)\n",
    "tiempos_memmap = np.zeros(dataset_size)\n",
    "\n",
    "# Se itera sobre un ndarray\n",
    "for iter in range(dataset_size):\n",
    "    size = array_dim[iter]\n",
    "    size_per_axis = int(size**(1/3)) + 1\n",
    "    a1 = np.arange(size).reshape(size_per_axis, size_per_axis, size_per_axis)\n",
    "    \n",
    "    # Calculamos el tiempo  medio de 5 accesos al array\n",
    "    t1 = time()\n",
    "    for i in range(5):\n",
    "        view = np.array(a1[0, ::, ::]) # Acceso con axis bloqueado a 0\n",
    "    t1 = ((time() - t1) / 5) * 1000\n",
    "    tiempos_ndarray[iter] = t1\n",
    "\n",
    "# Tabla no memmap\n",
    "print('TABLA TIEMPOS SIN MEMMAP\\n')\n",
    "df_ndarray = pd.DataFrame({\"Array dimension\": array_dim, \"Time (ms)\": tiempos_ndarray, \"Time (ms) SUM\": np.cumsum(tiempos_ndarray)})\n",
    "display(df_ndarray)\n",
    "\n",
    "\n",
    "# Se itera sobre un ndarray con memmap\n",
    "for iter in range(dataset_size):\n",
    "    size = array_dim[iter]\n",
    "    size_per_axis = int(size**(1/3)) + 1\n",
    "    a2 = np.memmap('/tmp/myarray2.memmap', mode='write', shape=(size_per_axis, size_per_axis, size_per_axis))\n",
    "\n",
    "    # Calculamos el tiempo  medio de 5 accesos al array\n",
    "    t2 = time() \n",
    "    for i in range(5):\n",
    "        view = np.array(a2[0, ::, ::]) # Acceso con axis bloqueado a 0\n",
    "    t2 = ((time() - t2) / 5) * 1000\n",
    "    tiempos_memmap[iter] = t2\n",
    "\n",
    "# Tabla memmap\n",
    "print('\\n\\nTABLA TIEMPOS CON MEMMAP\\n')\n",
    "df_memmap = pd.DataFrame({\"Array dimension\": array_dim, \"Time (ms)\": tiempos_memmap, \"Time (ms) SUM\": np.cumsum(tiempos_memmap)})\n",
    "display(df_memmap)\n",
    "\n",
    "\n",
    "#Plot\n",
    "plt.plot(array_dim, tiempos_ndarray, label=\"ndarray\")\n",
    "plt.plot(array_dim, tiempos_memmap, label=\"memmap\")\n",
    "\n",
    "#Estilo\n",
    "plt.rcParams['figure.figsize'] = (10,10)\n",
    "\n",
    "#Leyenda\n",
    "plt.ylabel('Tiempo')\n",
    "plt.xlabel('Dimensión del array')\n",
    "plt.legend(loc=\"upper left\")\n",
    "\n",
    "ndarraymean = np.mean(tiempos_ndarray)\n",
    "memmapmean = np.mean(tiempos_memmap)\n",
    "improve = ndarraymean/memmapmean*100\n",
    "\n",
    "print('\\nTiempo medio de acceso sin memmap: ', ndarraymean, 'ms')\n",
    "print('\\nTiempo medio de acceso con memmap: ', memmapmean, 'ms')\n",
    "print(\"\\nEl uso de memmap ha supuesto un {:.2f}%, del acceso sin memmap\".format(improve))\n",
    "\n",
    "plt.show()"
   ]
  },
  {
   "cell_type": "markdown",
   "metadata": {},
   "source": [
    "Como podemos observar el uso de memmap para recorrer dimensiones concretas dejaría de ser útil. En este ejemplo accedemos a diferentes filas dejando las otras dos dimensiones fijas a valores concretos, el uso de memmap sobretodo en los primeros accesos muestra una clara deficiencia con respecto a un acceso a variable normal."
   ]
  },
  {
   "cell_type": "code",
   "execution_count": 28,
   "metadata": {},
   "outputs": [
    {
     "name": "stdout",
     "output_type": "stream",
     "text": [
      "TABLA TIEMPOS SIN MEMMAP\n",
      "\n"
     ]
    },
    {
     "data": {
      "text/html": "<div>\n<style scoped>\n    .dataframe tbody tr th:only-of-type {\n        vertical-align: middle;\n    }\n\n    .dataframe tbody tr th {\n        vertical-align: top;\n    }\n\n    .dataframe thead th {\n        text-align: right;\n    }\n</style>\n<table border=\"1\" class=\"dataframe\">\n  <thead>\n    <tr style=\"text-align: right;\">\n      <th></th>\n      <th>Array dimension</th>\n      <th>Time (ms)</th>\n      <th>Time (ms) SUM</th>\n    </tr>\n  </thead>\n  <tbody>\n    <tr>\n      <th>0</th>\n      <td>1000</td>\n      <td>0.013971</td>\n      <td>0.013971</td>\n    </tr>\n    <tr>\n      <th>1</th>\n      <td>8000</td>\n      <td>0.001383</td>\n      <td>0.015354</td>\n    </tr>\n    <tr>\n      <th>2</th>\n      <td>27000</td>\n      <td>0.002193</td>\n      <td>0.017548</td>\n    </tr>\n    <tr>\n      <th>3</th>\n      <td>64000</td>\n      <td>0.005579</td>\n      <td>0.023127</td>\n    </tr>\n    <tr>\n      <th>4</th>\n      <td>125000</td>\n      <td>0.003767</td>\n      <td>0.026894</td>\n    </tr>\n    <tr>\n      <th>...</th>\n      <td>...</td>\n      <td>...</td>\n      <td>...</td>\n    </tr>\n    <tr>\n      <th>75</th>\n      <td>438976000</td>\n      <td>0.005579</td>\n      <td>0.433159</td>\n    </tr>\n    <tr>\n      <th>76</th>\n      <td>456533000</td>\n      <td>0.005198</td>\n      <td>0.438356</td>\n    </tr>\n    <tr>\n      <th>77</th>\n      <td>474552000</td>\n      <td>0.005436</td>\n      <td>0.443792</td>\n    </tr>\n    <tr>\n      <th>78</th>\n      <td>493039000</td>\n      <td>0.005198</td>\n      <td>0.448990</td>\n    </tr>\n    <tr>\n      <th>79</th>\n      <td>512000000</td>\n      <td>0.005436</td>\n      <td>0.454426</td>\n    </tr>\n  </tbody>\n</table>\n<p>80 rows × 3 columns</p>\n</div>",
      "text/plain": "    Array dimension  Time (ms)  Time (ms) SUM\n0              1000   0.013971       0.013971\n1              8000   0.001383       0.015354\n2             27000   0.002193       0.017548\n3             64000   0.005579       0.023127\n4            125000   0.003767       0.026894\n..              ...        ...            ...\n75        438976000   0.005579       0.433159\n76        456533000   0.005198       0.438356\n77        474552000   0.005436       0.443792\n78        493039000   0.005198       0.448990\n79        512000000   0.005436       0.454426\n\n[80 rows x 3 columns]"
     },
     "metadata": {},
     "output_type": "display_data"
    },
    {
     "name": "stdout",
     "output_type": "stream",
     "text": [
      "\n",
      "\n",
      "TABLA TIEMPOS CON MEMMAP\n",
      "\n"
     ]
    },
    {
     "data": {
      "text/html": "<div>\n<style scoped>\n    .dataframe tbody tr th:only-of-type {\n        vertical-align: middle;\n    }\n\n    .dataframe tbody tr th {\n        vertical-align: top;\n    }\n\n    .dataframe thead th {\n        text-align: right;\n    }\n</style>\n<table border=\"1\" class=\"dataframe\">\n  <thead>\n    <tr style=\"text-align: right;\">\n      <th></th>\n      <th>Array dimension</th>\n      <th>Time (ms)</th>\n      <th>Time (ms) SUM</th>\n    </tr>\n  </thead>\n  <tbody>\n    <tr>\n      <th>0</th>\n      <td>1000</td>\n      <td>0.006771</td>\n      <td>0.006771</td>\n    </tr>\n    <tr>\n      <th>1</th>\n      <td>8000</td>\n      <td>0.071430</td>\n      <td>0.078201</td>\n    </tr>\n    <tr>\n      <th>2</th>\n      <td>27000</td>\n      <td>0.091171</td>\n      <td>0.169373</td>\n    </tr>\n    <tr>\n      <th>3</th>\n      <td>64000</td>\n      <td>0.105047</td>\n      <td>0.274420</td>\n    </tr>\n    <tr>\n      <th>4</th>\n      <td>125000</td>\n      <td>0.089455</td>\n      <td>0.363874</td>\n    </tr>\n    <tr>\n      <th>...</th>\n      <td>...</td>\n      <td>...</td>\n      <td>...</td>\n    </tr>\n    <tr>\n      <th>75</th>\n      <td>438976000</td>\n      <td>0.075388</td>\n      <td>6.602430</td>\n    </tr>\n    <tr>\n      <th>76</th>\n      <td>456533000</td>\n      <td>0.074959</td>\n      <td>6.677389</td>\n    </tr>\n    <tr>\n      <th>77</th>\n      <td>474552000</td>\n      <td>0.078249</td>\n      <td>6.755638</td>\n    </tr>\n    <tr>\n      <th>78</th>\n      <td>493039000</td>\n      <td>0.039864</td>\n      <td>6.795502</td>\n    </tr>\n    <tr>\n      <th>79</th>\n      <td>512000000</td>\n      <td>0.044012</td>\n      <td>6.839514</td>\n    </tr>\n  </tbody>\n</table>\n<p>80 rows × 3 columns</p>\n</div>",
      "text/plain": "    Array dimension  Time (ms)  Time (ms) SUM\n0              1000   0.006771       0.006771\n1              8000   0.071430       0.078201\n2             27000   0.091171       0.169373\n3             64000   0.105047       0.274420\n4            125000   0.089455       0.363874\n..              ...        ...            ...\n75        438976000   0.075388       6.602430\n76        456533000   0.074959       6.677389\n77        474552000   0.078249       6.755638\n78        493039000   0.039864       6.795502\n79        512000000   0.044012       6.839514\n\n[80 rows x 3 columns]"
     },
     "metadata": {},
     "output_type": "display_data"
    },
    {
     "name": "stdout",
     "output_type": "stream",
     "text": [
      "\n",
      "Tiempo medio de acceso sin memmap:  0.0056803226470947266 ms\n",
      "\n",
      "Tiempo medio de acceso con memmap:  0.08549392223358154 ms\n",
      "\n",
      "El uso de memmap ha supuesto un 0.07%, del acceso sin memmap\n"
     ]
    },
    {
     "data": {
      "image/png": "[encoded data removed]",
      "text/plain": "<Figure size 720x720 with 1 Axes>"
     },
     "metadata": {
      "needs_background": "light"
     },
     "output_type": "display_data"
    }
   ],
   "source": [
    "# Se usan varias dimensiones de arrays cuyas raices cubicas sean enteros para poder formar ndarrays de 3 dimensiones que hacen más complejo su acceso\n",
    "array_dim = np.power(np.arange(10, 801, 10), 3)\n",
    "\n",
    "dataset_size = len(array_dim)\n",
    "\n",
    "# Arrays que almacenan los tiempos de acceso según cada método (ndarray vs memmap)\n",
    "tiempos_ndarray = np.zeros(dataset_size)\n",
    "tiempos_memmap = np.zeros(dataset_size)\n",
    "\n",
    "# Se itera sobre un ndarray\n",
    "for iter in range(dataset_size):\n",
    "    size = array_dim[iter]\n",
    "    size_per_axis = int(size**(1/3)) + 1\n",
    "    a1 = np.arange(size).reshape(size_per_axis, size_per_axis, size_per_axis)\n",
    "    \n",
    "    # Calculamos el tiempo  medio de 5 accesos al array\n",
    "    t1 = time()\n",
    "    for i in range(5):\n",
    "        view = np.array(a1[i, 0, 0]) # Acceso con todos los axis bloqueados, iteramos sobre el primero\n",
    "    t1 = ((time() - t1) / 5) * 1000\n",
    "    tiempos_ndarray[iter] = t1\n",
    "\n",
    "# Tabla no memmap\n",
    "print('TABLA TIEMPOS SIN MEMMAP\\n')\n",
    "df_ndarray = pd.DataFrame({\"Array dimension\": array_dim, \"Time (ms)\": tiempos_ndarray, \"Time (ms) SUM\": np.cumsum(tiempos_ndarray)})\n",
    "display(df_ndarray)\n",
    "\n",
    "\n",
    "# Se itera sobre un ndarray con memmap\n",
    "for iter in range(dataset_size):\n",
    "    size = array_dim[iter]\n",
    "    size_per_axis = int(size**(1/3)) + 1\n",
    "    a2 = np.memmap('/tmp/myarray2.memmap', mode='write', shape=(size_per_axis, size_per_axis, size_per_axis))\n",
    "\n",
    "    # Calculamos el tiempo  medio de 5 accesos al array\n",
    "    t2 = time() \n",
    "    for i in range(5):\n",
    "        view = np.array(a2[i, 0, 0]) # Acceso con todos los axis bloqueados, iteramos sobre el primero\n",
    "    t2 = ((time() - t2) / 5) * 1000\n",
    "    tiempos_memmap[iter] = t2\n",
    "\n",
    "# Tabla memmap\n",
    "print('\\n\\nTABLA TIEMPOS CON MEMMAP\\n')\n",
    "df_memmap = pd.DataFrame({\"Array dimension\": array_dim, \"Time (ms)\": tiempos_memmap, \"Time (ms) SUM\": np.cumsum(tiempos_memmap)})\n",
    "display(df_memmap)\n",
    "\n",
    "\n",
    "#Plot\n",
    "plt.plot(array_dim, tiempos_ndarray, label=\"ndarray\")\n",
    "plt.plot(array_dim, tiempos_memmap, label=\"memmap\")\n",
    "\n",
    "#Estilo\n",
    "plt.rcParams['figure.figsize'] = (10,10)\n",
    "\n",
    "#Leyenda\n",
    "plt.ylabel('Tiempo')\n",
    "plt.xlabel('Dimensión del array')\n",
    "plt.legend(loc=\"upper left\")\n",
    "\n",
    "ndarraymean = np.mean(tiempos_ndarray)\n",
    "memmapmean = np.mean(tiempos_memmap)\n",
    "improve = ndarraymean/memmapmean\n",
    "\n",
    "print('\\nTiempo medio de acceso sin memmap: ', ndarraymean, 'ms')\n",
    "print('\\nTiempo medio de acceso con memmap: ', memmapmean, 'ms')\n",
    "print(\"\\nEl uso de memmap ha supuesto un {:.2f}%, del acceso sin memmap\".format(improve))"
   ]
  },
  {
   "cell_type": "markdown",
   "metadata": {},
   "source": [
    "## Librerías hyp5, pytables, y zarr\n",
    "\n",
    "Sería interesante valorar el uso de librerías para poder controlar la compresión y fragmentación de bloques de memoria. Estas librerías permiten modificar estos valores para poder acceder de forma más personalizada a nuestros dataset así como ofrecer ciertas caracterísiticas como acceso en remoto a nuestros archivos."
   ]
  },
  {
   "cell_type": "markdown",
   "metadata": {},
   "source": [
    "## Artículo 02\n",
    "\n",
    "### Data Structures for Statistical Computing in Python\n",
    "\n",
    "McKinney, W. (2010). Data Structures for Statistical Computing in Python.\n",
    "Proceedings of the 9th Python in Science Conference, December, 56-61.\n",
    "https://doi.org/10.25080/majora-92bf1922-00a\n",
    "\n",
    "https://www.researchgate.net/publication/265001241_Data_Structures_for_Statistical_Computing_in_Python\n",
    "\n",
    "En este segundo artículo el creador de *pandas* introduce dicha librería en comparación con las estructuras nativas de R.\n",
    "\n",
    "- Actividad 02.01 - Desarrollar una opinión razonada del estado actual de las herramientas de análisis de datos estadísticos en contraposición a como se muestran en el artículo, R vs Python vs SQL vs Others..."
   ]
  },
  {
   "cell_type": "markdown",
   "metadata": {},
   "source": [
    "## <center> Actividad 02.01</center>\n",
    "--- "
   ]
  },
  {
   "cell_type": "markdown",
   "metadata": {},
   "source": []
  },
  {
   "cell_type": "markdown",
   "metadata": {},
   "source": [
    "## Bibliografía\n",
    "[Numpy, Broadcasting](https://numpy.org/devdocs/user/theory.broadcasting.html)\n",
    "\n",
    "[Numpy, memmap](https://numpy.org/doc/stable/reference/generated/numpy.memmap.html)\n",
    "\n",
    "[Zarr, documentation](https://zarr.readthedocs.io/en/stable/)\n",
    "\n",
    "[Memmap vs HDF5/zarr](https://pythonspeed.com/articles/mmap-vs-zarr-hdf5/)"
   ]
  }
 ],
 "metadata": {
  "kernelspec": {
   "display_name": "Python 3.8.5 64-bit ('base': conda)",
   "name": "python385jvsc74a57bd05638214bed11d7e11a3bfbe061b56f3402c3883ec48123d3dea06d44b441dcac"
  },
  "language_info": {
   "codemirror_mode": {
    "name": "ipython",
    "version": 3
   },
   "file_extension": ".py",
   "mimetype": "text/x-python",
   "name": "python",
   "nbconvert_exporter": "python",
   "pygments_lexer": "ipython3",
   "version": "3.8.5"
  },
  "metadata": {
   "interpreter": {
    "hash": "4cd7ab41f5fca4b9b44701077e38c5ffd31fe66a6cab21e0214b68d958d0e462"
   }
  }
 },
 "nbformat": 4,
 "nbformat_minor": 2
}