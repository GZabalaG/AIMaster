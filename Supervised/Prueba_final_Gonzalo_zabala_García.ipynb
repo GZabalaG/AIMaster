{
  "nbformat": 4,
  "nbformat_minor": 0,
  "metadata": {
    "kernelspec": {
      "display_name": "Python 3",
      "language": "python",
      "name": "python3"
    },
    "language_info": {
      "codemirror_mode": {
        "name": "ipython",
        "version": 3
      },
      "file_extension": ".py",
      "mimetype": "text/x-python",
      "name": "python",
      "nbconvert_exporter": "python",
      "pygments_lexer": "ipython3",
      "version": "3.8.5"
    },
    "colab": {
      "name": "Prueba_final_Gonzalo_zabala_García.ipynb",
      "provenance": [],
      "include_colab_link": true
    }
  },
  "cells": [
    {
      "cell_type": "markdown",
      "metadata": {
        "id": "view-in-github",
        "colab_type": "text"
      },
      "source": [
        "<a href=\"https://colab.research.google.com/github/GZabalaG/AIMaster/blob/main/Supervised/Prueba_final_Gonzalo_zabala_Garc%C3%ADa.ipynb\" target=\"_parent\"><img src=\"https://colab.research.google.com/assets/colab-badge.svg\" alt=\"Open In Colab\"/></a>"
      ]
    },
    {
      "cell_type": "markdown",
      "metadata": {
        "id": "3wTuACVMK5Dp"
      },
      "source": [
        "# PRUEBA FINAL"
      ]
    },
    {
      "cell_type": "code",
      "metadata": {
        "colab": {
          "base_uri": "https://localhost:8080/"
        },
        "id": "_QKLEM8GLgXT",
        "outputId": "56fc105c-305a-4509-e65d-34bef2d3d4ca"
      },
      "source": [
        "from google.colab import drive\n",
        "drive.mount('/content/drive')"
      ],
      "execution_count": 1,
      "outputs": [
        {
          "output_type": "stream",
          "text": [
            "Mounted at /content/drive\n"
          ],
          "name": "stdout"
        }
      ]
    },
    {
      "cell_type": "markdown",
      "metadata": {
        "id": "d8yrh9JbK5Dr"
      },
      "source": [
        "Información general:\n",
        "* La entrega consistirá en un archivo .ipynb siguiendo las instrucciones de este notebook.\n",
        "* Peso en la asignatura: 40% de la nota final.\n",
        "* Fecha de vencimiento: 22/07/2021, a las 23:59h (hora peninsular). "
      ]
    },
    {
      "cell_type": "markdown",
      "metadata": {
        "id": "_P6cJVJjK5Ds"
      },
      "source": [
        "**Instrucciones para cumplimentar el notebook:**\n",
        "* Descargar este notebook, que servirá como base para la entrega.\n",
        "* **No hay que modificar las celdas** que vienen en la hoja de actividades. Para contestar a las preguntas, se deben añadir celdas inmediatamente después de cada pregunta.\n",
        "* Para la nota se valorará tanto la consecución de la respuesta adecuada como el estilo y adecuación del código fuente, así como la inclusión de comentarios apropiados.\n",
        "* **No está permitido compartir los resultados de una actividad** con l@s compañer@s. Hacerlo puede suponer suspender la asignatura y enfrentarse a medidas disciplinarias."
      ]
    },
    {
      "cell_type": "markdown",
      "metadata": {
        "id": "wq_p2xCEK5Ds"
      },
      "source": [
        "### Ejercicio 1 (2 puntos)\n",
        "Utilizar el conjunto de datos \"dataset_1.npy\" para resolver el ejercicio. Tener en cuenta que la última columna corresponde a la clase."
      ]
    },
    {
      "cell_type": "markdown",
      "metadata": {
        "id": "EWVfrdjCK5Ds"
      },
      "source": [
        "#### 1.a) Imputación de valores ausentes (1 punto)\n",
        "\n",
        "Consideraciones:\n",
        "- En aquellas instancias (filas) que contengan UN ÚNICO VALOR NaN en alguno de sus atributos (columnas), se imputará dicho valor.\n",
        " * Si el atributo corresponde a una variable discreta, se imputará el valor utilizando la moda de dicho atributo. \n",
        " * Si el atributo corresponde a una variable continua, se imputará el valor utilizando la media de dicho atributo. \n",
        "- Aquellas instancias (filas) que contengan MÁS DE UN VALOR NaN en sus atributos, deberán ser eliminadas por completo. \n",
        "\n",
        "Los outputs deberán ser: \n",
        "- Una matriz X de dimensiones M x N, donde M será el número de instancias y N, el de atributos.\n",
        "- Un vector y de dimensiones M. "
      ]
    },
    {
      "cell_type": "markdown",
      "metadata": {
        "id": "rqHAY1XsmiRg"
      },
      "source": [
        "##### Carga de datos"
      ]
    },
    {
      "cell_type": "code",
      "metadata": {
        "colab": {
          "base_uri": "https://localhost:8080/"
        },
        "id": "eYqx4tP4K5Dt",
        "outputId": "8a7aeae7-aff0-467d-d1f5-0c46f1ce771b"
      },
      "source": [
        "import numpy as np\n",
        "\n",
        "data = np.load('/content/drive/MyDrive/Master IA/Aprendizaje Supervisado/actividal_final/dataset_1.npy')\n",
        "\n",
        "print(data)"
      ],
      "execution_count": 2,
      "outputs": [
        {
          "output_type": "stream",
          "text": [
            "[[ 0.          4.          1.         ...  8.2603626   7.37490176\n",
            "   0.        ]\n",
            " [ 0.          4.          0.         ... 10.9370737  10.30131004\n",
            "   0.        ]\n",
            " [ 0.          3.          1.         ... 10.69134847 11.45671439\n",
            "   0.        ]\n",
            " ...\n",
            " [ 0.          2.          0.         ...  1.94458971  8.88390924\n",
            "   0.        ]\n",
            " [ 0.          3.          2.         ...  1.92895933  9.03304966\n",
            "   1.        ]\n",
            " [ 0.          4.          0.         ...  2.0478487   8.86096477\n",
            "   0.        ]]\n"
          ],
          "name": "stdout"
        }
      ]
    },
    {
      "cell_type": "markdown",
      "metadata": {
        "id": "lILYyzyPmm7v"
      },
      "source": [
        "##### Información sobre el dataset"
      ]
    },
    {
      "cell_type": "code",
      "metadata": {
        "colab": {
          "base_uri": "https://localhost:8080/"
        },
        "id": "Dm8sg4Mimr4Z",
        "outputId": "88358689-b75a-4c67-f46e-1b98f81701b1"
      },
      "source": [
        "print('Shape:', data.shape)\n",
        "\n",
        "print('\\n--------------\\n')\n",
        "\n",
        "print('Clases:', np.unique(data[:,-1]))\n",
        "\n",
        "print('\\n--------------\\n')\n",
        "print('Continuos | Categorical columns:\\n')\n",
        "\n",
        "i = 0\n",
        "cat_cols = []\n",
        "con_cols = []\n",
        "for column in data.T:\n",
        "  count_values = len(np.unique(column))\n",
        "  rate = count_values / data.shape[0]\n",
        "\n",
        "  if rate < 0.1:\n",
        "    value_type = 'Categorical'  \n",
        "    cat_cols.append(i)\n",
        "  else :\n",
        "    value_type = 'Continuous'\n",
        "    con_cols.append(i)\n",
        "\n",
        "\n",
        "  print('Column:', i, '| Unique values:', count_values, '|', value_type)\n",
        "  i+=1\n",
        "\n",
        "print('\\n--------------\\n')\n",
        "print('Missing values:\\n')\n",
        "\n",
        "i = 0\n",
        "for column in data.T:\n",
        "  print('Column:', i, ' | Missing values', np.count_nonzero(np.isnan(column)))\n",
        "  i+=1"
      ],
      "execution_count": 3,
      "outputs": [
        {
          "output_type": "stream",
          "text": [
            "Shape: (500, 9)\n",
            "\n",
            "--------------\n",
            "\n",
            "Clases: [0. 1.]\n",
            "\n",
            "--------------\n",
            "\n",
            "Continuos | Categorical columns:\n",
            "\n",
            "Column: 0 | Unique values: 8 | Categorical\n",
            "Column: 1 | Unique values: 10 | Categorical\n",
            "Column: 2 | Unique values: 12 | Categorical\n",
            "Column: 3 | Unique values: 13 | Categorical\n",
            "Column: 4 | Unique values: 12 | Categorical\n",
            "Column: 5 | Unique values: 500 | Continuous\n",
            "Column: 6 | Unique values: 500 | Continuous\n",
            "Column: 7 | Unique values: 377 | Continuous\n",
            "Column: 8 | Unique values: 2 | Categorical\n",
            "\n",
            "--------------\n",
            "\n",
            "Missing values:\n",
            "\n",
            "Column: 0  | Missing values 6\n",
            "Column: 1  | Missing values 5\n",
            "Column: 2  | Missing values 5\n",
            "Column: 3  | Missing values 5\n",
            "Column: 4  | Missing values 5\n",
            "Column: 5  | Missing values 7\n",
            "Column: 6  | Missing values 5\n",
            "Column: 7  | Missing values 5\n",
            "Column: 8  | Missing values 0\n"
          ],
          "name": "stdout"
        }
      ]
    },
    {
      "cell_type": "markdown",
      "metadata": {
        "id": "7Agr6iVP-xtn"
      },
      "source": [
        "##### Drop and filling missing values"
      ]
    },
    {
      "cell_type": "code",
      "metadata": {
        "colab": {
          "base_uri": "https://localhost:8080/",
          "height": 419
        },
        "id": "oM3hzRz1-xOp",
        "outputId": "25218a9c-1be2-4b92-d1e4-76b90e0375f0"
      },
      "source": [
        "import pandas as pd\n",
        "\n",
        "df = pd.DataFrame(data=data)\n",
        "\n",
        "display(df)"
      ],
      "execution_count": 4,
      "outputs": [
        {
          "output_type": "display_data",
          "data": {
            "text/html": [
              "<div>\n",
              "<style scoped>\n",
              "    .dataframe tbody tr th:only-of-type {\n",
              "        vertical-align: middle;\n",
              "    }\n",
              "\n",
              "    .dataframe tbody tr th {\n",
              "        vertical-align: top;\n",
              "    }\n",
              "\n",
              "    .dataframe thead th {\n",
              "        text-align: right;\n",
              "    }\n",
              "</style>\n",
              "<table border=\"1\" class=\"dataframe\">\n",
              "  <thead>\n",
              "    <tr style=\"text-align: right;\">\n",
              "      <th></th>\n",
              "      <th>0</th>\n",
              "      <th>1</th>\n",
              "      <th>2</th>\n",
              "      <th>3</th>\n",
              "      <th>4</th>\n",
              "      <th>5</th>\n",
              "      <th>6</th>\n",
              "      <th>7</th>\n",
              "      <th>8</th>\n",
              "    </tr>\n",
              "  </thead>\n",
              "  <tbody>\n",
              "    <tr>\n",
              "      <th>0</th>\n",
              "      <td>0.0</td>\n",
              "      <td>4.0</td>\n",
              "      <td>1.0</td>\n",
              "      <td>4.0</td>\n",
              "      <td>2.0</td>\n",
              "      <td>9.044810</td>\n",
              "      <td>8.260363</td>\n",
              "      <td>7.374902</td>\n",
              "      <td>0.0</td>\n",
              "    </tr>\n",
              "    <tr>\n",
              "      <th>1</th>\n",
              "      <td>0.0</td>\n",
              "      <td>4.0</td>\n",
              "      <td>0.0</td>\n",
              "      <td>6.0</td>\n",
              "      <td>1.0</td>\n",
              "      <td>8.569082</td>\n",
              "      <td>10.937074</td>\n",
              "      <td>10.301310</td>\n",
              "      <td>0.0</td>\n",
              "    </tr>\n",
              "    <tr>\n",
              "      <th>2</th>\n",
              "      <td>0.0</td>\n",
              "      <td>3.0</td>\n",
              "      <td>1.0</td>\n",
              "      <td>1.0</td>\n",
              "      <td>5.0</td>\n",
              "      <td>9.687778</td>\n",
              "      <td>10.691348</td>\n",
              "      <td>11.456714</td>\n",
              "      <td>0.0</td>\n",
              "    </tr>\n",
              "    <tr>\n",
              "      <th>3</th>\n",
              "      <td>0.0</td>\n",
              "      <td>2.0</td>\n",
              "      <td>1.0</td>\n",
              "      <td>5.0</td>\n",
              "      <td>1.0</td>\n",
              "      <td>12.057221</td>\n",
              "      <td>10.286357</td>\n",
              "      <td>10.575028</td>\n",
              "      <td>0.0</td>\n",
              "    </tr>\n",
              "    <tr>\n",
              "      <th>4</th>\n",
              "      <td>0.0</td>\n",
              "      <td>2.0</td>\n",
              "      <td>2.0</td>\n",
              "      <td>3.0</td>\n",
              "      <td>2.0</td>\n",
              "      <td>9.732969</td>\n",
              "      <td>9.447140</td>\n",
              "      <td>9.383029</td>\n",
              "      <td>0.0</td>\n",
              "    </tr>\n",
              "    <tr>\n",
              "      <th>...</th>\n",
              "      <td>...</td>\n",
              "      <td>...</td>\n",
              "      <td>...</td>\n",
              "      <td>...</td>\n",
              "      <td>...</td>\n",
              "      <td>...</td>\n",
              "      <td>...</td>\n",
              "      <td>...</td>\n",
              "      <td>...</td>\n",
              "    </tr>\n",
              "    <tr>\n",
              "      <th>495</th>\n",
              "      <td>0.0</td>\n",
              "      <td>1.0</td>\n",
              "      <td>0.0</td>\n",
              "      <td>3.0</td>\n",
              "      <td>4.0</td>\n",
              "      <td>3.114222</td>\n",
              "      <td>1.903256</td>\n",
              "      <td>8.995061</td>\n",
              "      <td>0.0</td>\n",
              "    </tr>\n",
              "    <tr>\n",
              "      <th>496</th>\n",
              "      <td>1.0</td>\n",
              "      <td>1.0</td>\n",
              "      <td>2.0</td>\n",
              "      <td>4.0</td>\n",
              "      <td>1.0</td>\n",
              "      <td>3.032017</td>\n",
              "      <td>2.305869</td>\n",
              "      <td>9.185725</td>\n",
              "      <td>1.0</td>\n",
              "    </tr>\n",
              "    <tr>\n",
              "      <th>497</th>\n",
              "      <td>0.0</td>\n",
              "      <td>2.0</td>\n",
              "      <td>0.0</td>\n",
              "      <td>4.0</td>\n",
              "      <td>3.0</td>\n",
              "      <td>2.958827</td>\n",
              "      <td>1.944590</td>\n",
              "      <td>8.883909</td>\n",
              "      <td>0.0</td>\n",
              "    </tr>\n",
              "    <tr>\n",
              "      <th>498</th>\n",
              "      <td>0.0</td>\n",
              "      <td>3.0</td>\n",
              "      <td>2.0</td>\n",
              "      <td>5.0</td>\n",
              "      <td>0.0</td>\n",
              "      <td>2.955424</td>\n",
              "      <td>1.928959</td>\n",
              "      <td>9.033050</td>\n",
              "      <td>1.0</td>\n",
              "    </tr>\n",
              "    <tr>\n",
              "      <th>499</th>\n",
              "      <td>0.0</td>\n",
              "      <td>4.0</td>\n",
              "      <td>0.0</td>\n",
              "      <td>4.0</td>\n",
              "      <td>3.0</td>\n",
              "      <td>2.949284</td>\n",
              "      <td>2.047849</td>\n",
              "      <td>8.860965</td>\n",
              "      <td>0.0</td>\n",
              "    </tr>\n",
              "  </tbody>\n",
              "</table>\n",
              "<p>500 rows × 9 columns</p>\n",
              "</div>"
            ],
            "text/plain": [
              "       0    1    2    3    4          5          6          7    8\n",
              "0    0.0  4.0  1.0  4.0  2.0   9.044810   8.260363   7.374902  0.0\n",
              "1    0.0  4.0  0.0  6.0  1.0   8.569082  10.937074  10.301310  0.0\n",
              "2    0.0  3.0  1.0  1.0  5.0   9.687778  10.691348  11.456714  0.0\n",
              "3    0.0  2.0  1.0  5.0  1.0  12.057221  10.286357  10.575028  0.0\n",
              "4    0.0  2.0  2.0  3.0  2.0   9.732969   9.447140   9.383029  0.0\n",
              "..   ...  ...  ...  ...  ...        ...        ...        ...  ...\n",
              "495  0.0  1.0  0.0  3.0  4.0   3.114222   1.903256   8.995061  0.0\n",
              "496  1.0  1.0  2.0  4.0  1.0   3.032017   2.305869   9.185725  1.0\n",
              "497  0.0  2.0  0.0  4.0  3.0   2.958827   1.944590   8.883909  0.0\n",
              "498  0.0  3.0  2.0  5.0  0.0   2.955424   1.928959   9.033050  1.0\n",
              "499  0.0  4.0  0.0  4.0  3.0   2.949284   2.047849   8.860965  0.0\n",
              "\n",
              "[500 rows x 9 columns]"
            ]
          },
          "metadata": {
            "tags": []
          }
        }
      ]
    },
    {
      "cell_type": "code",
      "metadata": {
        "colab": {
          "base_uri": "https://localhost:8080/",
          "height": 297
        },
        "id": "32WhTVFDAbKl",
        "outputId": "055a225b-f225-4c43-a7a6-7913c980926f"
      },
      "source": [
        "# Rows with more than NaNs value\n",
        "df1 = df[df.isna().any(axis=1)]\n",
        "display(df1)"
      ],
      "execution_count": 5,
      "outputs": [
        {
          "output_type": "display_data",
          "data": {
            "text/html": [
              "<div>\n",
              "<style scoped>\n",
              "    .dataframe tbody tr th:only-of-type {\n",
              "        vertical-align: middle;\n",
              "    }\n",
              "\n",
              "    .dataframe tbody tr th {\n",
              "        vertical-align: top;\n",
              "    }\n",
              "\n",
              "    .dataframe thead th {\n",
              "        text-align: right;\n",
              "    }\n",
              "</style>\n",
              "<table border=\"1\" class=\"dataframe\">\n",
              "  <thead>\n",
              "    <tr style=\"text-align: right;\">\n",
              "      <th></th>\n",
              "      <th>0</th>\n",
              "      <th>1</th>\n",
              "      <th>2</th>\n",
              "      <th>3</th>\n",
              "      <th>4</th>\n",
              "      <th>5</th>\n",
              "      <th>6</th>\n",
              "      <th>7</th>\n",
              "      <th>8</th>\n",
              "    </tr>\n",
              "  </thead>\n",
              "  <tbody>\n",
              "    <tr>\n",
              "      <th>13</th>\n",
              "      <td>NaN</td>\n",
              "      <td>NaN</td>\n",
              "      <td>NaN</td>\n",
              "      <td>NaN</td>\n",
              "      <td>NaN</td>\n",
              "      <td>NaN</td>\n",
              "      <td>NaN</td>\n",
              "      <td>NaN</td>\n",
              "      <td>0.0</td>\n",
              "    </tr>\n",
              "    <tr>\n",
              "      <th>15</th>\n",
              "      <td>NaN</td>\n",
              "      <td>3.0</td>\n",
              "      <td>1.0</td>\n",
              "      <td>3.0</td>\n",
              "      <td>3.0</td>\n",
              "      <td>10.238116</td>\n",
              "      <td>12.849551</td>\n",
              "      <td>11.015530</td>\n",
              "      <td>0.0</td>\n",
              "    </tr>\n",
              "    <tr>\n",
              "      <th>58</th>\n",
              "      <td>NaN</td>\n",
              "      <td>NaN</td>\n",
              "      <td>NaN</td>\n",
              "      <td>NaN</td>\n",
              "      <td>NaN</td>\n",
              "      <td>NaN</td>\n",
              "      <td>NaN</td>\n",
              "      <td>NaN</td>\n",
              "      <td>1.0</td>\n",
              "    </tr>\n",
              "    <tr>\n",
              "      <th>129</th>\n",
              "      <td>NaN</td>\n",
              "      <td>NaN</td>\n",
              "      <td>NaN</td>\n",
              "      <td>NaN</td>\n",
              "      <td>NaN</td>\n",
              "      <td>NaN</td>\n",
              "      <td>NaN</td>\n",
              "      <td>NaN</td>\n",
              "      <td>0.0</td>\n",
              "    </tr>\n",
              "    <tr>\n",
              "      <th>208</th>\n",
              "      <td>0.0</td>\n",
              "      <td>3.0</td>\n",
              "      <td>2.0</td>\n",
              "      <td>2.0</td>\n",
              "      <td>3.0</td>\n",
              "      <td>NaN</td>\n",
              "      <td>10.940930</td>\n",
              "      <td>11.175542</td>\n",
              "      <td>0.0</td>\n",
              "    </tr>\n",
              "    <tr>\n",
              "      <th>320</th>\n",
              "      <td>NaN</td>\n",
              "      <td>NaN</td>\n",
              "      <td>NaN</td>\n",
              "      <td>NaN</td>\n",
              "      <td>NaN</td>\n",
              "      <td>NaN</td>\n",
              "      <td>NaN</td>\n",
              "      <td>NaN</td>\n",
              "      <td>1.0</td>\n",
              "    </tr>\n",
              "    <tr>\n",
              "      <th>352</th>\n",
              "      <td>0.0</td>\n",
              "      <td>3.0</td>\n",
              "      <td>2.0</td>\n",
              "      <td>5.0</td>\n",
              "      <td>0.0</td>\n",
              "      <td>NaN</td>\n",
              "      <td>13.752695</td>\n",
              "      <td>10.000000</td>\n",
              "      <td>1.0</td>\n",
              "    </tr>\n",
              "    <tr>\n",
              "      <th>410</th>\n",
              "      <td>NaN</td>\n",
              "      <td>NaN</td>\n",
              "      <td>NaN</td>\n",
              "      <td>NaN</td>\n",
              "      <td>NaN</td>\n",
              "      <td>NaN</td>\n",
              "      <td>NaN</td>\n",
              "      <td>NaN</td>\n",
              "      <td>1.0</td>\n",
              "    </tr>\n",
              "  </tbody>\n",
              "</table>\n",
              "</div>"
            ],
            "text/plain": [
              "       0    1    2    3    4          5          6          7    8\n",
              "13   NaN  NaN  NaN  NaN  NaN        NaN        NaN        NaN  0.0\n",
              "15   NaN  3.0  1.0  3.0  3.0  10.238116  12.849551  11.015530  0.0\n",
              "58   NaN  NaN  NaN  NaN  NaN        NaN        NaN        NaN  1.0\n",
              "129  NaN  NaN  NaN  NaN  NaN        NaN        NaN        NaN  0.0\n",
              "208  0.0  3.0  2.0  2.0  3.0        NaN  10.940930  11.175542  0.0\n",
              "320  NaN  NaN  NaN  NaN  NaN        NaN        NaN        NaN  1.0\n",
              "352  0.0  3.0  2.0  5.0  0.0        NaN  13.752695  10.000000  1.0\n",
              "410  NaN  NaN  NaN  NaN  NaN        NaN        NaN        NaN  1.0"
            ]
          },
          "metadata": {
            "tags": []
          }
        }
      ]
    },
    {
      "cell_type": "code",
      "metadata": {
        "colab": {
          "base_uri": "https://localhost:8080/",
          "height": 142
        },
        "id": "gl_TmtXIoRtw",
        "outputId": "06ec424b-2bb6-4a43-dcd5-46efcc640b87"
      },
      "source": [
        "# Drop rows with more than 1 NaN\n",
        "df = df[df.isnull().sum(axis=1) < 2]\n",
        "\n",
        "df1 = df[df.isna().any(axis=1)]\n",
        "display(df1)"
      ],
      "execution_count": 6,
      "outputs": [
        {
          "output_type": "display_data",
          "data": {
            "text/html": [
              "<div>\n",
              "<style scoped>\n",
              "    .dataframe tbody tr th:only-of-type {\n",
              "        vertical-align: middle;\n",
              "    }\n",
              "\n",
              "    .dataframe tbody tr th {\n",
              "        vertical-align: top;\n",
              "    }\n",
              "\n",
              "    .dataframe thead th {\n",
              "        text-align: right;\n",
              "    }\n",
              "</style>\n",
              "<table border=\"1\" class=\"dataframe\">\n",
              "  <thead>\n",
              "    <tr style=\"text-align: right;\">\n",
              "      <th></th>\n",
              "      <th>0</th>\n",
              "      <th>1</th>\n",
              "      <th>2</th>\n",
              "      <th>3</th>\n",
              "      <th>4</th>\n",
              "      <th>5</th>\n",
              "      <th>6</th>\n",
              "      <th>7</th>\n",
              "      <th>8</th>\n",
              "    </tr>\n",
              "  </thead>\n",
              "  <tbody>\n",
              "    <tr>\n",
              "      <th>15</th>\n",
              "      <td>NaN</td>\n",
              "      <td>3.0</td>\n",
              "      <td>1.0</td>\n",
              "      <td>3.0</td>\n",
              "      <td>3.0</td>\n",
              "      <td>10.238116</td>\n",
              "      <td>12.849551</td>\n",
              "      <td>11.015530</td>\n",
              "      <td>0.0</td>\n",
              "    </tr>\n",
              "    <tr>\n",
              "      <th>208</th>\n",
              "      <td>0.0</td>\n",
              "      <td>3.0</td>\n",
              "      <td>2.0</td>\n",
              "      <td>2.0</td>\n",
              "      <td>3.0</td>\n",
              "      <td>NaN</td>\n",
              "      <td>10.940930</td>\n",
              "      <td>11.175542</td>\n",
              "      <td>0.0</td>\n",
              "    </tr>\n",
              "    <tr>\n",
              "      <th>352</th>\n",
              "      <td>0.0</td>\n",
              "      <td>3.0</td>\n",
              "      <td>2.0</td>\n",
              "      <td>5.0</td>\n",
              "      <td>0.0</td>\n",
              "      <td>NaN</td>\n",
              "      <td>13.752695</td>\n",
              "      <td>10.000000</td>\n",
              "      <td>1.0</td>\n",
              "    </tr>\n",
              "  </tbody>\n",
              "</table>\n",
              "</div>"
            ],
            "text/plain": [
              "       0    1    2    3    4          5          6          7    8\n",
              "15   NaN  3.0  1.0  3.0  3.0  10.238116  12.849551  11.015530  0.0\n",
              "208  0.0  3.0  2.0  2.0  3.0        NaN  10.940930  11.175542  0.0\n",
              "352  0.0  3.0  2.0  5.0  0.0        NaN  13.752695  10.000000  1.0"
            ]
          },
          "metadata": {
            "tags": []
          }
        }
      ]
    },
    {
      "cell_type": "code",
      "metadata": {
        "colab": {
          "base_uri": "https://localhost:8080/",
          "height": 98
        },
        "id": "DH8Apytrzc-e",
        "outputId": "cee0a931-4427-45b9-be81-851b12e8ad4b"
      },
      "source": [
        "# Fill continuous NaN values\n",
        "from sklearn.impute import SimpleImputer\n",
        "\n",
        "# Columnas de atributos continuos\n",
        "df_cons = df.iloc[:,con_cols]\n",
        "\n",
        "# Limpieza de datos: imputación valores ausentes (modelo).\n",
        "imp = SimpleImputer(missing_values=np.nan, strategy='mean')\n",
        "imp.fit(df_cons)\n",
        "\n",
        "# Limpieza de datos: imputación valores ausentes (aplicación).\n",
        "df.iloc[:,con_cols] = imp.transform(df.iloc[:,con_cols])\n",
        "\n",
        "df1 = df[df.isna().any(axis=1)]\n",
        "display('Continuous filled:',df1)"
      ],
      "execution_count": 7,
      "outputs": [
        {
          "output_type": "display_data",
          "data": {
            "application/vnd.google.colaboratory.intrinsic+json": {
              "type": "string"
            },
            "text/plain": [
              "'Continuous filled:'"
            ]
          },
          "metadata": {
            "tags": []
          }
        },
        {
          "output_type": "display_data",
          "data": {
            "text/html": [
              "<div>\n",
              "<style scoped>\n",
              "    .dataframe tbody tr th:only-of-type {\n",
              "        vertical-align: middle;\n",
              "    }\n",
              "\n",
              "    .dataframe tbody tr th {\n",
              "        vertical-align: top;\n",
              "    }\n",
              "\n",
              "    .dataframe thead th {\n",
              "        text-align: right;\n",
              "    }\n",
              "</style>\n",
              "<table border=\"1\" class=\"dataframe\">\n",
              "  <thead>\n",
              "    <tr style=\"text-align: right;\">\n",
              "      <th></th>\n",
              "      <th>0</th>\n",
              "      <th>1</th>\n",
              "      <th>2</th>\n",
              "      <th>3</th>\n",
              "      <th>4</th>\n",
              "      <th>5</th>\n",
              "      <th>6</th>\n",
              "      <th>7</th>\n",
              "      <th>8</th>\n",
              "    </tr>\n",
              "  </thead>\n",
              "  <tbody>\n",
              "    <tr>\n",
              "      <th>15</th>\n",
              "      <td>NaN</td>\n",
              "      <td>3.0</td>\n",
              "      <td>1.0</td>\n",
              "      <td>3.0</td>\n",
              "      <td>3.0</td>\n",
              "      <td>10.238116</td>\n",
              "      <td>12.849551</td>\n",
              "      <td>11.01553</td>\n",
              "      <td>0.0</td>\n",
              "    </tr>\n",
              "  </tbody>\n",
              "</table>\n",
              "</div>"
            ],
            "text/plain": [
              "     0    1    2    3    4          5          6         7    8\n",
              "15 NaN  3.0  1.0  3.0  3.0  10.238116  12.849551  11.01553  0.0"
            ]
          },
          "metadata": {
            "tags": []
          }
        }
      ]
    },
    {
      "cell_type": "code",
      "metadata": {
        "colab": {
          "base_uri": "https://localhost:8080/",
          "height": 67
        },
        "id": "cHWAaiTCDhdO",
        "outputId": "030bfd51-63fa-4e6f-a651-7efee2c2e5aa"
      },
      "source": [
        "# Fill categorical NaN values\n",
        "df.iloc[:,cat_cols] = df.iloc[:,cat_cols].fillna(df.mode()[0])\n",
        "\n",
        "# Columnas de atributos continuos\n",
        "df_cat = df.iloc[:,cat_cols]\n",
        "\n",
        "# Limpieza de datos: imputación valores ausentes (modelo).\n",
        "imp = SimpleImputer(missing_values=np.nan, strategy='most_frequent')\n",
        "imp.fit(df_cat)\n",
        "\n",
        "# Limpieza de datos: imputación valores ausentes (aplicación).\n",
        "df.iloc[:,cat_cols] = imp.transform(df.iloc[:,cat_cols])\n",
        "\n",
        "df1 = df[df.isna().any(axis=1)]\n",
        "display('Categorical filled:',df1)"
      ],
      "execution_count": 8,
      "outputs": [
        {
          "output_type": "display_data",
          "data": {
            "application/vnd.google.colaboratory.intrinsic+json": {
              "type": "string"
            },
            "text/plain": [
              "'Categorical filled:'"
            ]
          },
          "metadata": {
            "tags": []
          }
        },
        {
          "output_type": "display_data",
          "data": {
            "text/html": [
              "<div>\n",
              "<style scoped>\n",
              "    .dataframe tbody tr th:only-of-type {\n",
              "        vertical-align: middle;\n",
              "    }\n",
              "\n",
              "    .dataframe tbody tr th {\n",
              "        vertical-align: top;\n",
              "    }\n",
              "\n",
              "    .dataframe thead th {\n",
              "        text-align: right;\n",
              "    }\n",
              "</style>\n",
              "<table border=\"1\" class=\"dataframe\">\n",
              "  <thead>\n",
              "    <tr style=\"text-align: right;\">\n",
              "      <th></th>\n",
              "      <th>0</th>\n",
              "      <th>1</th>\n",
              "      <th>2</th>\n",
              "      <th>3</th>\n",
              "      <th>4</th>\n",
              "      <th>5</th>\n",
              "      <th>6</th>\n",
              "      <th>7</th>\n",
              "      <th>8</th>\n",
              "    </tr>\n",
              "  </thead>\n",
              "  <tbody>\n",
              "  </tbody>\n",
              "</table>\n",
              "</div>"
            ],
            "text/plain": [
              "Empty DataFrame\n",
              "Columns: [0, 1, 2, 3, 4, 5, 6, 7, 8]\n",
              "Index: []"
            ]
          },
          "metadata": {
            "tags": []
          }
        }
      ]
    },
    {
      "cell_type": "markdown",
      "metadata": {
        "id": "Hoth2iHgEvo3"
      },
      "source": [
        "Work done"
      ]
    },
    {
      "cell_type": "code",
      "metadata": {
        "colab": {
          "base_uri": "https://localhost:8080/"
        },
        "id": "hZlNjqmUEkKm",
        "outputId": "f31ea140-8064-4b8b-a1ce-50ced492fdb5"
      },
      "source": [
        "print('NaNs:\\n', df.isna().sum())\n",
        "print('\\nShape:',df.shape)\n",
        "\n",
        "X = df.iloc[:,:-1].to_numpy()\n",
        "y = df.iloc[:,-1].to_numpy()\n",
        "print('\\n\\n------\\n\\n')\n",
        "print('X=\\n', X)\n",
        "print('\\n\\n------\\n\\n')\n",
        "print('y=\\n',y)"
      ],
      "execution_count": 9,
      "outputs": [
        {
          "output_type": "stream",
          "text": [
            "NaNs:\n",
            " 0    0\n",
            "1    0\n",
            "2    0\n",
            "3    0\n",
            "4    0\n",
            "5    0\n",
            "6    0\n",
            "7    0\n",
            "8    0\n",
            "dtype: int64\n",
            "\n",
            "Shape: (495, 9)\n",
            "\n",
            "\n",
            "------\n",
            "\n",
            "\n",
            "X=\n",
            " [[ 0.          4.          1.         ...  9.04481012  8.2603626\n",
            "   7.37490176]\n",
            " [ 0.          4.          0.         ...  8.56908202 10.9370737\n",
            "  10.30131004]\n",
            " [ 0.          3.          1.         ...  9.68777842 10.69134847\n",
            "  11.45671439]\n",
            " ...\n",
            " [ 0.          2.          0.         ...  2.95882711  1.94458971\n",
            "   8.88390924]\n",
            " [ 0.          3.          2.         ...  2.95542398  1.92895933\n",
            "   9.03304966]\n",
            " [ 0.          4.          0.         ...  2.94928374  2.0478487\n",
            "   8.86096477]]\n",
            "\n",
            "\n",
            "------\n",
            "\n",
            "\n",
            "y=\n",
            " [0. 0. 0. 0. 0. 0. 1. 0. 0. 0. 0. 0. 0. 0. 0. 1. 0. 0. 0. 1. 1. 0. 0. 0.\n",
            " 0. 0. 0. 1. 1. 0. 1. 1. 0. 0. 0. 1. 0. 0. 0. 0. 0. 0. 1. 1. 0. 0. 0. 1.\n",
            " 0. 1. 0. 0. 0. 0. 0. 0. 0. 0. 0. 1. 0. 0. 0. 1. 0. 0. 0. 0. 0. 0. 1. 0.\n",
            " 1. 0. 1. 0. 0. 0. 0. 0. 0. 1. 0. 1. 0. 0. 0. 1. 0. 0. 1. 0. 1. 1. 0. 1.\n",
            " 0. 0. 0. 0. 0. 0. 0. 0. 0. 0. 0. 1. 0. 0. 0. 0. 1. 0. 0. 0. 0. 0. 0. 0.\n",
            " 0. 0. 0. 0. 0. 1. 0. 0. 1. 0. 0. 1. 0. 0. 1. 0. 1. 0. 0. 0. 0. 0. 0. 0.\n",
            " 1. 0. 0. 0. 0. 0. 0. 0. 0. 1. 0. 0. 1. 0. 1. 1. 1. 0. 0. 0. 0. 1. 0. 0.\n",
            " 0. 0. 0. 1. 1. 1. 0. 0. 0. 1. 0. 0. 0. 0. 0. 0. 0. 0. 1. 0. 0. 0. 0. 0.\n",
            " 1. 1. 0. 0. 0. 1. 0. 0. 0. 0. 1. 0. 0. 0. 0. 1. 0. 0. 0. 1. 0. 0. 0. 0.\n",
            " 0. 1. 0. 0. 0. 0. 0. 1. 0. 0. 0. 0. 0. 0. 0. 0. 0. 0. 0. 1. 0. 1. 0. 1.\n",
            " 0. 0. 0. 1. 0. 0. 0. 1. 1. 1. 1. 1. 1. 1. 1. 1. 1. 1. 1. 1. 1. 1. 1. 1.\n",
            " 1. 1. 1. 1. 1. 1. 1. 1. 1. 1. 1. 1. 1. 1. 1. 1. 1. 1. 1. 1. 1. 1. 1. 1.\n",
            " 1. 1. 1. 1. 1. 1. 1. 1. 1. 1. 1. 1. 1. 1. 1. 1. 1. 1. 1. 1. 1. 1. 1. 1.\n",
            " 1. 1. 1. 1. 1. 1. 1. 1. 1. 1. 1. 1. 1. 1. 1. 1. 1. 1. 1. 1. 1. 1. 1. 1.\n",
            " 1. 1. 1. 1. 1. 1. 1. 1. 1. 1. 1. 1. 1. 1. 1. 1. 1. 1. 1. 1. 1. 1. 1. 1.\n",
            " 1. 1. 1. 1. 1. 1. 1. 1. 1. 1. 1. 1. 1. 1. 1. 1. 1. 1. 1. 1. 1. 1. 1. 1.\n",
            " 1. 1. 1. 1. 1. 1. 1. 1. 1. 1. 1. 1. 1. 1. 1. 1. 1. 1. 1. 1. 1. 1. 1. 1.\n",
            " 1. 1. 1. 1. 1. 1. 1. 0. 0. 0. 0. 0. 0. 0. 0. 0. 0. 0. 0. 0. 0. 0. 0. 0.\n",
            " 0. 0. 0. 0. 0. 0. 0. 0. 0. 0. 0. 0. 0. 0. 0. 0. 0. 0. 0. 0. 0. 0. 0. 0.\n",
            " 0. 0. 0. 0. 1. 1. 0. 0. 0. 1. 0. 1. 0. 1. 0. 0. 1. 1. 1. 1. 1. 1. 1. 1.\n",
            " 1. 1. 1. 1. 1. 0. 0. 1. 1. 0. 0. 1. 0. 1. 0.]\n"
          ],
          "name": "stdout"
        }
      ]
    },
    {
      "cell_type": "markdown",
      "metadata": {
        "id": "-9llYwyUK5Dt"
      },
      "source": [
        "#### 1.b) Eliminación de valores outliers EXTREMOS (1 punto)\n",
        "- Aplicar el método de Elliptic Envelope fijando una semilla en 42\n",
        "- Utilizar el diagrama de caja y bigotes para establecer los umbrales de decisión\n",
        "- Plotear el diagrama obtenido a partir de las puntuaciones calculadas con el método Elliptic Envelope\n",
        "- Eliminar las instancias que contengan valores outliers extremos\n",
        "\n",
        "Los outputs deberán ser: \n",
        "- Una matriz X de dimensiones M' x N, donde M' será el nuevo número de instancias y N, el de atributos.\n",
        "- Un vector y de dimensiones M'. "
      ]
    },
    {
      "cell_type": "markdown",
      "metadata": {
        "id": "DFzqhVLhRo6n"
      },
      "source": [
        "##### Obtención de outliers y plot de las puntuaciones sobre la clase"
      ]
    },
    {
      "cell_type": "code",
      "metadata": {
        "colab": {
          "base_uri": "https://localhost:8080/"
        },
        "id": "GOys79pn4aZb",
        "outputId": "59011d4a-1a7e-4e7b-8e85-e4d84e7ab6be"
      },
      "source": [
        "from sklearn.covariance import EllipticEnvelope\n",
        "import seaborn as sns\n",
        "from scipy import stats\n",
        "from matplotlib import pyplot as plt\n",
        "sns.set_theme(style=\"whitegrid\")\n",
        "\n",
        "outlier_method = EllipticEnvelope(random_state=42).fit(X)\n",
        "scores_pred = outlier_method.decision_function(X)\n",
        "#threshold = stats.scoreatpercentile(scores_pred, 25)"
      ],
      "execution_count": 10,
      "outputs": [
        {
          "output_type": "stream",
          "text": [
            "/usr/local/lib/python3.7/dist-packages/sklearn/covariance/_robust_covariance.py:170: RuntimeWarning: Determinant has increased; this should not happen: log(det) > log(previous_det) (-36.747754155524625 > -38.959386557666875). You may want to try with a higher value of support_fraction (current value: 0.509).\n",
            "  RuntimeWarning)\n",
            "/usr/local/lib/python3.7/dist-packages/sklearn/covariance/_robust_covariance.py:170: RuntimeWarning: Determinant has increased; this should not happen: log(det) > log(previous_det) (-36.903632764895178 > -37.111340628367792). You may want to try with a higher value of support_fraction (current value: 0.509).\n",
            "  RuntimeWarning)\n"
          ],
          "name": "stderr"
        }
      ]
    },
    {
      "cell_type": "code",
      "metadata": {
        "colab": {
          "base_uri": "https://localhost:8080/"
        },
        "id": "5mUHpNMUKZKU",
        "outputId": "23b418b3-c49d-4a75-e24e-c9c7f22e5269"
      },
      "source": [
        "Q1 = stats.scoreatpercentile(scores_pred, 25)\n",
        "Q3 = stats.scoreatpercentile(scores_pred, 75)\n",
        "RIC = Q3 - Q1\n",
        "li = Q1 - 1.5*RIC # 1,5: valores outliers atípicos\n",
        "ls = Q3 + 1.5*RIC # 1,5: valores outliers atípicos\n",
        "\n",
        "print('Q1:', Q1, 'Q3:', Q3, 'RIC:', RIC)\n",
        "\n",
        "print('limite inferior: ', li)\n",
        "print('limite superior: ', ls)"
      ],
      "execution_count": 11,
      "outputs": [
        {
          "output_type": "stream",
          "text": [
            "Q1: 77.16043836982965 Q3: 106.0677959192163 RIC: 28.907357549386646\n",
            "limite inferior:  33.79940204574968\n",
            "limite superior:  149.42883224329626\n"
          ],
          "name": "stdout"
        }
      ]
    },
    {
      "cell_type": "code",
      "metadata": {
        "colab": {
          "base_uri": "https://localhost:8080/"
        },
        "id": "GdCEPRnLKcc4",
        "outputId": "494b2fc4-dfa2-40f1-8257-ac535b0ac2af"
      },
      "source": [
        "# Estimación de outliers\n",
        "pos_i = np.where(scores_pred<li)\n",
        "pos_s = np.where(scores_pred>ls)\n",
        "\n",
        "print('Posición de outliers atípicos en el extremno inferior: ', pos_i)\n",
        "print('Posición de outliers atípicos en el extremno superior: ', pos_s)"
      ],
      "execution_count": 12,
      "outputs": [
        {
          "output_type": "stream",
          "text": [
            "Posición de outliers atípicos en el extremno inferior:  (array([371, 372, 373, 374, 375, 376, 377, 378, 379, 380, 381, 382, 383,\n",
            "       384, 385, 386, 387, 388, 389, 390, 391, 392, 393, 394, 395, 396,\n",
            "       397, 398, 399, 400, 401, 402, 403, 404, 405, 406, 407, 408, 409,\n",
            "       410, 411, 412, 413, 414, 415, 416, 417, 418, 419, 420, 421, 422,\n",
            "       423, 424, 425, 426, 427, 428, 429, 430, 431, 432, 433, 434, 435,\n",
            "       436, 437, 438, 439, 440, 441, 442, 443, 444, 445, 446, 447, 448,\n",
            "       449, 450, 451, 452, 453, 454]),)\n",
            "Posición de outliers atípicos en el extremno superior:  (array([], dtype=int64),)\n"
          ],
          "name": "stdout"
        }
      ]
    },
    {
      "cell_type": "code",
      "metadata": {
        "colab": {
          "base_uri": "https://localhost:8080/"
        },
        "id": "I40BFgShC1yL",
        "outputId": "e2a341dc-1b95-4fc7-d997-aa9b06b473a5"
      },
      "source": [
        "# Matriz de outliers\n",
        "mask_outliers = np.ones(np.shape(scores_pred))\n",
        "mask_outliers[pos_i] = 0\n",
        "mask_outliers[pos_s] = 0\n",
        "print(mask_outliers)"
      ],
      "execution_count": 13,
      "outputs": [
        {
          "output_type": "stream",
          "text": [
            "[1. 1. 1. 1. 1. 1. 1. 1. 1. 1. 1. 1. 1. 1. 1. 1. 1. 1. 1. 1. 1. 1. 1. 1.\n",
            " 1. 1. 1. 1. 1. 1. 1. 1. 1. 1. 1. 1. 1. 1. 1. 1. 1. 1. 1. 1. 1. 1. 1. 1.\n",
            " 1. 1. 1. 1. 1. 1. 1. 1. 1. 1. 1. 1. 1. 1. 1. 1. 1. 1. 1. 1. 1. 1. 1. 1.\n",
            " 1. 1. 1. 1. 1. 1. 1. 1. 1. 1. 1. 1. 1. 1. 1. 1. 1. 1. 1. 1. 1. 1. 1. 1.\n",
            " 1. 1. 1. 1. 1. 1. 1. 1. 1. 1. 1. 1. 1. 1. 1. 1. 1. 1. 1. 1. 1. 1. 1. 1.\n",
            " 1. 1. 1. 1. 1. 1. 1. 1. 1. 1. 1. 1. 1. 1. 1. 1. 1. 1. 1. 1. 1. 1. 1. 1.\n",
            " 1. 1. 1. 1. 1. 1. 1. 1. 1. 1. 1. 1. 1. 1. 1. 1. 1. 1. 1. 1. 1. 1. 1. 1.\n",
            " 1. 1. 1. 1. 1. 1. 1. 1. 1. 1. 1. 1. 1. 1. 1. 1. 1. 1. 1. 1. 1. 1. 1. 1.\n",
            " 1. 1. 1. 1. 1. 1. 1. 1. 1. 1. 1. 1. 1. 1. 1. 1. 1. 1. 1. 1. 1. 1. 1. 1.\n",
            " 1. 1. 1. 1. 1. 1. 1. 1. 1. 1. 1. 1. 1. 1. 1. 1. 1. 1. 1. 1. 1. 1. 1. 1.\n",
            " 1. 1. 1. 1. 1. 1. 1. 1. 1. 1. 1. 1. 1. 1. 1. 1. 1. 1. 1. 1. 1. 1. 1. 1.\n",
            " 1. 1. 1. 1. 1. 1. 1. 1. 1. 1. 1. 1. 1. 1. 1. 1. 1. 1. 1. 1. 1. 1. 1. 1.\n",
            " 1. 1. 1. 1. 1. 1. 1. 1. 1. 1. 1. 1. 1. 1. 1. 1. 1. 1. 1. 1. 1. 1. 1. 1.\n",
            " 1. 1. 1. 1. 1. 1. 1. 1. 1. 1. 1. 1. 1. 1. 1. 1. 1. 1. 1. 1. 1. 1. 1. 1.\n",
            " 1. 1. 1. 1. 1. 1. 1. 1. 1. 1. 1. 1. 1. 1. 1. 1. 1. 1. 1. 1. 1. 1. 1. 1.\n",
            " 1. 1. 1. 1. 1. 1. 1. 1. 1. 1. 1. 0. 0. 0. 0. 0. 0. 0. 0. 0. 0. 0. 0. 0.\n",
            " 0. 0. 0. 0. 0. 0. 0. 0. 0. 0. 0. 0. 0. 0. 0. 0. 0. 0. 0. 0. 0. 0. 0. 0.\n",
            " 0. 0. 0. 0. 0. 0. 0. 0. 0. 0. 0. 0. 0. 0. 0. 0. 0. 0. 0. 0. 0. 0. 0. 0.\n",
            " 0. 0. 0. 0. 0. 0. 0. 0. 0. 0. 0. 0. 0. 0. 0. 0. 0. 0. 0. 0. 0. 0. 0. 1.\n",
            " 1. 1. 1. 1. 1. 1. 1. 1. 1. 1. 1. 1. 1. 1. 1. 1. 1. 1. 1. 1. 1. 1. 1. 1.\n",
            " 1. 1. 1. 1. 1. 1. 1. 1. 1. 1. 1. 1. 1. 1. 1.]\n"
          ],
          "name": "stdout"
        }
      ]
    },
    {
      "cell_type": "markdown",
      "metadata": {
        "id": "GaHO2HhySnVz"
      },
      "source": [
        "Creamos un dataframe al que le añadimos la clase junto a su valor de outlier para comparar los valores y 'plotear' los valores de Elliptic Envelope"
      ]
    },
    {
      "cell_type": "code",
      "metadata": {
        "colab": {
          "base_uri": "https://localhost:8080/",
          "height": 382
        },
        "id": "BGzZ0DSsSla2",
        "outputId": "d85b60f8-3977-49e8-ee14-b0d476c35b6e"
      },
      "source": [
        "outlier_df = pd.DataFrame({'outlier':mask_outliers, 'clase':y})\n",
        "\n",
        "g = sns.displot(data=outlier_df, x=\"clase\", hue=\"outlier\", multiple=\"stack\")\n",
        "\n",
        "g.set(xticks=[0,1])"
      ],
      "execution_count": 14,
      "outputs": [
        {
          "output_type": "execute_result",
          "data": {
            "text/plain": [
              "<seaborn.axisgrid.FacetGrid at 0x7f6d2cae1450>"
            ]
          },
          "metadata": {
            "tags": []
          },
          "execution_count": 14
        },
        {
          "output_type": "display_data",
          "data": {
            "image/png": "[encoded data removed]",
            "text/plain": [
              "<Figure size 416.975x360 with 1 Axes>"
            ]
          },
          "metadata": {
            "tags": []
          }
        }
      ]
    },
    {
      "cell_type": "markdown",
      "metadata": {
        "id": "pAFw7XHHR5IW"
      },
      "source": [
        "##### Cálculo de valores outliers EXTREMOS"
      ]
    },
    {
      "cell_type": "code",
      "metadata": {
        "colab": {
          "base_uri": "https://localhost:8080/"
        },
        "id": "OD17xB88R-97",
        "outputId": "3022984d-f89d-4072-8109-61315ec532a7"
      },
      "source": [
        "Q1 = stats.scoreatpercentile(scores_pred, 25)\n",
        "Q3 = stats.scoreatpercentile(scores_pred, 75)\n",
        "RIC = Q3 - Q1\n",
        "li = Q1 - 3*RIC # 3: outlier extremo\n",
        "ls = Q3 + 3*RIC # 3: outlier extremo\n",
        "\n",
        "print('Q1:', Q1, '\\nQ3', Q3, '\\nRIC:', RIC)\n",
        "\n",
        "print('limite inferior: ', li)\n",
        "print('limite superior: ', ls)"
      ],
      "execution_count": 15,
      "outputs": [
        {
          "output_type": "stream",
          "text": [
            "Q1: 77.16043836982965 \n",
            "Q3 106.0677959192163 \n",
            "RIC: 28.907357549386646\n",
            "limite inferior:  -9.561634278330288\n",
            "limite superior:  192.78986856737623\n"
          ],
          "name": "stdout"
        }
      ]
    },
    {
      "cell_type": "code",
      "metadata": {
        "colab": {
          "base_uri": "https://localhost:8080/"
        },
        "id": "L1VjY3K6SB9W",
        "outputId": "1b31c10b-2e85-49ff-8185-e90bb51192fd"
      },
      "source": [
        "# Estimación de outliers y eliminación\n",
        "pos_i = np.where(scores_pred<li)\n",
        "pos_s = np.where(scores_pred>ls)\n",
        "\n",
        "print('Posición de outliers extremos en el extremno inferior: ', pos_i)\n",
        "print('Posición de outliers extremos en el extremno superior: ', pos_s)"
      ],
      "execution_count": 16,
      "outputs": [
        {
          "output_type": "stream",
          "text": [
            "Posición de outliers extremos en el extremno inferior:  (array([417, 423, 449]),)\n",
            "Posición de outliers extremos en el extremno superior:  (array([], dtype=int64),)\n"
          ],
          "name": "stdout"
        }
      ]
    },
    {
      "cell_type": "markdown",
      "metadata": {
        "id": "mIl5k7Tk6n-M"
      },
      "source": [
        "Eliminación de los outlier extremos"
      ]
    },
    {
      "cell_type": "code",
      "metadata": {
        "colab": {
          "base_uri": "https://localhost:8080/"
        },
        "id": "ztaXnJ6X7Ff0",
        "outputId": "29d39b7b-33e3-4cf5-ffbb-d90dd3b99b03"
      },
      "source": [
        "X.shape"
      ],
      "execution_count": 17,
      "outputs": [
        {
          "output_type": "execute_result",
          "data": {
            "text/plain": [
              "(495, 8)"
            ]
          },
          "metadata": {
            "tags": []
          },
          "execution_count": 17
        }
      ]
    },
    {
      "cell_type": "code",
      "metadata": {
        "id": "9JfgMOvh6q5L"
      },
      "source": [
        "X = np.delete(X, pos_i, axis = 0)"
      ],
      "execution_count": 18,
      "outputs": []
    },
    {
      "cell_type": "code",
      "metadata": {
        "colab": {
          "base_uri": "https://localhost:8080/"
        },
        "id": "ljnwaUXy7BwK",
        "outputId": "7275cdfd-b388-41b6-c2c2-566aae3d4832"
      },
      "source": [
        "X.shape"
      ],
      "execution_count": 19,
      "outputs": [
        {
          "output_type": "execute_result",
          "data": {
            "text/plain": [
              "(492, 8)"
            ]
          },
          "metadata": {
            "tags": []
          },
          "execution_count": 19
        }
      ]
    },
    {
      "cell_type": "markdown",
      "metadata": {
        "id": "_ODEn2TxSQ4s"
      },
      "source": [
        "##### Boxplot de los valores outliers"
      ]
    },
    {
      "cell_type": "code",
      "metadata": {
        "colab": {
          "base_uri": "https://localhost:8080/",
          "height": 338
        },
        "id": "JsvfvQ_NOtyt",
        "outputId": "8ca8a05f-7375-45a2-c7c9-82280a99ed25"
      },
      "source": [
        "from matplotlib import pyplot as plt\n",
        "\n",
        "fig, ax = plt.subplots(figsize = (10, 5))\n",
        "ax.set_title('Outliers extremos')\n",
        "ax.boxplot(scores_pred, vert=False, whis = 3)\n",
        "\n",
        "plt.show()"
      ],
      "execution_count": 20,
      "outputs": [
        {
          "output_type": "display_data",
          "data": {
            "image/png": "[encoded data removed]",
            "text/plain": [
              "<Figure size 720x360 with 1 Axes>"
            ]
          },
          "metadata": {
            "tags": []
          }
        }
      ]
    },
    {
      "cell_type": "markdown",
      "metadata": {
        "id": "7apUwpysK5Du"
      },
      "source": [
        "### Ejercicio 2 (1.5 puntos)\n",
        "Utilizar el conjunto de datos \"dataset_2.npy\" para resolver el ejercicio. Tener en cuenta que la última columna corresponde a la clase."
      ]
    },
    {
      "cell_type": "markdown",
      "metadata": {
        "id": "x4YFYF3WK5Du"
      },
      "source": [
        "#### 2.a) Partición de datos externa (0.5 puntos)\n",
        "Realizar una partición externa de tipo hold-out seleccionando un 20% de los datos para test (fijar una semilla en 42). "
      ]
    },
    {
      "cell_type": "markdown",
      "metadata": {
        "id": "5kuUK9390jw7"
      },
      "source": [
        "##### Carga de datos"
      ]
    },
    {
      "cell_type": "code",
      "metadata": {
        "colab": {
          "base_uri": "https://localhost:8080/"
        },
        "id": "Mn0WAdmsnvwA",
        "outputId": "ffd6fa2b-d473-4773-cd45-dcb0c722892b"
      },
      "source": [
        "import numpy as np\n",
        "\n",
        "data = np.load('/content/drive/MyDrive/Master IA/Aprendizaje Supervisado/actividal_final/dataset_2.npy')\n",
        "X = data[:, 0:-1]\n",
        "y = data[:, -1]\n",
        "print(X.shape)\n",
        "print(y.shape)"
      ],
      "execution_count": 21,
      "outputs": [
        {
          "output_type": "stream",
          "text": [
            "(492, 8)\n",
            "(492,)\n"
          ],
          "name": "stdout"
        }
      ]
    },
    {
      "cell_type": "markdown",
      "metadata": {
        "id": "d7VF_A6O0mOh"
      },
      "source": [
        "##### Partición hold-out"
      ]
    },
    {
      "cell_type": "code",
      "metadata": {
        "colab": {
          "base_uri": "https://localhost:8080/"
        },
        "id": "ylu7gHJY0pp2",
        "outputId": "50c7d0b3-67f5-4260-a275-88f22c58fcf7"
      },
      "source": [
        "from sklearn.model_selection import train_test_split\n",
        "\n",
        "X_train, X_test, y_train, y_test = train_test_split(\n",
        "    X, y, test_size=0.2, random_state=42)\n",
        "\n",
        "print(X_train.shape)\n",
        "print(X_test.shape)\n",
        "print(y_train.shape)\n",
        "print(y_test.shape)"
      ],
      "execution_count": 22,
      "outputs": [
        {
          "output_type": "stream",
          "text": [
            "(393, 8)\n",
            "(99, 8)\n",
            "(393,)\n",
            "(99,)\n"
          ],
          "name": "stdout"
        }
      ]
    },
    {
      "cell_type": "markdown",
      "metadata": {
        "id": "I9P67R1cK5Dv"
      },
      "source": [
        "#### 2.b) Selección de atributos sobre el conjunto de entrenamiento (0.5 puntos)\n",
        "Aplicar el método de VarianceThreshold con un umbral de 0.2 en el conjunto de entrenamiento"
      ]
    },
    {
      "cell_type": "code",
      "metadata": {
        "colab": {
          "base_uri": "https://localhost:8080/"
        },
        "id": "vaCcdzrtn8mL",
        "outputId": "56010149-e6af-466c-f6cc-b726fe7b97d2"
      },
      "source": [
        "from sklearn.feature_selection import VarianceThreshold\n",
        "\n",
        "sel = VarianceThreshold(threshold = .2)\n",
        "\n",
        "X_train = sel.fit_transform(X_train)\n",
        "print(X_train.shape)\n",
        "\n",
        "# VarianceThreshold sobre test set para futuro procesamiento (ha sido asegurado que se elimina el mismo atributo)\n",
        "sel = VarianceThreshold(threshold = .2)\n",
        "\n",
        "X_test = sel.fit_transform(X_test)\n",
        "print(X_test.shape)"
      ],
      "execution_count": 23,
      "outputs": [
        {
          "output_type": "stream",
          "text": [
            "(393, 7)\n",
            "(99, 7)\n"
          ],
          "name": "stdout"
        }
      ]
    },
    {
      "cell_type": "markdown",
      "metadata": {
        "id": "RxY4IeSaDWnK"
      },
      "source": [
        "Ha sido eliminado un atributo del conjunto de entrenamiento"
      ]
    },
    {
      "cell_type": "markdown",
      "metadata": {
        "id": "HPLY7tgLK5Dv"
      },
      "source": [
        "#### 2.c) Estandarización de los datos de entrenamiento (0.5 puntos)\n",
        "Utilizar el método StandardScaler"
      ]
    },
    {
      "cell_type": "code",
      "metadata": {
        "colab": {
          "base_uri": "https://localhost:8080/"
        },
        "id": "H95uo4gqK5Dv",
        "outputId": "1117aad6-f633-4b7b-e5f3-8b3111be5129"
      },
      "source": [
        "from sklearn import preprocessing\n",
        "\n",
        "standardizer = preprocessing.StandardScaler()\n",
        "\n",
        "X_train = standardizer.fit_transform(X_train)\n",
        "\n",
        "print(X_train)\n",
        "\n",
        "# Estandarización del test set para futuro procesamiento\n",
        "X_test = standardizer.fit_transform(X_test)\n",
        "\n",
        "print(X_test)"
      ],
      "execution_count": 24,
      "outputs": [
        {
          "output_type": "stream",
          "text": [
            "[[-0.41701989 -0.37232487 -0.42469918 ... -0.54017298 -1.96779643\n",
            "  -2.17643457]\n",
            " [-0.41701989 -1.25913502  0.31710872 ...  0.33529217  0.47045818\n",
            "   0.57704227]\n",
            " [ 0.63354944 -0.37232487 -1.16650709 ... -2.29090328 -0.78155436\n",
            "  -2.19168937]\n",
            " ...\n",
            " [ 0.63354944  0.51448528  1.05891663 ... -0.05463725  1.59610944\n",
            "   0.46205349]\n",
            " [ 0.63354944 -0.37232487  1.05891663 ... -2.27896303 -0.74796736\n",
            "  -2.20956336]\n",
            " [-0.41701989 -1.25913502  1.05891663 ...  0.21936805  0.56915869\n",
            "  -0.02527913]]\n",
            "[[ 6.14384718e-01 -2.54804016e-01 -2.00154043e+00  2.22485955e+00\n",
            "   2.31115731e-01  5.56905237e-01  1.72434189e-03]\n",
            " [-4.34306439e-01  2.65584186e+00 -5.39160337e-01 -1.48323970e+00\n",
            "   8.20775826e-01  7.37228477e-01  7.44734042e-01]\n",
            " [ 6.14384718e-01 -2.54804016e-01  1.92029709e-01  0.00000000e+00\n",
            "  -6.80057007e-02  5.29283050e-01  5.34535239e-01]\n",
            " [ 6.14384718e-01 -2.54804016e-01  9.23219755e-01 -7.41619849e-01\n",
            "  -3.34664354e-01  9.09034641e-01  5.34535239e-01]\n",
            " [-4.34306439e-01  1.68562657e+00 -5.39160337e-01 -7.41619849e-01\n",
            "   7.38933609e-01  3.80489415e-01  4.65858558e-01]\n",
            " [ 1.66307587e+00 -1.22501931e+00  1.92029709e-01  7.41619849e-01\n",
            "   7.19025557e-01  1.06649032e+00  7.96217685e-01]\n",
            " [ 1.66307587e+00  7.15411275e-01 -5.39160337e-01  0.00000000e+00\n",
            "   9.51772573e-01  5.03349185e-01  6.72456999e-01]\n",
            " [-4.34306439e-01 -2.54804016e-01  1.92029709e-01  0.00000000e+00\n",
            "   7.39573010e-01  7.84686909e-01  8.28382595e-01]\n",
            " [-4.34306439e-01  7.15411275e-01  1.92029709e-01 -7.41619849e-01\n",
            "  -1.49652943e+00 -1.73091520e+00  2.35675936e-01]\n",
            " [-4.34306439e-01  7.15411275e-01  9.23219755e-01 -1.48323970e+00\n",
            "  -2.63685464e-01  5.64362960e-01  5.34535239e-01]\n",
            " [-2.53168875e+00 -2.54804016e-01  1.92029709e-01  0.00000000e+00\n",
            "   7.03396908e-01  8.60859857e-01  5.50638714e-01]\n",
            " [ 6.14384718e-01 -1.22501931e+00  9.23219755e-01  0.00000000e+00\n",
            "  -2.51325094e-01  7.01996384e-01  5.34535239e-01]\n",
            " [-4.34306439e-01 -2.54804016e-01 -2.73273047e+00  2.96647939e+00\n",
            "   4.98882940e-01  6.51712409e-01  2.87451171e-01]\n",
            " [ 6.14384718e-01 -2.54804016e-01  1.92029709e-01  0.00000000e+00\n",
            "   8.55226004e-01  6.03075939e-01  4.18156011e-01]\n",
            " [-4.34306439e-01 -2.54804016e-01  1.65440980e+00 -1.48323970e+00\n",
            "  -1.75911484e+00 -5.38637032e-01 -2.24797380e+00]\n",
            " [-4.34306439e-01 -2.54804016e-01 -5.39160337e-01  7.41619849e-01\n",
            "   7.83620205e-01  4.44874842e-01  5.79000865e-01]\n",
            " [ 1.66307587e+00  7.15411275e-01 -5.39160337e-01  0.00000000e+00\n",
            "   7.10247604e-01  2.23034532e-02 -4.10402152e-01]\n",
            " [ 6.14384718e-01 -1.22501931e+00  1.65440980e+00 -7.41619849e-01\n",
            "   1.09910589e-01  8.82130705e-01  4.57726357e-01]\n",
            " [-1.48299760e+00 -1.22501931e+00  1.92029709e-01  7.41619849e-01\n",
            "   4.09542812e-01 -3.55934065e-01  5.34535239e-01]\n",
            " [-4.34306439e-01  1.68562657e+00 -5.39160337e-01 -7.41619849e-01\n",
            "  -1.46675086e+00 -1.72543547e+00  2.56498052e-01]\n",
            " [ 6.14384718e-01 -2.54804016e-01  9.23219755e-01 -7.41619849e-01\n",
            "   1.10968606e-01 -6.59925739e-02  5.34535239e-01]\n",
            " [-1.48299760e+00  7.15411275e-01 -5.39160337e-01  0.00000000e+00\n",
            "   4.39180178e-01  4.88882592e-01  9.75651551e-03]\n",
            " [-4.34306439e-01  1.68562657e+00 -1.27035038e+00  0.00000000e+00\n",
            "  -1.47445527e+00 -1.76641693e+00  2.39318333e-01]\n",
            " [ 6.14384718e-01  1.68562657e+00  1.92029709e-01 -1.48323970e+00\n",
            "  -1.48763147e+00 -1.73905637e+00  2.01180533e-01]\n",
            " [ 6.14384718e-01 -2.54804016e-01 -5.39160337e-01  7.41619849e-01\n",
            "   2.13355617e-01  2.01313724e-01  4.56971885e-01]\n",
            " [-1.48299760e+00 -1.22501931e+00 -5.39160337e-01  1.48323970e+00\n",
            "  -1.43873771e+00 -1.75661092e+00  2.25772660e-01]\n",
            " [ 6.14384718e-01 -1.22501931e+00  9.23219755e-01  0.00000000e+00\n",
            "  -1.78237700e+00 -5.18852371e-01 -2.26168345e+00]\n",
            " [ 6.14384718e-01 -2.54804016e-01 -5.39160337e-01  7.41619849e-01\n",
            "   9.04792582e-01  7.24532838e-01  3.92822133e-01]\n",
            " [ 6.14384718e-01 -1.22501931e+00  1.65440980e+00 -7.41619849e-01\n",
            "  -1.67523495e+00 -5.24570495e-01 -2.22071543e+00]\n",
            " [ 6.14384718e-01 -1.22501931e+00 -5.39160337e-01  1.48323970e+00\n",
            "   6.25990491e-01 -3.76299721e-01  5.34535239e-01]\n",
            " [ 6.14384718e-01  7.15411275e-01  1.92029709e-01 -7.41619849e-01\n",
            "   2.69018282e-01  4.32900366e-01  2.82689138e-01]\n",
            " [ 6.14384718e-01 -2.54804016e-01  9.23219755e-01 -7.41619849e-01\n",
            "   1.31174912e+00  1.37725091e-01  5.34535239e-01]\n",
            " [-1.48299760e+00 -1.22501931e+00 -5.39160337e-01  1.48323970e+00\n",
            "  -3.13425739e-01 -1.71416450e+00 -2.20466377e+00]\n",
            " [ 1.66307587e+00 -2.54804016e-01 -5.39160337e-01  7.41619849e-01\n",
            "  -3.73991064e-01  4.14498865e-01  5.34535239e-01]\n",
            " [ 6.14384718e-01 -2.54804016e-01 -2.00154043e+00  2.22485955e+00\n",
            "   5.73638047e-01  1.05097931e+00  4.54446693e-01]\n",
            " [ 6.14384718e-01  1.68562657e+00 -2.00154043e+00  7.41619849e-01\n",
            "  -4.85214019e-01  1.24952921e+00  5.34535239e-01]\n",
            " [ 1.66307587e+00 -2.54804016e-01  1.92029709e-01  0.00000000e+00\n",
            "   2.85405150e-01  1.48414905e-01 -2.72013488e-01]\n",
            " [ 6.14384718e-01  7.15411275e-01  1.92029709e-01 -7.41619849e-01\n",
            "   1.46589030e-01  2.07473692e-01 -1.22209852e-01]\n",
            " [-4.34306439e-01  7.15411275e-01  9.23219755e-01 -1.48323970e+00\n",
            "   6.43294993e-01  5.81133056e-01  4.97875902e-01]\n",
            " [-1.48299760e+00 -2.54804016e-01  9.23219755e-01 -7.41619849e-01\n",
            "  -3.24802082e-01 -1.72849190e+00 -2.19897389e+00]\n",
            " [-1.48299760e+00 -1.22501931e+00  1.65440980e+00 -7.41619849e-01\n",
            "   4.51083607e-01  5.22395414e-01  8.12173250e-01]\n",
            " [-4.34306439e-01  1.68562657e+00 -5.39160337e-01 -7.41619849e-01\n",
            "   5.27515864e-01  4.44502775e-01  1.36964122e-01]\n",
            " [-4.34306439e-01 -2.54804016e-01  1.92029709e-01  0.00000000e+00\n",
            "   3.99334649e-01  1.97492741e-01  2.89315308e-01]\n",
            " [ 6.14384718e-01 -1.22501931e+00  1.92029709e-01  7.41619849e-01\n",
            "   4.02803509e-01  1.36427165e-01  4.78495813e-01]\n",
            " [-4.34306439e-01 -2.54804016e-01 -5.39160337e-01  7.41619849e-01\n",
            "   8.01645330e-01  6.91479626e-01  4.24106268e-01]\n",
            " [ 6.14384718e-01 -2.54804016e-01 -5.39160337e-01  7.41619849e-01\n",
            "   1.69725700e-01  7.03158614e-01  4.87592370e-01]\n",
            " [ 1.66307587e+00 -2.54804016e-01  1.92029709e-01  0.00000000e+00\n",
            "   3.86448349e-01  4.49554076e-01  4.58086120e-01]\n",
            " [-4.34306439e-01  7.15411275e-01 -5.39160337e-01  0.00000000e+00\n",
            "  -1.73120885e+00 -5.23544742e-01 -2.19351059e+00]\n",
            " [-4.34306439e-01 -1.22501931e+00 -1.27035038e+00  2.22485955e+00\n",
            "   7.45234343e-01  6.40234381e-01  7.92182797e-01]\n",
            " [-4.34306439e-01 -2.54804016e-01 -5.39160337e-01  7.41619849e-01\n",
            "  -1.51621442e+00 -1.70900852e+00  1.87358773e-01]\n",
            " [ 6.14384718e-01 -2.54804016e-01  9.23219755e-01 -7.41619849e-01\n",
            "  -1.47663741e+00 -1.70947964e+00  2.92315880e-01]\n",
            " [ 6.14384718e-01 -1.22501931e+00  9.23219755e-01  0.00000000e+00\n",
            "   7.65621049e-01  6.43703981e-01  2.30098705e-01]\n",
            " [-4.34306439e-01  7.15411275e-01 -5.39160337e-01  0.00000000e+00\n",
            "  -1.43645217e+00 -1.64492227e+00  2.06649263e-01]\n",
            " [-4.34306439e-01 -1.22501931e+00 -1.27035038e+00  2.22485955e+00\n",
            "   2.96944889e-01  7.06355411e-01  4.93615805e-01]\n",
            " [-1.48299760e+00 -1.22501931e+00  9.23219755e-01  0.00000000e+00\n",
            "  -1.50019099e+00 -1.67459814e+00  2.07024113e-01]\n",
            " [ 6.14384718e-01 -2.54804016e-01  1.92029709e-01  0.00000000e+00\n",
            "   6.00059053e-02  5.11572201e-02  1.53900646e-01]\n",
            " [ 6.14384718e-01 -2.54804016e-01  1.92029709e-01  0.00000000e+00\n",
            "  -1.50230815e+00 -1.73472376e+00  1.96866131e-01]\n",
            " [-4.34306439e-01  7.15411275e-01 -2.00154043e+00  1.48323970e+00\n",
            "  -3.13888045e-01 -1.71650534e+00 -2.25224487e+00]\n",
            " [-4.34306439e-01 -1.22501931e+00  1.92029709e-01  7.41619849e-01\n",
            "   2.96144806e-01  5.03806045e-01  5.67026241e-01]\n",
            " [ 6.14384718e-01 -2.54804016e-01  1.65440980e+00 -1.48323970e+00\n",
            "   5.32716863e-01  1.37793795e-01 -1.98809293e-01]\n",
            " [-4.34306439e-01 -2.54804016e-01  1.65440980e+00 -1.48323970e+00\n",
            "  -3.82591951e-01 -1.66073788e+00 -2.18282580e+00]\n",
            " [ 6.14384718e-01 -1.22501931e+00  1.92029709e-01  7.41619849e-01\n",
            "   1.20026378e+00  1.21348075e+00  1.00016997e+00]\n",
            " [-4.34306439e-01 -2.54804016e-01  9.23219755e-01 -7.41619849e-01\n",
            "  -1.42642732e+00 -1.73168838e+00  2.66360459e-01]\n",
            " [-1.48299760e+00  7.15411275e-01  1.92029709e-01 -7.41619849e-01\n",
            "  -1.47418649e+00 -1.69654630e+00  2.15421446e-01]\n",
            " [ 6.14384718e-01 -2.54804016e-01  9.23219755e-01 -7.41619849e-01\n",
            "   2.59242577e-01  1.47069539e+00  5.34535239e-01]\n",
            " [ 1.66307587e+00  2.65584186e+00 -5.39160337e-01 -1.48323970e+00\n",
            "   3.63678325e-01  6.95827433e-01  3.96840578e-01]\n",
            " [ 1.66307587e+00 -2.54804016e-01  9.23219755e-01 -7.41619849e-01\n",
            "  -1.76544110e+00 -5.56733532e-01 -2.24091642e+00]\n",
            " [ 6.14384718e-01 -2.54804016e-01  1.92029709e-01  0.00000000e+00\n",
            "  -1.75064375e+00 -5.39294782e-01 -2.22850363e+00]\n",
            " [-1.48299760e+00 -1.22501931e+00  1.65440980e+00 -7.41619849e-01\n",
            "  -3.17452338e-01 -1.70624831e+00 -2.21850580e+00]\n",
            " [-1.48299760e+00  3.62605715e+00 -1.27035038e+00 -1.48323970e+00\n",
            "   1.34950645e+00  1.01014008e+00  5.34535239e-01]\n",
            " [-4.34306439e-01  7.15411275e-01  9.23219755e-01 -1.48323970e+00\n",
            "  -1.48116146e+00 -1.70828595e+00  2.42099366e-01]\n",
            " [-4.34306439e-01 -2.54804016e-01 -2.00154043e+00  2.22485955e+00\n",
            "   1.55181527e+00  5.34931991e-01  5.34535239e-01]\n",
            " [-1.48299760e+00 -1.22501931e+00  9.23219755e-01  0.00000000e+00\n",
            "   1.56007362e+00  1.00639316e+00  5.34535239e-01]\n",
            " [-4.34306439e-01  7.15411275e-01 -5.39160337e-01  0.00000000e+00\n",
            "  -1.77334515e+00 -4.94956228e-01 -2.21047923e+00]\n",
            " [ 1.66307587e+00  7.15411275e-01  1.92029709e-01 -7.41619849e-01\n",
            "  -1.81119125e+00 -5.79060607e-01 -2.20250754e+00]\n",
            " [-4.34306439e-01 -2.54804016e-01  9.23219755e-01 -7.41619849e-01\n",
            "   5.21060837e-01  7.75584406e-01  9.29864334e-01]\n",
            " [ 6.14384718e-01 -1.22501931e+00  9.23219755e-01  0.00000000e+00\n",
            "   1.59473943e+00  1.11732083e+00  5.34535239e-01]\n",
            " [-1.48299760e+00 -2.54804016e-01  1.92029709e-01  0.00000000e+00\n",
            "   1.67281563e+00  6.51896879e-01  5.34535239e-01]\n",
            " [-4.34306439e-01 -2.54804016e-01 -1.27035038e+00  1.48323970e+00\n",
            "   1.65248961e+00  1.11989420e+00  5.34535239e-01]\n",
            " [ 1.66307587e+00 -1.22501931e+00  1.65440980e+00 -7.41619849e-01\n",
            "   1.31013379e+00  5.36543150e-01  4.48895617e-01]\n",
            " [-1.48299760e+00 -2.54804016e-01  1.92029709e-01  0.00000000e+00\n",
            "   4.26280233e-01 -1.80349978e-01  5.34535239e-01]\n",
            " [ 1.66307587e+00 -2.54804016e-01 -5.39160337e-01  7.41619849e-01\n",
            "   1.77173584e-01  6.63603806e-01  5.19311658e-01]\n",
            " [-1.48299760e+00  7.15411275e-01 -1.27035038e+00  7.41619849e-01\n",
            "  -2.51232968e-01 -1.72278581e+00 -2.19177929e+00]\n",
            " [-1.48299760e+00 -2.54804016e-01  9.23219755e-01 -7.41619849e-01\n",
            "   1.10982023e+00  1.31823730e+00  5.34535239e-01]\n",
            " [-4.34306439e-01  7.15411275e-01 -5.39160337e-01  0.00000000e+00\n",
            "   1.42583318e+00  1.23511853e-01  5.34535239e-01]\n",
            " [ 6.14384718e-01  7.15411275e-01  9.23219755e-01 -1.48323970e+00\n",
            "  -1.48490351e+00 -1.74890845e+00  2.37444429e-01]\n",
            " [ 6.14384718e-01  1.68562657e+00 -5.39160337e-01 -7.41619849e-01\n",
            "   1.39396669e+00  7.46481205e-01  5.34535239e-01]\n",
            " [-4.34306439e-01  1.68562657e+00 -1.27035038e+00  0.00000000e+00\n",
            "   4.01675543e-01  7.36295668e-01  7.89382110e-01]\n",
            " [ 1.66307587e+00  1.68562657e+00 -1.27035038e+00  0.00000000e+00\n",
            "   5.88206532e-01  7.35904906e-01  7.53673646e-01]\n",
            " [ 6.14384718e-01 -1.22501931e+00  1.65440980e+00 -7.41619849e-01\n",
            "  -1.78578942e+00 -5.32186329e-01 -2.20080280e+00]\n",
            " [-4.34306439e-01 -2.54804016e-01  1.92029709e-01  0.00000000e+00\n",
            "   5.98775831e-01  6.31128159e-01  7.05065120e-01]\n",
            " [ 6.14384718e-01 -2.54804016e-01 -5.39160337e-01  7.41619849e-01\n",
            "   2.37675698e-01  4.23304971e-01 -2.07980674e-02]\n",
            " [-4.34306439e-01 -2.54804016e-01 -2.00154043e+00  2.22485955e+00\n",
            "  -3.17806036e-01 -1.71539365e+00 -2.18198060e+00]\n",
            " [ 1.66307587e+00 -2.54804016e-01  1.65440980e+00 -1.48323970e+00\n",
            "   6.41767473e-01  4.40678043e-01  3.52079714e-01]\n",
            " [-1.48299760e+00  7.15411275e-01 -1.27035038e+00  7.41619849e-01\n",
            "  -5.20507901e-01  6.69391228e-01  5.34535239e-01]\n",
            " [ 6.14384718e-01 -2.54804016e-01  1.92029709e-01  0.00000000e+00\n",
            "   2.95244388e-01  1.66732359e+00  5.34535239e-01]\n",
            " [-4.34306439e-01 -2.54804016e-01  1.92029709e-01  0.00000000e+00\n",
            "   5.23769285e-01  6.85379660e-01  6.94701703e-01]\n",
            " [-1.48299760e+00  7.15411275e-01 -5.39160337e-01  0.00000000e+00\n",
            "   4.22626243e-01  5.66686353e-01  6.00221223e-01]\n",
            " [-4.34306439e-01 -2.54804016e-01  1.92029709e-01  0.00000000e+00\n",
            "   1.05661159e-01  6.22472467e-01  5.47331153e-01]]\n"
          ],
          "name": "stdout"
        }
      ]
    },
    {
      "cell_type": "markdown",
      "metadata": {
        "id": "ht6j7mV-K5Dv"
      },
      "source": [
        "### Ejercicio 3 (2 puntos)\n",
        "Se requieren los resultados del ejercicio anterior"
      ]
    },
    {
      "cell_type": "markdown",
      "metadata": {
        "id": "fT8bzkOnK5Dw"
      },
      "source": [
        "#### 3.a) Comparación de modelos de clasifición mediante validación cruzada (0.5 puntos)\n",
        "Aplicar una validación cruzada interna de K=5 bolsas para optimizar y comparar la capacidad predictiva de los siguientes modelos: Regresión logística, Árboles de decisión y Support vector machine. (Fijar en todos una semilla en 42). La comparación debe realizarse en términos de exactitud proporcionando resultados de media +- desviación estándar."
      ]
    },
    {
      "cell_type": "code",
      "metadata": {
        "id": "vEBVFTghK5Dw",
        "colab": {
          "base_uri": "https://localhost:8080/"
        },
        "outputId": "98312591-35a4-4695-9f0f-901ba9da43fb"
      },
      "source": [
        "from sklearn import datasets\n",
        "from sklearn.model_selection import cross_val_score\n",
        "from sklearn.tree import DecisionTreeClassifier\n",
        "from sklearn.linear_model import LogisticRegression\n",
        "from sklearn.svm import SVC\n",
        "from sklearn.model_selection import KFold\n",
        "\n",
        "# Construcción de los objetos que contiene los algoritmos de aprendizaje.\n",
        "lrc = LogisticRegression()\n",
        "dtc = DecisionTreeClassifier()\n",
        "svm = SVC()\n",
        "\n",
        "# Validación, entrenamiento y evaluación del algoritmo de aprendizaje.\n",
        "lrc_evaluation = cross_val_score(lrc, X_train, y_train, cv = KFold(n_splits=10))\n",
        "dtc_evaluation = cross_val_score(dtc, X_train, y_train, cv = KFold(n_splits=10))\n",
        "svm_evaluation = cross_val_score(svm, X_train, y_train, cv = KFold(n_splits=10))\n",
        "\n",
        "print(\"Evalucación sobre modelo de regresión lineal\")\n",
        "print(\"--------------------------------------------\")\n",
        "print(\"\\nExactitud de cada bolsa:\", lrc_evaluation)\n",
        "print(\"\\nExactitud (media +/- desv.): %0.3f (+/- %0.3f)\" % (lrc_evaluation.mean(), lrc_evaluation.std()))\n",
        "\n",
        "print(\"\\n\\n\\nEvalucación sobre modelo de árboles de decisión\")\n",
        "print(\"--------------------------------------------\")\n",
        "print(\"\\nExactitud de cada bolsa:\", dtc_evaluation)\n",
        "print(\"\\nExactitud (media +/- desv.): %0.3f (+/- %0.3f)\" % (dtc_evaluation.mean(), dtc_evaluation.std()))\n",
        "\n",
        "print(\"\\n\\n\\nEvalucación sobre Suport Vector Machine\")\n",
        "print(\"--------------------------------------------\")\n",
        "print(\"\\nExactitud de cada bolsa:\", lrc_evaluation)\n",
        "print(\"\\nExactitud (media +/- desv.): %0.3f (+/- %0.3f)\" % (svm_evaluation.mean(), svm_evaluation.std()))"
      ],
      "execution_count": 25,
      "outputs": [
        {
          "output_type": "stream",
          "text": [
            "Evalucación sobre modelo de regresión lineal\n",
            "--------------------------------------------\n",
            "\n",
            "Exactitud de cada bolsa: [0.8        0.75       0.65       0.61538462 0.69230769 0.66666667\n",
            " 0.69230769 0.64102564 0.64102564 0.79487179]\n",
            "\n",
            "Exactitud (media +/- desv.): 0.694 (+/- 0.062)\n",
            "\n",
            "\n",
            "\n",
            "Evalucación sobre modelo de árboles de decisión\n",
            "--------------------------------------------\n",
            "\n",
            "Exactitud de cada bolsa: [0.95       1.         1.         0.97435897 1.         1.\n",
            " 0.97435897 0.97435897 1.         0.97435897]\n",
            "\n",
            "Exactitud (media +/- desv.): 0.985 (+/- 0.017)\n",
            "\n",
            "\n",
            "\n",
            "Evalucación sobre Suport Vector Machine\n",
            "--------------------------------------------\n",
            "\n",
            "Exactitud de cada bolsa: [0.8        0.75       0.65       0.61538462 0.69230769 0.66666667\n",
            " 0.69230769 0.64102564 0.64102564 0.79487179]\n",
            "\n",
            "Exactitud (media +/- desv.): 0.709 (+/- 0.097)\n"
          ],
          "name": "stdout"
        }
      ]
    },
    {
      "cell_type": "markdown",
      "metadata": {
        "id": "RNseyPRzK5Dw"
      },
      "source": [
        "#### 3.b) Evaluación de los modelos sobre el conjunto de test (1.5 puntos)\n",
        "- Entrenar los modelos anteriores utilizando todos los datos de entrenamiento y evaluar su rendimiento sobre el conjunto de test.\n",
        "- Mostrar en una figura la comparación de las curvas ROC obtenidas para cada modelo.\n",
        "- Crear una tabla donde se muestren los resultados de todos los modelos.\n",
        " * Las filas serán: Precisión, Sensibilidad, F-score, Exactitud y AUC\n",
        " * Las columnas serán: LR, Tree y SVM "
      ]
    },
    {
      "cell_type": "code",
      "metadata": {
        "id": "53I9kuZXK5Dw",
        "colab": {
          "base_uri": "https://localhost:8080/",
          "height": 1000
        },
        "outputId": "fbc2b96a-957d-4480-a779-dea5a9706daf"
      },
      "source": [
        "from sklearn.tree import DecisionTreeClassifier\n",
        "from sklearn.linear_model import LogisticRegression\n",
        "from sklearn.svm import SVC\n",
        "from sklearn.model_selection import cross_val_predict\n",
        "from sklearn.metrics import accuracy_score\n",
        "from sklearn.metrics import precision_score\n",
        "from sklearn.metrics import recall_score\n",
        "from sklearn.metrics import f1_score\n",
        "from sklearn.metrics import roc_auc_score\n",
        "from sklearn.metrics import plot_roc_curve\n",
        "\n",
        "# Entrenamiento regresion lineal\n",
        "lrc = LogisticRegression()\n",
        "lrc.fit(X_train, y_train)\n",
        "\n",
        "# Validación y obtención de las predicciones del modelo.\n",
        "y_pred = cross_val_predict(lrc, X_test, y_test, cv = KFold(n_splits=10))\n",
        "\n",
        "# Presentación de los resultados de la regresión logística.\n",
        "print('Resultados regresión logística:')\n",
        "print(\"--------------------------------------------\")\n",
        "print(\"Exactitud: %.3f\" %(accuracy_score(y_test, y_pred)))\n",
        "print(\"Precisión: %.3f\" %(precision_score(y_test, y_pred)))\n",
        "print(\"Sensibilidad: %.3f\" %(recall_score(y_test, y_pred)))\n",
        "print(\"F1: %.3f\" %(f1_score(y_test, y_pred)))\n",
        "print(\"AUC: %.3f\" %(roc_auc_score(y_test, y_pred)))\n",
        "\n",
        "\n",
        "# Entrenamiento árboles de decisión\n",
        "dtc = DecisionTreeClassifier()\n",
        "dtc.fit(X_train, y_train)\n",
        "\n",
        "# Validación y obtención de las predicciones del modelo.\n",
        "y_pred = cross_val_predict(dtc, X_test, y_test, cv = KFold(n_splits=10))\n",
        "\n",
        "# Presentación de los resultados de los árboles de decisión\n",
        "print('\\n\\nResultados árboles de decisión:')\n",
        "print(\"--------------------------------------------\")\n",
        "print(\"Exactitud: %.3f\" %(accuracy_score(y_test, y_pred)))\n",
        "print(\"Precisión: %.3f\" %(precision_score(y_test, y_pred)))\n",
        "print(\"Sensibilidad: %.3f\" %(recall_score(y_test, y_pred)))\n",
        "print(\"F1: %.3f\" %(f1_score(y_test, y_pred)))\n",
        "print(\"AUC: %.3f\" %(roc_auc_score(y_test, y_pred)))\n",
        "\n",
        "\n",
        "# Entrenamiento svm\n",
        "svm = SVC()\n",
        "svm.fit(X_train, y_train)\n",
        "\n",
        "# Validación y obtención de las predicciones del modelo.\n",
        "y_pred = cross_val_predict(svm, X_test, y_test, cv = KFold(n_splits=10))\n",
        "\n",
        "# Presentación de los resultados de svm\n",
        "print('\\n\\nResultados SVM:')\n",
        "print(\"--------------------------------------------\")\n",
        "print(\"Exactitud: %.3f\" %(accuracy_score(y_test, y_pred)))\n",
        "print(\"Precisión: %.3f\" %(precision_score(y_test, y_pred)))\n",
        "print(\"Sensibilidad: %.3f\" %(recall_score(y_test, y_pred)))\n",
        "print(\"F1: %.3f\" %(f1_score(y_test, y_pred)))\n",
        "print(\"AUC: %.3f\" %(roc_auc_score(y_test, y_pred)))\n",
        "\n",
        "plot_roc_curve(lrc, X_test, y_test)\n",
        "plot_roc_curve(dtc, X_test, y_test)  \n",
        "plot_roc_curve(svm, X_test, y_test)  \n",
        "plt.show()"
      ],
      "execution_count": 31,
      "outputs": [
        {
          "output_type": "stream",
          "text": [
            "Resultados regresión logística:\n",
            "--------------------------------------------\n",
            "Exactitud: 0.667\n",
            "Precisión: 0.636\n",
            "Sensibilidad: 0.729\n",
            "F1: 0.680\n",
            "AUC: 0.669\n",
            "\n",
            "\n",
            "Resultados árboles de decisión:\n",
            "--------------------------------------------\n",
            "Exactitud: 0.919\n",
            "Precisión: 0.917\n",
            "Sensibilidad: 0.917\n",
            "F1: 0.917\n",
            "AUC: 0.919\n",
            "\n",
            "\n",
            "Resultados SVM:\n",
            "--------------------------------------------\n",
            "Exactitud: 0.576\n",
            "Precisión: 0.571\n",
            "Sensibilidad: 0.500\n",
            "F1: 0.533\n",
            "AUC: 0.574\n"
          ],
          "name": "stdout"
        },
        {
          "output_type": "display_data",
          "data": {
            "image/png": "[encoded data removed]",
            "text/plain": [
              "<Figure size 432x288 with 1 Axes>"
            ]
          },
          "metadata": {
            "tags": []
          }
        },
        {
          "output_type": "display_data",
          "data": {
            "image/png": "[encoded data removed]",
            "text/plain": [
              "<Figure size 432x288 with 1 Axes>"
            ]
          },
          "metadata": {
            "tags": []
          }
        },
        {
          "output_type": "display_data",
          "data": {
            "image/png": "[encoded data removed]",
            "text/plain": [
              "<Figure size 432x288 with 1 Axes>"
            ]
          },
          "metadata": {
            "tags": []
          }
        }
      ]
    },
    {
      "cell_type": "markdown",
      "metadata": {
        "id": "w9IYsPR9K5Dw"
      },
      "source": [
        "### Ejercicio 4 (2 puntos)\n",
        "Utilizar el conjunto de datos \"fish_dataset\" para resolver el ejercicio"
      ]
    },
    {
      "cell_type": "markdown",
      "metadata": {
        "id": "fr4UZUEmK5Dw"
      },
      "source": [
        "#### 4.a) Procesado de imagen previo a la extracción de características (1 punto)\n",
        "Crear una función llamada \"cropping_function\" donde: \n",
        "- Los inputs sean la imagen RGB de un pez y su máscara correspondiente.\n",
        "- El output sea el crop de la bounding box de la imagen original orientada en el eje horizontal.\n",
        "\n",
        "Para ello, se pide:\n",
        "- Calcular la orientación del objeto a caracterizar.\n",
        "- Hacer una conversión siguiendo la siguiente fórmula:\n",
        " * angle = (orientation*90)/(math.pi/2), utiliza \"import math\"\n",
        "   -  Si 'angle' es mayor que 0, la orientación será igual a 90-angle\n",
        "   -  Si no, la orientación será igual a -(90+angle)\n",
        "- Aplicar una transformación geométrica de rotación para orientar horizontalmente el objeto de interés.\n",
        "- Hacer un crop de la boundingbox de la imagen original RGB, que será el output de la función"
      ]
    },
    {
      "cell_type": "code",
      "metadata": {
        "id": "k2ZYJymFK5Dx"
      },
      "source": [
        ""
      ],
      "execution_count": null,
      "outputs": []
    },
    {
      "cell_type": "markdown",
      "metadata": {
        "id": "6kWMRaMzK5Dx"
      },
      "source": [
        "#### 4.b) Extracción de características de textura basadas en el descriptor Local Binary Pattern (1 punto)\n",
        "Crear un bucle for en el que:\n",
        " - Se lean las imágenes RGB y sus máscaras\n",
        " - Se extraiga el crop de la imagen RGB horizontal llamando a la función creada en el apartado anterior\n",
        " - Se obtenga la imagen LBP\n",
        " - Se muestre un subplot con el crop de la imagen RGB horizontal y su imagen LBP\n",
        " - Se calcule el histograma relativo a las características LBP. \n",
        "\n",
        "Plotear en una figura los 3 histogramas LBP obtenidos para analizar visualmente las diferencias en función del tipo de pez."
      ]
    },
    {
      "cell_type": "code",
      "metadata": {
        "id": "ZDeA8CuRK5Dx"
      },
      "source": [
        ""
      ],
      "execution_count": null,
      "outputs": []
    },
    {
      "cell_type": "markdown",
      "metadata": {
        "id": "gv4rDpEzK5Dx"
      },
      "source": [
        "### Ejercicio 5 (2.5 puntos)"
      ]
    },
    {
      "cell_type": "markdown",
      "metadata": {
        "id": "nOBXhW5DK5Dy"
      },
      "source": [
        "Crear un programa, con comentarios que aclaren el código, donde se computen las métricas MAE, RMSE y MAPE aplicando los regresores OLS y KNN en al menos tres datasets de regresión (a elegir los que se deseen). Se debe llevar a cabo una partición externa de tipo hold-out y una validación cruzada interna con K=10 bolsas."
      ]
    },
    {
      "cell_type": "code",
      "metadata": {
        "id": "j7e2vmOoK5Dy"
      },
      "source": [
        ""
      ],
      "execution_count": null,
      "outputs": []
    }
  ]
}