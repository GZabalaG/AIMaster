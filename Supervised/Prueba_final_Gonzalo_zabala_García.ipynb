{
  "nbformat": 4,
  "nbformat_minor": 0,
  "metadata": {
    "kernelspec": {
      "display_name": "Python 3",
      "language": "python",
      "name": "python3"
    },
    "language_info": {
      "codemirror_mode": {
        "name": "ipython",
        "version": 3
      },
      "file_extension": ".py",
      "mimetype": "text/x-python",
      "name": "python",
      "nbconvert_exporter": "python",
      "pygments_lexer": "ipython3",
      "version": "3.8.5"
    },
    "colab": {
      "name": "Prueba_final_Gonzalo_zabala_García.ipynb",
      "provenance": [],
      "include_colab_link": true
    }
  },
  "cells": [
    {
      "cell_type": "markdown",
      "metadata": {
        "id": "view-in-github",
        "colab_type": "text"
      },
      "source": [
        "<a href=\"https://colab.research.google.com/github/GZabalaG/AIMaster/blob/main/Supervised/Prueba_final_Gonzalo_zabala_Garc%C3%ADa.ipynb\" target=\"_parent\"><img src=\"https://colab.research.google.com/assets/colab-badge.svg\" alt=\"Open In Colab\"/></a>"
      ]
    },
    {
      "cell_type": "markdown",
      "metadata": {
        "id": "3wTuACVMK5Dp"
      },
      "source": [
        "# PRUEBA FINAL"
      ]
    },
    {
      "cell_type": "code",
      "metadata": {
        "colab": {
          "base_uri": "https://localhost:8080/"
        },
        "id": "_QKLEM8GLgXT",
        "outputId": "43c03b11-6fa6-4472-eeb6-0b5186c8ecc2"
      },
      "source": [
        "from google.colab import drive\n",
        "drive.mount('/content/drive')"
      ],
      "execution_count": 279,
      "outputs": [
        {
          "output_type": "stream",
          "text": [
            "Drive already mounted at /content/drive; to attempt to forcibly remount, call drive.mount(\"/content/drive\", force_remount=True).\n"
          ],
          "name": "stdout"
        }
      ]
    },
    {
      "cell_type": "markdown",
      "metadata": {
        "id": "d8yrh9JbK5Dr"
      },
      "source": [
        "Información general:\n",
        "* La entrega consistirá en un archivo .ipynb siguiendo las instrucciones de este notebook.\n",
        "* Peso en la asignatura: 40% de la nota final.\n",
        "* Fecha de vencimiento: 22/07/2021, a las 23:59h (hora peninsular). "
      ]
    },
    {
      "cell_type": "markdown",
      "metadata": {
        "id": "_P6cJVJjK5Ds"
      },
      "source": [
        "**Instrucciones para cumplimentar el notebook:**\n",
        "* Descargar este notebook, que servirá como base para la entrega.\n",
        "* **No hay que modificar las celdas** que vienen en la hoja de actividades. Para contestar a las preguntas, se deben añadir celdas inmediatamente después de cada pregunta.\n",
        "* Para la nota se valorará tanto la consecución de la respuesta adecuada como el estilo y adecuación del código fuente, así como la inclusión de comentarios apropiados.\n",
        "* **No está permitido compartir los resultados de una actividad** con l@s compañer@s. Hacerlo puede suponer suspender la asignatura y enfrentarse a medidas disciplinarias."
      ]
    },
    {
      "cell_type": "markdown",
      "metadata": {
        "id": "wq_p2xCEK5Ds"
      },
      "source": [
        "### Ejercicio 1 (2 puntos)\n",
        "Utilizar el conjunto de datos \"dataset_1.npy\" para resolver el ejercicio. Tener en cuenta que la última columna corresponde a la clase."
      ]
    },
    {
      "cell_type": "markdown",
      "metadata": {
        "id": "EWVfrdjCK5Ds"
      },
      "source": [
        "#### 1.a) Imputación de valores ausentes (1 punto)\n",
        "\n",
        "Consideraciones:\n",
        "- En aquellas instancias (filas) que contengan UN ÚNICO VALOR NaN en alguno de sus atributos (columnas), se imputará dicho valor.\n",
        " * Si el atributo corresponde a una variable discreta, se imputará el valor utilizando la moda de dicho atributo. \n",
        " * Si el atributo corresponde a una variable continua, se imputará el valor utilizando la media de dicho atributo. \n",
        "- Aquellas instancias (filas) que contengan MÁS DE UN VALOR NaN en sus atributos, deberán ser eliminadas por completo. \n",
        "\n",
        "Los outputs deberán ser: \n",
        "- Una matriz X de dimensiones M x N, donde M será el número de instancias y N, el de atributos.\n",
        "- Un vector y de dimensiones M. "
      ]
    },
    {
      "cell_type": "markdown",
      "metadata": {
        "id": "rqHAY1XsmiRg"
      },
      "source": [
        "##### Carga de datos"
      ]
    },
    {
      "cell_type": "code",
      "metadata": {
        "colab": {
          "base_uri": "https://localhost:8080/"
        },
        "id": "eYqx4tP4K5Dt",
        "outputId": "ca80fb05-7d30-40bf-cb93-3082bff79fe7"
      },
      "source": [
        "import numpy as np\n",
        "\n",
        "data = np.load('/content/drive/MyDrive/Master IA/Aprendizaje Supervisado/actividal_final/dataset_1.npy')\n",
        "\n",
        "print(data)"
      ],
      "execution_count": 280,
      "outputs": [
        {
          "output_type": "stream",
          "text": [
            "[[ 0.          4.          1.         ...  8.2603626   7.37490176\n",
            "   0.        ]\n",
            " [ 0.          4.          0.         ... 10.9370737  10.30131004\n",
            "   0.        ]\n",
            " [ 0.          3.          1.         ... 10.69134847 11.45671439\n",
            "   0.        ]\n",
            " ...\n",
            " [ 0.          2.          0.         ...  1.94458971  8.88390924\n",
            "   0.        ]\n",
            " [ 0.          3.          2.         ...  1.92895933  9.03304966\n",
            "   1.        ]\n",
            " [ 0.          4.          0.         ...  2.0478487   8.86096477\n",
            "   0.        ]]\n"
          ],
          "name": "stdout"
        }
      ]
    },
    {
      "cell_type": "markdown",
      "metadata": {
        "id": "lILYyzyPmm7v"
      },
      "source": [
        "##### Información sobre el dataset"
      ]
    },
    {
      "cell_type": "code",
      "metadata": {
        "colab": {
          "base_uri": "https://localhost:8080/"
        },
        "id": "Dm8sg4Mimr4Z",
        "outputId": "3e619ebc-08f0-4f7b-8957-bad4fcb0fe15"
      },
      "source": [
        "print('Shape:', data.shape)\n",
        "\n",
        "print('\\n--------------\\n')\n",
        "\n",
        "print('Clases:', np.unique(data[:,-1]))\n",
        "\n",
        "print('\\n--------------\\n')\n",
        "print('Continuos | Categorical columns:\\n')\n",
        "\n",
        "i = 0\n",
        "cat_cols = []\n",
        "con_cols = []\n",
        "for column in data.T:\n",
        "  count_values = len(np.unique(column))\n",
        "  rate = count_values / data.shape[0]\n",
        "\n",
        "  if rate < 0.1:\n",
        "    value_type = 'Categorical'  \n",
        "    cat_cols.append(i)\n",
        "  else :\n",
        "    value_type = 'Continuous'\n",
        "    con_cols.append(i)\n",
        "\n",
        "\n",
        "  print('Column:', i, '| Unique values:', count_values, '|', value_type)\n",
        "  i+=1\n",
        "\n",
        "print('\\n--------------\\n')\n",
        "print('Missing values:\\n')\n",
        "\n",
        "i = 0\n",
        "for column in data.T:\n",
        "  print('Column:', i, ' | Missing values', np.count_nonzero(np.isnan(column)))\n",
        "  i+=1"
      ],
      "execution_count": 281,
      "outputs": [
        {
          "output_type": "stream",
          "text": [
            "Shape: (500, 9)\n",
            "\n",
            "--------------\n",
            "\n",
            "Clases: [0. 1.]\n",
            "\n",
            "--------------\n",
            "\n",
            "Continuos | Categorical columns:\n",
            "\n",
            "Column: 0 | Unique values: 8 | Categorical\n",
            "Column: 1 | Unique values: 10 | Categorical\n",
            "Column: 2 | Unique values: 12 | Categorical\n",
            "Column: 3 | Unique values: 13 | Categorical\n",
            "Column: 4 | Unique values: 12 | Categorical\n",
            "Column: 5 | Unique values: 500 | Continuous\n",
            "Column: 6 | Unique values: 500 | Continuous\n",
            "Column: 7 | Unique values: 377 | Continuous\n",
            "Column: 8 | Unique values: 2 | Categorical\n",
            "\n",
            "--------------\n",
            "\n",
            "Missing values:\n",
            "\n",
            "Column: 0  | Missing values 6\n",
            "Column: 1  | Missing values 5\n",
            "Column: 2  | Missing values 5\n",
            "Column: 3  | Missing values 5\n",
            "Column: 4  | Missing values 5\n",
            "Column: 5  | Missing values 7\n",
            "Column: 6  | Missing values 5\n",
            "Column: 7  | Missing values 5\n",
            "Column: 8  | Missing values 0\n"
          ],
          "name": "stdout"
        }
      ]
    },
    {
      "cell_type": "markdown",
      "metadata": {
        "id": "7Agr6iVP-xtn"
      },
      "source": [
        "##### Drop and filling missing values"
      ]
    },
    {
      "cell_type": "code",
      "metadata": {
        "colab": {
          "base_uri": "https://localhost:8080/",
          "height": 419
        },
        "id": "oM3hzRz1-xOp",
        "outputId": "e3f02a4c-7fdc-42a9-9586-d1c1b75b1b6e"
      },
      "source": [
        "import pandas as pd\n",
        "\n",
        "df = pd.DataFrame(data=data)\n",
        "\n",
        "display(df)"
      ],
      "execution_count": 282,
      "outputs": [
        {
          "output_type": "display_data",
          "data": {
            "text/html": [
              "<div>\n",
              "<style scoped>\n",
              "    .dataframe tbody tr th:only-of-type {\n",
              "        vertical-align: middle;\n",
              "    }\n",
              "\n",
              "    .dataframe tbody tr th {\n",
              "        vertical-align: top;\n",
              "    }\n",
              "\n",
              "    .dataframe thead th {\n",
              "        text-align: right;\n",
              "    }\n",
              "</style>\n",
              "<table border=\"1\" class=\"dataframe\">\n",
              "  <thead>\n",
              "    <tr style=\"text-align: right;\">\n",
              "      <th></th>\n",
              "      <th>0</th>\n",
              "      <th>1</th>\n",
              "      <th>2</th>\n",
              "      <th>3</th>\n",
              "      <th>4</th>\n",
              "      <th>5</th>\n",
              "      <th>6</th>\n",
              "      <th>7</th>\n",
              "      <th>8</th>\n",
              "    </tr>\n",
              "  </thead>\n",
              "  <tbody>\n",
              "    <tr>\n",
              "      <th>0</th>\n",
              "      <td>0.0</td>\n",
              "      <td>4.0</td>\n",
              "      <td>1.0</td>\n",
              "      <td>4.0</td>\n",
              "      <td>2.0</td>\n",
              "      <td>9.044810</td>\n",
              "      <td>8.260363</td>\n",
              "      <td>7.374902</td>\n",
              "      <td>0.0</td>\n",
              "    </tr>\n",
              "    <tr>\n",
              "      <th>1</th>\n",
              "      <td>0.0</td>\n",
              "      <td>4.0</td>\n",
              "      <td>0.0</td>\n",
              "      <td>6.0</td>\n",
              "      <td>1.0</td>\n",
              "      <td>8.569082</td>\n",
              "      <td>10.937074</td>\n",
              "      <td>10.301310</td>\n",
              "      <td>0.0</td>\n",
              "    </tr>\n",
              "    <tr>\n",
              "      <th>2</th>\n",
              "      <td>0.0</td>\n",
              "      <td>3.0</td>\n",
              "      <td>1.0</td>\n",
              "      <td>1.0</td>\n",
              "      <td>5.0</td>\n",
              "      <td>9.687778</td>\n",
              "      <td>10.691348</td>\n",
              "      <td>11.456714</td>\n",
              "      <td>0.0</td>\n",
              "    </tr>\n",
              "    <tr>\n",
              "      <th>3</th>\n",
              "      <td>0.0</td>\n",
              "      <td>2.0</td>\n",
              "      <td>1.0</td>\n",
              "      <td>5.0</td>\n",
              "      <td>1.0</td>\n",
              "      <td>12.057221</td>\n",
              "      <td>10.286357</td>\n",
              "      <td>10.575028</td>\n",
              "      <td>0.0</td>\n",
              "    </tr>\n",
              "    <tr>\n",
              "      <th>4</th>\n",
              "      <td>0.0</td>\n",
              "      <td>2.0</td>\n",
              "      <td>2.0</td>\n",
              "      <td>3.0</td>\n",
              "      <td>2.0</td>\n",
              "      <td>9.732969</td>\n",
              "      <td>9.447140</td>\n",
              "      <td>9.383029</td>\n",
              "      <td>0.0</td>\n",
              "    </tr>\n",
              "    <tr>\n",
              "      <th>...</th>\n",
              "      <td>...</td>\n",
              "      <td>...</td>\n",
              "      <td>...</td>\n",
              "      <td>...</td>\n",
              "      <td>...</td>\n",
              "      <td>...</td>\n",
              "      <td>...</td>\n",
              "      <td>...</td>\n",
              "      <td>...</td>\n",
              "    </tr>\n",
              "    <tr>\n",
              "      <th>495</th>\n",
              "      <td>0.0</td>\n",
              "      <td>1.0</td>\n",
              "      <td>0.0</td>\n",
              "      <td>3.0</td>\n",
              "      <td>4.0</td>\n",
              "      <td>3.114222</td>\n",
              "      <td>1.903256</td>\n",
              "      <td>8.995061</td>\n",
              "      <td>0.0</td>\n",
              "    </tr>\n",
              "    <tr>\n",
              "      <th>496</th>\n",
              "      <td>1.0</td>\n",
              "      <td>1.0</td>\n",
              "      <td>2.0</td>\n",
              "      <td>4.0</td>\n",
              "      <td>1.0</td>\n",
              "      <td>3.032017</td>\n",
              "      <td>2.305869</td>\n",
              "      <td>9.185725</td>\n",
              "      <td>1.0</td>\n",
              "    </tr>\n",
              "    <tr>\n",
              "      <th>497</th>\n",
              "      <td>0.0</td>\n",
              "      <td>2.0</td>\n",
              "      <td>0.0</td>\n",
              "      <td>4.0</td>\n",
              "      <td>3.0</td>\n",
              "      <td>2.958827</td>\n",
              "      <td>1.944590</td>\n",
              "      <td>8.883909</td>\n",
              "      <td>0.0</td>\n",
              "    </tr>\n",
              "    <tr>\n",
              "      <th>498</th>\n",
              "      <td>0.0</td>\n",
              "      <td>3.0</td>\n",
              "      <td>2.0</td>\n",
              "      <td>5.0</td>\n",
              "      <td>0.0</td>\n",
              "      <td>2.955424</td>\n",
              "      <td>1.928959</td>\n",
              "      <td>9.033050</td>\n",
              "      <td>1.0</td>\n",
              "    </tr>\n",
              "    <tr>\n",
              "      <th>499</th>\n",
              "      <td>0.0</td>\n",
              "      <td>4.0</td>\n",
              "      <td>0.0</td>\n",
              "      <td>4.0</td>\n",
              "      <td>3.0</td>\n",
              "      <td>2.949284</td>\n",
              "      <td>2.047849</td>\n",
              "      <td>8.860965</td>\n",
              "      <td>0.0</td>\n",
              "    </tr>\n",
              "  </tbody>\n",
              "</table>\n",
              "<p>500 rows × 9 columns</p>\n",
              "</div>"
            ],
            "text/plain": [
              "       0    1    2    3    4          5          6          7    8\n",
              "0    0.0  4.0  1.0  4.0  2.0   9.044810   8.260363   7.374902  0.0\n",
              "1    0.0  4.0  0.0  6.0  1.0   8.569082  10.937074  10.301310  0.0\n",
              "2    0.0  3.0  1.0  1.0  5.0   9.687778  10.691348  11.456714  0.0\n",
              "3    0.0  2.0  1.0  5.0  1.0  12.057221  10.286357  10.575028  0.0\n",
              "4    0.0  2.0  2.0  3.0  2.0   9.732969   9.447140   9.383029  0.0\n",
              "..   ...  ...  ...  ...  ...        ...        ...        ...  ...\n",
              "495  0.0  1.0  0.0  3.0  4.0   3.114222   1.903256   8.995061  0.0\n",
              "496  1.0  1.0  2.0  4.0  1.0   3.032017   2.305869   9.185725  1.0\n",
              "497  0.0  2.0  0.0  4.0  3.0   2.958827   1.944590   8.883909  0.0\n",
              "498  0.0  3.0  2.0  5.0  0.0   2.955424   1.928959   9.033050  1.0\n",
              "499  0.0  4.0  0.0  4.0  3.0   2.949284   2.047849   8.860965  0.0\n",
              "\n",
              "[500 rows x 9 columns]"
            ]
          },
          "metadata": {
            "tags": []
          }
        }
      ]
    },
    {
      "cell_type": "code",
      "metadata": {
        "colab": {
          "base_uri": "https://localhost:8080/",
          "height": 297
        },
        "id": "32WhTVFDAbKl",
        "outputId": "24e40e86-1434-4d8b-df7c-9a346fce97f5"
      },
      "source": [
        "# Rows with more than NaNs value\n",
        "df1 = df[df.isna().any(axis=1)]\n",
        "display(df1)"
      ],
      "execution_count": 283,
      "outputs": [
        {
          "output_type": "display_data",
          "data": {
            "text/html": [
              "<div>\n",
              "<style scoped>\n",
              "    .dataframe tbody tr th:only-of-type {\n",
              "        vertical-align: middle;\n",
              "    }\n",
              "\n",
              "    .dataframe tbody tr th {\n",
              "        vertical-align: top;\n",
              "    }\n",
              "\n",
              "    .dataframe thead th {\n",
              "        text-align: right;\n",
              "    }\n",
              "</style>\n",
              "<table border=\"1\" class=\"dataframe\">\n",
              "  <thead>\n",
              "    <tr style=\"text-align: right;\">\n",
              "      <th></th>\n",
              "      <th>0</th>\n",
              "      <th>1</th>\n",
              "      <th>2</th>\n",
              "      <th>3</th>\n",
              "      <th>4</th>\n",
              "      <th>5</th>\n",
              "      <th>6</th>\n",
              "      <th>7</th>\n",
              "      <th>8</th>\n",
              "    </tr>\n",
              "  </thead>\n",
              "  <tbody>\n",
              "    <tr>\n",
              "      <th>13</th>\n",
              "      <td>NaN</td>\n",
              "      <td>NaN</td>\n",
              "      <td>NaN</td>\n",
              "      <td>NaN</td>\n",
              "      <td>NaN</td>\n",
              "      <td>NaN</td>\n",
              "      <td>NaN</td>\n",
              "      <td>NaN</td>\n",
              "      <td>0.0</td>\n",
              "    </tr>\n",
              "    <tr>\n",
              "      <th>15</th>\n",
              "      <td>NaN</td>\n",
              "      <td>3.0</td>\n",
              "      <td>1.0</td>\n",
              "      <td>3.0</td>\n",
              "      <td>3.0</td>\n",
              "      <td>10.238116</td>\n",
              "      <td>12.849551</td>\n",
              "      <td>11.015530</td>\n",
              "      <td>0.0</td>\n",
              "    </tr>\n",
              "    <tr>\n",
              "      <th>58</th>\n",
              "      <td>NaN</td>\n",
              "      <td>NaN</td>\n",
              "      <td>NaN</td>\n",
              "      <td>NaN</td>\n",
              "      <td>NaN</td>\n",
              "      <td>NaN</td>\n",
              "      <td>NaN</td>\n",
              "      <td>NaN</td>\n",
              "      <td>1.0</td>\n",
              "    </tr>\n",
              "    <tr>\n",
              "      <th>129</th>\n",
              "      <td>NaN</td>\n",
              "      <td>NaN</td>\n",
              "      <td>NaN</td>\n",
              "      <td>NaN</td>\n",
              "      <td>NaN</td>\n",
              "      <td>NaN</td>\n",
              "      <td>NaN</td>\n",
              "      <td>NaN</td>\n",
              "      <td>0.0</td>\n",
              "    </tr>\n",
              "    <tr>\n",
              "      <th>208</th>\n",
              "      <td>0.0</td>\n",
              "      <td>3.0</td>\n",
              "      <td>2.0</td>\n",
              "      <td>2.0</td>\n",
              "      <td>3.0</td>\n",
              "      <td>NaN</td>\n",
              "      <td>10.940930</td>\n",
              "      <td>11.175542</td>\n",
              "      <td>0.0</td>\n",
              "    </tr>\n",
              "    <tr>\n",
              "      <th>320</th>\n",
              "      <td>NaN</td>\n",
              "      <td>NaN</td>\n",
              "      <td>NaN</td>\n",
              "      <td>NaN</td>\n",
              "      <td>NaN</td>\n",
              "      <td>NaN</td>\n",
              "      <td>NaN</td>\n",
              "      <td>NaN</td>\n",
              "      <td>1.0</td>\n",
              "    </tr>\n",
              "    <tr>\n",
              "      <th>352</th>\n",
              "      <td>0.0</td>\n",
              "      <td>3.0</td>\n",
              "      <td>2.0</td>\n",
              "      <td>5.0</td>\n",
              "      <td>0.0</td>\n",
              "      <td>NaN</td>\n",
              "      <td>13.752695</td>\n",
              "      <td>10.000000</td>\n",
              "      <td>1.0</td>\n",
              "    </tr>\n",
              "    <tr>\n",
              "      <th>410</th>\n",
              "      <td>NaN</td>\n",
              "      <td>NaN</td>\n",
              "      <td>NaN</td>\n",
              "      <td>NaN</td>\n",
              "      <td>NaN</td>\n",
              "      <td>NaN</td>\n",
              "      <td>NaN</td>\n",
              "      <td>NaN</td>\n",
              "      <td>1.0</td>\n",
              "    </tr>\n",
              "  </tbody>\n",
              "</table>\n",
              "</div>"
            ],
            "text/plain": [
              "       0    1    2    3    4          5          6          7    8\n",
              "13   NaN  NaN  NaN  NaN  NaN        NaN        NaN        NaN  0.0\n",
              "15   NaN  3.0  1.0  3.0  3.0  10.238116  12.849551  11.015530  0.0\n",
              "58   NaN  NaN  NaN  NaN  NaN        NaN        NaN        NaN  1.0\n",
              "129  NaN  NaN  NaN  NaN  NaN        NaN        NaN        NaN  0.0\n",
              "208  0.0  3.0  2.0  2.0  3.0        NaN  10.940930  11.175542  0.0\n",
              "320  NaN  NaN  NaN  NaN  NaN        NaN        NaN        NaN  1.0\n",
              "352  0.0  3.0  2.0  5.0  0.0        NaN  13.752695  10.000000  1.0\n",
              "410  NaN  NaN  NaN  NaN  NaN        NaN        NaN        NaN  1.0"
            ]
          },
          "metadata": {
            "tags": []
          }
        }
      ]
    },
    {
      "cell_type": "code",
      "metadata": {
        "colab": {
          "base_uri": "https://localhost:8080/",
          "height": 142
        },
        "id": "gl_TmtXIoRtw",
        "outputId": "3209f6d1-dc4b-4ea8-844d-a2073ce07a04"
      },
      "source": [
        "# Drop rows with more than 1 NaN\n",
        "df = df[df.isnull().sum(axis=1) < 2]\n",
        "\n",
        "df1 = df[df.isna().any(axis=1)]\n",
        "display(df1)"
      ],
      "execution_count": 284,
      "outputs": [
        {
          "output_type": "display_data",
          "data": {
            "text/html": [
              "<div>\n",
              "<style scoped>\n",
              "    .dataframe tbody tr th:only-of-type {\n",
              "        vertical-align: middle;\n",
              "    }\n",
              "\n",
              "    .dataframe tbody tr th {\n",
              "        vertical-align: top;\n",
              "    }\n",
              "\n",
              "    .dataframe thead th {\n",
              "        text-align: right;\n",
              "    }\n",
              "</style>\n",
              "<table border=\"1\" class=\"dataframe\">\n",
              "  <thead>\n",
              "    <tr style=\"text-align: right;\">\n",
              "      <th></th>\n",
              "      <th>0</th>\n",
              "      <th>1</th>\n",
              "      <th>2</th>\n",
              "      <th>3</th>\n",
              "      <th>4</th>\n",
              "      <th>5</th>\n",
              "      <th>6</th>\n",
              "      <th>7</th>\n",
              "      <th>8</th>\n",
              "    </tr>\n",
              "  </thead>\n",
              "  <tbody>\n",
              "    <tr>\n",
              "      <th>15</th>\n",
              "      <td>NaN</td>\n",
              "      <td>3.0</td>\n",
              "      <td>1.0</td>\n",
              "      <td>3.0</td>\n",
              "      <td>3.0</td>\n",
              "      <td>10.238116</td>\n",
              "      <td>12.849551</td>\n",
              "      <td>11.015530</td>\n",
              "      <td>0.0</td>\n",
              "    </tr>\n",
              "    <tr>\n",
              "      <th>208</th>\n",
              "      <td>0.0</td>\n",
              "      <td>3.0</td>\n",
              "      <td>2.0</td>\n",
              "      <td>2.0</td>\n",
              "      <td>3.0</td>\n",
              "      <td>NaN</td>\n",
              "      <td>10.940930</td>\n",
              "      <td>11.175542</td>\n",
              "      <td>0.0</td>\n",
              "    </tr>\n",
              "    <tr>\n",
              "      <th>352</th>\n",
              "      <td>0.0</td>\n",
              "      <td>3.0</td>\n",
              "      <td>2.0</td>\n",
              "      <td>5.0</td>\n",
              "      <td>0.0</td>\n",
              "      <td>NaN</td>\n",
              "      <td>13.752695</td>\n",
              "      <td>10.000000</td>\n",
              "      <td>1.0</td>\n",
              "    </tr>\n",
              "  </tbody>\n",
              "</table>\n",
              "</div>"
            ],
            "text/plain": [
              "       0    1    2    3    4          5          6          7    8\n",
              "15   NaN  3.0  1.0  3.0  3.0  10.238116  12.849551  11.015530  0.0\n",
              "208  0.0  3.0  2.0  2.0  3.0        NaN  10.940930  11.175542  0.0\n",
              "352  0.0  3.0  2.0  5.0  0.0        NaN  13.752695  10.000000  1.0"
            ]
          },
          "metadata": {
            "tags": []
          }
        }
      ]
    },
    {
      "cell_type": "code",
      "metadata": {
        "colab": {
          "base_uri": "https://localhost:8080/",
          "height": 98
        },
        "id": "DH8Apytrzc-e",
        "outputId": "dee555dc-81bc-4824-918a-11dd89cdeec9"
      },
      "source": [
        "# Fill continuous NaN values\n",
        "from sklearn.impute import SimpleImputer\n",
        "\n",
        "# Columnas de atributos continuos\n",
        "df_cons = df.iloc[:,con_cols]\n",
        "\n",
        "# Limpieza de datos: imputación valores ausentes (modelo).\n",
        "imp = SimpleImputer(missing_values=np.nan, strategy='mean')\n",
        "imp.fit(df_cons)\n",
        "\n",
        "# Limpieza de datos: imputación valores ausentes (aplicación).\n",
        "df.iloc[:,con_cols] = imp.transform(df.iloc[:,con_cols])\n",
        "\n",
        "df1 = df[df.isna().any(axis=1)]\n",
        "display('Continuous filled:',df1)"
      ],
      "execution_count": 285,
      "outputs": [
        {
          "output_type": "display_data",
          "data": {
            "application/vnd.google.colaboratory.intrinsic+json": {
              "type": "string"
            },
            "text/plain": [
              "'Continuous filled:'"
            ]
          },
          "metadata": {
            "tags": []
          }
        },
        {
          "output_type": "display_data",
          "data": {
            "text/html": [
              "<div>\n",
              "<style scoped>\n",
              "    .dataframe tbody tr th:only-of-type {\n",
              "        vertical-align: middle;\n",
              "    }\n",
              "\n",
              "    .dataframe tbody tr th {\n",
              "        vertical-align: top;\n",
              "    }\n",
              "\n",
              "    .dataframe thead th {\n",
              "        text-align: right;\n",
              "    }\n",
              "</style>\n",
              "<table border=\"1\" class=\"dataframe\">\n",
              "  <thead>\n",
              "    <tr style=\"text-align: right;\">\n",
              "      <th></th>\n",
              "      <th>0</th>\n",
              "      <th>1</th>\n",
              "      <th>2</th>\n",
              "      <th>3</th>\n",
              "      <th>4</th>\n",
              "      <th>5</th>\n",
              "      <th>6</th>\n",
              "      <th>7</th>\n",
              "      <th>8</th>\n",
              "    </tr>\n",
              "  </thead>\n",
              "  <tbody>\n",
              "    <tr>\n",
              "      <th>15</th>\n",
              "      <td>NaN</td>\n",
              "      <td>3.0</td>\n",
              "      <td>1.0</td>\n",
              "      <td>3.0</td>\n",
              "      <td>3.0</td>\n",
              "      <td>10.238116</td>\n",
              "      <td>12.849551</td>\n",
              "      <td>11.01553</td>\n",
              "      <td>0.0</td>\n",
              "    </tr>\n",
              "  </tbody>\n",
              "</table>\n",
              "</div>"
            ],
            "text/plain": [
              "     0    1    2    3    4          5          6         7    8\n",
              "15 NaN  3.0  1.0  3.0  3.0  10.238116  12.849551  11.01553  0.0"
            ]
          },
          "metadata": {
            "tags": []
          }
        }
      ]
    },
    {
      "cell_type": "code",
      "metadata": {
        "colab": {
          "base_uri": "https://localhost:8080/",
          "height": 67
        },
        "id": "cHWAaiTCDhdO",
        "outputId": "771c2cd4-f7aa-4604-b007-5a7aca637f29"
      },
      "source": [
        "# Fill categorical NaN values\n",
        "df.iloc[:,cat_cols] = df.iloc[:,cat_cols].fillna(df.mode()[0])\n",
        "\n",
        "# Columnas de atributos continuos\n",
        "df_cat = df.iloc[:,cat_cols]\n",
        "\n",
        "# Limpieza de datos: imputación valores ausentes (modelo).\n",
        "imp = SimpleImputer(missing_values=np.nan, strategy='most_frequent')\n",
        "imp.fit(df_cat)\n",
        "\n",
        "# Limpieza de datos: imputación valores ausentes (aplicación).\n",
        "df.iloc[:,cat_cols] = imp.transform(df.iloc[:,cat_cols])\n",
        "\n",
        "df1 = df[df.isna().any(axis=1)]\n",
        "display('Categorical filled:',df1)"
      ],
      "execution_count": 286,
      "outputs": [
        {
          "output_type": "display_data",
          "data": {
            "application/vnd.google.colaboratory.intrinsic+json": {
              "type": "string"
            },
            "text/plain": [
              "'Categorical filled:'"
            ]
          },
          "metadata": {
            "tags": []
          }
        },
        {
          "output_type": "display_data",
          "data": {
            "text/html": [
              "<div>\n",
              "<style scoped>\n",
              "    .dataframe tbody tr th:only-of-type {\n",
              "        vertical-align: middle;\n",
              "    }\n",
              "\n",
              "    .dataframe tbody tr th {\n",
              "        vertical-align: top;\n",
              "    }\n",
              "\n",
              "    .dataframe thead th {\n",
              "        text-align: right;\n",
              "    }\n",
              "</style>\n",
              "<table border=\"1\" class=\"dataframe\">\n",
              "  <thead>\n",
              "    <tr style=\"text-align: right;\">\n",
              "      <th></th>\n",
              "      <th>0</th>\n",
              "      <th>1</th>\n",
              "      <th>2</th>\n",
              "      <th>3</th>\n",
              "      <th>4</th>\n",
              "      <th>5</th>\n",
              "      <th>6</th>\n",
              "      <th>7</th>\n",
              "      <th>8</th>\n",
              "    </tr>\n",
              "  </thead>\n",
              "  <tbody>\n",
              "  </tbody>\n",
              "</table>\n",
              "</div>"
            ],
            "text/plain": [
              "Empty DataFrame\n",
              "Columns: [0, 1, 2, 3, 4, 5, 6, 7, 8]\n",
              "Index: []"
            ]
          },
          "metadata": {
            "tags": []
          }
        }
      ]
    },
    {
      "cell_type": "markdown",
      "metadata": {
        "id": "Hoth2iHgEvo3"
      },
      "source": [
        "Work done"
      ]
    },
    {
      "cell_type": "code",
      "metadata": {
        "colab": {
          "base_uri": "https://localhost:8080/"
        },
        "id": "hZlNjqmUEkKm",
        "outputId": "46555274-35bd-4be2-a32b-07c19205a7f1"
      },
      "source": [
        "print('NaNs:\\n', df.isna().sum())\n",
        "print('\\nShape:',df.shape)\n",
        "\n",
        "X = df.iloc[:,:-1].to_numpy()\n",
        "y = df.iloc[:,-1].to_numpy()\n",
        "print('\\n\\n------\\n\\n')\n",
        "print('X=\\n', X)\n",
        "print('\\n\\n------\\n\\n')\n",
        "print('y=\\n',y)"
      ],
      "execution_count": 287,
      "outputs": [
        {
          "output_type": "stream",
          "text": [
            "NaNs:\n",
            " 0    0\n",
            "1    0\n",
            "2    0\n",
            "3    0\n",
            "4    0\n",
            "5    0\n",
            "6    0\n",
            "7    0\n",
            "8    0\n",
            "dtype: int64\n",
            "\n",
            "Shape: (495, 9)\n",
            "\n",
            "\n",
            "------\n",
            "\n",
            "\n",
            "X=\n",
            " [[ 0.          4.          1.         ...  9.04481012  8.2603626\n",
            "   7.37490176]\n",
            " [ 0.          4.          0.         ...  8.56908202 10.9370737\n",
            "  10.30131004]\n",
            " [ 0.          3.          1.         ...  9.68777842 10.69134847\n",
            "  11.45671439]\n",
            " ...\n",
            " [ 0.          2.          0.         ...  2.95882711  1.94458971\n",
            "   8.88390924]\n",
            " [ 0.          3.          2.         ...  2.95542398  1.92895933\n",
            "   9.03304966]\n",
            " [ 0.          4.          0.         ...  2.94928374  2.0478487\n",
            "   8.86096477]]\n",
            "\n",
            "\n",
            "------\n",
            "\n",
            "\n",
            "y=\n",
            " [0. 0. 0. 0. 0. 0. 1. 0. 0. 0. 0. 0. 0. 0. 0. 1. 0. 0. 0. 1. 1. 0. 0. 0.\n",
            " 0. 0. 0. 1. 1. 0. 1. 1. 0. 0. 0. 1. 0. 0. 0. 0. 0. 0. 1. 1. 0. 0. 0. 1.\n",
            " 0. 1. 0. 0. 0. 0. 0. 0. 0. 0. 0. 1. 0. 0. 0. 1. 0. 0. 0. 0. 0. 0. 1. 0.\n",
            " 1. 0. 1. 0. 0. 0. 0. 0. 0. 1. 0. 1. 0. 0. 0. 1. 0. 0. 1. 0. 1. 1. 0. 1.\n",
            " 0. 0. 0. 0. 0. 0. 0. 0. 0. 0. 0. 1. 0. 0. 0. 0. 1. 0. 0. 0. 0. 0. 0. 0.\n",
            " 0. 0. 0. 0. 0. 1. 0. 0. 1. 0. 0. 1. 0. 0. 1. 0. 1. 0. 0. 0. 0. 0. 0. 0.\n",
            " 1. 0. 0. 0. 0. 0. 0. 0. 0. 1. 0. 0. 1. 0. 1. 1. 1. 0. 0. 0. 0. 1. 0. 0.\n",
            " 0. 0. 0. 1. 1. 1. 0. 0. 0. 1. 0. 0. 0. 0. 0. 0. 0. 0. 1. 0. 0. 0. 0. 0.\n",
            " 1. 1. 0. 0. 0. 1. 0. 0. 0. 0. 1. 0. 0. 0. 0. 1. 0. 0. 0. 1. 0. 0. 0. 0.\n",
            " 0. 1. 0. 0. 0. 0. 0. 1. 0. 0. 0. 0. 0. 0. 0. 0. 0. 0. 0. 1. 0. 1. 0. 1.\n",
            " 0. 0. 0. 1. 0. 0. 0. 1. 1. 1. 1. 1. 1. 1. 1. 1. 1. 1. 1. 1. 1. 1. 1. 1.\n",
            " 1. 1. 1. 1. 1. 1. 1. 1. 1. 1. 1. 1. 1. 1. 1. 1. 1. 1. 1. 1. 1. 1. 1. 1.\n",
            " 1. 1. 1. 1. 1. 1. 1. 1. 1. 1. 1. 1. 1. 1. 1. 1. 1. 1. 1. 1. 1. 1. 1. 1.\n",
            " 1. 1. 1. 1. 1. 1. 1. 1. 1. 1. 1. 1. 1. 1. 1. 1. 1. 1. 1. 1. 1. 1. 1. 1.\n",
            " 1. 1. 1. 1. 1. 1. 1. 1. 1. 1. 1. 1. 1. 1. 1. 1. 1. 1. 1. 1. 1. 1. 1. 1.\n",
            " 1. 1. 1. 1. 1. 1. 1. 1. 1. 1. 1. 1. 1. 1. 1. 1. 1. 1. 1. 1. 1. 1. 1. 1.\n",
            " 1. 1. 1. 1. 1. 1. 1. 1. 1. 1. 1. 1. 1. 1. 1. 1. 1. 1. 1. 1. 1. 1. 1. 1.\n",
            " 1. 1. 1. 1. 1. 1. 1. 0. 0. 0. 0. 0. 0. 0. 0. 0. 0. 0. 0. 0. 0. 0. 0. 0.\n",
            " 0. 0. 0. 0. 0. 0. 0. 0. 0. 0. 0. 0. 0. 0. 0. 0. 0. 0. 0. 0. 0. 0. 0. 0.\n",
            " 0. 0. 0. 0. 1. 1. 0. 0. 0. 1. 0. 1. 0. 1. 0. 0. 1. 1. 1. 1. 1. 1. 1. 1.\n",
            " 1. 1. 1. 1. 1. 0. 0. 1. 1. 0. 0. 1. 0. 1. 0.]\n"
          ],
          "name": "stdout"
        }
      ]
    },
    {
      "cell_type": "markdown",
      "metadata": {
        "id": "-9llYwyUK5Dt"
      },
      "source": [
        "#### 1.b) Eliminación de valores outliers EXTREMOS (1 punto)\n",
        "- Aplicar el método de Elliptic Envelope fijando una semilla en 42\n",
        "- Utilizar el diagrama de caja y bigotes para establecer los umbrales de decisión\n",
        "- Plotear el diagrama obtenido a partir de las puntuaciones calculadas con el método Elliptic Envelope\n",
        "- Eliminar las instancias que contengan valores outliers extremos\n",
        "\n",
        "Los outputs deberán ser: \n",
        "- Una matriz X de dimensiones M' x N, donde M' será el nuevo número de instancias y N, el de atributos.\n",
        "- Un vector y de dimensiones M'. "
      ]
    },
    {
      "cell_type": "markdown",
      "metadata": {
        "id": "DFzqhVLhRo6n"
      },
      "source": [
        "##### Obtención de outliers y plot de las puntuaciones sobre la clase"
      ]
    },
    {
      "cell_type": "code",
      "metadata": {
        "colab": {
          "base_uri": "https://localhost:8080/"
        },
        "id": "GOys79pn4aZb",
        "outputId": "4d98ab5f-5174-44d0-aec0-90f8c251ab64"
      },
      "source": [
        "from sklearn.covariance import EllipticEnvelope\n",
        "import seaborn as sns\n",
        "from scipy import stats\n",
        "from matplotlib import pyplot as plt\n",
        "sns.set_theme(style=\"whitegrid\")\n",
        "\n",
        "outlier_method = EllipticEnvelope(random_state=42).fit(X)\n",
        "scores_pred = outlier_method.decision_function(X)\n",
        "#threshold = stats.scoreatpercentile(scores_pred, 25)"
      ],
      "execution_count": 288,
      "outputs": [
        {
          "output_type": "stream",
          "text": [
            "/usr/local/lib/python3.7/dist-packages/sklearn/covariance/_robust_covariance.py:170: RuntimeWarning: Determinant has increased; this should not happen: log(det) > log(previous_det) (-36.747754155524625 > -38.959386557666875). You may want to try with a higher value of support_fraction (current value: 0.509).\n",
            "  RuntimeWarning)\n",
            "/usr/local/lib/python3.7/dist-packages/sklearn/covariance/_robust_covariance.py:170: RuntimeWarning: Determinant has increased; this should not happen: log(det) > log(previous_det) (-36.903632764895178 > -37.111340628367792). You may want to try with a higher value of support_fraction (current value: 0.509).\n",
            "  RuntimeWarning)\n"
          ],
          "name": "stderr"
        }
      ]
    },
    {
      "cell_type": "code",
      "metadata": {
        "colab": {
          "base_uri": "https://localhost:8080/"
        },
        "id": "5mUHpNMUKZKU",
        "outputId": "bf4b4f51-f85d-44bd-851a-87ab3d5aa70d"
      },
      "source": [
        "Q1 = stats.scoreatpercentile(scores_pred, 25)\n",
        "Q3 = stats.scoreatpercentile(scores_pred, 75)\n",
        "RIC = Q3 - Q1\n",
        "li = Q1 - 1.5*RIC # 1,5: valores outliers atípicos\n",
        "ls = Q3 + 1.5*RIC # 1,5: valores outliers atípicos\n",
        "\n",
        "print('Q1:', Q1, 'Q3:', Q3, 'RIC:', RIC)\n",
        "\n",
        "print('limite inferior: ', li)\n",
        "print('limite superior: ', ls)"
      ],
      "execution_count": 289,
      "outputs": [
        {
          "output_type": "stream",
          "text": [
            "Q1: 77.16043836982965 Q3: 106.0677959192163 RIC: 28.907357549386646\n",
            "limite inferior:  33.79940204574968\n",
            "limite superior:  149.42883224329626\n"
          ],
          "name": "stdout"
        }
      ]
    },
    {
      "cell_type": "code",
      "metadata": {
        "colab": {
          "base_uri": "https://localhost:8080/"
        },
        "id": "GdCEPRnLKcc4",
        "outputId": "69f866d1-431e-493d-f09e-5340f2b2c7ba"
      },
      "source": [
        "# Estimación de outliers\n",
        "pos_i = np.where(scores_pred<li)\n",
        "pos_s = np.where(scores_pred>ls)\n",
        "\n",
        "print('Posición de outliers atípicos en el extremno inferior: ', pos_i)\n",
        "print('Posición de outliers atípicos en el extremno superior: ', pos_s)"
      ],
      "execution_count": 290,
      "outputs": [
        {
          "output_type": "stream",
          "text": [
            "Posición de outliers atípicos en el extremno inferior:  (array([371, 372, 373, 374, 375, 376, 377, 378, 379, 380, 381, 382, 383,\n",
            "       384, 385, 386, 387, 388, 389, 390, 391, 392, 393, 394, 395, 396,\n",
            "       397, 398, 399, 400, 401, 402, 403, 404, 405, 406, 407, 408, 409,\n",
            "       410, 411, 412, 413, 414, 415, 416, 417, 418, 419, 420, 421, 422,\n",
            "       423, 424, 425, 426, 427, 428, 429, 430, 431, 432, 433, 434, 435,\n",
            "       436, 437, 438, 439, 440, 441, 442, 443, 444, 445, 446, 447, 448,\n",
            "       449, 450, 451, 452, 453, 454]),)\n",
            "Posición de outliers atípicos en el extremno superior:  (array([], dtype=int64),)\n"
          ],
          "name": "stdout"
        }
      ]
    },
    {
      "cell_type": "code",
      "metadata": {
        "colab": {
          "base_uri": "https://localhost:8080/"
        },
        "id": "I40BFgShC1yL",
        "outputId": "9309de3c-5d78-439d-a12a-102d96609800"
      },
      "source": [
        "# Matriz de outliers\n",
        "mask_outliers = np.ones(np.shape(scores_pred))\n",
        "mask_outliers[pos_i] = 0\n",
        "mask_outliers[pos_s] = 0\n",
        "print(mask_outliers)"
      ],
      "execution_count": 291,
      "outputs": [
        {
          "output_type": "stream",
          "text": [
            "[1. 1. 1. 1. 1. 1. 1. 1. 1. 1. 1. 1. 1. 1. 1. 1. 1. 1. 1. 1. 1. 1. 1. 1.\n",
            " 1. 1. 1. 1. 1. 1. 1. 1. 1. 1. 1. 1. 1. 1. 1. 1. 1. 1. 1. 1. 1. 1. 1. 1.\n",
            " 1. 1. 1. 1. 1. 1. 1. 1. 1. 1. 1. 1. 1. 1. 1. 1. 1. 1. 1. 1. 1. 1. 1. 1.\n",
            " 1. 1. 1. 1. 1. 1. 1. 1. 1. 1. 1. 1. 1. 1. 1. 1. 1. 1. 1. 1. 1. 1. 1. 1.\n",
            " 1. 1. 1. 1. 1. 1. 1. 1. 1. 1. 1. 1. 1. 1. 1. 1. 1. 1. 1. 1. 1. 1. 1. 1.\n",
            " 1. 1. 1. 1. 1. 1. 1. 1. 1. 1. 1. 1. 1. 1. 1. 1. 1. 1. 1. 1. 1. 1. 1. 1.\n",
            " 1. 1. 1. 1. 1. 1. 1. 1. 1. 1. 1. 1. 1. 1. 1. 1. 1. 1. 1. 1. 1. 1. 1. 1.\n",
            " 1. 1. 1. 1. 1. 1. 1. 1. 1. 1. 1. 1. 1. 1. 1. 1. 1. 1. 1. 1. 1. 1. 1. 1.\n",
            " 1. 1. 1. 1. 1. 1. 1. 1. 1. 1. 1. 1. 1. 1. 1. 1. 1. 1. 1. 1. 1. 1. 1. 1.\n",
            " 1. 1. 1. 1. 1. 1. 1. 1. 1. 1. 1. 1. 1. 1. 1. 1. 1. 1. 1. 1. 1. 1. 1. 1.\n",
            " 1. 1. 1. 1. 1. 1. 1. 1. 1. 1. 1. 1. 1. 1. 1. 1. 1. 1. 1. 1. 1. 1. 1. 1.\n",
            " 1. 1. 1. 1. 1. 1. 1. 1. 1. 1. 1. 1. 1. 1. 1. 1. 1. 1. 1. 1. 1. 1. 1. 1.\n",
            " 1. 1. 1. 1. 1. 1. 1. 1. 1. 1. 1. 1. 1. 1. 1. 1. 1. 1. 1. 1. 1. 1. 1. 1.\n",
            " 1. 1. 1. 1. 1. 1. 1. 1. 1. 1. 1. 1. 1. 1. 1. 1. 1. 1. 1. 1. 1. 1. 1. 1.\n",
            " 1. 1. 1. 1. 1. 1. 1. 1. 1. 1. 1. 1. 1. 1. 1. 1. 1. 1. 1. 1. 1. 1. 1. 1.\n",
            " 1. 1. 1. 1. 1. 1. 1. 1. 1. 1. 1. 0. 0. 0. 0. 0. 0. 0. 0. 0. 0. 0. 0. 0.\n",
            " 0. 0. 0. 0. 0. 0. 0. 0. 0. 0. 0. 0. 0. 0. 0. 0. 0. 0. 0. 0. 0. 0. 0. 0.\n",
            " 0. 0. 0. 0. 0. 0. 0. 0. 0. 0. 0. 0. 0. 0. 0. 0. 0. 0. 0. 0. 0. 0. 0. 0.\n",
            " 0. 0. 0. 0. 0. 0. 0. 0. 0. 0. 0. 0. 0. 0. 0. 0. 0. 0. 0. 0. 0. 0. 0. 1.\n",
            " 1. 1. 1. 1. 1. 1. 1. 1. 1. 1. 1. 1. 1. 1. 1. 1. 1. 1. 1. 1. 1. 1. 1. 1.\n",
            " 1. 1. 1. 1. 1. 1. 1. 1. 1. 1. 1. 1. 1. 1. 1.]\n"
          ],
          "name": "stdout"
        }
      ]
    },
    {
      "cell_type": "markdown",
      "metadata": {
        "id": "GaHO2HhySnVz"
      },
      "source": [
        "Creamos un dataframe al que le añadimos la clase junto a su valor de outlier para comparar los valores y 'plotear' los valores de Elliptic Envelope"
      ]
    },
    {
      "cell_type": "code",
      "metadata": {
        "colab": {
          "base_uri": "https://localhost:8080/",
          "height": 382
        },
        "id": "BGzZ0DSsSla2",
        "outputId": "d4cbf710-a5ac-46a5-968b-4831281c5bfd"
      },
      "source": [
        "outlier_df = pd.DataFrame({'outlier':mask_outliers, 'clase':y})\n",
        "\n",
        "g = sns.displot(data=outlier_df, x=\"clase\", hue=\"outlier\", multiple=\"stack\")\n",
        "\n",
        "g.set(xticks=[0,1])"
      ],
      "execution_count": 292,
      "outputs": [
        {
          "output_type": "execute_result",
          "data": {
            "text/plain": [
              "<seaborn.axisgrid.FacetGrid at 0x7f970e2ed810>"
            ]
          },
          "metadata": {
            "tags": []
          },
          "execution_count": 292
        },
        {
          "output_type": "display_data",
          "data": {
            "image/png": "[encoded data removed]",
            "text/plain": [
              "<Figure size 416.975x360 with 1 Axes>"
            ]
          },
          "metadata": {
            "tags": []
          }
        }
      ]
    },
    {
      "cell_type": "markdown",
      "metadata": {
        "id": "pAFw7XHHR5IW"
      },
      "source": [
        "##### Cálculo de valores outliers EXTREMOS"
      ]
    },
    {
      "cell_type": "code",
      "metadata": {
        "colab": {
          "base_uri": "https://localhost:8080/"
        },
        "id": "OD17xB88R-97",
        "outputId": "cac268ee-7dbf-429b-995b-8106789894f9"
      },
      "source": [
        "Q1 = stats.scoreatpercentile(scores_pred, 25)\n",
        "Q3 = stats.scoreatpercentile(scores_pred, 75)\n",
        "RIC = Q3 - Q1\n",
        "li = Q1 - 3*RIC # 3: outlier extremo\n",
        "ls = Q3 + 3*RIC # 3: outlier extremo\n",
        "\n",
        "print('Q1:', Q1, '\\nQ3', Q3, '\\nRIC:', RIC)\n",
        "\n",
        "print('limite inferior: ', li)\n",
        "print('limite superior: ', ls)"
      ],
      "execution_count": 293,
      "outputs": [
        {
          "output_type": "stream",
          "text": [
            "Q1: 77.16043836982965 \n",
            "Q3 106.0677959192163 \n",
            "RIC: 28.907357549386646\n",
            "limite inferior:  -9.561634278330288\n",
            "limite superior:  192.78986856737623\n"
          ],
          "name": "stdout"
        }
      ]
    },
    {
      "cell_type": "code",
      "metadata": {
        "colab": {
          "base_uri": "https://localhost:8080/"
        },
        "id": "L1VjY3K6SB9W",
        "outputId": "6df2a36a-641d-4674-a43c-60c373fa39a6"
      },
      "source": [
        "# Estimación de outliers y eliminación\n",
        "pos_i = np.where(scores_pred<li)\n",
        "pos_s = np.where(scores_pred>ls)\n",
        "\n",
        "print('Posición de outliers extremos en el extremno inferior: ', pos_i)\n",
        "print('Posición de outliers extremos en el extremno superior: ', pos_s)"
      ],
      "execution_count": 294,
      "outputs": [
        {
          "output_type": "stream",
          "text": [
            "Posición de outliers extremos en el extremno inferior:  (array([417, 423, 449]),)\n",
            "Posición de outliers extremos en el extremno superior:  (array([], dtype=int64),)\n"
          ],
          "name": "stdout"
        }
      ]
    },
    {
      "cell_type": "markdown",
      "metadata": {
        "id": "mIl5k7Tk6n-M"
      },
      "source": [
        "Eliminación de los outlier extremos"
      ]
    },
    {
      "cell_type": "code",
      "metadata": {
        "colab": {
          "base_uri": "https://localhost:8080/"
        },
        "id": "ztaXnJ6X7Ff0",
        "outputId": "178c5d7f-ae94-48f1-cd96-aaff88d9a106"
      },
      "source": [
        "X.shape"
      ],
      "execution_count": 295,
      "outputs": [
        {
          "output_type": "execute_result",
          "data": {
            "text/plain": [
              "(495, 8)"
            ]
          },
          "metadata": {
            "tags": []
          },
          "execution_count": 295
        }
      ]
    },
    {
      "cell_type": "code",
      "metadata": {
        "id": "9JfgMOvh6q5L"
      },
      "source": [
        "X = np.delete(X, pos_i, axis = 0)"
      ],
      "execution_count": 296,
      "outputs": []
    },
    {
      "cell_type": "code",
      "metadata": {
        "colab": {
          "base_uri": "https://localhost:8080/"
        },
        "id": "ljnwaUXy7BwK",
        "outputId": "d6d7c946-e15a-44b0-de07-1b5eb03e8e9b"
      },
      "source": [
        "X.shape"
      ],
      "execution_count": 297,
      "outputs": [
        {
          "output_type": "execute_result",
          "data": {
            "text/plain": [
              "(492, 8)"
            ]
          },
          "metadata": {
            "tags": []
          },
          "execution_count": 297
        }
      ]
    },
    {
      "cell_type": "markdown",
      "metadata": {
        "id": "_ODEn2TxSQ4s"
      },
      "source": [
        "##### Boxplot de los valores outliers"
      ]
    },
    {
      "cell_type": "code",
      "metadata": {
        "colab": {
          "base_uri": "https://localhost:8080/",
          "height": 338
        },
        "id": "JsvfvQ_NOtyt",
        "outputId": "f29f63c0-7194-4579-dbbb-df1d0bf913ba"
      },
      "source": [
        "from matplotlib import pyplot as plt\n",
        "\n",
        "fig, ax = plt.subplots(figsize = (10, 5))\n",
        "ax.set_title('Outliers extremos')\n",
        "ax.boxplot(scores_pred, vert=False, whis = 3)\n",
        "\n",
        "plt.show()"
      ],
      "execution_count": 298,
      "outputs": [
        {
          "output_type": "display_data",
          "data": {
            "image/png": "[encoded data removed]",
            "text/plain": [
              "<Figure size 720x360 with 1 Axes>"
            ]
          },
          "metadata": {
            "tags": []
          }
        }
      ]
    },
    {
      "cell_type": "markdown",
      "metadata": {
        "id": "7apUwpysK5Du"
      },
      "source": [
        "### Ejercicio 2 (1.5 puntos)\n",
        "Utilizar el conjunto de datos \"dataset_2.npy\" para resolver el ejercicio. Tener en cuenta que la última columna corresponde a la clase."
      ]
    },
    {
      "cell_type": "markdown",
      "metadata": {
        "id": "x4YFYF3WK5Du"
      },
      "source": [
        "#### 2.a) Partición de datos externa (0.5 puntos)\n",
        "Realizar una partición externa de tipo hold-out seleccionando un 20% de los datos para test (fijar una semilla en 42). "
      ]
    },
    {
      "cell_type": "markdown",
      "metadata": {
        "id": "5kuUK9390jw7"
      },
      "source": [
        "##### Carga de datos"
      ]
    },
    {
      "cell_type": "code",
      "metadata": {
        "colab": {
          "base_uri": "https://localhost:8080/"
        },
        "id": "Mn0WAdmsnvwA",
        "outputId": "e325a654-20e4-4880-e173-2b8db3628367"
      },
      "source": [
        "import numpy as np\n",
        "\n",
        "data = np.load('/content/drive/MyDrive/Master IA/Aprendizaje Supervisado/actividal_final/dataset_2.npy')\n",
        "X = data[:, 0:-1]\n",
        "y = data[:, -1]\n",
        "print(X.shape)\n",
        "print(y.shape)"
      ],
      "execution_count": 299,
      "outputs": [
        {
          "output_type": "stream",
          "text": [
            "(492, 8)\n",
            "(492,)\n"
          ],
          "name": "stdout"
        }
      ]
    },
    {
      "cell_type": "markdown",
      "metadata": {
        "id": "d7VF_A6O0mOh"
      },
      "source": [
        "##### Partición hold-out"
      ]
    },
    {
      "cell_type": "code",
      "metadata": {
        "colab": {
          "base_uri": "https://localhost:8080/"
        },
        "id": "ylu7gHJY0pp2",
        "outputId": "8f33349f-0569-4af5-f438-26bf3defdefd"
      },
      "source": [
        "from sklearn.model_selection import train_test_split\n",
        "\n",
        "X_train, X_test, y_train, y_test = train_test_split(\n",
        "    X, y, test_size=0.2, random_state=42)\n",
        "\n",
        "print(X_train.shape)\n",
        "print(X_test.shape)\n",
        "print(y_train.shape)\n",
        "print(y_test.shape)"
      ],
      "execution_count": 300,
      "outputs": [
        {
          "output_type": "stream",
          "text": [
            "(393, 8)\n",
            "(99, 8)\n",
            "(393,)\n",
            "(99,)\n"
          ],
          "name": "stdout"
        }
      ]
    },
    {
      "cell_type": "markdown",
      "metadata": {
        "id": "I9P67R1cK5Dv"
      },
      "source": [
        "#### 2.b) Selección de atributos sobre el conjunto de entrenamiento (0.5 puntos)\n",
        "Aplicar el método de VarianceThreshold con un umbral de 0.2 en el conjunto de entrenamiento"
      ]
    },
    {
      "cell_type": "code",
      "metadata": {
        "colab": {
          "base_uri": "https://localhost:8080/"
        },
        "id": "vaCcdzrtn8mL",
        "outputId": "49b785f2-e62f-4489-f17d-46985c04f767"
      },
      "source": [
        "from sklearn.feature_selection import VarianceThreshold\n",
        "\n",
        "sel = VarianceThreshold(threshold = .2)\n",
        "\n",
        "X_train = sel.fit_transform(X_train)\n",
        "print(X_train.shape)"
      ],
      "execution_count": 301,
      "outputs": [
        {
          "output_type": "stream",
          "text": [
            "(393, 7)\n"
          ],
          "name": "stdout"
        }
      ]
    },
    {
      "cell_type": "markdown",
      "metadata": {
        "id": "RxY4IeSaDWnK"
      },
      "source": [
        "Ha sido eliminado un atributo del conjunto de entrenamiento"
      ]
    },
    {
      "cell_type": "markdown",
      "metadata": {
        "id": "HPLY7tgLK5Dv"
      },
      "source": [
        "#### 2.c) Estandarización de los datos de entrenamiento (0.5 puntos)\n",
        "Utilizar el método StandardScaler"
      ]
    },
    {
      "cell_type": "code",
      "metadata": {
        "colab": {
          "base_uri": "https://localhost:8080/"
        },
        "id": "H95uo4gqK5Dv",
        "outputId": "4001276e-21b1-467a-acce-1f8ec67c7b0e"
      },
      "source": [
        "from sklearn import preprocessing\n",
        "\n",
        "standardizer = preprocessing.StandardScaler()\n",
        "\n",
        "X_train = standardizer.fit_transform(X_train)\n",
        "\n",
        "print(X_train)"
      ],
      "execution_count": 302,
      "outputs": [
        {
          "output_type": "stream",
          "text": [
            "[[-0.41701989 -0.37232487 -0.42469918 ... -0.54017298 -1.96779643\n",
            "  -2.17643457]\n",
            " [-0.41701989 -1.25913502  0.31710872 ...  0.33529217  0.47045818\n",
            "   0.57704227]\n",
            " [ 0.63354944 -0.37232487 -1.16650709 ... -2.29090328 -0.78155436\n",
            "  -2.19168937]\n",
            " ...\n",
            " [ 0.63354944  0.51448528  1.05891663 ... -0.05463725  1.59610944\n",
            "   0.46205349]\n",
            " [ 0.63354944 -0.37232487  1.05891663 ... -2.27896303 -0.74796736\n",
            "  -2.20956336]\n",
            " [-0.41701989 -1.25913502  1.05891663 ...  0.21936805  0.56915869\n",
            "  -0.02527913]]\n"
          ],
          "name": "stdout"
        }
      ]
    },
    {
      "cell_type": "markdown",
      "metadata": {
        "id": "ht6j7mV-K5Dv"
      },
      "source": [
        "### Ejercicio 3 (2 puntos)\n",
        "Se requieren los resultados del ejercicio anterior"
      ]
    },
    {
      "cell_type": "markdown",
      "metadata": {
        "id": "fT8bzkOnK5Dw"
      },
      "source": [
        "#### 3.a) Comparación de modelos de clasifición mediante validación cruzada (0.5 puntos)\n",
        "Aplicar una validación cruzada interna de K=5 bolsas para optimizar y comparar la capacidad predictiva de los siguientes modelos: Regresión logística, Árboles de decisión y Support vector machine. (Fijar en todos una semilla en 42). La comparación debe realizarse en términos de exactitud proporcionando resultados de media +- desviación estándar."
      ]
    },
    {
      "cell_type": "code",
      "metadata": {
        "id": "vEBVFTghK5Dw"
      },
      "source": [
        ""
      ],
      "execution_count": 302,
      "outputs": []
    },
    {
      "cell_type": "markdown",
      "metadata": {
        "id": "RNseyPRzK5Dw"
      },
      "source": [
        "#### 3.b) Evaluación de los modelos sobre el conjunto de test (1.5 puntos)\n",
        "- Entrenar los modelos anteriores utilizando todos los datos de entrenamiento y evaluar su rendimiento sobre el conjunto de test.\n",
        "- Mostrar en una figura la comparación de las curvas ROC obtenidas para cada modelo.\n",
        "- Crear una tabla donde se muestren los resultados de todos los modelos.\n",
        " * Las filas serán: Precisión, Sensibilidad, F-score, Exactitud y AUC\n",
        " * Las columnas serán: LR, Tree y SVM "
      ]
    },
    {
      "cell_type": "code",
      "metadata": {
        "id": "53I9kuZXK5Dw"
      },
      "source": [
        ""
      ],
      "execution_count": 302,
      "outputs": []
    },
    {
      "cell_type": "markdown",
      "metadata": {
        "id": "w9IYsPR9K5Dw"
      },
      "source": [
        "### Ejercicio 4 (2 puntos)\n",
        "Utilizar el conjunto de datos \"fish_dataset\" para resolver el ejercicio"
      ]
    },
    {
      "cell_type": "markdown",
      "metadata": {
        "id": "fr4UZUEmK5Dw"
      },
      "source": [
        "#### 4.a) Procesado de imagen previo a la extracción de características (1 punto)\n",
        "Crear una función llamada \"cropping_function\" donde: \n",
        "- Los inputs sean la imagen RGB de un pez y su máscara correspondiente.\n",
        "- El output sea el crop de la bounding box de la imagen original orientada en el eje horizontal.\n",
        "\n",
        "Para ello, se pide:\n",
        "- Calcular la orientación del objeto a caracterizar.\n",
        "- Hacer una conversión siguiendo la siguiente fórmula:\n",
        " * angle = (orientation*90)/(math.pi/2), utiliza \"import math\"\n",
        "   -  Si 'angle' es mayor que 0, la orientación será igual a 90-angle\n",
        "   -  Si no, la orientación será igual a -(90+angle)\n",
        "- Aplicar una transformación geométrica de rotación para orientar horizontalmente el objeto de interés.\n",
        "- Hacer un crop de la boundingbox de la imagen original RGB, que será el output de la función"
      ]
    },
    {
      "cell_type": "code",
      "metadata": {
        "id": "k2ZYJymFK5Dx"
      },
      "source": [
        ""
      ],
      "execution_count": 302,
      "outputs": []
    },
    {
      "cell_type": "markdown",
      "metadata": {
        "id": "6kWMRaMzK5Dx"
      },
      "source": [
        "#### 4.b) Extracción de características de textura basadas en el descriptor Local Binary Pattern (1 punto)\n",
        "Crear un bucle for en el que:\n",
        " - Se lean las imágenes RGB y sus máscaras\n",
        " - Se extraiga el crop de la imagen RGB horizontal llamando a la función creada en el apartado anterior\n",
        " - Se obtenga la imagen LBP\n",
        " - Se muestre un subplot con el crop de la imagen RGB horizontal y su imagen LBP\n",
        " - Se calcule el histograma relativo a las características LBP. \n",
        "\n",
        "Plotear en una figura los 3 histogramas LBP obtenidos para analizar visualmente las diferencias en función del tipo de pez."
      ]
    },
    {
      "cell_type": "code",
      "metadata": {
        "id": "ZDeA8CuRK5Dx"
      },
      "source": [
        ""
      ],
      "execution_count": 302,
      "outputs": []
    },
    {
      "cell_type": "markdown",
      "metadata": {
        "id": "gv4rDpEzK5Dx"
      },
      "source": [
        "### Ejercicio 5 (2.5 puntos)"
      ]
    },
    {
      "cell_type": "markdown",
      "metadata": {
        "id": "nOBXhW5DK5Dy"
      },
      "source": [
        "Crear un programa, con comentarios que aclaren el código, donde se computen las métricas MAE, RMSE y MAPE aplicando los regresores OLS y KNN en al menos tres datasets de regresión (a elegir los que se deseen). Se debe llevar a cabo una partición externa de tipo hold-out y una validación cruzada interna con K=10 bolsas."
      ]
    },
    {
      "cell_type": "code",
      "metadata": {
        "id": "j7e2vmOoK5Dy"
      },
      "source": [
        ""
      ],
      "execution_count": 302,
      "outputs": []
    }
  ]
}